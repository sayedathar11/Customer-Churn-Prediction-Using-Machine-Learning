{
 "cells": [
  {
   "cell_type": "code",
   "execution_count": 70,
   "metadata": {},
   "outputs": [],
   "source": [
    "import pandas as pd\n",
    "import numpy as np"
   ]
  },
  {
   "cell_type": "code",
   "execution_count": 72,
   "metadata": {},
   "outputs": [
    {
     "name": "stdout",
     "output_type": "stream",
     "text": [
      "Reading Members\n"
     ]
    }
   ],
   "source": [
    "train = pd.read_csv('../Data/train.csv')\n",
    "test = pd.read_csv('../Data/data/churn_comp_refresh/sample_submission_v2.csv')\n",
    "print(\"Reading Members\")\n",
    "mem  = pd.read_csv(\"../Data/members_v3.csv\")"
   ]
  },
  {
   "cell_type": "code",
   "execution_count": 73,
   "metadata": {},
   "outputs": [
    {
     "data": {
      "text/plain": [
       "Index(['msno', 'city', 'bd', 'gender', 'registered_via',\n",
       "       'registration_init_time'],\n",
       "      dtype='object')"
      ]
     },
     "execution_count": 73,
     "metadata": {},
     "output_type": "execute_result"
    }
   ],
   "source": [
    "mem.columns"
   ]
  },
  {
   "cell_type": "code",
   "execution_count": 74,
   "metadata": {},
   "outputs": [
    {
     "data": {
      "text/plain": [
       "0          7.0\n",
       "1          9.0\n",
       "2          7.0\n",
       "3         -1.0\n",
       "4         13.0\n",
       "5          4.0\n",
       "6          3.0\n",
       "7         -1.0\n",
       "8          9.0\n",
       "9          4.0\n",
       "10         7.0\n",
       "11        -1.0\n",
       "12         9.0\n",
       "13         7.0\n",
       "14         7.0\n",
       "15         7.0\n",
       "16         3.0\n",
       "17         7.0\n",
       "18        -1.0\n",
       "19         7.0\n",
       "20         7.0\n",
       "21         3.0\n",
       "22         7.0\n",
       "23         9.0\n",
       "24         7.0\n",
       "25         7.0\n",
       "26         7.0\n",
       "27         4.0\n",
       "28         7.0\n",
       "29         7.0\n",
       "          ... \n",
       "907441     7.0\n",
       "907442     9.0\n",
       "907443     7.0\n",
       "907444     7.0\n",
       "907445     7.0\n",
       "907446     9.0\n",
       "907447     9.0\n",
       "907448     7.0\n",
       "907449    -1.0\n",
       "907450     7.0\n",
       "907451     9.0\n",
       "907452     7.0\n",
       "907453     9.0\n",
       "907454    -1.0\n",
       "907455     4.0\n",
       "907456     9.0\n",
       "907457     7.0\n",
       "907458     7.0\n",
       "907459     4.0\n",
       "907460     9.0\n",
       "907461     9.0\n",
       "907462     7.0\n",
       "907463     7.0\n",
       "907464     9.0\n",
       "907465    -1.0\n",
       "907466     7.0\n",
       "907467     7.0\n",
       "907468     7.0\n",
       "907469     7.0\n",
       "907470     7.0\n",
       "Name: registered_via, Length: 907471, dtype: float64"
      ]
     },
     "execution_count": 74,
     "metadata": {},
     "output_type": "execute_result"
    }
   ],
   "source": [
    "## Merging Train and test with members \n",
    "test  = test.merge(mem[['msno','registered_via']], on ='msno' , how = 'left')\n",
    "train  = train.merge(mem[['msno','registered_via']], on ='msno' , how = 'left')\n",
    "del mem\n",
    "train.registered_via.fillna(-1)\n",
    "test.registered_via.fillna(-1)"
   ]
  },
  {
   "cell_type": "code",
   "execution_count": 76,
   "metadata": {},
   "outputs": [
    {
     "name": "stdout",
     "output_type": "stream",
     "text": [
      "Reading Logs File\n",
      "User Logs Info\n",
      "<class 'pandas.core.frame.DataFrame'>\n",
      "RangeIndex: 1000000 entries, 0 to 999999\n",
      "Data columns (total 9 columns):\n",
      "msno          1000000 non-null object\n",
      "date          1000000 non-null int64\n",
      "num_25        1000000 non-null int64\n",
      "num_50        1000000 non-null int64\n",
      "num_75        1000000 non-null int64\n",
      "num_985       1000000 non-null int64\n",
      "num_100       1000000 non-null int64\n",
      "num_unq       1000000 non-null int64\n",
      "total_secs    1000000 non-null float64\n",
      "dtypes: float64(1), int64(7), object(1)\n",
      "memory usage: 68.7+ MB\n",
      "                                           msno      date  num_25  num_50  \\\n",
      "0  rxIP2f2aN0rYNp+toI0Obt/N/FYQX8hcO1fTmmy2h34=  20150513       0       0   \n",
      "1  rxIP2f2aN0rYNp+toI0Obt/N/FYQX8hcO1fTmmy2h34=  20150709       9       1   \n",
      "2  yxiEWwE9VR5utpUecLxVdQ5B7NysUPfrNtGINaM2zA8=  20150105       3       3   \n",
      "3  yxiEWwE9VR5utpUecLxVdQ5B7NysUPfrNtGINaM2zA8=  20150306       1       0   \n",
      "4  yxiEWwE9VR5utpUecLxVdQ5B7NysUPfrNtGINaM2zA8=  20150501       3       0   \n",
      "\n",
      "   num_75  num_985  num_100  num_unq  total_secs  \n",
      "0       0        0        1        1     280.335  \n",
      "1       0        0        7       11    1658.948  \n",
      "2       0        0       68       36   17364.956  \n",
      "3       1        1       97       27   24667.317  \n",
      "4       0        0       38       38    9649.029  \n"
     ]
    }
   ],
   "source": [
    "# Logs info\n",
    "print(\"Reading Logs File\")\n",
    "user_logs = pd.read_csv(\"../Data/user_logs.csv\" , nrows = 1000000)\n",
    "print(\"User Logs Info\")\n",
    "user_logs.info()\n",
    "print(user_logs.head())"
   ]
  },
  {
   "cell_type": "code",
   "execution_count": 77,
   "metadata": {},
   "outputs": [],
   "source": [
    "#Split the log data in train/test\n",
    "train_logs = user_logs.loc[(user_logs.date>=20170101) & (user_logs.date<=20170130) ]\n",
    "test_logs  = user_logs.loc[(user_logs.date>=20170201) & (user_logs.date<=20170228) ]"
   ]
  },
  {
   "cell_type": "code",
   "execution_count": 78,
   "metadata": {},
   "outputs": [
    {
     "name": "stdout",
     "output_type": "stream",
     "text": [
      "<class 'pandas.core.frame.DataFrame'>\n",
      "Int64Index: 44169 entries, 0 to 44168\n",
      "Data columns (total 3 columns):\n",
      "msno             44169 non-null object\n",
      "total_secs       44169 non-null float64\n",
      "total_minutes    44169 non-null int32\n",
      "dtypes: float64(1), int32(1), object(1)\n",
      "memory usage: 1.2+ MB\n"
     ]
    }
   ],
   "source": [
    "# We are calculating Median of total secs spend by each user on the platform , we are creating\n",
    "# a column called total mins which is just sec times in minutes\n",
    "md_train  = train_logs[['msno' , 'total_secs']].groupby('msno' , as_index = False).median()\n",
    "md_train['total_minutes'] = ((md_train.total_secs)/60).astype('int') \n",
    "md_train.info()\n"
   ]
  },
  {
   "cell_type": "code",
   "execution_count": 79,
   "metadata": {},
   "outputs": [
    {
     "data": {
      "text/html": [
       "<div>\n",
       "<style scoped>\n",
       "    .dataframe tbody tr th:only-of-type {\n",
       "        vertical-align: middle;\n",
       "    }\n",
       "\n",
       "    .dataframe tbody tr th {\n",
       "        vertical-align: top;\n",
       "    }\n",
       "\n",
       "    .dataframe thead th {\n",
       "        text-align: right;\n",
       "    }\n",
       "</style>\n",
       "<table border=\"1\" class=\"dataframe\">\n",
       "  <thead>\n",
       "    <tr style=\"text-align: right;\">\n",
       "      <th></th>\n",
       "      <th>msno</th>\n",
       "      <th>total_secs</th>\n",
       "      <th>total_minutes</th>\n",
       "    </tr>\n",
       "  </thead>\n",
       "  <tbody>\n",
       "    <tr>\n",
       "      <th>0</th>\n",
       "      <td>++BW1PJYU5OZi3n3+IDLiU+d1IL1VE/GLx6p64TDs6U=</td>\n",
       "      <td>5440.538</td>\n",
       "      <td>90</td>\n",
       "    </tr>\n",
       "    <tr>\n",
       "      <th>1</th>\n",
       "      <td>++N9C3T2DFC2uRZ9LYOJW0KSq1sG++54neJYETDmkkI=</td>\n",
       "      <td>8470.783</td>\n",
       "      <td>141</td>\n",
       "    </tr>\n",
       "    <tr>\n",
       "      <th>2</th>\n",
       "      <td>++Re/XY4v6500lA5vyrUA/WPsAfXqv1A/4d0FCbvpSI=</td>\n",
       "      <td>14516.856</td>\n",
       "      <td>241</td>\n",
       "    </tr>\n",
       "    <tr>\n",
       "      <th>3</th>\n",
       "      <td>++UGC5bVrIbJWXS5Q4B6Xxoj/yUsduvLdPSZx4tqcGk=</td>\n",
       "      <td>23229.442</td>\n",
       "      <td>387</td>\n",
       "    </tr>\n",
       "    <tr>\n",
       "      <th>4</th>\n",
       "      <td>++dv8FkN8F0u04Jl5glpj3gzD2ytDpOxAoc9LMsvF4E=</td>\n",
       "      <td>1902.010</td>\n",
       "      <td>31</td>\n",
       "    </tr>\n",
       "  </tbody>\n",
       "</table>\n",
       "</div>"
      ],
      "text/plain": [
       "                                           msno  total_secs  total_minutes\n",
       "0  ++BW1PJYU5OZi3n3+IDLiU+d1IL1VE/GLx6p64TDs6U=    5440.538             90\n",
       "1  ++N9C3T2DFC2uRZ9LYOJW0KSq1sG++54neJYETDmkkI=    8470.783            141\n",
       "2  ++Re/XY4v6500lA5vyrUA/WPsAfXqv1A/4d0FCbvpSI=   14516.856            241\n",
       "3  ++UGC5bVrIbJWXS5Q4B6Xxoj/yUsduvLdPSZx4tqcGk=   23229.442            387\n",
       "4  ++dv8FkN8F0u04Jl5glpj3gzD2ytDpOxAoc9LMsvF4E=    1902.010             31"
      ]
     },
     "execution_count": 79,
     "metadata": {},
     "output_type": "execute_result"
    }
   ],
   "source": [
    "md_train.head()"
   ]
  },
  {
   "cell_type": "code",
   "execution_count": 80,
   "metadata": {},
   "outputs": [
    {
     "name": "stdout",
     "output_type": "stream",
     "text": [
      "<class 'pandas.core.frame.DataFrame'>\n",
      "Int64Index: 40791 entries, 0 to 40790\n",
      "Data columns (total 3 columns):\n",
      "msno             40791 non-null object\n",
      "total_secs       40791 non-null float64\n",
      "total_minutes    40791 non-null int32\n",
      "dtypes: float64(1), int32(1), object(1)\n",
      "memory usage: 1.1+ MB\n"
     ]
    }
   ],
   "source": [
    "# We are calculating Median of total secs spend by each user on the platform , we are creating\n",
    "# a column called total mins which is just sec times in minutes\n",
    "md_test  = test_logs[['msno' , 'total_secs']].groupby('msno' , as_index = False).median()\n",
    "md_test['total_minutes'] = ((md_test.total_secs)/60).astype('int') \n",
    "md_test.info()\n"
   ]
  },
  {
   "cell_type": "code",
   "execution_count": 81,
   "metadata": {},
   "outputs": [
    {
     "data": {
      "text/html": [
       "<div>\n",
       "<style scoped>\n",
       "    .dataframe tbody tr th:only-of-type {\n",
       "        vertical-align: middle;\n",
       "    }\n",
       "\n",
       "    .dataframe tbody tr th {\n",
       "        vertical-align: top;\n",
       "    }\n",
       "\n",
       "    .dataframe thead th {\n",
       "        text-align: right;\n",
       "    }\n",
       "</style>\n",
       "<table border=\"1\" class=\"dataframe\">\n",
       "  <thead>\n",
       "    <tr style=\"text-align: right;\">\n",
       "      <th></th>\n",
       "      <th>msno</th>\n",
       "      <th>total_secs</th>\n",
       "      <th>total_minutes</th>\n",
       "    </tr>\n",
       "  </thead>\n",
       "  <tbody>\n",
       "    <tr>\n",
       "      <th>0</th>\n",
       "      <td>++95tJZADNg8U8HKbYdxbbXIRsO6pw1zBK4tHI7BtZo=</td>\n",
       "      <td>1116.394</td>\n",
       "      <td>18</td>\n",
       "    </tr>\n",
       "    <tr>\n",
       "      <th>1</th>\n",
       "      <td>++BW1PJYU5OZi3n3+IDLiU+d1IL1VE/GLx6p64TDs6U=</td>\n",
       "      <td>8026.812</td>\n",
       "      <td>133</td>\n",
       "    </tr>\n",
       "    <tr>\n",
       "      <th>2</th>\n",
       "      <td>++IjleA6pVExACeYOj1kyyE1MNGt5vVTAX94T2VNasE=</td>\n",
       "      <td>3623.044</td>\n",
       "      <td>60</td>\n",
       "    </tr>\n",
       "    <tr>\n",
       "      <th>3</th>\n",
       "      <td>++U8PaO/jJnHP4wN/Vtg6RutbTJ4sqCRmdgI0xRjM2g=</td>\n",
       "      <td>4793.994</td>\n",
       "      <td>79</td>\n",
       "    </tr>\n",
       "    <tr>\n",
       "      <th>4</th>\n",
       "      <td>++jBVxyDBQXJ9ykE/NhDM5t/4Lo4v0IRxqNXMPLCFE0=</td>\n",
       "      <td>912.040</td>\n",
       "      <td>15</td>\n",
       "    </tr>\n",
       "  </tbody>\n",
       "</table>\n",
       "</div>"
      ],
      "text/plain": [
       "                                           msno  total_secs  total_minutes\n",
       "0  ++95tJZADNg8U8HKbYdxbbXIRsO6pw1zBK4tHI7BtZo=    1116.394             18\n",
       "1  ++BW1PJYU5OZi3n3+IDLiU+d1IL1VE/GLx6p64TDs6U=    8026.812            133\n",
       "2  ++IjleA6pVExACeYOj1kyyE1MNGt5vVTAX94T2VNasE=    3623.044             60\n",
       "3  ++U8PaO/jJnHP4wN/Vtg6RutbTJ4sqCRmdgI0xRjM2g=    4793.994             79\n",
       "4  ++jBVxyDBQXJ9ykE/NhDM5t/4Lo4v0IRxqNXMPLCFE0=     912.040             15"
      ]
     },
     "execution_count": 81,
     "metadata": {},
     "output_type": "execute_result"
    }
   ],
   "source": [
    "md_test.head()"
   ]
  },
  {
   "cell_type": "code",
   "execution_count": 82,
   "metadata": {},
   "outputs": [
    {
     "data": {
      "text/html": [
       "<div>\n",
       "<style scoped>\n",
       "    .dataframe tbody tr th:only-of-type {\n",
       "        vertical-align: middle;\n",
       "    }\n",
       "\n",
       "    .dataframe tbody tr th {\n",
       "        vertical-align: top;\n",
       "    }\n",
       "\n",
       "    .dataframe thead th {\n",
       "        text-align: right;\n",
       "    }\n",
       "</style>\n",
       "<table border=\"1\" class=\"dataframe\">\n",
       "  <thead>\n",
       "    <tr style=\"text-align: right;\">\n",
       "      <th></th>\n",
       "      <th>msno</th>\n",
       "      <th>is_churn</th>\n",
       "      <th>registered_via</th>\n",
       "    </tr>\n",
       "  </thead>\n",
       "  <tbody>\n",
       "    <tr>\n",
       "      <th>0</th>\n",
       "      <td>waLDQMmcOu2jLDaV1ddDkgCrB/jl6sD66Xzs0Vqax1Y=</td>\n",
       "      <td>1</td>\n",
       "      <td>9.0</td>\n",
       "    </tr>\n",
       "    <tr>\n",
       "      <th>1</th>\n",
       "      <td>QA7uiXy8vIbUSPOkCf9RwQ3FsT8jVq2OxDr8zqa7bRQ=</td>\n",
       "      <td>1</td>\n",
       "      <td>9.0</td>\n",
       "    </tr>\n",
       "    <tr>\n",
       "      <th>2</th>\n",
       "      <td>fGwBva6hikQmTJzrbz/2Ezjm5Cth5jZUNvXigKK2AFA=</td>\n",
       "      <td>1</td>\n",
       "      <td>9.0</td>\n",
       "    </tr>\n",
       "    <tr>\n",
       "      <th>3</th>\n",
       "      <td>mT5V8rEpa+8wuqi6x0DoVd3H5icMKkE9Prt49UlmK+4=</td>\n",
       "      <td>1</td>\n",
       "      <td>9.0</td>\n",
       "    </tr>\n",
       "    <tr>\n",
       "      <th>4</th>\n",
       "      <td>XaPhtGLk/5UvvOYHcONTwsnH97P4eGECeq+BARGItRw=</td>\n",
       "      <td>1</td>\n",
       "      <td>9.0</td>\n",
       "    </tr>\n",
       "  </tbody>\n",
       "</table>\n",
       "</div>"
      ],
      "text/plain": [
       "                                           msno  is_churn  registered_via\n",
       "0  waLDQMmcOu2jLDaV1ddDkgCrB/jl6sD66Xzs0Vqax1Y=         1             9.0\n",
       "1  QA7uiXy8vIbUSPOkCf9RwQ3FsT8jVq2OxDr8zqa7bRQ=         1             9.0\n",
       "2  fGwBva6hikQmTJzrbz/2Ezjm5Cth5jZUNvXigKK2AFA=         1             9.0\n",
       "3  mT5V8rEpa+8wuqi6x0DoVd3H5icMKkE9Prt49UlmK+4=         1             9.0\n",
       "4  XaPhtGLk/5UvvOYHcONTwsnH97P4eGECeq+BARGItRw=         1             9.0"
      ]
     },
     "execution_count": 82,
     "metadata": {},
     "output_type": "execute_result"
    }
   ],
   "source": [
    "train.head()"
   ]
  },
  {
   "cell_type": "code",
   "execution_count": 83,
   "metadata": {},
   "outputs": [],
   "source": [
    "## Merging all this columns with train.csv\n",
    "train = train.merge(md_train , on = 'msno' , how = 'left')"
   ]
  },
  {
   "cell_type": "code",
   "execution_count": 84,
   "metadata": {},
   "outputs": [
    {
     "data": {
      "text/plain": [
       "msno                   0\n",
       "is_churn               0\n",
       "registered_via    115770\n",
       "total_secs        959440\n",
       "total_minutes     959440\n",
       "dtype: int64"
      ]
     },
     "execution_count": 84,
     "metadata": {},
     "output_type": "execute_result"
    }
   ],
   "source": [
    "train.isna().sum()"
   ]
  },
  {
   "cell_type": "code",
   "execution_count": 85,
   "metadata": {},
   "outputs": [
    {
     "data": {
      "text/plain": [
       "(992931, 5)"
      ]
     },
     "execution_count": 85,
     "metadata": {},
     "output_type": "execute_result"
    }
   ],
   "source": [
    "train.shape"
   ]
  },
  {
   "cell_type": "code",
   "execution_count": null,
   "metadata": {},
   "outputs": [],
   "source": []
  },
  {
   "cell_type": "code",
   "execution_count": 86,
   "metadata": {},
   "outputs": [],
   "source": [
    "train.registered_via.fillna(-1 , inplace = True)\n",
    "test.registered_via.fillna(-1 , inplace = True)"
   ]
  },
  {
   "cell_type": "code",
   "execution_count": 87,
   "metadata": {},
   "outputs": [],
   "source": [
    "train.total_secs.fillna(train.total_secs.median() , inplace = True)\n",
    "train.total_minutes.fillna(train.total_minutes.median() , inplace = True)"
   ]
  },
  {
   "cell_type": "code",
   "execution_count": 88,
   "metadata": {},
   "outputs": [
    {
     "data": {
      "text/plain": [
       "msno              0\n",
       "is_churn          0\n",
       "registered_via    0\n",
       "total_secs        0\n",
       "total_minutes     0\n",
       "dtype: int64"
      ]
     },
     "execution_count": 88,
     "metadata": {},
     "output_type": "execute_result"
    }
   ],
   "source": [
    "train.isna().sum()"
   ]
  },
  {
   "cell_type": "code",
   "execution_count": 89,
   "metadata": {},
   "outputs": [
    {
     "data": {
      "text/html": [
       "<div>\n",
       "<style scoped>\n",
       "    .dataframe tbody tr th:only-of-type {\n",
       "        vertical-align: middle;\n",
       "    }\n",
       "\n",
       "    .dataframe tbody tr th {\n",
       "        vertical-align: top;\n",
       "    }\n",
       "\n",
       "    .dataframe thead th {\n",
       "        text-align: right;\n",
       "    }\n",
       "</style>\n",
       "<table border=\"1\" class=\"dataframe\">\n",
       "  <thead>\n",
       "    <tr style=\"text-align: right;\">\n",
       "      <th></th>\n",
       "      <th>msno</th>\n",
       "      <th>is_churn</th>\n",
       "      <th>registered_via</th>\n",
       "      <th>total_secs</th>\n",
       "      <th>total_minutes</th>\n",
       "    </tr>\n",
       "  </thead>\n",
       "  <tbody>\n",
       "    <tr>\n",
       "      <th>0</th>\n",
       "      <td>waLDQMmcOu2jLDaV1ddDkgCrB/jl6sD66Xzs0Vqax1Y=</td>\n",
       "      <td>1</td>\n",
       "      <td>9.0</td>\n",
       "      <td>4642.477</td>\n",
       "      <td>77.0</td>\n",
       "    </tr>\n",
       "    <tr>\n",
       "      <th>1</th>\n",
       "      <td>QA7uiXy8vIbUSPOkCf9RwQ3FsT8jVq2OxDr8zqa7bRQ=</td>\n",
       "      <td>1</td>\n",
       "      <td>9.0</td>\n",
       "      <td>4642.477</td>\n",
       "      <td>77.0</td>\n",
       "    </tr>\n",
       "    <tr>\n",
       "      <th>2</th>\n",
       "      <td>fGwBva6hikQmTJzrbz/2Ezjm5Cth5jZUNvXigKK2AFA=</td>\n",
       "      <td>1</td>\n",
       "      <td>9.0</td>\n",
       "      <td>4642.477</td>\n",
       "      <td>77.0</td>\n",
       "    </tr>\n",
       "    <tr>\n",
       "      <th>3</th>\n",
       "      <td>mT5V8rEpa+8wuqi6x0DoVd3H5icMKkE9Prt49UlmK+4=</td>\n",
       "      <td>1</td>\n",
       "      <td>9.0</td>\n",
       "      <td>4642.477</td>\n",
       "      <td>77.0</td>\n",
       "    </tr>\n",
       "    <tr>\n",
       "      <th>4</th>\n",
       "      <td>XaPhtGLk/5UvvOYHcONTwsnH97P4eGECeq+BARGItRw=</td>\n",
       "      <td>1</td>\n",
       "      <td>9.0</td>\n",
       "      <td>4642.477</td>\n",
       "      <td>77.0</td>\n",
       "    </tr>\n",
       "  </tbody>\n",
       "</table>\n",
       "</div>"
      ],
      "text/plain": [
       "                                           msno  is_churn  registered_via  \\\n",
       "0  waLDQMmcOu2jLDaV1ddDkgCrB/jl6sD66Xzs0Vqax1Y=         1             9.0   \n",
       "1  QA7uiXy8vIbUSPOkCf9RwQ3FsT8jVq2OxDr8zqa7bRQ=         1             9.0   \n",
       "2  fGwBva6hikQmTJzrbz/2Ezjm5Cth5jZUNvXigKK2AFA=         1             9.0   \n",
       "3  mT5V8rEpa+8wuqi6x0DoVd3H5icMKkE9Prt49UlmK+4=         1             9.0   \n",
       "4  XaPhtGLk/5UvvOYHcONTwsnH97P4eGECeq+BARGItRw=         1             9.0   \n",
       "\n",
       "   total_secs  total_minutes  \n",
       "0    4642.477           77.0  \n",
       "1    4642.477           77.0  \n",
       "2    4642.477           77.0  \n",
       "3    4642.477           77.0  \n",
       "4    4642.477           77.0  "
      ]
     },
     "execution_count": 89,
     "metadata": {},
     "output_type": "execute_result"
    }
   ],
   "source": [
    "train.head()"
   ]
  },
  {
   "cell_type": "code",
   "execution_count": 90,
   "metadata": {},
   "outputs": [],
   "source": [
    "test = test.merge(md_test , on = 'msno' , how = 'left')\n",
    "test.total_secs.fillna(test.total_secs.median() , inplace = True)\n",
    "test.total_minutes.fillna(test.total_minutes.median() , inplace = True)"
   ]
  },
  {
   "cell_type": "code",
   "execution_count": 91,
   "metadata": {},
   "outputs": [
    {
     "data": {
      "text/html": [
       "<div>\n",
       "<style scoped>\n",
       "    .dataframe tbody tr th:only-of-type {\n",
       "        vertical-align: middle;\n",
       "    }\n",
       "\n",
       "    .dataframe tbody tr th {\n",
       "        vertical-align: top;\n",
       "    }\n",
       "\n",
       "    .dataframe thead th {\n",
       "        text-align: right;\n",
       "    }\n",
       "</style>\n",
       "<table border=\"1\" class=\"dataframe\">\n",
       "  <thead>\n",
       "    <tr style=\"text-align: right;\">\n",
       "      <th></th>\n",
       "      <th>msno</th>\n",
       "      <th>is_churn</th>\n",
       "      <th>registered_via</th>\n",
       "      <th>total_secs</th>\n",
       "      <th>total_minutes</th>\n",
       "    </tr>\n",
       "  </thead>\n",
       "  <tbody>\n",
       "    <tr>\n",
       "      <th>0</th>\n",
       "      <td>4n+fXlyJvfQnTeKXTWT507Ll4JVYGrOC8LHCfwBmPE4=</td>\n",
       "      <td>0</td>\n",
       "      <td>7.0</td>\n",
       "      <td>4440.477</td>\n",
       "      <td>74.0</td>\n",
       "    </tr>\n",
       "    <tr>\n",
       "      <th>1</th>\n",
       "      <td>aNmbC1GvFUxQyQUidCVmfbQ0YeCuwkPzEdQ0RwWyeZM=</td>\n",
       "      <td>0</td>\n",
       "      <td>9.0</td>\n",
       "      <td>4440.477</td>\n",
       "      <td>74.0</td>\n",
       "    </tr>\n",
       "    <tr>\n",
       "      <th>2</th>\n",
       "      <td>rFC9eSG/tMuzpre6cwcMLZHEYM89xY02qcz7HL4//jc=</td>\n",
       "      <td>0</td>\n",
       "      <td>7.0</td>\n",
       "      <td>4440.477</td>\n",
       "      <td>74.0</td>\n",
       "    </tr>\n",
       "    <tr>\n",
       "      <th>3</th>\n",
       "      <td>WZ59dLyrQcE7ft06MZ5dj40BnlYQY7PHgg/54+HaCSE=</td>\n",
       "      <td>0</td>\n",
       "      <td>-1.0</td>\n",
       "      <td>4440.477</td>\n",
       "      <td>74.0</td>\n",
       "    </tr>\n",
       "    <tr>\n",
       "      <th>4</th>\n",
       "      <td>aky/Iv8hMp1/V/yQHLtaVuEmmAxkB5GuasQZePJ7NU4=</td>\n",
       "      <td>0</td>\n",
       "      <td>13.0</td>\n",
       "      <td>4440.477</td>\n",
       "      <td>74.0</td>\n",
       "    </tr>\n",
       "  </tbody>\n",
       "</table>\n",
       "</div>"
      ],
      "text/plain": [
       "                                           msno  is_churn  registered_via  \\\n",
       "0  4n+fXlyJvfQnTeKXTWT507Ll4JVYGrOC8LHCfwBmPE4=         0             7.0   \n",
       "1  aNmbC1GvFUxQyQUidCVmfbQ0YeCuwkPzEdQ0RwWyeZM=         0             9.0   \n",
       "2  rFC9eSG/tMuzpre6cwcMLZHEYM89xY02qcz7HL4//jc=         0             7.0   \n",
       "3  WZ59dLyrQcE7ft06MZ5dj40BnlYQY7PHgg/54+HaCSE=         0            -1.0   \n",
       "4  aky/Iv8hMp1/V/yQHLtaVuEmmAxkB5GuasQZePJ7NU4=         0            13.0   \n",
       "\n",
       "   total_secs  total_minutes  \n",
       "0    4440.477           74.0  \n",
       "1    4440.477           74.0  \n",
       "2    4440.477           74.0  \n",
       "3    4440.477           74.0  \n",
       "4    4440.477           74.0  "
      ]
     },
     "execution_count": 91,
     "metadata": {},
     "output_type": "execute_result"
    }
   ],
   "source": [
    "test.head()"
   ]
  },
  {
   "cell_type": "code",
   "execution_count": 92,
   "metadata": {},
   "outputs": [
    {
     "name": "stdout",
     "output_type": "stream",
     "text": [
      "churn mean\n"
     ]
    }
   ],
   "source": [
    "print(\"churn mean\")\n",
    "#total churn mean (for exceptions)\n",
    "base_mean = train.is_churn.mean()\n"
   ]
  },
  {
   "cell_type": "code",
   "execution_count": 93,
   "metadata": {},
   "outputs": [
    {
     "data": {
      "text/plain": [
       "0.06392287077349786"
      ]
     },
     "execution_count": 93,
     "metadata": {},
     "output_type": "execute_result"
    }
   ],
   "source": [
    "base_mean"
   ]
  },
  {
   "cell_type": "code",
   "execution_count": 94,
   "metadata": {},
   "outputs": [
    {
     "name": "stdout",
     "output_type": "stream",
     "text": [
      "<class 'pandas.core.frame.DataFrame'>\n",
      "Int64Index: 2793 entries, 0 to 2792\n",
      "Data columns (total 3 columns):\n",
      "registered_via    2793 non-null float64\n",
      "total_minutes     2793 non-null float64\n",
      "churn_mean        2793 non-null float64\n",
      "dtypes: float64(3)\n",
      "memory usage: 87.3 KB\n",
      "None\n"
     ]
    }
   ],
   "source": [
    "## We are grouping churn mean column by registered via and total_minutes and we are caclulating mean of is_churn\n",
    "churn_mean = train[['registered_via', 'total_minutes','is_churn']].groupby(['registered_via', 'total_minutes'], as_index=False).mean()\n",
    "churn_mean.columns = ['registered_via', 'total_minutes','churn_mean']\n",
    "print(churn_mean.info())"
   ]
  },
  {
   "cell_type": "code",
   "execution_count": 95,
   "metadata": {},
   "outputs": [
    {
     "data": {
      "text/html": [
       "<div>\n",
       "<style scoped>\n",
       "    .dataframe tbody tr th:only-of-type {\n",
       "        vertical-align: middle;\n",
       "    }\n",
       "\n",
       "    .dataframe tbody tr th {\n",
       "        vertical-align: top;\n",
       "    }\n",
       "\n",
       "    .dataframe thead th {\n",
       "        text-align: right;\n",
       "    }\n",
       "</style>\n",
       "<table border=\"1\" class=\"dataframe\">\n",
       "  <thead>\n",
       "    <tr style=\"text-align: right;\">\n",
       "      <th></th>\n",
       "      <th>registered_via</th>\n",
       "      <th>total_minutes</th>\n",
       "      <th>churn_mean</th>\n",
       "    </tr>\n",
       "  </thead>\n",
       "  <tbody>\n",
       "    <tr>\n",
       "      <th>0</th>\n",
       "      <td>-1.0</td>\n",
       "      <td>77.0</td>\n",
       "      <td>0.050230</td>\n",
       "    </tr>\n",
       "    <tr>\n",
       "      <th>1</th>\n",
       "      <td>-1.0</td>\n",
       "      <td>96.0</td>\n",
       "      <td>0.000000</td>\n",
       "    </tr>\n",
       "    <tr>\n",
       "      <th>2</th>\n",
       "      <td>-1.0</td>\n",
       "      <td>215.0</td>\n",
       "      <td>1.000000</td>\n",
       "    </tr>\n",
       "    <tr>\n",
       "      <th>3</th>\n",
       "      <td>3.0</td>\n",
       "      <td>0.0</td>\n",
       "      <td>0.052632</td>\n",
       "    </tr>\n",
       "    <tr>\n",
       "      <th>4</th>\n",
       "      <td>3.0</td>\n",
       "      <td>1.0</td>\n",
       "      <td>0.187500</td>\n",
       "    </tr>\n",
       "  </tbody>\n",
       "</table>\n",
       "</div>"
      ],
      "text/plain": [
       "   registered_via  total_minutes  churn_mean\n",
       "0            -1.0           77.0    0.050230\n",
       "1            -1.0           96.0    0.000000\n",
       "2            -1.0          215.0    1.000000\n",
       "3             3.0            0.0    0.052632\n",
       "4             3.0            1.0    0.187500"
      ]
     },
     "execution_count": 95,
     "metadata": {},
     "output_type": "execute_result"
    }
   ],
   "source": [
    "churn_mean.head()"
   ]
  },
  {
   "cell_type": "code",
   "execution_count": 96,
   "metadata": {},
   "outputs": [
    {
     "name": "stdout",
     "output_type": "stream",
     "text": [
      "<class 'pandas.core.frame.DataFrame'>\n",
      "Int64Index: 907471 entries, 0 to 907470\n",
      "Data columns (total 6 columns):\n",
      "msno              907471 non-null object\n",
      "is_churn          907471 non-null int64\n",
      "registered_via    907471 non-null float64\n",
      "total_secs        907471 non-null float64\n",
      "total_minutes     907471 non-null float64\n",
      "churn_mean        907471 non-null float64\n",
      "dtypes: float64(4), int64(1), object(1)\n",
      "memory usage: 48.5+ MB\n",
      "None\n"
     ]
    }
   ],
   "source": [
    "# We are merging with test dataset on basis of registered via and totalmins and filling values of churn mean , for nan values we fill it with base_mean\n",
    "test = test.merge(churn_mean, how='left' )\n",
    "test.churn_mean = test.churn_mean.fillna(base_mean)\n",
    "print(test.info())"
   ]
  },
  {
   "cell_type": "code",
   "execution_count": 97,
   "metadata": {},
   "outputs": [
    {
     "data": {
      "text/html": [
       "<div>\n",
       "<style scoped>\n",
       "    .dataframe tbody tr th:only-of-type {\n",
       "        vertical-align: middle;\n",
       "    }\n",
       "\n",
       "    .dataframe tbody tr th {\n",
       "        vertical-align: top;\n",
       "    }\n",
       "\n",
       "    .dataframe thead th {\n",
       "        text-align: right;\n",
       "    }\n",
       "</style>\n",
       "<table border=\"1\" class=\"dataframe\">\n",
       "  <thead>\n",
       "    <tr style=\"text-align: right;\">\n",
       "      <th></th>\n",
       "      <th>msno</th>\n",
       "      <th>is_churn</th>\n",
       "      <th>registered_via</th>\n",
       "      <th>total_secs</th>\n",
       "      <th>total_minutes</th>\n",
       "      <th>churn_mean</th>\n",
       "    </tr>\n",
       "  </thead>\n",
       "  <tbody>\n",
       "    <tr>\n",
       "      <th>0</th>\n",
       "      <td>4n+fXlyJvfQnTeKXTWT507Ll4JVYGrOC8LHCfwBmPE4=</td>\n",
       "      <td>0</td>\n",
       "      <td>7.0</td>\n",
       "      <td>4440.477</td>\n",
       "      <td>74.0</td>\n",
       "      <td>0.016393</td>\n",
       "    </tr>\n",
       "    <tr>\n",
       "      <th>1</th>\n",
       "      <td>aNmbC1GvFUxQyQUidCVmfbQ0YeCuwkPzEdQ0RwWyeZM=</td>\n",
       "      <td>0</td>\n",
       "      <td>9.0</td>\n",
       "      <td>4440.477</td>\n",
       "      <td>74.0</td>\n",
       "      <td>0.057692</td>\n",
       "    </tr>\n",
       "    <tr>\n",
       "      <th>2</th>\n",
       "      <td>rFC9eSG/tMuzpre6cwcMLZHEYM89xY02qcz7HL4//jc=</td>\n",
       "      <td>0</td>\n",
       "      <td>7.0</td>\n",
       "      <td>4440.477</td>\n",
       "      <td>74.0</td>\n",
       "      <td>0.016393</td>\n",
       "    </tr>\n",
       "    <tr>\n",
       "      <th>3</th>\n",
       "      <td>WZ59dLyrQcE7ft06MZ5dj40BnlYQY7PHgg/54+HaCSE=</td>\n",
       "      <td>0</td>\n",
       "      <td>-1.0</td>\n",
       "      <td>4440.477</td>\n",
       "      <td>74.0</td>\n",
       "      <td>0.063923</td>\n",
       "    </tr>\n",
       "    <tr>\n",
       "      <th>4</th>\n",
       "      <td>aky/Iv8hMp1/V/yQHLtaVuEmmAxkB5GuasQZePJ7NU4=</td>\n",
       "      <td>0</td>\n",
       "      <td>13.0</td>\n",
       "      <td>4440.477</td>\n",
       "      <td>74.0</td>\n",
       "      <td>0.000000</td>\n",
       "    </tr>\n",
       "  </tbody>\n",
       "</table>\n",
       "</div>"
      ],
      "text/plain": [
       "                                           msno  is_churn  registered_via  \\\n",
       "0  4n+fXlyJvfQnTeKXTWT507Ll4JVYGrOC8LHCfwBmPE4=         0             7.0   \n",
       "1  aNmbC1GvFUxQyQUidCVmfbQ0YeCuwkPzEdQ0RwWyeZM=         0             9.0   \n",
       "2  rFC9eSG/tMuzpre6cwcMLZHEYM89xY02qcz7HL4//jc=         0             7.0   \n",
       "3  WZ59dLyrQcE7ft06MZ5dj40BnlYQY7PHgg/54+HaCSE=         0            -1.0   \n",
       "4  aky/Iv8hMp1/V/yQHLtaVuEmmAxkB5GuasQZePJ7NU4=         0            13.0   \n",
       "\n",
       "   total_secs  total_minutes  churn_mean  \n",
       "0    4440.477           74.0    0.016393  \n",
       "1    4440.477           74.0    0.057692  \n",
       "2    4440.477           74.0    0.016393  \n",
       "3    4440.477           74.0    0.063923  \n",
       "4    4440.477           74.0    0.000000  "
      ]
     },
     "execution_count": 97,
     "metadata": {},
     "output_type": "execute_result"
    }
   ],
   "source": [
    "test.head()"
   ]
  },
  {
   "cell_type": "code",
   "execution_count": 98,
   "metadata": {},
   "outputs": [],
   "source": [
    "# replacing labels with actual values\n",
    "test['is_churn'] = test.churn_mean\n"
   ]
  },
  {
   "cell_type": "code",
   "execution_count": 99,
   "metadata": {},
   "outputs": [],
   "source": [
    "test[['msno','is_churn']].to_csv('subm.csv', index=False)\n"
   ]
  },
  {
   "cell_type": "code",
   "execution_count": 100,
   "metadata": {},
   "outputs": [],
   "source": [
    "df_sub = pd.read_csv(\"subm.csv\")"
   ]
  },
  {
   "cell_type": "code",
   "execution_count": 101,
   "metadata": {},
   "outputs": [
    {
     "data": {
      "text/html": [
       "<div>\n",
       "<style scoped>\n",
       "    .dataframe tbody tr th:only-of-type {\n",
       "        vertical-align: middle;\n",
       "    }\n",
       "\n",
       "    .dataframe tbody tr th {\n",
       "        vertical-align: top;\n",
       "    }\n",
       "\n",
       "    .dataframe thead th {\n",
       "        text-align: right;\n",
       "    }\n",
       "</style>\n",
       "<table border=\"1\" class=\"dataframe\">\n",
       "  <thead>\n",
       "    <tr style=\"text-align: right;\">\n",
       "      <th></th>\n",
       "      <th>msno</th>\n",
       "      <th>is_churn</th>\n",
       "    </tr>\n",
       "  </thead>\n",
       "  <tbody>\n",
       "    <tr>\n",
       "      <th>0</th>\n",
       "      <td>4n+fXlyJvfQnTeKXTWT507Ll4JVYGrOC8LHCfwBmPE4=</td>\n",
       "      <td>0.016393</td>\n",
       "    </tr>\n",
       "    <tr>\n",
       "      <th>1</th>\n",
       "      <td>aNmbC1GvFUxQyQUidCVmfbQ0YeCuwkPzEdQ0RwWyeZM=</td>\n",
       "      <td>0.057692</td>\n",
       "    </tr>\n",
       "    <tr>\n",
       "      <th>2</th>\n",
       "      <td>rFC9eSG/tMuzpre6cwcMLZHEYM89xY02qcz7HL4//jc=</td>\n",
       "      <td>0.016393</td>\n",
       "    </tr>\n",
       "    <tr>\n",
       "      <th>3</th>\n",
       "      <td>WZ59dLyrQcE7ft06MZ5dj40BnlYQY7PHgg/54+HaCSE=</td>\n",
       "      <td>0.063923</td>\n",
       "    </tr>\n",
       "    <tr>\n",
       "      <th>4</th>\n",
       "      <td>aky/Iv8hMp1/V/yQHLtaVuEmmAxkB5GuasQZePJ7NU4=</td>\n",
       "      <td>0.000000</td>\n",
       "    </tr>\n",
       "  </tbody>\n",
       "</table>\n",
       "</div>"
      ],
      "text/plain": [
       "                                           msno  is_churn\n",
       "0  4n+fXlyJvfQnTeKXTWT507Ll4JVYGrOC8LHCfwBmPE4=  0.016393\n",
       "1  aNmbC1GvFUxQyQUidCVmfbQ0YeCuwkPzEdQ0RwWyeZM=  0.057692\n",
       "2  rFC9eSG/tMuzpre6cwcMLZHEYM89xY02qcz7HL4//jc=  0.016393\n",
       "3  WZ59dLyrQcE7ft06MZ5dj40BnlYQY7PHgg/54+HaCSE=  0.063923\n",
       "4  aky/Iv8hMp1/V/yQHLtaVuEmmAxkB5GuasQZePJ7NU4=  0.000000"
      ]
     },
     "execution_count": 101,
     "metadata": {},
     "output_type": "execute_result"
    }
   ],
   "source": [
    "df_sub.head()"
   ]
  },
  {
   "cell_type": "code",
   "execution_count": 102,
   "metadata": {},
   "outputs": [
    {
     "data": {
      "text/plain": [
       "(907471, 2)"
      ]
     },
     "execution_count": 102,
     "metadata": {},
     "output_type": "execute_result"
    }
   ],
   "source": [
    "df_sub.shape"
   ]
  },
  {
   "cell_type": "markdown",
   "metadata": {},
   "source": [
    "### Conclusions :\n",
    "1. Log-loss 0.1590 \n",
    "2. Top 63 % on Private Lb\n",
    "3. Needs Lot of Improvements as it was based on Lot of Nan Values\n",
    "4. Also hardly 2 features used so very biased model"
   ]
  },
  {
   "cell_type": "markdown",
   "metadata": {},
   "source": [
    "### 3rd September Plan.\n",
    "1. Try better feature Engineering Approaches using members_v3.csv and transactions_v3.csv , also Handle Nan values using some imputation -- See More Nice Kernels on Feature Engineering\n",
    "2. Also try running Xgboost with better Params and 5 fold - 10 fold cv\n",
    "3. Try to improve Log - Loss score using Xgboost\n",
    "4. Try some linear models at end\n"
   ]
  },
  {
   "cell_type": "code",
   "execution_count": null,
   "metadata": {},
   "outputs": [],
   "source": []
  }
 ],
 "metadata": {
  "kernelspec": {
   "display_name": "Python 3",
   "language": "python",
   "name": "python3"
  },
  "language_info": {
   "codemirror_mode": {
    "name": "ipython",
    "version": 3
   },
   "file_extension": ".py",
   "mimetype": "text/x-python",
   "name": "python",
   "nbconvert_exporter": "python",
   "pygments_lexer": "ipython3",
   "version": "3.6.5"
  }
 },
 "nbformat": 4,
 "nbformat_minor": 2
}
