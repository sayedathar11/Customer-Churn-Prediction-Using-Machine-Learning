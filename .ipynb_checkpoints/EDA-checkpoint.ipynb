{
 "cells": [
  {
   "cell_type": "code",
   "execution_count": 1,
   "metadata": {},
   "outputs": [],
   "source": [
    "import pandas as pd\n",
    "import numpy as np\n",
    "import matplotlib.pyplot as plt\n",
    "import seaborn as sns\n"
   ]
  },
  {
   "cell_type": "code",
   "execution_count": 44,
   "metadata": {},
   "outputs": [],
   "source": [
    "df_train = pd.read_csv(\"train.csv\")"
   ]
  },
  {
   "cell_type": "markdown",
   "metadata": {},
   "source": [
    "##### 1. How Many Rows and Columns are There in Data Set"
   ]
  },
  {
   "cell_type": "code",
   "execution_count": 3,
   "metadata": {},
   "outputs": [
    {
     "data": {
      "text/html": [
       "<div>\n",
       "<style scoped>\n",
       "    .dataframe tbody tr th:only-of-type {\n",
       "        vertical-align: middle;\n",
       "    }\n",
       "\n",
       "    .dataframe tbody tr th {\n",
       "        vertical-align: top;\n",
       "    }\n",
       "\n",
       "    .dataframe thead th {\n",
       "        text-align: right;\n",
       "    }\n",
       "</style>\n",
       "<table border=\"1\" class=\"dataframe\">\n",
       "  <thead>\n",
       "    <tr style=\"text-align: right;\">\n",
       "      <th></th>\n",
       "      <th>msno</th>\n",
       "      <th>is_churn</th>\n",
       "    </tr>\n",
       "  </thead>\n",
       "  <tbody>\n",
       "    <tr>\n",
       "      <th>0</th>\n",
       "      <td>waLDQMmcOu2jLDaV1ddDkgCrB/jl6sD66Xzs0Vqax1Y=</td>\n",
       "      <td>1</td>\n",
       "    </tr>\n",
       "    <tr>\n",
       "      <th>1</th>\n",
       "      <td>QA7uiXy8vIbUSPOkCf9RwQ3FsT8jVq2OxDr8zqa7bRQ=</td>\n",
       "      <td>1</td>\n",
       "    </tr>\n",
       "    <tr>\n",
       "      <th>2</th>\n",
       "      <td>fGwBva6hikQmTJzrbz/2Ezjm5Cth5jZUNvXigKK2AFA=</td>\n",
       "      <td>1</td>\n",
       "    </tr>\n",
       "    <tr>\n",
       "      <th>3</th>\n",
       "      <td>mT5V8rEpa+8wuqi6x0DoVd3H5icMKkE9Prt49UlmK+4=</td>\n",
       "      <td>1</td>\n",
       "    </tr>\n",
       "    <tr>\n",
       "      <th>4</th>\n",
       "      <td>XaPhtGLk/5UvvOYHcONTwsnH97P4eGECeq+BARGItRw=</td>\n",
       "      <td>1</td>\n",
       "    </tr>\n",
       "  </tbody>\n",
       "</table>\n",
       "</div>"
      ],
      "text/plain": [
       "                                           msno  is_churn\n",
       "0  waLDQMmcOu2jLDaV1ddDkgCrB/jl6sD66Xzs0Vqax1Y=         1\n",
       "1  QA7uiXy8vIbUSPOkCf9RwQ3FsT8jVq2OxDr8zqa7bRQ=         1\n",
       "2  fGwBva6hikQmTJzrbz/2Ezjm5Cth5jZUNvXigKK2AFA=         1\n",
       "3  mT5V8rEpa+8wuqi6x0DoVd3H5icMKkE9Prt49UlmK+4=         1\n",
       "4  XaPhtGLk/5UvvOYHcONTwsnH97P4eGECeq+BARGItRw=         1"
      ]
     },
     "execution_count": 3,
     "metadata": {},
     "output_type": "execute_result"
    }
   ],
   "source": [
    "df_train.head()"
   ]
  },
  {
   "cell_type": "code",
   "execution_count": 9,
   "metadata": {},
   "outputs": [],
   "source": [
    "users = set(np.array(df_train['msno']))"
   ]
  },
  {
   "cell_type": "code",
   "execution_count": 11,
   "metadata": {},
   "outputs": [
    {
     "data": {
      "text/plain": [
       "{'2/1jbu/R4XyiLVl67KEkP7jdB/NRUIfLAIMZwVce2VE=',\n",
       " 'ajzwflaNEqEh76UNJvdnu8EkdG5JpsVc/MgSVk3+kSk=',\n",
       " 'xRzdf511IeUXm4M2o7uoNshp/CCYlBcwnGv4Pj6xCrA=',\n",
       " 'FvXAa7O3fJLCQFHXWlTyfepnjXmIMESc1Sc+jVfbDNc=',\n",
       " 'klD+e25g4g2+R+KCTTJXXC5juCSb9IoWWCOhRvtWLJU=',\n",
       " 'fXI1Ijsx/lfdW2fwcNd4SNngIO/7igkLyGU2ky3JdVM=',\n",
       " 'vZoS8P2KAGCFhTpDV6vz/XYyRc2c7WH6RJ3lJRApqsU=',\n",
       " 'uyU72AYqZGMUNKOY3M+ERKr3I9gD7Y+0qHxv6e04erY=',\n",
       " 'hO/S4jHiHns44kDAqEQkgMZU7YF5oO61tgKZvZR2FSQ=',\n",
       " 'odyIQQAwRLp/LkJ2OeEVkg6sPS+AaAKR9MwEOm2BNXA=',\n",
       " 'ghWUsGcO2FxZhk+ZjwEOchNtjhNNPpQNDVe7R2HY3MA=',\n",
       " 'fniGKeT0DKnZFIqud9UXbiadyC9YEdb0s+Q1hJuSSQU=',\n",
       " 'JJ/Oxx0PJU6IMmFxEhsroXXPchGlsG+31eZ2srsCjgo=',\n",
       " '1VmPs8orrXUntqQFJyXdt9+OqR7Sz/5lnmLpkkJVfQA=',\n",
       " 'Sj/pNM00tD1IEYGscRyP09e8jpkkWKsciQ5hGBtjnc8=',\n",
       " 'WfaKVTQi9MlNu6XJZOlmdfnI9S1mY65KmUIOLrPxls8=',\n",
       " 'WqROx3H42roxZXlnAeowwFhyo4wLFMNM4puk8c2n2ZE=',\n",
       " '4kySAIvHkJWlZ8iP/6Kx2xGQj4a0UefVoUwUK/EATVI=',\n",
       " 'HYoH3OHUFEbAAz5lqzpw+yNDcV0CRUpKSn5y5vrgPYU=',\n",
       " 'DhD7VbGwA1wCPnXKmdJZ7YlQXlmLH56ii/8ZrbT1jkE=',\n",
       " 'BDBRao74gGvMYFq5AYDHVtpFCRff5ebJQKkTU4MuaXc=',\n",
       " 'tfeocpQTzppU9zE0RoAVcJZVgQcHKZuMKexWz+ylJUQ=',\n",
       " 'LMLUUvlsyCY+73XLy7He3XIdGN8q0rd/EWOgJotQVKg=',\n",
       " 'Q77kqHlXJw30O1KouuiDTzbAn5mSwj8yx3Bzt2n+XZg=',\n",
       " 'mvLZhNSc15fK0YF7lmbAFACORkm8kbf70nj9YE32WGk=',\n",
       " 'tBlAVXYx7uKk4damsFlT+Vb3aNxUK2TxKaxxTpT5BEY=',\n",
       " 'i9SMbdCfZ+0Qhcj3GGJWsEyxDVIYkksu7CnJkr4WFV8=',\n",
       " 'MVGUJJAKmpKQFD8HUdVwAzwA2S9rsYTNmDG8bPWIl64=',\n",
       " 'cWFy/Vhb4juOI+biVUpH3JWwE/PuKHPVtf8lzTtfd74=',\n",
       " 'pb8QtN6tUvMMak6Ufz34mnKc/+TogSHQ9EvluV9hA1k=',\n",
       " 'YXBIuoZNL9KXGW2EWm9k+ARQFl8m9oCVgkvBdme3oEM=',\n",
       " '+RBjsRmSF7AP/5CLuX6mJneL/Htp6asCbL++nqZs+vg=',\n",
       " 'XMLtuuTsFBDld8zFpCgRZ/naDgMTx1zJpr6eL7eeKQI=',\n",
       " 'cvSxORBOQplAFo8DFCPHVh6whrGk4Z0b6i1qBKOyxkE=',\n",
       " '1WLMSFSCK+dZpt9IqycaNXUF5apKVws+97QRGQZC5Uc=',\n",
       " '1plGF2+bj0FcmMlOKxSdki0OIefzWZfRw4DLv/QPuEY=',\n",
       " 'APCFF6e+Gjaowu4q6PYltHZ+vCvAFlLk/DGn7Jf/A9o=',\n",
       " 'k3EAciEXIkT3PprYozncADOACdjzjXzG24hoeo+1Hhw=',\n",
       " '1uIL028jnF/B76p3i7/bSaIXuiT60PClz17KUsW64C4=',\n",
       " 'NfM1dYHWm+7HLp1Ur7dZ+8rXtpMo04py01aIVC5/gPs=',\n",
       " 'epWzDHfjxZlceyV6YyJ7r8hZYb32Fo+yWxZ4mNoVoB8=',\n",
       " 'QQhfDmBql2cn7Qfh1o0y0seJaQUrpXU5nF2l1jJbiXQ=',\n",
       " 'U7ttARQex9WPIsB6QgbOR+2GCTulE+ncCk2VrYt2Pbs=',\n",
       " 'dMuj/tkxXFNwNezwfHjFqjVV/IkNjc9ru9pqIQvZB6I=',\n",
       " 'E6ei+/5P6kqchDCvtH9MnKQqs7j1fvdcV0SkU/oxzjE=',\n",
       " 's+eiNuIyTZiXOTNsfOYGnZd803tGApITqGecIsSDT3Q=',\n",
       " 'jPkN8fKrAjHRo36CbdIO/Aj3ZTYv557wVz1yLo4frUQ=',\n",
       " '6Bmln227HKXPk4ANslyVY+C6LhJZniI+aV3M13Rb14c=',\n",
       " 'MKJVXL6TtirQmC9bBc1NjXhce8wXnGplcY/3S5DK+5k=',\n",
       " 'Vg8RI3cjkY3nRzkeyWFRWk27LYjV1QYS/LFAzZBr8f4=',\n",
       " 'bvg9hlCJ7A0TBmAGUQ0nFXqGKU2Q+VP3KPmmVKUzQZQ=',\n",
       " '4mJCv8nqiK6A3ljQzEl+vza12TdM130KjuWlwlrIonI=',\n",
       " '/sbZMWBPB5UFdmqUQOO6Q46in+nDWXaWDx9quCDxuuA=',\n",
       " 'GR7YlH8oQC9/TYUOumxHkWU5NVynQ81/rcDbSa7PsaY=',\n",
       " '8sQnmu8mmPH6axB97EZ5H0TaZnzBIHoQvdivkXV8cuQ=',\n",
       " 'QAQhlRwJIPPib8VO3Ecoh4KsWxKluuPcx77TmJLSgjw=',\n",
       " '+hZzuwWfzcFuaQfqxP8FQBax3aRyD54e1kJGTHl6VQc=',\n",
       " 'h0gWOZWmYAmnNtIWNnSzANIIJRPn+XJ3koSQAcXad74=',\n",
       " 'QZT6XFHlR723wQkdr5OtwzPQuYu4bTKs8+4QSCt+/+E=',\n",
       " 'Oo718vGDtyB89zQZ37J8ZZdpF2N91tmwjR6hbR//0J8=',\n",
       " '/SnlONCwpfGOjBvVb1eHGFCFHIIhm7/li5kYV1fgnkA=',\n",
       " '0aMHO6peqBdwSw9w2eqNCPjRAss5OdGwE4RVxv/mdjU=',\n",
       " 'diBwQwuBXP9mBkCGXooX5oW0U6lzYHEJ/gY644C0PQw=',\n",
       " 's/LKK0JOJmyGBcifRMU+afj0WhCkW7h6RVeeRaxVJ/M=',\n",
       " 'BxhJ95TnQlN+l0P4AGLo7GSaOjtTaOm08nA5j7S2cVw=',\n",
       " 'MoeSAw4hYZLsV24sT/Iw88KQ/Tg77FhI+uOvS4/Lt64=',\n",
       " 'L6zX99ujzcu4HuxuG9FCg16NZJhAqeysnCTWuU0N0aY=',\n",
       " 'aHMVJluiOWd4fX4yuP7wEfZpzk/WadeGw9hZAwjQfW4=',\n",
       " 'VulcugHsvDU4B17y5Q8rE4p2kEqrnKk3mnuz/hBxXLQ=',\n",
       " 'cbWybP5QyfNfsZeTeT6M6ZYbBoTPpti7ZGNRmH+H/Os=',\n",
       " 'wVE/mNt5hcidQk6bUvevIfFzEGyNBqG8JekvLvtkOPM=',\n",
       " 'sZGz4jOslcw9oERnLwb27Pw+WTtbHT3jSRubSQi5yh0=',\n",
       " 'SlkLsoi3Zdavw0l8H0tybNkKBYGevxQuRSj/hX2N5mU=',\n",
       " '/QXMM77Tmi8kA0P9FJ/urdcUUF9WRzxttQTvCddIXYU=',\n",
       " '2y5CqUuxLo2/bNT0RhRWvI8E4/vhaAVhZfVBPN/2j+Y=',\n",
       " '7Q+yNaxmhkn5kOyRO0f+PhO9EhjJyZp4YLvjiQ/SXp8=',\n",
       " 'thESFO+ira4OYDZZh12YqUXh5FVFBoRvCL2WvTZ6YMk=',\n",
       " 'P01y+m5dAn674Xyb40ZUXeqk60GGKbUZ0UvQr+DhkAo=',\n",
       " 'u/pLG034T2Gb53m9OCuqtjJ3Cq6bSsxzJB/Gbv5yIQs=',\n",
       " 'nhKimOE9cVEFMO3RZ5g6rap5N1mh0nle8tadEcpTeds=',\n",
       " 'thES4pSMWwZvFYu8dr4LFJR4ezqnsqiOtQxt1nf2QrI=',\n",
       " 'eegprBOwEwRFT95th/RFrDOJztv4zzfudwt/nxIjmRU=',\n",
       " 'Q2qdlmoMPnKrL/h7UuxPoViVSMELcPEmQwfhArPD2PY=',\n",
       " 'Xux/ZteclqDMgtJitVpKpUupaS7zr9C7uBiOjyhVXTc=',\n",
       " 'WyTbVuAy9yfTiDYDH0YkerFB8neTzwS14S7hbY9PPMQ=',\n",
       " '+Tg/CtPrkMB20j6S3s82BbWguegzfAjMezAEmWS7bVI=',\n",
       " 'VNLmKVXDQLi+/zKeq/bsh/CWVF+piqrSmNwUR9HYMt0=',\n",
       " 'EEfkDpMUAxCAKZisfTO7pUWKSwFIU1ASbAFXsPFMP3s=',\n",
       " '3HT7jsEusdhsCKpD3hkEERN0KmSXD4SeraQEhcRqDlg=',\n",
       " 'BB/bgHPTPvU2Im2jYuPJmW1QvTy8E7zhumHcUBIdzI0=',\n",
       " 'N1GB2mHdCWMTeOJZGT4SYx+SZFGRS5X3sx1qfexy59k=',\n",
       " 'stx8BYz8Gs8d3LJXjljGpORVP2UYL8ElQH8SsL/AeKU=',\n",
       " 'Ai59jrjrfShXYL6yRmmK+PQS04ViE985Rrg7IDTjJPA=',\n",
       " 'LvSy9rXd+MqS5dGvM6xXR4Jtsz8yb6wfmiUiv9s7daM=',\n",
       " 'NCqCSUMz8mv3ThsyNWS56dRVarrHfveuaMXeMsXvFaY=',\n",
       " 'xcdE9kBAn9clMorbk4pAhxcIk981jSDFjoCqQulLmLY=',\n",
       " 'Ks+fdI+0e4opTO049qhQ3EXAEhxYNVqUjz9Hie0b1FI=',\n",
       " 'KgMy6sVycNhCm6/lsqo8HZnUSn7eWUlhXeQtcgYX1n4=',\n",
       " '67Azb+/34rh9Vbz2cOzEZukEVNmuKs16FogfzDfggkE=',\n",
       " '3AzHoCtZdZ4JcnktT2b/bVg30NTp1mDk2IZHWj8IMEk=',\n",
       " 'axdyQEvVlY+zGA6SqHoBLh0h1OxdmrTjkIimHcmk9Bs=',\n",
       " 'PAJtOk0kQncvSFojRBpT0lj4r7J0DcHr1mf1Zf3KmlE=',\n",
       " 'Wq5vPb7iXorrwMA2WG0whpVbocfd8PPRzT3Yb/K5xMk=',\n",
       " 'MpY1R6MVzQtidMprBEyG5sJDNnfLM92DZ1VL1tfamOY=',\n",
       " 'b9UHJNm/DAHt7hKi9fmwXYeV5/ah6wf0qlf3gn5E9fA=',\n",
       " 'W/GTC3h25/9FnQX2OkBvkCTn/W++Pv7IxgvsDULdJtQ=',\n",
       " 'E4ybXFynMRXl/WcSiAMAiWOPryV4sQBO/VwQz6Z+cLk=',\n",
       " 'l7Ct7H1VzFuDBNFngvZ3wKCQFX0z5/20gSX6xgZG6T0=',\n",
       " 'mBX8GtwMeCVMQJlagEjHda9paVs76BqZwqoAG6Zrvq8=',\n",
       " 'kVy5blJCSrsSrGcwF5IF6sR+xOhVCQtFDJDcdYjxyAI=',\n",
       " 'CiUs4QtrZDMmNH+rjJ8mek2fAR7wfyyRAtYLe8PAMsc=',\n",
       " 'gz/gI2CbylYmeDpfY0T7orStPVNbO/mC7dCErec3j/g=',\n",
       " 'x0RWnUBUgdKFM4NL5SOau844xbjLU6O9v7a3eiEj2s4=',\n",
       " 'aEp1hDjqR9k5ZCHKfuX637l4FJ0Izo3/Q+jIBFdjn0g=',\n",
       " 'I33oune67OD36KBrNHOKdhMaog/no1CieeuyLdfdYX8=',\n",
       " 'jiRyQw372GHmir+3tq2J2vAxO05v3xSTKV7uGnAokgA=',\n",
       " 'I6MM8Uzq3uVoZHWVikKJeiHqnNW6khFuD8Na/dPeLEA=',\n",
       " 'wrm/BzJN3zQNhHJTO11VY0HLuj4xY591hRDKk/iX4Oo=',\n",
       " 'CtTnCfxr72KRgZZp6gg1f/g8DS69+xV/Tt4cf2TZljU=',\n",
       " 'rqYI+XGB+IGoqtLwzuuwIxMDNwyu5hM2zCMLa4plF1U=',\n",
       " 'C1lKsCOPBcWgsw+hsvrkFPyNhFDVsfEtLccQyn9+aIM=',\n",
       " 'OuI3VeGqqGwDvZL6VYqd3veQ/lwmufWIXz6iDdt9q+M=',\n",
       " 'Z8jzqwJnbMKFqJ1b9F9mBCrJ1povgsv+9SWmI25B3nY=',\n",
       " 'hVyjZPYrs7NpxwhTbspVsxvUr6Bh+MI5BSNHS9bNrao=',\n",
       " 'O6M1bJYCYVYvS69QQqfbxCuLY/n7j15KYZrLXEuG8Y8=',\n",
       " 'wCJ4Tk3Rt2Ih3gjgNk4IiwAC4yotQbb/2r/ib+RYyv8=',\n",
       " 'm34bbEd2Fny4FgcQOfniIXqwjjXrRSIKd1RrkpGubbU=',\n",
       " 'n8B3tjWtotd3NM2FhLaIeAp5VzMArpUhze28DYpAoGo=',\n",
       " 'Kz0UTGpYmXnwr/XuDsL1B2ND2KzwEa32DrACiNT3QHY=',\n",
       " 'h+WZVMqiSETmMHuIygWqzDsnSqe2Ygq7A8FiIW+sQ/o=',\n",
       " 'ui0kU5Ti3odAWs3HDaBChPvtHaMrsTGKDwJj+C84G90=',\n",
       " 'IjVGBs683JA7+nWqBWVYCfuPbf4TJDawllu1nSK1M3s=',\n",
       " '2lWu6ajNjETqS3Xvf7UzWQFEdnaEDfQamsTwDchHzFg=',\n",
       " 'RlcuIHQYv3EETQUH8Qbuir1qVTcxyU2d5+5KLZO9HN4=',\n",
       " 'htnXm2q0PlRThFnT36w5RlnVCp169qViFkaGvDYmvLE=',\n",
       " 'DzSgFHx1wr+SWn00oG3WDCjvGjaBKcWG8Ct7Uaf2I5A=',\n",
       " 'iSlZIdAr5vTzDdHDu7AOOUcYoIRqHFUL2oRjaZqIgNg=',\n",
       " 'bVL2GkgykMpqjh5E7VKTqDhiuT7k6KulM2qAtzN/3ME=',\n",
       " 'oNUzrPt9TRF+H4kI+WTwMJ2SjUo0nHFICXxP/GCPNEg=',\n",
       " 'ixdTQ1BLzJXlYHvx6ZRA7/JkhKjtXmgyeZ4K5Ka8RqE=',\n",
       " 'Bm5D3GKTccwmgJ06BXijhkmdeKI7rPw0lzA4xED48sc=',\n",
       " 'UYgPdr8M6xcBiJG4oV6XPIv8ubgnS59vC5gFVpcyYoo=',\n",
       " 'hFyvIb0y3u+v6x+ZReJZ5b499/UO5/A1adXIQ4oOmOw=',\n",
       " 'aZTU5VAGalsehGSZTfd6dhmzzS/6t90Z2Y/qkBGX1lQ=',\n",
       " 'avJ3cUgeOzAxDubS395sbT0bVSxUyYn6dk3/d8TkLlE=',\n",
       " '/oToUoGv0wqb+LBKcvD+uoIfONP1goCC2hPu21RWWDg=',\n",
       " 'gmvM2jktV9EVZ6R6a3iXE5Nn9eq556LtSOJcftVrPxo=',\n",
       " 'RvjOEHY6n4Ot6nEprPgbH4JatOXdxeOhuGzFF0xp5k4=',\n",
       " 'LJlIYqE1DpMYbKi/gvat1+3gRGOdJAuPRfpopq5AXOg=',\n",
       " '18FjH6V/g2cht+tZaK9tEpwe8bR18sOC0J8Ppz785eU=',\n",
       " 'Ir7Ro1Gpw/7spTo5pphB7qstyE13GAnegrMNJr/FwGQ=',\n",
       " '5DAurceWr7O+lBPncUDEjgXV2lQmLe7TANYc3wzqM7g=',\n",
       " '8R4Jw7af7IOylvFW45MVcljkVoaDzj+AyDIne6i0tsU=',\n",
       " 'mr6q12T0UBDiNRghcjoTI6aOamMO8gkbTwvfU34rDHQ=',\n",
       " 'ekj5elQAmUNSF8azGWx01HK9QmjP1/nt9CE/YNZME4M=',\n",
       " 'Y9LQ/UNd317XprXpGSNNuVqLKckLpgEAj+5mFLBeDac=',\n",
       " 'Hk6jPs1apLSCqqqFeGMz79kRoPnjnCEBCf47ukSKjC0=',\n",
       " 'gF00U9Z50jBlUZyl+KbgGX8BxrQmrjjOdtmigvp+bSM=',\n",
       " 'WR+NCwchUPF24p0zigJMxt7Iy3z8Xw+Riipt7n3t6Kc=',\n",
       " 'sz29qJr48gEeSx35MQWQpaJKNMhs1n+byLJ3+g5yvBI=',\n",
       " 'BJUr0y3X/VHXNraVxvWvsooe7gnUS94ly7st568DjK4=',\n",
       " 'qLzhYm3hlhPVXr2r5QdBiecvg9ycgG6nAJ3sm4/JnVM=',\n",
       " 'WOQAiyIKeWcmk9Itf29muLcbAzOROZUgWajw0tXPNCw=',\n",
       " 'V1iE+VqBiPt/1qsYUzgSjKlKQPYWuN/btzFFRwjBBlc=',\n",
       " 'HA14XlFAqaifF8pW8X+OcGW7zyeqg8duqL2b7z/bavg=',\n",
       " 'ycTJ1or/TskFI2bX0grlyKCmg8Fmst3keRL/tukT0+I=',\n",
       " 'mVVzRydPv6/xcmtXL20XZtiSOkNqD1lQDL2cVsEMW5k=',\n",
       " 'GQS3XuLz+Y6Y93JICbpDnf4qyhTMpAFbpLm0h+4dD6k=',\n",
       " 'm9Ig58STfGeMTzP4PMdBTxw9zC5e5Y7Ou4tstNmiF9Q=',\n",
       " 'dSL34GuVSA1orePNPENr2rbbI5QmWuf3wuKXm3u4ut8=',\n",
       " 'aOxrbE45qZzFEJHOfGAnTunlabsTQVmHwHf3gyOUTfM=',\n",
       " 'ZSOnCTfBPF9T3Mq80D2lj43J/sOo9gpQvvsikTJpG8o=',\n",
       " 'x+rN7ErdkIol8dNzCfiUlId3VInKFuv/Z/4HJZNYgKs=',\n",
       " 'X7kYC5PEdgUTt9Jy6/jZJvgidiyRlD1phec6LbkEYGo=',\n",
       " 'Zh8EeL2BhckBKew/MYavdBYeBXeNJn9UVOr5Fe1WilU=',\n",
       " 'kZK6qMDBI9NnRq2BiRH7AYOeOy/EPWXXiVeT7AfxunI=',\n",
       " '0+yDMu9v56cV1kRoy7iI2nv9iD+wA1ihV/aTLPhaX4Y=',\n",
       " 'RtQxflR9YEUIqXEvnzUvGoiOHSObO7Tw90LGJTGSKvI=',\n",
       " 'Jx+qZhPM2Njk1rrSQy/UMUKPIxxaNuU7MP5I8iGL70w=',\n",
       " 'cYr/ApLOqAYAJQxmkTWMGkF1tb2Gt7bSkRuN0T9JNro=',\n",
       " 'OpxdtYB1vOa0AynOQDqGHTDtMo8bdOShKVtVQ1GDNqc=',\n",
       " 'UjDtnAXyLqyopBeY7XYzIGCKVTH17nfRVgtBcktw+TM=',\n",
       " 'f0PO0lkqjWu3zKC+IkjEIPFX8+GR89g3pOi3gquwGdU=',\n",
       " 'LdixE3ZmqHF9Fs+US+3McdGLVIeblqkS59/X6oSzkFg=',\n",
       " 'xxWu/YVftz9z+Ux592O8IRA07EJTw6SJyGyW5SZIPCc=',\n",
       " 'kGTnxGyTX8ZJ7XBui8bw2Fapah5Ktz8nIp4D/ogBU1Q=',\n",
       " 'ESsIxbnz4JHBjkxQDp61FMnxUg6SgLjbqhT3lTLE+UA=',\n",
       " 'sVExD2MR1xrYguQkDTltRxSzCnVfba5xQoyqdRf9GDg=',\n",
       " 'm658bTYjHJMgH3Lo0i2klf720jfU95mSv5NjBho/ub8=',\n",
       " 'NguZxOfB2z/RW20clWFFELZ/DhU2SBG81/FnvJXRTCg=',\n",
       " 'CCjPvRvZ+zkQ7IgPo5Jy6o88oTLVK9fvP1yE3jP11n8=',\n",
       " 'OhJt1oE9mY+D/YhX9WYIiAQ0itwSAazbQv6bEjgjXOE=',\n",
       " 'z5A9qaXVnuFvj0p/6C0QKaIjqWeNhpCLnFdz26ZCAiE=',\n",
       " 'gxbDlfnZPtE6+cmmjhD2vZpjxCPvKyKHq3s21LGYaUA=',\n",
       " 'NOtFJkDfZ0lesps5aMxWzJPqTa6NZ70UbFo014J705o=',\n",
       " 'vyMhv1LeTeS2NQCX5Bb6+ZTFKwRZO1hfUkPNoonUDC0=',\n",
       " '8jYiBAUcOBMQXpsqYGPLaKeC5LSRdtV9iNf+e2bydUA=',\n",
       " 'OR0TpP1cYT2pbdKhjUxPr0cjsZ8BCddhCIozz4Pu0WI=',\n",
       " '69A+1ii2OqPB/hZL6RsYNMEh62mSZhPQnjAVA3jzg8g=',\n",
       " 'tXwPeCErLeASUmwHVf5H+hsAk0GOBnqvwQt8hCL01NE=',\n",
       " 'N33QLmgbfaEwDPONr6PmdAQShHLNBf4heYEZiYCv+CY=',\n",
       " 'kw/5CBRZK7hLS+iowV9HDk4BwhxU8lLIrvxRafTGMUM=',\n",
       " '9y1XaVHgMmnWa15PE+i5bsL6UTmUhK1L404DujkMEaI=',\n",
       " 'PMMXdXA0nuGwJgrrLeI1INq9X9moM18hmg4DMlogsrQ=',\n",
       " 'QnGAaKuNa1fTHb/cG7SxVV0ZU6EVi3ZsRxMvihQuYhU=',\n",
       " 'cKQcFJl1BQ7AJLbpvWNH3Qmao728Vp1LxOvG3KMk5FI=',\n",
       " 'XttcqCKke0J/gziSVgkWbWeTvmfAXmeNuL05kdrk0dg=',\n",
       " 'O3TnleXgjVHbZExUFHJpNAnYq4U8nOed3WbmD0mjuqU=',\n",
       " 'ny4h26RI5LwDW251nGl5GpMzfZc8GrQdoO13w/KsGXg=',\n",
       " 'G8t1omTlHqtghOIQZmYs6VYtu/aYCgHkN9oU2NXXaFc=',\n",
       " 'bDNOi6/ft1voYEgioQL3l7o7y9f7Z5Jd7ezsiSiZba8=',\n",
       " '6RUTMr5Mqv7Z65m103z+fo0T9I138CpM13sUwr4ty74=',\n",
       " '/wP2EElC/sqgZRw0fG2fQJgqC/2e7gL/LYYFYAq+BSg=',\n",
       " '1ivJzYZuMafdLveyByiL1HT48Q9YbAJfGqxYnZd2tC4=',\n",
       " '0cyrlzf2dfIkFhmB/IjaFcbwGTGtKPWPmslm0FPOcdk=',\n",
       " 'kem8H/cmBRrOyUko7E4SI5u7eQV5s7f5pI9SoioOlJQ=',\n",
       " 'IZFeMYL/mjXKzQm3rgbEZThE9EncVmNTF6tJolQzX9o=',\n",
       " 'i9B/WHRSsnk1wsxs2lLtGBr2djFR7Lh4ysk42hMw7nw=',\n",
       " 'jhjIBp9tDuct4C8e/Mk1naqDqv2nUDfVo8b52oXInlo=',\n",
       " '2gdU7wMWmGjapa/bNGASb6NZWDrZHlJ5lvtuU01HXZI=',\n",
       " 'x+zRc/uJ9cHzquJ5bOa8an1iUxJiotlsAdW5c0Tomuk=',\n",
       " 'oIwRZ5foFHMc5ZAMOsnXOk3XLdaPB9jrgEeY0KRyr8U=',\n",
       " '5EAIAhqueDhj39IgxA/q18cfJnmGnUJcepqeCQjhulQ=',\n",
       " 'yJQ+W7R9TwrJVScxwh3P1svh/avNZwMUoC71NocvoKo=',\n",
       " 'EkQRw//Ry1RLQi0zwbbCdgwBpYztKf9CHtGQDdc4eBQ=',\n",
       " 'sJ6p1LaR3h1Zrqjx75LoxekMsRTDtTVBluVgcRFyAkQ=',\n",
       " 'AkMkk9zKIjQ241RmPyFjh87B+dnMOxdV//2lTi92JQ4=',\n",
       " 'dtN70AQCIsPdUWI5wnKXiWofRdrER+uZweewMoxeo9w=',\n",
       " 'c5rIU5OlP1+bq8Uhju/Brj1ZBaNNUhQ1qwzx4hfTOiU=',\n",
       " 'HTUkf92Q9WUb0GalEGqf7WbQ6gDHjAosssWFkCnGCkI=',\n",
       " '4e/8vN2Uzs8tOMFD/XVyBV3g6piWCsdig0xVjJ42FMA=',\n",
       " 'mXTHBM+MAcwABRFJp89AcLkAxmsAt+PzQ9qs2ZJlVyE=',\n",
       " 'Mam5LbldVO+kUaYUJEcjRtQ9k85xxKatYf+Ntnq3Y0M=',\n",
       " 'ZOZnCt4JI2zGn+xpVv5dlU6K5Jm5QTwu9+znI1wWikg=',\n",
       " 'El9TwJztARJzZw9qajm0zoFWgjI2uO2sEyMcpcpXbjk=',\n",
       " '6Xz30Nu+eEXtY2zFk3bCpH+Cmjm/grdWUu7fsNjFwIA=',\n",
       " '18yuZ0dhfkqXnpkUodG3wvLzT9sux9n//sy50/Oh/28=',\n",
       " 'uCWJN0OFTkzOdp7GGv1I0RSe9TETuPW1/g0ff9+FeTU=',\n",
       " 'D8356DpzT/QWGyDyzCqN0CuImb5xnZB8dAOxCFkJ6mE=',\n",
       " '42kiyxAsppdSLW/ZpnKxrFSTjYbmxxxwITO1vD91wDI=',\n",
       " 'oUZcbM6YDkAlS0FJJ8cRxeMspRQCQSF4ei/cL/scbhk=',\n",
       " 'NRgbnpsLNAOQL5nzEQilGg9+uaycSjUcELKD1broGf8=',\n",
       " '//faDYtu/hVTKBMuR9RKWzvsq6c+EFDMymnJktgN51Y=',\n",
       " 'dL/9qHujYhK7vnk0wUfwDg83oYxjlNyfPrGMqeCobp8=',\n",
       " '4tk5ugYfWGH4gfxSmLMldjGZj3u4+oHRxfbQk21h83k=',\n",
       " 'p2HqVNTSPFjeivP0stJZLJ+4mWOgTiQ0FCzLuU5w0MY=',\n",
       " 'l/nXsqTTxlussE+6GkMbYl/8f3+LXbKgifsHzup2w0M=',\n",
       " 'iL0ABpOetIYAe4qTHUZRdxLbfebITtHgnEUpA0sQ4KU=',\n",
       " 'rqfZ0Vy0aaN4roZVRI2nmF3goGE2rhmj9Tt2zPL74Jk=',\n",
       " 'jZcbdTrVgDC7OrwQ9nXNIhZkgPZqHKaROWc8gWR4lp4=',\n",
       " 'jnEfHREGM9oUBwwi2fB31fKPK6wZ5RTMcPW8epLmE7g=',\n",
       " 'VfTbEdqX23NzOIHs4h/sNI6y1+z/fslndOhCQcsxok4=',\n",
       " '+pvkK2Umu71pdfa3ztvj1aNxL31pC73hNualoOv3XiU=',\n",
       " 'c/ZhlNqnYOwwuYvAn55J91Em4NsK60HSfjw0sk/I5iI=',\n",
       " 'tfDnC5gCzcRaL0XUV3jwAQodcsTebGpvkL04kg+QGGE=',\n",
       " 'xWF+bkOsSMFVoVgKHJcWxg3IlRk1YGV0h4NTVaQNi0w=',\n",
       " 'kqBNvBtC7NwZntphV+7X8vQIbkkZGfbr7yPetsMnbUE=',\n",
       " '0NwEFPKbM2UPj1uxWgi4OmxEqgJGRk+lClr2wl4NffE=',\n",
       " 'IJqWzHT6WlZ7K2YwQniOUddt6PuwREuJLPwK6j8PrYE=',\n",
       " '5EdCHJa64wma+c32lcilcBUQcdvZgaaqAIo4qPM6aI4=',\n",
       " 'UNuzdR5b7kT1AhHj1EHuC00VQ/R8+OH0I8AddOq+G5E=',\n",
       " 'OB89adibFJvXBz3nxntQB4qFwotkreBjb8m3FZv5CNU=',\n",
       " 'ZzrMUjUdyUa1ut8CLGH/1++KcIZ/1QjqTUJ0GuLv5ZY=',\n",
       " 'P6FDWEIpHc7T8u2gTaKtZRcCuiC4WXF0/Q1feMCF7R0=',\n",
       " 'BS7Okcvd2taI1kjq5n/J830z/nIAOy/B5fZaTKMchvY=',\n",
       " 'VdjRg6msUw/PB5KXLv7/qNF+6yEQlPbbopY+VNtp3gc=',\n",
       " 'CPBmtA7rK8qmcIhN1NsELBxrllhhMNO1hOJYi0YCHN0=',\n",
       " 'gcHeKM9Ea4CdqwjDM7MWQC3BR+hYZUUJfBkY7RSxoCo=',\n",
       " 'uwPiXv/7udq45CBFUX0p9mMJ4ksxsYGEOJ2gMz63Ggs=',\n",
       " 'HmrVWiRTgfSdYX3b3zDsukYO0J1u9v8ScpHUJjzTFOg=',\n",
       " 'jK9U3j3XkaMoACn+wFtIbz70ivElDtJAUJkSr7BQveQ=',\n",
       " 'H4PTG3Py7EHeXTZSnq9wJt/GKhUPDj0LQrD0Mzg+fgY=',\n",
       " '8SL8C1EAKbGeJFyryhH8h+y6Elq+0qXTrprH3erRKKI=',\n",
       " 'pGn8VPFIHCzb+I4F9Zw6kTi7Rx7IgNyVfSHFNYUgjpU=',\n",
       " 'v8k8YjGWOwwayBDQq9A7wyYC0riTI8MbfzywewLWjSg=',\n",
       " 'FLPXoLrlHMcMW42z3eeUYxrrh+GcMyHWvJv4/PR9u0k=',\n",
       " 'Unw/iZps/3z28Iea3zvru6sWx9jvqT+14S6hHBtlkVc=',\n",
       " 'Tt2UAwXY1pPVM/ZslkrZLknxkxXAY52jsL1KSbum/8I=',\n",
       " 'bVCt1LY0W/gIYbaHT5iDUfJAgSrFoCYRtCV75mwQMa4=',\n",
       " 'HJtFen3wfOZgNVCIVDhJyEgums1S5pfmmdXioxfGBSs=',\n",
       " '82GjbTfKIo3ODiVCQf5I9z3x0wF+7WKP6q7hlDOQ848=',\n",
       " 'yR8a8gPO9s1iij5OmLYYSIn7Bf7VIR+2rBoEQMWcRP8=',\n",
       " '2RWcXq6ZGtuDQGJmBD4WFlPouxqHSVsvVH7ua3niHkA=',\n",
       " 'bf8n+7aTj+7Doo0IG8YYC7XFkYb57vl9/waWkaaeXas=',\n",
       " 'S3OrttvYyds4nSe6sSyxARd/UuOmogxrW8h2GRKgtAQ=',\n",
       " 'NKcOxplVf9WQi8fEz+LfixFRUTR1CSNIntE1UPkCk50=',\n",
       " '58/weJct+H3PMgU+cf23qhze1knRMclbrB9E4gFR/6k=',\n",
       " 'WlzLGl4Q3gHKHjg8NBLff0JvbifriPr+ph/YouAV2H0=',\n",
       " '+6hX29Gt6bEQTedfw3zG8cEN4l6eHlpoUb0wbwx/6/w=',\n",
       " '+zYtR1XhcoyIYHCZt1H+JpYVmUUrEcmstEH8kCmGcnM=',\n",
       " 'JPdfCY08iBovxcSTb6e++tRWWtMvcn+UDKWAPZs/R/0=',\n",
       " 'bl9uNGzg0PogYO7E/YeRre9ssgbhiJywbxUW+683W88=',\n",
       " 'aBULrxi6UJ805Lv9XN7Mm/pa9d9uA2XG/E3bN/8n+jc=',\n",
       " 'KNUcbldl9SxL2ytXNeOgtORDzy6hgY977xKNmt7fYc4=',\n",
       " 'RMlNIdprF0Re9q6Z5Pfn3D5XyXXApvzPSiN5OFXQqas=',\n",
       " 'aqPbtJnhUxez5CNQvV/cYfS3cxJZu853F7KjP52eFBw=',\n",
       " 'ShEY2b0xERM66rBoBSeZR3Dk38Ptl5lH5L2CfQCug10=',\n",
       " 'zLarcwrIJ7/y8TXisp7lzXK58luWXUdeqyVkkmZJvrs=',\n",
       " '8B7azs+5xWhFlNuNAXPe0aHlq7AuAgpQEkKdI9GOykA=',\n",
       " '+GML6KH7H3n6Lcnk3B6s4i6ub2qhZQLUQP9L1thIE8o=',\n",
       " 'dmFK6SvgZ+a/Ya7JxBjgwahRJn4132xXo2Y3v2zKdzE=',\n",
       " '3+leiRis/hu8LNoGW9zVMAeZesis/SPz6rWRlUKiqQg=',\n",
       " 'Bmrm+c/c5wmDs4LySdPRlR0hneFH77bx4BXL85Zzm3s=',\n",
       " 'JBSs5nLiYdZh8VSS8Q5nyrY8br+ATsI+KsIf2XzLgJA=',\n",
       " 'Eww6CwIA0wU60XqTckAoeDfHiEnfCGjjwX+pkjCYaNU=',\n",
       " 'kPXiHKq2/+jwdr4ccdybMUXJUZSjLvVsrwzhxAwCrH0=',\n",
       " 'EoSIXfwKjUgmiGUZ6uTZGr2MyMOspOX19Im1kg54/q4=',\n",
       " 'Uaie1JUXSm8wLrF+43vDswlU+hnEJhMZm93AH1UtVCw=',\n",
       " 'Nhs68b64twJXvgDvwBW6ZcocMGdkvokfhrQQ+RSKLjU=',\n",
       " '1WbINPh+I7EHqAw8CSImaQ+qgEibKCfQ32j9NzF4DLU=',\n",
       " 'J2Toa6nV7Vy6zuNSqMqkDGVCoXSgI2dHO5moSLbtku0=',\n",
       " 'ZTUXb0ofELNVIRCG4TbjcrgaKR7kGh9FxiRshbtI98c=',\n",
       " 'ghUYXUJP191AYNd+mEymy1JFUYAwp3xZTaXO5AfZA2U=',\n",
       " '03U4fp8J9zPT2vLI4PRZqtjTRBdyuZQKluOMa/IB4uQ=',\n",
       " 'elJo+Hl0mn+5frtk4SkLzZ6+RRF4dOEirBDAEdqubJM=',\n",
       " 'vi/svfInPq/hBimtloTujqgBF4lWU++5awkJ4pqg+NA=',\n",
       " 'KrFtOd1lHsdN/hwtt4JSy6liM3rtOnIE8+J1zB+yRuI=',\n",
       " 'mOXbmJxRBdmnkpxQiwXUA8wrEK2lE9smt3jWno+BVWU=',\n",
       " 'IcisDKUa3zMVv4xbM0UsitGlaeZVAJ7QHuLNkJ8biyk=',\n",
       " 'b54IVwL0sVULk6Nk4t9TMn+/HsB12s78qz3fGtr2sv0=',\n",
       " 'aQNT0W3YjUPtkEXn7CJakCP2pi7/I+A6YhhhQUj+tEA=',\n",
       " 'WjpmKqmD8IR45tvxBvEevM2fMwd5DAeqVjeCXaFexI0=',\n",
       " 'digKdANxhQTe7rO5lgvQNwnkl4prLJkfXB2Ijw4Fdts=',\n",
       " 'S8UbB6IX4bdkURo4R0zpul98U1CZSpUH/EY5Vxj/9os=',\n",
       " 'oQj4EhN3JN6kgxoLuaSJItmO/Lxe0SFrHnmTq0j1hRc=',\n",
       " 'Juwxx8aViQjcQk30qCQ+L3zaedpPMFYRiHyoQapvAeg=',\n",
       " 's6lndKK5olA3bLUkwrQzEnKyqh47oQ52uon52tCpySY=',\n",
       " 'b9FRdcpdlMKMAefnq9h5utUtgrfgZMl+PS+UnmUnu1c=',\n",
       " 'SpdMOkBo3kM8/y5GYNitaNDJsF8aTlJZsEX+J2GI1Rw=',\n",
       " 'hWsvk5EZplfp0D1xGqKU/0Uc4mq/6kTjhdxqYzuKnLM=',\n",
       " '4/Y2Z2HC+jidOSqFHb2eGjIki2vjT0DPRVZRCItDM9k=',\n",
       " 'jCajVD2XqtjFX2nqgOD1uNB+y1JZLGkVDrftGtws5yQ=',\n",
       " 'ktSnysu+JkIsFNUJ6UyWVhAroV95Ys+lx+NCmpPHHyc=',\n",
       " 'Ad9N2/PO3B31gqoP0gt7nObLwTmrqAsAuSyGEgbSKcE=',\n",
       " 'VE53nISL3Bkd38NKJu5bdNx6/fFOmfrEfAV1UOSoYiY=',\n",
       " 'kT7S8JFMKuVXnpNPm8VTi3GCq8SFeWa8sF99g9RaEEc=',\n",
       " 'E/7FPGsftC3Mek62OmBB8FmaLuTB9pErBlyHZdw1jD0=',\n",
       " 'uhl99XqPnspfN3S0VFWIa2buc/WsqartDC3G2I6AShQ=',\n",
       " 'zKNhNL8LMgbtlkAZ52FAWvMSbAyB5O17xbUbwsRdju8=',\n",
       " 'tVkI0YHkJS2DBnINwvMlksg+t8zk/ndT6KpS8eMA7u8=',\n",
       " '9ce1QIdEartNUqkmcu2CDq3vSKBG5Fy/1RMCfEontbo=',\n",
       " 'SeY4+0pU6voFmQQWd3jEYwtEGtVULmsnx3l2EYEZKhE=',\n",
       " 'N3Du89wFK/GDTJj0NiXfbGBRlRhOEFfXkbe5WNyNk4A=',\n",
       " 'kOmFDPSzzPpY7ooBzYNr/3IioUHaYw09UAjsJXwkrDQ=',\n",
       " '+EiCGeXuCnGBUmuznWSiYRoGzqZe0sZj7w/QKGZ4Owg=',\n",
       " '3+Q5Uw6kYgJrD81mCqq8QKweFatMJcEeahUjBf4JJKE=',\n",
       " 'FmtCLfykiAuCnvDn27jGiKte4QS2Qe21NRgSufxOqMw=',\n",
       " 'ZnMKWjvo3n3FV++r8pl0ciehhyc0fmRSpzpiiZOsMZE=',\n",
       " 'zRnFX8AQPaQS4WI0jUeHvBNe/Ty6FmuOo3kbwJBL3Gk=',\n",
       " 'JrFPZtmQIFGmKptcnJzcoDNmi+RkICEBzejB2fOGjyg=',\n",
       " '3EzZaNRcuEqoLVEHtIS2szfSqYNdeKA0clNpGRQwbmI=',\n",
       " 'ERtNvDN4movtdR3jAtEIMszSgjcM2H69dlpclFSXM9Y=',\n",
       " 't8S7lw7/Sr/ykeSJoIQhr3U+VuLlDZlM8foerQ4Id5k=',\n",
       " '3vSlx/vZiADK88rr2yOjejsK1/4PKuhj6HoL6nBsNcQ=',\n",
       " 'QSWZhuTMgh+bpVCxEd+AL9jF7vTANHCTim7y0lIhW7s=',\n",
       " '9bxxrTdUXEyzVyG87gUX7/ierLRDh1HrrFPf0gByOj4=',\n",
       " '+ditUuUDfOP2G2oy//2eHur4HygCkYl63dAxir4sZok=',\n",
       " 'Lg1pJRNg0sT1jSga4X8mDmllj06enSamfyCqUF41cns=',\n",
       " 'y60GbjPYb5gNw24/g/AaEBlcfmeDPJT0e/xAhrxDJYQ=',\n",
       " '8MhFRCONwkwKn6C3PJ5QLc/j3C7+1gj5YxqPFp71Bos=',\n",
       " 'wDmQfjnwugUuSW3JwJlOssM2DfPZ5TNf4C63tJ8AwSk=',\n",
       " '/9zdznSkKQeEBblJQN10HvknTT6mS9yRpOzfCi+VvSk=',\n",
       " 'AhVzzNvL8fsGB6O6pJsLviyIr5UG8++EqOILtGzbDPc=',\n",
       " 'aV7fQHxpGwkMbBmWvOOveDMn6y6NPzcBA7sD5sM8rWo=',\n",
       " 'mQQJpwa+UBFANMquh+bXqEqNw1oetUXqpCiQjOvoLsU=',\n",
       " 'mkPj7GMFC8rAHU3Ood5Kcp/bO1zISVxFS/gHauRigvE=',\n",
       " 'Q423GUMFKlQq+/svGvpyDH6X//SpU08833MXiD46BlQ=',\n",
       " 'YONQnkcnrBAHxSQW7AU7mYQS4RWB5VeMvT4yosRiJMs=',\n",
       " 'tvSwmdK1jo/9S58ydbKOvZZoMntCetyjjVk46E0E51w=',\n",
       " '2ygDsIiiRBkokkuVcaN/mZa5XVCFAt8WZznPz6QX9fM=',\n",
       " 'olzPpjxUtyPcZJjPlsdzIydnrOIVOrL22Tmj8tfZW4U=',\n",
       " 'i9bx0LG471KKI8H0D7z6wfJNpw7tbTsZ17RMWQ1r5AU=',\n",
       " '54/UVREgFa6OlBZ+HhcpUkvmxjyec3gzSjH7W8O9OkU=',\n",
       " 'N6HIg+EfUgqrzi+eoa5BPjDmD0k76iVNAI2YeSwNfJw=',\n",
       " '5TIlde8H52E2ob9T19zgcmxKQfN7l9EWtqeUZri+Q5I=',\n",
       " '5IVRwVc4l/WZyMQYf00nE0TcpuBpTO9Q4iGHVJjZt0M=',\n",
       " 'KfUn31Q18bIV5HWnm7MKbwigRssdZ+l927+urhJPwyY=',\n",
       " '65wDPGOBiE5aaff95DeJFdqjxPJxcixpt1Ni0KURbqE=',\n",
       " 'mJ3TMaVh8Lb4+zyBmewImtsM/6gQRuztLSG/BvaV/Og=',\n",
       " '/kiAobDcQv6FsZnhuNv5MHbBzK3ak2BwcyYRTxJgagc=',\n",
       " 'CmJL6s4Euqb/8GQJF8Jj5bNb0xuT8VWQRBhdR3xJZ/g=',\n",
       " 'csM6p1CtTlcVdRFczpls5HjR2lK3bzeElUHNl3IYRG4=',\n",
       " 'm5qOhHsgjFYEQMBeaD0m6ueo0nbgAH/tuI7tMaZSx78=',\n",
       " 'S+j+cDoLp6CnSgPUKTDZ+DMqflYBXTpYS94c/vWWhfw=',\n",
       " 'yGyBOK1Zgv4LwVVmVzgRD8/FFDLmSp6QoNzyTzc4+sM=',\n",
       " 'pjalPQ6r1LJu9KmZzzVIwIOBEyVntOALSra/o+cYi1U=',\n",
       " 'UGyh30UsGeq6S670KqXDF9qIBApXDdOuEML+VKhL7eY=',\n",
       " 'TBwTY/1KJyOSCe1tHicGFzEds7Q5pgEMpCY7gZ/mJ2k=',\n",
       " '+U8Y0oS8SIUVfQz62RmAPbVW4cvq5XKmt/0UQOIWFtM=',\n",
       " 'ZxNcPgSWFrM6NQ8KJvxZbhyVhuuCqvyIHYQnWlaaoAc=',\n",
       " '+wS3ak9tS/5+MrpjM3947iLUHWkOL4c8fe89Dri84ts=',\n",
       " 'VkgkxsQKOAoZ6+OC4iTV4oGAGUot2PCgZ/l70L3YkLI=',\n",
       " 'jxOKJP6A3HhUHBnicaRcv84zq39jWa4luVeANAK8Onc=',\n",
       " 'YgASKBZh3g1vLb+bdlShFu8It49L3+2GSqqKry77kwc=',\n",
       " 'PtSbssqdNAHBPJoUlqbfbGrWZRM96ixEPFRXZbhn1VM=',\n",
       " 'L8d184IxViNyM/uIzyRr3fXanfM4EMhGsJmruK/NDDo=',\n",
       " '2u3pch9UHluV5hgqsxcnYitv7daEhlDy6s5AuwoJzDQ=',\n",
       " 'SHdzZ3OKmRpUGXP4MEwBft3L5ou94kCDxSyhUbJYayw=',\n",
       " 'FahOjxHnc287BspWV+8cgx39fqfUWbNTCgBHgVh/e7Q=',\n",
       " 'abwDfKogThkKmR4z8UknU6ZxNM6Ia7ABuBheznz7Fq0=',\n",
       " 'XZyHVp8uEcWEDPXciPjel/8w2d345PR56ora1XdTZO0=',\n",
       " 'oVv12ZxI4nH/Tg6DM3sC8zP6i10FXp+fqD3Zz32BWM8=',\n",
       " 'OfUmW+wxAcUQQx4awLBDYPJ1/kTkt/2ENFPvlHTvdzw=',\n",
       " 'lHe1jcPs5DBTBLxsmUSmnHZIVAmH1mHXiPpGdn0YjJ0=',\n",
       " 'izLH3e+keDRN4ubyWpfUZUYGdJF+5BBqQwfZyAi6pHE=',\n",
       " 'gVPHjtH0ThgFtS1yH7EfX2J4Ah5ZtaZdafzvubIBNOE=',\n",
       " '415M28tiQhiq2dxTk5Pm5FLQXFe6QbYT65QcNyeX/k4=',\n",
       " 'FAkpOtjSmSUq9ITZSFcMP6t6b5NB28lhfDmlRJavQ7E=',\n",
       " 'DDWTFlu6AV4D7jfz2FvspIBC3E/heZAuFS9jHV/HG+Y=',\n",
       " '39ZFJsS9fKDVx5AtdSuPaim6xpQVtSt5ZNzqfxcwZZU=',\n",
       " 'mCSF1zTm/OQ9YLDebP9RwqROkrllhNgEFBAlkoTyhQc=',\n",
       " 'ayUKxFOHJGWw804z9Mt7AfW8+YZi0o+wxergwyJJuzQ=',\n",
       " '/KUQ+I0KyIENTP5DTCGHfz81HShu9ETbo/y3gHn1YpI=',\n",
       " 'tzSxz5iZGXAdTFR4TJg1AoZTbcfOafesaiF8gF5gLBQ=',\n",
       " 'oexJT1zzaoktlGcDlNhwmEwt1MjgZPwteQDU1iZNS9o=',\n",
       " 'M3NUP0R/CF0YGKxOVXhYlrYu2x2qJgG5iL5Jj7/CtBE=',\n",
       " 'D407sQRYwYwAvDhkzebbK/Tdy4WGv13+WzvNPE8uGHE=',\n",
       " 'Ecsu0XZbzb/gaVi3rXtFMzOSbY4Hl2dyAOMDqAlCX1g=',\n",
       " 'nYC+X9rzwq3W9Ng7446MoXsLEkkHpGqESpwnb8sGW6c=',\n",
       " 'zyQp6h4CfSyuWa6Dd63aA8tkZiU+LU+j2cvtPwYg9zw=',\n",
       " 'y83ynoS11H9A54MHRxKPbedd8JoqPgSrCwK7xpLnWXU=',\n",
       " 'hItlN45KUQj0MhThn+eICj+e1g/rf7Tr+T2JuK8dmSc=',\n",
       " 'qfrVfKR9yvUG5alSUiVXiM81yh+eVZ5/aSORrP3ue+8=',\n",
       " 'XZ1uOrLGvrtqr+f27ZZdminisIOUbUDTLTEy2j6YzZw=',\n",
       " 'HQX6+AVUlwP9bvzvZVh0P1SD2VFeOo6lltsxb/l4hv4=',\n",
       " 'o0DCD66USj/5zSQqY8mCSQcv9Va8P5sU+uJrORjLzH4=',\n",
       " 'dxtGOwwSyLYGy0Al1aMvunIAOG1f1mmsO+gbids5EGQ=',\n",
       " 'oDimATB1pbfv5pCS04DZ1XlRRLIEsYndZdClvuVo1X4=',\n",
       " 'kxm2HVl1c2yWTmDUU41yFfBXEdEk++v+hfp+p6kJ3io=',\n",
       " 'IdGYS6O0G0bYD9LS0C3I8jZTD9cGnJA1kcYIlGMexMU=',\n",
       " 'HvY9H+vRs/4Gtt6X3Iu3tbMobk7Zld9e60MC/hc2Fqc=',\n",
       " '8wxASPf85euXQRtn0hEpN1MHwspZgOPScidTiP35cf8=',\n",
       " 'K/IQJeA0saFL/lcEJsgP/nxk0dzSdzjWUPAqBH8pg4M=',\n",
       " 'fMQj2j/Qe9ciXqePXsvHz7alDLhJPlCuxbbgh4rQzPE=',\n",
       " 's29Ujw/oHhWBPoZpKofZdoTxjW4WZSxUdBc9w4KV/P0=',\n",
       " 'BFu7EqI/8QLLQhsPdSzuw/81q84+WEoR7iR/EkcyI6E=',\n",
       " '054o4LCqcrtfI52frVdfXfdO4CvZxPb7o1ntBj1Hnx4=',\n",
       " '7VyZsdF+BTwhKBwElLyXRQJSTxTOYErTpAcXy+BQeGY=',\n",
       " 'lZIMtB49Ube6LUSn8CGa5V7NL6WYG+gtalyf5VT9okI=',\n",
       " 'hSQacZSWS+EHZqUO76yeGu2QTzAvK6lw9+VGm6V2uiw=',\n",
       " 'Fl1fgX0V5o0EazGMby7pF9r7bMgi2DJPPrkNjokUINE=',\n",
       " 'MuL/+/QNZds+cm/S1A6piUX6Mzy+BKiP7bevkszcxno=',\n",
       " 'yOqjbeGiFanfgDlQnKGfyg2wqLnQOTSWQf1Y0T/CGPE=',\n",
       " 'AeiHk+Em+57U0tdW3ItOstSd9G9/wGaoxc+0GgnNvvE=',\n",
       " '2Sgf4LvSYkdXRWHrneeLrIN1iqd9Eo1BN8gy1tyrLM8=',\n",
       " '2xgUjeu+VDzJ2/LTslLysg54pYLOjt3/R+BB43fcA+o=',\n",
       " 'jhQ5k5b9ehrjG7y/63o/jgAOJ3u35l5eOVhpiSrY8tc=',\n",
       " 'geSVQFCzJKdV4safzcfDF2Mlgz6tOequ6fFcZC77n4I=',\n",
       " '2PyN2IP81w4dEG30Xy/KJjIORw3qUHBQplOEWY7G70w=',\n",
       " 'Zfmgvk5EM3tCGWmhI0b4l0Ip7vaFROBNt37r17lY964=',\n",
       " 'Ha4sFMZwkBQ5qxs3PxtfLgL7piyRq+/wQdZjuj7ZcFI=',\n",
       " '0hR/tX3hQwuQuW8/50jHIEGf5BT5TdaBjdvqiayNhY0=',\n",
       " 'ewH4FAOyUJ8ayG477+f+nzKTtHcur01wdtxHYuBBB7w=',\n",
       " 'EpXDY3Xg2PHgQXSOpwmVaFijrLP+dubTMmEabhh3KLA=',\n",
       " 'VVO30HkVus4L/LtvMXkkYVJexBWyy/HBrNaJHwSGjOU=',\n",
       " 'vvfN7kz/R0uULJZY7bhQbu0/1GB/A41M5KFDK11t1Ts=',\n",
       " 'pbpBpPooG0eEPHxtTT7SgFdu9wTNjgf/fLSrmiMK0Dg=',\n",
       " '6qJTN4szMtK6FQ1jR4vp4RF3MRrYhrDzok0lesBInKY=',\n",
       " 'IDYfbM4HhucoiWHrKnQv2/CdnzYc3xCH3m7SmGro5mQ=',\n",
       " 'hw4G8GyuyMeBkQEWyub3YZFF549I+m6PcIEQ55Yzdac=',\n",
       " 'fqJjlSGRp7SWGYcgw0nw2woM81/sUCegSJ7qFFlhfyc=',\n",
       " 'UAQqdyz8XxmZTkyaS/18ktkTZkRND3yuxR6kUs3XR/8=',\n",
       " 'bATlenzXQbG+VTUQ9rVyDQk42pnRpsPTq4l9mI+hPik=',\n",
       " 'sBbQyOjNADprUsNh1qOEjX7oTqORRe3DblyGT0VI49o=',\n",
       " '4pzKHLGB7WA92lWnIRMoeSZEVAoTYb2+T7E0f3oDnkQ=',\n",
       " 'JAvxGwV5AbAaFIThOO+jQovGkbKPvRS3MtJr2PYeydI=',\n",
       " 'naGQKRpWNhatVeBHYeddhTKPGKQpl4XvdQ7skpQSYL0=',\n",
       " 'CNHl9MmGDQtuyflC6LrEg3E40660R+2invu+7+z6wSE=',\n",
       " 'MLWh7NgKOm/EkibFMYlm32pvqRVqCQa2T/FSAJ1xWuo=',\n",
       " 'QLbsq2hkNMgZ2Pl8/8BbrvEcSE3szGSbydf5PhmR7Qo=',\n",
       " 'jxABPBhIGmuRXYAsAtK7Cr7SkxkKjNMjf9LpE4oTLeU=',\n",
       " 'pk2D45fMlXkPqd6/+BSX3/ui5bKOZlujyTeFw+L3/64=',\n",
       " '9VGRB5QLCq0xxfi1sRZEvQ2JRPHrGbfuF3m9rhA1RD8=',\n",
       " '5hIX7ueHUqkf16IpOZFepq8bfwr5Y3Kb16qvyN1kggs=',\n",
       " 'p+qokJiNYgas5tcSwGjtQOhbIAejVhfAlr4SfEASwA4=',\n",
       " 'H84dZQ8aklWzFzu8iThntz71UpwOcwGcIPLA7fhGEJo=',\n",
       " 'tHcrxZMVAihOigTJCiu4FsNm6vBafgMK/KLMyQTqaZM=',\n",
       " 'QjoIiIYYU6Juo2E4qCTaip7aejow4gRSaF5de1Tdxj4=',\n",
       " 'pI3przPPEhpze79d8mdFd5TeJ2LTuNM90NkZhjGgzqw=',\n",
       " 'y23TEBIVf4fH23sOZMNQczFgxoFwOSYctzv+gaFGhIo=',\n",
       " 'D/KgRLJcVdt5W+w1G7t2wV9iJ5MWDSX3itXqliUhWLA=',\n",
       " 'QIAhohEDVNScHVNQrtel6cYA435rJm2+0KmitEXb6pU=',\n",
       " '6GwrDQs/N5/XIR+VGfeJDYJlxp8rJ8/Ngll2OXxTZ84=',\n",
       " 'EN094ZxFIuiTErkU0GlxU9FngTyhblHjvjDKx3n9Cew=',\n",
       " 'AhyNlrP2KSjWzYhUBfNLVXAEvw0+EiPHeTRdwTou/tc=',\n",
       " 'DwTV/hRjKKdxSwu4Pc/Lea3EcKdKZ88oSCAyBfgLyLY=',\n",
       " 'pWRJTN96D4ibwdXMgNjkNPQQrkx6DyGE/51mt+xnoYw=',\n",
       " 'Jer8sjqWMxn5J7+fBf8q0UiFvrjBDBXQEMXg+7h7AS4=',\n",
       " 'lFjFbXN14MUylXR7Yh1mbXvDcri7mWGnbvOpW5V7beQ=',\n",
       " 'BUCn11vgbi1C1UZQuJeerea1xuKpKInBOuelmK6t6n8=',\n",
       " '5hwt8YkZbmuUgMgZhPSxqg8A6zmfumtsz5SxjfotMbw=',\n",
       " '15yDo4MmFsDDHUWG9hsAk4LPbeAJ6JXduVmBDIR0qOc=',\n",
       " 'iN0yM/FFMDqBomOto2cOCY4RP4rcrrNL07EUwcf6M98=',\n",
       " 'DY3JnK/DAVx5Ftc6MTDeJBZsnr67+DroQFhhIzwSdhY=',\n",
       " 'kqH/cTl+aZDidQ4bYD5w/hEeBdef/k4ieWEnsG9FxlM=',\n",
       " 'p/S2UK3sYOCW754a7ndGDujTIjg4bgGtHrKD2tXdTNw=',\n",
       " 'yEmaWsQD3nj5OgAeDQ/8rR0/qk8w+CZfRXultiKPaf4=',\n",
       " 'aQzPEd1bMgl6AFW1+A9LahVpncEtrydtMIo2V58cjDM=',\n",
       " 'afMYkeMQd2XXqg1Y8BTV6cilM01I2XgUoyBuajJbkT4=',\n",
       " 'tQfK/jWHcNL9iUrvPphhzTx5u76/w4tykp+0yIRjJ10=',\n",
       " 'Vmg70gVGqnOEpIv1V0abdX24Oa4c/ldj1pmKvnRVufI=',\n",
       " '3TGaFtPdZ8KS+aOb4ZC4fdjZMmqKlM2sT/V0qEcmwYU=',\n",
       " 'xoy5+TbcheB+JeS8DqFKgyg/rWsFo2HekqacY42CLWQ=',\n",
       " '9ESdnUBSsbB5BdkykY+VXUu+e8PXc8pWxaudorl9Tnk=',\n",
       " 'EIWnQRK3S5MJjq99QQ1Dra3QWYRx4I4NhsO0f6lMXz4=',\n",
       " 'Hc0PcwFKaD8SPdHRGmyZh7EJJRcq2D8fNFif41Dtop4=',\n",
       " 'auS/XoUa9c+hvq4oGx8sZTHV1MDXY4Fnmw5tIhmDW1g=',\n",
       " '9qRHQTm1bqFag/WEVPiCeCO8e3gfToiFhh5sej4eJCg=',\n",
       " 'fgCMjLSVSMAg/QBMCruc5s/mCd8Q5YU5XCEFX0cvanc=',\n",
       " '6XY+EE+R9ykV7+RCGO6ZtPnNMXB8/2rEkD+AYLFQHdQ=',\n",
       " '/bPuSMl+PKtQGlH6dtlygKhcNpiXrhIfWWkpHSqqZwg=',\n",
       " '2fS83TamJhTjnJuNpZkVkkJ33d3mim9CxcnZwgSeB6A=',\n",
       " '71pttjdXEO9qvVbOlu5gU4kPhYFPD5KvhKc7uv1VvXY=',\n",
       " 'AQZYxGjp/0MCgVBtn1YZ9KS3A5ZWJDfYLOTOG4YwWVE=',\n",
       " 'QzrI8D/wmSmYQkCqSKfTWS38ScwUBeJb7xi1be7Arxg=',\n",
       " 'rxS7iQnN8UT429hu/O12J1Hafx+gnv1yVLn9YcXtxsk=',\n",
       " 'Nw92DYu8ruoJI+KVTC4VjLceLF8CBXkd08BSmx+BFQk=',\n",
       " '6i8YfN1tJ49OTfyPZhjUqhzKS58tKIflUB50Bejm29k=',\n",
       " 'nU8ugFZRFfkZ/u8OO2LXqtPE76dZK8Nz/d1yZidhmTg=',\n",
       " 'T4Z4Nfpz/pz4BMSNXqBZlC/WDLpyLP/fhFM0EOUUClI=',\n",
       " 'GTrRCDHZ5FzUNeQKjSUVk7WpaYhlVCTMqqVwNpArdJ0=',\n",
       " 'mIi9px6GnsutI5pzNoYvKW1idpdRe3bhme/yPgxfy9M=',\n",
       " 'Lpk/OAqkujZWheCtOToinov62D6jmOV5PiD0uLDBA2A=',\n",
       " 'D93QlSdpR8nu2zezwL3vdFngMoa3agbM8iGqbQIhTvI=',\n",
       " 'uTvIk3kdvip4GW5F/7jUYd7+tW2SchH/PD+QdbtOMlM=',\n",
       " 'R6g1TMVWKOF7NBvzPVps/5KjkOGRjOg8WAS9UbV/Kls=',\n",
       " '5Ju1czU8kbIYkZVin1ktghc0m9cRJq5QTVogcYMATaI=',\n",
       " 'eGEc2rWQ1olDQr+elGGT7SmVv1+oMojacskXwSk5AXE=',\n",
       " '0ZbzNWudjUhZmtvbiTqJhQDwAoFYJ0tuCGnNJr0b2fc=',\n",
       " '1AWOPTwjPaZGIhUxwu3KZkB4gaURq+Dx79XXYHW2zRI=',\n",
       " '1aiZnfB1Z7JVkS85evHHvsEiE4B/XlIxkK+NpBUiQ28=',\n",
       " 'tnrRjdVv3TywTWUO9Xp0bUbjpXFFpYYSF6wWKaV//Ig=',\n",
       " 'CaGcfd1MV5LQR7VDhGbTt8fmV4kGqOw3AWjWInICjCM=',\n",
       " 'iGJj6lUSUVjWgu5r3/M1tkO6TCcQbbz6csTEzjBG5vc=',\n",
       " '1gzNkgwICFaMHQYLw2nuAQTCRMm6CFLo/veXdQcKWWo=',\n",
       " '8xaS5vamijL/J4e/L2l2YzZux/qMgq4P5ExFXYHh9nQ=',\n",
       " 'TdjTPxNzBqr92YVzsuMLGaB8aysXjaknjTwMC6tcp4A=',\n",
       " 'EM8RwpQ1bhxM7itIyFTzLlJf/0Ld6IPy7TZVY2P1ptY=',\n",
       " '8rttNmO3GGfXcG4TXSPxf08gQo1Egk701JGpULr7Gl8=',\n",
       " 'wM8HnPnDfwJeRbyms+U0CgHJRv+41Pfjb9ODeNhUyMQ=',\n",
       " 'z9NfWVOGdMcQPdEqddakT33HO0idLJ3xbwSawsFpNxI=',\n",
       " '1wMRgBKycWuvM1JM4MiB5NIgjrRG5uPyE5DHBqjtz7g=',\n",
       " 'kCmLlbmzZzMxUndRAUmrga4aEnC0CRPp2UNWApnxjcA=',\n",
       " 'cM3BvSidLdpmdyKhcopOZB9mWIcqf4NQslBACGnEsqo=',\n",
       " 'EUdrr03O9Yxspws/3jRs+qg0I04JH3xozWHnbW/bq68=',\n",
       " 'xx8PrES/Uu2z9Uv1h2Em8V8Gc+tjdms8er6XEG5Jj7g=',\n",
       " 'yz7XtNDd73EYz4D8UlEmwv8e1u6ouaWIZv9nqueMEmo=',\n",
       " 'cIz9JcuZVrtAnbqBD1UK3EL3mf9MPKxuIDZZnV7nHFI=',\n",
       " 'bQgfBA2HLCIpH+8/rFRK34bKQOeg2By6KSiS8/Tc4g4=',\n",
       " 'WT01p7dSyRefMKZcsyJue/fUP0PDppNrYua6cHs1B6I=',\n",
       " 't2CJPcUJfFF69GvW0BcfdIybfc+jov1JeYg3TBSijz0=',\n",
       " 'FvGMRAozsFkmmfXacHTn225LCMxyUnUyDdYxoh3dJ7Y=',\n",
       " '7K4LBqe79CPly50M86qYTm0l/oAF7hweJ247XL5itbE=',\n",
       " '3GT9hJBoskYVTB57hMC5tb/epBmQrN64IkDb1PIkSp0=',\n",
       " 'LQGVWbb1V460AxeGloKYlHcYvYxPyrM/cyA1PO3kPNk=',\n",
       " 'TCl8MKebdqDfOoiKDHS0ZmGTKQvgihKOdSpUnWGHL5U=',\n",
       " 'HVO3/QhbIiIEgiv9Fo5oACAYycmrWOmdcuQB7jRjiZQ=',\n",
       " 'VxNqIkpb5u8BfTp70yMSgzKn8pXdbP0EORt308yjriM=',\n",
       " 'CqNOGmGLIpqckgM4HlfhvyzQRlvuf32IMtq6rT9yCz4=',\n",
       " '16CtcSJIO8+lPsoRB3Q6ukBEejRX1I6zemoeiZtqacI=',\n",
       " 'Oz9hrkkipn5a6AeMKh5ZQ9jenVAVEsSvGlZcN6dolqA=',\n",
       " 'y1uunMIjG2tveWkyVdiGEsS3cqILpAqwv7wKHjxd/8o=',\n",
       " 'rgeUFKpsEpzAoAPLR987VYqlZEqFL4IUDkjyDb/S00o=',\n",
       " '8uzXddTy+6XE6MJ9rFo71Cpds5JW4Q0E7voU/z5NBXg=',\n",
       " 'JLovTRo4ZAViP0SSLtdpLE+AS3E/QVmUnqGlKlOUNgg=',\n",
       " 'MUu9UnzT4ox7wDaB7UIzx0oblixZ1h9niJFAjgCmG4U=',\n",
       " 'Mf2We9lflqOLcLUot2Z6ULubFdRMotQ20XtfaBkGVbI=',\n",
       " '+yPuBto7t2v7gjp6mt6nb/Oe09ict+f9pDlRsU6/VnU=',\n",
       " '6HPWYB5EUxJPM4VXjnFF7x8m8HxeMxyujWNLsNpLqzM=',\n",
       " 'aHwGgpixx5A8IF6ksVjVuqPiJjM+1ShpO7nCepUkX3k=',\n",
       " 'jxtKr/HGPjry2YAVXcebgoZDulZ2xHowPBzvUOk4ov4=',\n",
       " 'CEEz4Jntfdbd+nEz+b5s/OKZFsURyCXxsnD0g74yFSI=',\n",
       " 'kBf9cgmfntUbXaukXrAtJQaBaNIzM/3CVGcrCyBcclg=',\n",
       " '45+IsXtkHsIjhUIDsCvHrwCkOqkFjb4Y5f7rm2hdf5Q=',\n",
       " 'Az+lKBHRT5rWlOCYZ3ROflMpn9MnSjEEN/axcEvtrXY=',\n",
       " '/yo5dg++N/sgPQWejZsPCbNnCKjFs6UqMnAf1pM7hUM=',\n",
       " 'asYRfURiRaDbWO06vCigoC8XaGJGcgxjhw49+BxlglE=',\n",
       " 'fz5BqhXSTvUZuB95W4k7oviv7FjPzo5hHG6WSIf4Ulw=',\n",
       " 'K7qfkURbtdpMb4f4RyaOaFphVlgV0uV56JsUmjWC+ZY=',\n",
       " 'clvnXEXlZOw4+HegA+5YC1tKMi6mMN+RDYeT/ohGKHo=',\n",
       " 'lWmIF/QaH2UH8lnNyVGODXJvDeA7z/vDHl3avFotRW8=',\n",
       " 'CVzdmMWM4KMSHad7jpy3nsX70lN+vEUYqd/al1HEcVE=',\n",
       " 'nzCTFh6G6dUFz26Xp0coUwkeATlscaVa12JLV2BaBTk=',\n",
       " 'nDug/EBFAUgYhRPsEc1djQzTZNy6G+vhczyCBBD4snk=',\n",
       " '14HJfBvhrm9Q14eQAEaCgW0O5XLw+duFSikDzTDitj4=',\n",
       " 'VmbwjybiqdNcWk2b5HRlzSICkXsh/PW9TvfZH4+K2pc=',\n",
       " 'Hm/eyCUBD8Ll9mdprf6lgF40nE4WngWExa4KAObyfCY=',\n",
       " 'DsuMjBWc0Csuv3HKsgzS0yZiqw233gWzHD23NqGjxUU=',\n",
       " 'KR0Pgv9LlPhkcEuf4GUIY0DtId6sLF2b1klScsqBKBE=',\n",
       " 'Ook4m0+Gi932kZywQUqLByfLez76Z0QLKbf9u61YhQs=',\n",
       " 'Nk9N93th/BQwd3YgxVuwk6We5YaiqDAW2ELx19CbesY=',\n",
       " '0UtgRtNoJZnro/y8gHWWv0qMQasRZ5X/96kx8b++DIo=',\n",
       " 'FUEY5rswHygwdwDdSNcNLPszyFr2TtAtJlAJ5HS8Snw=',\n",
       " '4IMx39BNtMUDl9qHkB5ZOZM9XBJK8XnrJZoq7BpfJxw=',\n",
       " '8ERTPavjj9qdbcFYdQyO2lQkSz0dNZRmmHQ4FlPHeBA=',\n",
       " 'KzIzie7Sz3I6T5uCoGujxB3sLA3fOGgKrt2GZkEN5C8=',\n",
       " 'Xjxxiw7i0tQXLp03jUHfwiEUd8H6smpODIeTIIiZ/yQ=',\n",
       " 'mvxNOJ/mxrD5TD8fFK0WlZZuiAHTSSyQJ8tc22cwYBA=',\n",
       " 'Gegn9HcAL+ug5QBEHjskUzTOx9skc0wUKb3xyETsXX0=',\n",
       " 'GEl9f+zaiKlTzO18t9PXd+fzh0qRMu0ygeXlnbWxL+Y=',\n",
       " 'RTT7mhz2KXFShl/mLc0v9q2rMUC0NHAV+Ujy4GOKO7c=',\n",
       " 'xZiSRSz0hIcaRMKLYLeqIBTNdnxZpt1Gk28pXoRmdhs=',\n",
       " 'xHpUk6XjxkViXGS6xyT4XjPNVejP2RbPBjPTfdX9VwA=',\n",
       " '7D6r+aqKA6HDMLECqBaYJrIf7OjzNuL8GECN51ZU5rg=',\n",
       " 'ukCvPWo3Qz59FNsZ4csaveFMjghszDzi2FH+Nt9HZ7A=',\n",
       " 'NP9PcVa5tpXt7eZ8nMykSogbhsEwdFHvlqkAsgQOAeg=',\n",
       " 'QUsq95oo7Ccjl4wJwzR4gRaLFC6KrNdzK3gO8viL6Ho=',\n",
       " 'CXbbqVB4nwpaxSgLMEiPEbrrmicj8JImriwexNkaTe0=',\n",
       " 'Gj5vgDdtTBLG4daz7KoYZm2XQBGvH50TX6ltuH4/Y2A=',\n",
       " 'q7+uOAWkOd1cLuV/Deq9e+MK+yJuE3ustPZe4dKkfxE=',\n",
       " 'laIuKJqKL9DdcolNA6RXIy9uPZ3whz8RQJKQkT9Knu0=',\n",
       " 'bpUqOFROwP2YiblnEWnAF0Wgcq+jamh6+rw6558iHRE=',\n",
       " '7hgqhN2uK+sjhAwcelEhTKlC/Cc575xRN23ecB/JiK4=',\n",
       " 'YeVJWS3jUL85DywiKqQhxWSnaxif/7zl5Nx+knfcaOQ=',\n",
       " 'MboyMUzNIj6LN+wDrZai6uLE3XQ0ReA79JSMNZfkLgk=',\n",
       " 'PAR1b9HE1p9o2l5HjLPnZgdNXlNYeyfwJYmnXiL6rLE=',\n",
       " '+TAgZHE0S0nRPPdis+e1iN1+YnwJRc2HRVuQNd800jo=',\n",
       " 'Hf05ps1aPI3U5r/gGhRT+nB9Db8wnFh69aNGcu4K0QY=',\n",
       " 'VNO/jn+chfpgGz77K3YS+76w7PcsgH+H055B9rfLKok=',\n",
       " 'kERVPL3kXSr257nYuzRc1uECL6R/ocwOAuexTU/oMVI=',\n",
       " '8BkjjdOUaEX1cmD1SJd0H5mwjxK8vTd8mpHeBLD1g74=',\n",
       " 'Sx1e8VSAz/PBw6Bf+9+AkYbpH9IkLEVRvvPgciWc2o0=',\n",
       " 'ObpTqVSul0pTXLCGOwA6W/GF4Z6lhgF3mFlh+uhqHo4=',\n",
       " 'yDUKQpPkuCzWmNOATA/zHj66gVFWToUTSVP0o6jrL1E=',\n",
       " 'jOqEza/seSz0uR4JV0OBncTdsc0Y4Vscf5g00tojh+E=',\n",
       " 'LaH6YizB1pcgIcdpFwwODCO5faf5NY/7DReed+Moszc=',\n",
       " 'aIXnmXFZmjz6YTOOAWrzP1d0qXjs39qKqYNWv2mVitk=',\n",
       " 'PurBJFVHijkLFSMXS3PcYzb5nTlAIfc2+pl73+hWQuw=',\n",
       " 'N5XT+PeoL0EnggHOkdT12FL+hUjYZvcrUffCEAdCksU=',\n",
       " 'gO1o0sf0QfaeS2bCubfj6B87759woqFP/wsACkhrhwg=',\n",
       " 'scHm6o169GAhjGvnOuHCkAGfX4oBf3AGq3bQa9gOevM=',\n",
       " 'mEoYksou/ZjwmrCE1htxxpugRLPR2r22Txk06pTj3u4=',\n",
       " '7zhMVNpfrDMewR/+sG7tq16gBpjyTGMF5SUtjwr71Ys=',\n",
       " '+jyFgP58/UChXrRsdUit8Bou+BbAc2J0L6OQ+AwzFmo=',\n",
       " '0GpVXbzbivXRI67CJmqme8dQZNtFFympcptCsZ2tSS8=',\n",
       " 't2gk9Unb+2y7KXb33C3FpyD7txjyXK7a9DCSdHOhCaI=',\n",
       " '11al3F82bthcLVSP6+Ic0z3Uoiv+b0pikatiYl6ztWw=',\n",
       " 'm4TP+JL1kLIy5H1gpWoZDDfth8XwONxoINxxXxW4+Ok=',\n",
       " 'jTcLodEBMvOleWj9ZJHczvaJBhywDGaNoa70H3Pvmuc=',\n",
       " 'icR6C3JeFpCXQLXgoHNIXblzVQT0KP/oNVsmFxjNXkM=',\n",
       " 'LqhML//LTC0qROaM63vER0nMvq6d0DVVGV9B/4cpXJM=',\n",
       " 'C59QK4Wq0QiMB2kwZ/zGinj530o8wjQ4vJJy9AKrqSA=',\n",
       " 'f6N9ZlfLuKb1ecx240v1d3RU3XSC6DzBhreMS5exevw=',\n",
       " 'IARoobm3GZlFSK7czRKPe6uFDTT5sBvymRATlJXPqsU=',\n",
       " 'dh54N3FIeo5+NRru3f4/02VZ6Ir0PGd1tYdInp+7q+Q=',\n",
       " '4ROtiZqDegd+NUrFuIIzdrN+/6Y9139RCMKwk9EeHkA=',\n",
       " '+5XolisSqbxBo3+yKN9t6uNMNt6lWCtT6hDJztEQnJc=',\n",
       " 'l/r5PumDvITSY8HTBWqDTEMg5TLW3VWt8ZN+TNQbXag=',\n",
       " 'OcBRjmH72xilYM7V+RBDMVv9BZI/MS+4aPEuijKGkjA=',\n",
       " '9gYMF7v3etFMVSpFQZxzoqjPq45yAx3FAYEq0nVp1CE=',\n",
       " 'Nt9PMwzzjvjYM6UbC2XAxUHbXofT09n8CaCDOIRfPTE=',\n",
       " 'pwUUzsjHXf5Dno/1+7FMg418qtmulvgz2r8Fn8bj0Pw=',\n",
       " 'bk2a1tyZpxW+nrKrpyZwbKs1mwL6c5ifmFKPE7zqIyE=',\n",
       " 'GWZyAT6MHHW9Ti6mBCDeG1145IYC4VOU2moqSpP0OqU=',\n",
       " 'lGb30cLz7pjHNSKwwJkqysKDHgkKtORqCj+bh8MIw/U=',\n",
       " 'E2hpJAVmW0gSGFW/87aYtXSfCHT1S995fufbwlzno4A=',\n",
       " 'GaaxGb8w6NWjJNpiWvD4MedBO1iagrgu3+APQ4h3MLQ=',\n",
       " 'fENyxB2QdGTUNgUgn7/murFkfRMN5O+yIdXC0/xpg+w=',\n",
       " '8IstyM26qzF6LZy1vfW5ZoGgGIjsPgCSzjt/7W0j++w=',\n",
       " 'A7S9h2hpb/yzCg5C0U3hkZFzBwR+J0bglgsZvSMt5qs=',\n",
       " 'C2TdXU9nU1PYUzPcEeTOa5a0zZAF5WijHckC9LBNDyU=',\n",
       " 'ano2a3xQUOSRheK3Jnr8kB1cF9yfVYr5uTznVpBrATQ=',\n",
       " 'gRLOEZ0AiJ7myfFvUVNwAg46VOlnIULGVRKO9uviJnM=',\n",
       " 'pF2QUW0JsKVUCEACgUfdllQnPdV7flwj1JD/rWB+0L4=',\n",
       " 'UJNalJnbDYZeI6GeM9UpZ4Ka2dwnd99PnNMVCYk7X6I=',\n",
       " 'LtajJNvN3Tq3f2CgcGFxIAMDNJLpTn3M2VPIYCwPz5Y=',\n",
       " '2pukPSN+WjPnF2rziKjX53XyZ2HQ1R0o8Lynp8YCy5A=',\n",
       " 'jQzhnTKnbcl7N0SeIp8B11pC2XgA/VUX/3eskvKIHcs=',\n",
       " 'XFaj9Taky6eaizdZfxzSDROPQwf7mk4LQLZEuN+H3gE=',\n",
       " 'RekytOuO8xBaMh0gqrEgZYTdwnJBEVQdWQE2BTMgpVc=',\n",
       " '5hkimR1QgYWuPmqhPsLZlVb3+sPhMKSgLvj89Q1Nm6E=',\n",
       " 'qv9JvA3gAef1X3nOAlDnLCgEqR9CQiJNfDdwd1lMDbA=',\n",
       " '7mc489FhcQ4UTv98gAYhgngsgROWUY4CBwFsvrNSmn0=',\n",
       " 'xS8yxtuP30AImfqB6lD8R3ukhDVZjHfxfCp7ba+xUMk=',\n",
       " '0shcu+uAwLh48rgH7QKnZb3ZcJ51dQ78SiVzDBIT1IA=',\n",
       " 'oE/hm3WaOpjc0Z6mH+a/n+9AEtSGYoCJUSlQMLY8IxY=',\n",
       " 'D9OmeHefomtJO7Kf/371u0Kt35cpr9D2ki81fwCUxyI=',\n",
       " '0ApkSnmb0jUENw7MMGjfV9Cu/tKF4tT8ayTvD8cCzG0=',\n",
       " 'l/ld3YjhXdipF1ecILOwiTrYMdD3UFk+lGPsdniJuIU=',\n",
       " 'fxCk0yzS3oGrwBwARL8XnA14YPcWpRYQhR87gO0hdPs=',\n",
       " 'PUsR+faFyM5yuQoll6mwGhbQUYxXE9XXgSj6t2BJ1XM=',\n",
       " '14RCm+N9J2SStdx0omwMukkwhWBeH8xo7hBlXTj1HIc=',\n",
       " 'Tk1zt8aa9u5GSqHKb7JYy7oAapJ/nuIF1aDLt8z+mJ8=',\n",
       " 'XTQ+WDRgxgP6mRYk32F7vdFMVAB5IFJqaKjXnyo38e0=',\n",
       " 'I97IgJZS+shx5Yl/VmHWt9MpVL39zQn85fN9OWH/s4E=',\n",
       " '+jBnRsfmnmcXOCgYyvahIHepSpv5W6npGA+2++rFRkU=',\n",
       " 'sjxqg9/qSZEHMuP1t+Rp+FfZo417vtyIM1sW2vFGFbM=',\n",
       " 'KgxXcNmkLFIbEfODkdS4/+C1n8LNVsdHXbRiMWRs124=',\n",
       " '0EcwbX5CrGuajyF86TSZOoeI/EH/vNjRddJjvBYKKzI=',\n",
       " 'ri5jlMTc0XQfcIbZzLqQobxlY9ltxmSyAUtwr0NgD+g=',\n",
       " 'T53+793sm2oho4enKKfnocXWZidt46qt/oEKHDUamL4=',\n",
       " 'zpuHznz4/NwFaRei5vLhAAp7xsGk5wl1hDNvg25m1c0=',\n",
       " 'daW8JLymECrgE9zWapWGRU1f5zUkXfrCGkjMn+A/cAs=',\n",
       " '//s1GTUuA3+EzSCB5dJgOdlWH8npHC01GedmMDwURTg=',\n",
       " '7Zi97r77XF1IihIxjDp3CARdt45iyF2rCt4RtefAblo=',\n",
       " '53ECrpOtAleG9BkxcBgNaJUF2UbYGtRhG1rg8xiYUYU=',\n",
       " '7AVvmtKsJ9UpdjQeZ8P87yWCf2TXXMF3X8wId0GGcnU=',\n",
       " 'KNMiH38aiY312fkiDhA1oVCUp4ZRFULyZSp58tUF65Q=',\n",
       " 'kkjIEw/3Y/0j44kQ5Axxl7z2H6IaAlVtbGaEVYRUSaM=',\n",
       " '44YUeOhpJPackEGKtxwgUWuhQ5i8a5mOWOyU/rFo5i4=',\n",
       " '2BTd38EOpQM9Gya80/999WAYFzCoeGnzQo8ClAxcuHQ=',\n",
       " 'rtmIB6+b+e9kVFd+4B7EpppuZNq+CCxJJYL6QbKIGog=',\n",
       " 'm8OOnCdT4Wk7JDYnBAWvwvU9pTy/30FmwJ9kHkzmPMI=',\n",
       " 'FkVVhvl1F5AkjAPHoudwdL4OM63j5EInQLP3jWn43fo=',\n",
       " 'oo3HjlYgc2+ds4FjpBMn12jCYVixHt/WBKpipjKUMco=',\n",
       " 'Fs3yXNYAr1LF7TQ42zdoADmZuwTKfr6KKbZ6YL3qUwQ=',\n",
       " 'dJTJyDbiGlaLa/j6d/tLGg+z0L2fVfsehk4TpbQV9uo=',\n",
       " 'krROQ/lZAoi1lole8QFhww3UHXjwqwxOB/mcKftRP1s=',\n",
       " 'K+bOgEL7bE7wUNFXPxWy6xfDXgVPJ0CNKkXNPM3Kh+g=',\n",
       " 'tfjp262hwOwrOU0AHzXghj0l/EQAMeRLP9ZrB77tBZA=',\n",
       " 'xBS+jBP1+6TWL6qBwCaPMBbdfM7Mckzmx1cdnFt5Iaw=',\n",
       " 'qeRuokL7fbUAzpw22u8dBVDy5y8wsO/Ifw0nEa4/r7A=',\n",
       " 'bQJaZ+Inkl38Xw2GiEFwPa9rqJ83XSksmJcczqZ/j4o=',\n",
       " 'yKI21LXayl2wFEfCkZdCeSCgM5Ry74/umBSdDvf3H6M=',\n",
       " 'T3rJ+QlIlU9n2I9Y7b3/mIQn0ax85R4aSJslXNNQwNM=',\n",
       " 'd4wdTHEhra+CDlxyzN9qfmpzTakmpAg9FwK1hg5QNJo=',\n",
       " 'G6X2BcoLRs2ww03cU96PTVstqfZicsySiVJxRZNVv7c=',\n",
       " 'KwrI9Yrl598MIzMigDkAxxibZmbj9OfHhTw+BzdRWzo=',\n",
       " '05Eso81EH6p0XHpliR6xkt7WJoFwMYoOibE909l8IR0=',\n",
       " 'taSgjcs/zveLOzQalma+dhekzlCcuF3BSOm6croMO50=',\n",
       " 'o8MZouaNBL/xjr2b3fdnHTFPsIJ40k8kdlqllcYdnPk=',\n",
       " 'J/XS39NQI3Iu48FpUQytchQ1a4l7H5YBKysBe/rin0E=',\n",
       " 'vhcEyotwBMotcDaxspp28yY5s/VJLfdOI9MWKgJ/U0w=',\n",
       " 'HKq8GHVkR2TP5nip8m3S3YKjN+tgNp8puao/ZBMcpR4=',\n",
       " 'HwM4bs9YmQlSTvbkdFBg9HzfMY5mUfHV6Ujs0ggaXfI=',\n",
       " '19St+XklWz5bje6zp1BdGPaRIr5TNp/kQI/tJz0Gk74=',\n",
       " 'zyBMH/ZHYteU17gL5iVg+QVQVrVix/TR6dZFhemqIU4=',\n",
       " 'seHgpYPVU5gQ7lWQejPBz9jpAYdh571lP8GAwZtyL40=',\n",
       " 'gQG5ebVv8sBG60oH1QYAWuTiLmCKmhgli7Ij5VaQLmM=',\n",
       " 'fv4U90uiWLRjpO8Hl1Prskxvittj0iQ23y73SBk0jTw=',\n",
       " 'Sr+uxtywJxymUwWop4ZjFKWjNYMwTGQDT8xciWciijw=',\n",
       " 'yDK9dtIZHgQzCNYMvRUuuVStmoVHhtXTM59KapHcli4=',\n",
       " 'ZNpK1QCC+Exw36/CkRvEm2/ql/K6VEu2KtP2mdGncwk=',\n",
       " 'wn25w7Ba/B4+twt++MXWn8l1R6UYEUdTg8aorna51Ag=',\n",
       " 'ebqjhUG/OO6HgxDVH2vsBPnXa1do7kWHLKPUg6aSkik=',\n",
       " 'MYkCcNmAIXkxgkNaAjD+yCGC74qgFRNpe5aT1qOiyvY=',\n",
       " 'biRai5MmmK/6u0mt7Ofpv8am4xzGbR4sXdWzLMyhqpQ=',\n",
       " 'ojCEFL9qGYWg8dfNXT0pZq2lQ+6rRubo8+myuQg9qT8=',\n",
       " 'sazyWuhRoehh/YJF2dbJIilppEPOj91Q9LId7JmFBms=',\n",
       " 'guEHVBioMzaL8m02cNGDmSRYdtNwyIhxIouIEhHzXe0=',\n",
       " 'gpr5Mt4MeBjG0V33Rn8zYibNT1Yrbz8QpU/OKO8ocYc=',\n",
       " '0GnQFv1yY2/Zos2hqbC1o6RCPKhT/y8UftWFXCln3w8=',\n",
       " 'BlXLfPx2riWzplkTL/CkEhV3W1GDPARMHnrWtZ1KhvE=',\n",
       " 'dvvTkKIaMq388jLN8N2ZuulPzivRQolDs2onvAmvF98=',\n",
       " 'zb8r2LXQRP+VrMWtpHkyd0qBqica7iNmZtklmxGlG2Q=',\n",
       " 'xbfYKNFnLaHXVhlxHWzsBPy1f5dJvbhh1ouj9oiGI+c=',\n",
       " 'nJKyvrlkLQanizZafLkSVheE5bOl+Tp9g8ddCnq2I+c=',\n",
       " '+Hlq6iThNM0HrP4SKrL0ofYdpvfYqCLukV/QzsL0nLA=',\n",
       " 'RVHrjwvveCA9MfaxuzGdQaCW8815OG0V+pjAZXJi5/E=',\n",
       " 'MPUzT5B+u3vRmV2CTUWTgadqrh6zW5VvFZaqhfIDUc0=',\n",
       " 'jYtAI70upEippft0aQr7NbtqU+U9mBkbsI9VQL6wbKk=',\n",
       " '23V5MIlNYzCZXMusWCykVSivtLAYBhRCz4THfuIN5WQ=',\n",
       " 'YSQdRujnV0jJM4UthEDgfMBGS8URRWtJp7ySLKFBwoE=',\n",
       " 'bGfKEw1EjIlIiLXVvIK1QTqpaig3U5F5qmsw9xUdxEE=',\n",
       " 'c4u2a1V7DvJVOZPmvWOfCBCDOiF2jJSvXzHfcOARgis=',\n",
       " 'x4JmCDyvE+yJNZmuILUck3qV3aLpClbd4mUF8AvNKE4=',\n",
       " 'LmSNppotTBa8JfTMLtL1jEf8lPe2iiYh+Qb5+L308LA=',\n",
       " 'Zo64Hk2BiwOIqGzEZEsBwFsAXq/7PD64ntMLNGOcvk0=',\n",
       " '2z7hl9QHO1INC7aa2Bjo1iA8jIfdVvRPyW9FzKIstcM=',\n",
       " 'VMmgRJuIUyE205p/Td+oU4ditEqR3ZAHjZqWpQ3Jm08=',\n",
       " 'V+ACuttoRNn5aFIogvKIDoNH0Gmcu/saoP3cq+3xqCI=',\n",
       " 'xUMFVbDVARpFrFZadydxCmCfsRwP5FODYcY2zIaXJNw=',\n",
       " 'jFuhoqQXulWgFPBKB8yiUGC5d4KYORnI5tkIMC9uLZU=',\n",
       " 'jhy08FcKLotULjEZQMVkmgukJxMFTQJE4OM0VK2AmT4=',\n",
       " 'WZPFpStni/VajjgBPoTKT044upkGEPal4AOnIm8v/yU=',\n",
       " 'tQbVrQXNfbvgn57OJ+z8KvDeV962kMoHvnAa0RmI4g8=',\n",
       " 'czJydUT3vRR68bg29hzrLa28JlE64ZK4z5cnKtCUoik=',\n",
       " '34V0FSBbEYJ7VjrazWcfLx/59V7y925K5+6dNXFe4w0=',\n",
       " 'DKOA0KpQ0SdOzbMH7b2HrdUN6n1bajDgPJFTEkLa7kc=',\n",
       " 'oq0eJbrAg9EktV1suBiA4J5qx9En3V6OZ/o9tOUQwIE=',\n",
       " 'mJ+CJjglNxb9a57Fci4F4+bziDdJL1pMAVuBxZ5PrLo=',\n",
       " 'G1kJIv97ZC3PV/5uihE9LjCIlwFAQ86mcWQ81YzyXyQ=',\n",
       " 'mz6M0q11sHyeSK0riQN5a+ryyPM7Sfm+Y/uttZEf1s0=',\n",
       " 'Rv4QAJoAan8x5QfbCTX63xXKkU+8Aj6W8xTB3Hj4E5E=',\n",
       " 'o1xwmyymMAHyAyEjYNHTPBgWe2sryKW9MxNNijXDBm4=',\n",
       " 'qZo8iV+Xpyqfft3u3Yped/g8pNUoAIvvY6FyUfRXvwg=',\n",
       " 'GO19yqzyvnsponuMrb3LKGcugw1ft+pncf2tyiewc14=',\n",
       " 'rnPwBXnJuwjLrYYtLsovTJT+VTRB58uU+m7SzZwHgSk=',\n",
       " 'VHqBA6BXUIdRitVjEd3N589Nd5XsmbwFuGig/RUY8/w=',\n",
       " 'w59IlCO3JKh9+KaJUrrP05ntavBhh2s7yqKBAsvM6ck=',\n",
       " 'JxQZGXxOQ8lV650+n7U/K7EwzrzL0h8HTVz/tnqmZx4=',\n",
       " 'PirrQ5MQFsDGgk3GJ7XD9DGwsWu0wz/64Xy6n31265I=',\n",
       " 'lk9sVefJeI1FWFV1mUOoccUcJ2RnGZ6f6Tx14SXcKE4=',\n",
       " 'I7CxwFXjmr9O+BQ9R/RhrnE4I5JTBPrJgtvlQ7T7p6I=',\n",
       " 'a/ON3olSqvx68lsOvFPkp0D731Q15ScE48wxUAK4Pnk=',\n",
       " 'e2S9GIWNB/Yy2+1DER7PPP2n/bc6n/lrzlqq29QGz7k=',\n",
       " '0YsDNv8kfLqfiUNbPJdE2CViuT0yec9PolDZ2EAVUnI=',\n",
       " 'C/zdKrWdiM+x7TqUoyYF0NGGP1ly3aggyavgv0mOk68=',\n",
       " 'fl+o6QSEgY/x9F4mx7tvlUWZMz40KPTQU7R6T1xKp/c=',\n",
       " 'jlB1+dMOM+yMbEPgHq3IpjSSICKqmDjY3x6kFAEZ+aA=',\n",
       " '034Xz4aVTjRPUEqwZSgu+Dtn1M5uILl8kbhxt9AS0Sg=',\n",
       " 'qx/HvWB7DN0aSfdQUjnCQOavTGwCpnWNHSRCzaf5caY=',\n",
       " '7UMIu2qXueM06sw3clAzwJRs6pBV3UYAv/jEFjFsCsA=',\n",
       " 'lXEcAdjaqckAvh1Xe9CAFjHoO2JUnTmB4tDPNWcLSVY=',\n",
       " '7mC3HcUBcVLImn40TR5QqD/hmljpg+1owKcG3igimZg=',\n",
       " 'czjKMtzpx3bpESb7/EcXcatu6qw9ieAuSrv2olmVF0A=',\n",
       " '+NXll4rY9W/kBD8STgEjWh8KtkkMI5yJRuYmwQDJCP0=',\n",
       " 'R935V5UAFJWdKMlxFAS6VXxw4XJ704lVat0ijODp5GY=',\n",
       " 'UKm0HSXlXi//8Jc7is5BKgpjH/QJSvLHKm0opoB6AWg=',\n",
       " 'JlSE+kDwZgvytHfqRSSn+EbjTxQm0rKqK8tRw5Of4To=',\n",
       " 'sIqHAfJ2S5E3IpS8GtdlevWSrFXusQpIJJaIKRQeips=',\n",
       " 'R6kDKZ/tCqs7v/hjinBRzlbN5cV9pRnerkqC9mIoLMA=',\n",
       " 'OdTckTxiXS8UshKfgLW2PX+eMdw7kAxuN6/iWywr9Yo=',\n",
       " 'V77DyLCu9oMzVuMLINbu0pNntNp8gSz9PV+xXeTU88w=',\n",
       " 'ouGI2Q2Iaut7YNDt3UKxsmtlGv6aqM+KHK5srM9HOO4=',\n",
       " 'UTCR8kUqJx0Evdq+XUwBCBuzfykpPPSPtuO63A6M74o=',\n",
       " 'VhAxYc+ouMmqgWlldohANKiyjP1lhvHkJ+QroRs17wI=',\n",
       " '0g4yzlGbz06fv1T1lRKI0hpUvE4C9xcadqQG/rZoO44=',\n",
       " '9OQTLAqgMoge6YzeUMB4WVnK29v4AX/6cqYwOfcwyBk=',\n",
       " 'CuEkzBiq5aD5Hb+FnrzkK6S04fu+eRRXFG+MaWTBk5w=',\n",
       " 'CrIbCSLvQV8LWkKWMdeLR7Sn1gcR67IsVwz6fM6KFIM=',\n",
       " 'lFBatXow6w6O655rxCQpKoNNPPiOR4CBkEUwIFq3Y1Q=',\n",
       " 'XYBN1AZFF+DNy5Tl4vr8x/HYysHUGP2thd1G6AT9NMo=',\n",
       " 'mRAb2OTFCdMVrq3ZqRU+ARhFIAiU67+DRLLhVFqpZ+M=',\n",
       " 'bfzapJykCMmgwM2jUTPU+VzbjhJuCskT3myQUOdvuyE=',\n",
       " 'eivVXNKR1vxaoMZXIs/qoiwb3pOK40rKuTFUb44cOL8=',\n",
       " 'tBaF9gUBhQ3wE8qqX0eojyYhrTE6PjtdeQgt52VNo+w=',\n",
       " 'U6qxYC2ZFRo9w1Hg3F8D96iafbn3nw8JVzUwpuiXVwY=',\n",
       " 'srtYXzqNH5RsKuPYHFpCDs0HONKourovCeuvHqKbGNE=',\n",
       " 'oZGhRXeix+1fhxI7G99b3B4tq8043egCx6yi7B3EW0Y=',\n",
       " '02Dnmon0/6pGRWuM4L64zBakfN078ZETUiOSa2Skd8A=',\n",
       " '4fz1jFGgAvBQvyBErHRuCD42EPJun0RZrjm+B02GNjI=',\n",
       " 'Yyf/bWw0KWafKY/NMQIfnlOWHsQNYm+C5eKbkN4o6gM=',\n",
       " 'gz/jaWrDSM30SPnALY7qp4MEPnnVQxLcnjl07ti/4Qw=',\n",
       " 'ViU94A1hvWchQTChwv/B419jca4kiOBuLEs5EKLEtx8=',\n",
       " 'K/t/O/ctFGeWoT27p1TGf94a17XK2uOBxh3RvGQ4njw=',\n",
       " 'jBrx1OrvOtfAoHQ/ycUiWIhSswTZqQu51SutGqQ4PAo=',\n",
       " 'eWraNQUnMWyu2Ft6lZLmXiGtmZyq7855FPTxrDvWTYs=',\n",
       " 'y0zH4LO68BDqDK5ot4wuElaoHmfFzx4X4MZaqjIeuQk=',\n",
       " 'qN7A9OCnoj906hjgcxx4qnjfSlHjNieo80oWtBatDfk=',\n",
       " 'oduSWXM+zmqaQvlcp/UrKJ1xV/ydM61HetAlr07YPRU=',\n",
       " 'AFH04QLQubHv5q7PYFFyCy8D3r1kWkeuZ7B0RT/86rk=',\n",
       " 'WvMyzXDJMWeYag4y19RI3iUB/2tMnOHLp30537YUrZw=',\n",
       " 'FGSOx4SQI7R8Uak7Fj5io9U3UH3CJYBWQXOh9SkyTFg=',\n",
       " '7S+IWGuRZYY49GvP4amI5VQ3V20Mz5C5+ZxWvv3oLMI=',\n",
       " 'gCWPY9KT95cWYE+lQEnQx45l1JLKbZ6gk9ahn/Uz4sc=',\n",
       " '1qCDlAUgmifXtEg3c44elsZNbF7iNQHYXV847mIn9wU=',\n",
       " 'YfQ5EnmcY2d5qzWmuFWieflft6HA3Ef2/qbuB2p2jxQ=',\n",
       " 'hngNTDWPZkxmMUCtc37NuJj2/ltF5Rtq2rQncOTZsQE=',\n",
       " 'FzJiUnSjJ3uRn0MVi2RzUn4vGjf9Atz66e5Dx44HdEw=',\n",
       " 'eob54+2a8mtQBWvE4+PB1gJhGKUb71+4I/3mz3Fw7Fg=',\n",
       " 'UXT66hIcY1DrtmN8vWbIzCPmGJ+zXp55NvoNTRbpBJY=',\n",
       " 'CbESCfXK8x/niFDUE7lRIrN4+4+/RZ9pZkRphOqrUG0=',\n",
       " 'CDYiWtmsCYmVGYPb+FJGXA5lJXPPzxVWTdOXrba3yi4=',\n",
       " 'T6MiNARt1vBBSz1BR/PXiNU2scm8uBQqYBH+RKcDayk=',\n",
       " 'sLM4DV2rQXyygNm7Pmg5EAwj4Sm+3qoCgWA1YpWJqD4=',\n",
       " 'Jk3cFehC8kdp8lmuUB7cJVsNVxV1bl451cSANtcqXBg=',\n",
       " 'TEmiET+BJbxNnYOJCShJQa8PRbYqyMgJKEZDCRA/quw=',\n",
       " 'ZFJBnuJsVtO02qrQXA2c9c7Sxyodx4C3VoWjPXyOTBk=',\n",
       " 'IeehXRpPr1CSNDnVn45h8GwCIQaOiMG3+VGhIr7GraM=',\n",
       " 'Diil5/xjlnLow1r2vFDp/4dp7FfS1ck4fGRtpQO/tzM=',\n",
       " 'LlGyQKFlOeAthWZw3ppyZjltkEOlW8myGxU7TmAfLGw=',\n",
       " 'nRJJxuoKBgzES9Iydp98U2sy43FDVGUs7HrguLcmWQk=',\n",
       " 'LdHDm08c7jC3Tx8uq7OUu+4rJyde8oDjeMewUjRVQRM=',\n",
       " 'y0jiBllkMwLRxGSKD1LpXdgqUGGGjVCotngG41v/U3w=',\n",
       " 'LYQajV9TV/XQPnunn2cJD+RTYOPlEPh88mlGPoGwKMY=',\n",
       " 'KVmDY6SmHrqpS40QyyIyTL9H/8JUtdMmxWVLE23UO68=',\n",
       " 'gQTPDCkEPy+n+XU0mhH8MvJeJ6uXZY0YTz0uB5Nmt+U=',\n",
       " '2/EHtQbiseXtzQ9w0lwvV1k5weImBQHJJVn7ZR4SqN4=',\n",
       " 'hKorVR0UQLVfBKLKyGLgTYNxxZ9EPyp8kRXuc32efas=',\n",
       " 'Ok55QoH8cm97elLc3ggHGqjX1CnnNoV2QHJQyqDlkBY=',\n",
       " 'NvRQLVVKVoTwBbx2s1MMAIy3juq2eIyJm4RBjM3kW1U=',\n",
       " 'A+A3FKqegQ7b/vdm1HVY31ew9FyV2UgGJbN2pcR84aU=',\n",
       " 'XdINQTBtOPdLgQKHcuDWrXMMhPt55Ywz6MKdQUmmQhc=',\n",
       " '0iEJJXNgB5odxkMDqh33ZQXD6dCdKLDSnV6Glu9wOYA=',\n",
       " '2vD6ImymH9DMo2O3WfkK6MM64G1zeN/GsMfnEG7aeFU=',\n",
       " 'c7jTlS6uv/bW1eJFSoHbKDPZKcG2t2YsMxseWjJWY/g=',\n",
       " '6W6ZfURTvSxn5RUIk0fL2ffwMe0mVSgVw5715+qbZ9s=',\n",
       " 'SUSwGO3HvZro8u8NCnkE82HjS/Tt0tjo4m8K6kxRTiA=',\n",
       " 'iAn5ZZ3c1vuLaZoM4mNjEuMMBYNHyn6OyL9N8eYgAKw=',\n",
       " '8V5XsVvg/P2gQ2sfVI6Y9znMaaJgPylA/lH+5cZljGQ=',\n",
       " 'PszmlgVVDWhxK2DMdZK3AuxYB3BkGzQwAIDnMtu+h9w=',\n",
       " 'aRA38syPhF5CsWkLl0O9jrMAszA1L6zvUhDSMgz+AB4=',\n",
       " 'TNR/Fym9/TfCJwuECv2Kh9YIT8/UZZqWiKyjy6Ct9sk=',\n",
       " 'JS6ekt9jJRWE0cWgxC4OQuxbwAwZv1yfyJZWTt5CGLg=',\n",
       " 'nY5tahqPyAXvQy5JmuInlhCvd057d+pU0ph0QlaLEWo=',\n",
       " 'm4PNJeMQtrwMYZZcc3xkKawsHjlRYEYeOR/eV4k+NrE=',\n",
       " 'pkNL3Yka9hoWRpSQtjMYajc2kID2OiuyZ7TeDzYBtsA=',\n",
       " 'p0wReidCQ+taWAnCWTplujDgovSFUEcXsR+aK/iYU3M=',\n",
       " 'ImHkXAdAKDcAptG3JbsZE6I4aM9Jywjl53YiaF/SNM4=',\n",
       " 'eIw0XqcqkeeHVAtNTe3nJvTulD6v/O1GC4lx5aKfLhg=',\n",
       " '8h2evnlVW37+/g6PR4qUsA0dJtCWWeccFejv7bPK/yc=',\n",
       " 'FiQmRE0r1zzQW/c1DlwazAZEB1ORu7oNarRQ5gTIdnQ=',\n",
       " 'Zb1GQYijFqZOFE0Rb95YaNCmWtg+ZmVXA3xm9ipth6o=',\n",
       " 'rrPoOujZ2w+qs2xUyOTQGiaiPF0XPf60CnOzhXSdlu4=',\n",
       " 'TuKgVjvVZnU74gw8l4OgFPamZ69Zsaj8BX7sr5dJDos=',\n",
       " 'JYxV7gDgM+U88XsB0vMcgmoBXUtA858cvWBy7A+uxpA=',\n",
       " 'Bum+wxmuRJSD1/4mfwH4wHIsEWFnmMz/06vxX/1cJuI=',\n",
       " 'Stpdsb9UDatWMUo7RgG2SkJs7TWywutePJI46Dzw5pI=',\n",
       " 'GR1KMBFlPrAbL5F/O9VvBZm6J3d/Z13TEekfbYW/OXo=',\n",
       " 'h8DRGzeXzWsunju+oV6bq+fg9kP7UL1MZTv+VhqB1sk=',\n",
       " 'bAEnknTThYzp9K7u/kEV3TG0HR64tKM7xZD9JCLoY9c=',\n",
       " '152X1AAUbtVnwYiTNSoDOmdmm2me0+QqNdJfx0ZV+eI=',\n",
       " 'E3XVP9ZrJeYMX5x+evEHe23sgJhlasv8wNXborj3MPY=',\n",
       " 'E5NICjD2/YYIONf2LC57/1mPJxUR9TGmJS69919lncc=',\n",
       " '26eCJdvKYnWZE0TcpbxM8LVaTcpzUh9JvGhR+3TU3vU=',\n",
       " 'gDYvYXYeTd0JU+yWj3EzQ6xpRke1fovIdCCK10P5M2c=',\n",
       " 'DPlZCsoxFe4VNXcJ8Lf+pR7CCgX0yxqqcdcGTcvkPhg=',\n",
       " 'ItLff9KPTaNJrwx+MUhMJ97uy7Dd5ofWvElQGEHUqQc=',\n",
       " '2IMLe0WbUxsiPQDFUUcWgOUU19IP7hl/n4pzYm+d2do=',\n",
       " 'oHCikxc+0uJ5q4SbSgErMDWas3lnIySf94oUc2dDQ2c=',\n",
       " 'r9hCRPKh5hUxxv26jwwEfGnLgufpju6szuL0ZWBuaac=',\n",
       " '+CofzD2zKo+H6d9epIfHxV4PH3TAD4U4xLySZI7k5jY=',\n",
       " 'MWq2f/92c4UzH4vOZm+3ZcQT9JiT0qxxuVdpoOBHbhE=',\n",
       " 'V3u3rlu+VBYEYpso7OWfMpaAHnud2AhTLMGLC8dSPdk=',\n",
       " 'R0p4rYDXr5sNaW7FBAER1RfTda1gkWVW9RzDXb8xH0E=',\n",
       " 'uUO/bQ47/3/Bv1HSsF3BFoJ2txK0M+OxfdFhviabUuo=',\n",
       " 'JOq/nXVTbgHc0sfhCWTdRforiYC7C1aSxvXj+2lUCV8=',\n",
       " 'Fa9yskcu2dkF0XY+c9Xk9f0iT66kzFCSksp4wOoawEY=',\n",
       " 'YBEZSvwbfrH624mDIDmsqCUnCwHdHnvDDOr5xWPdRG0=',\n",
       " 'ShcK28ITqqjWugWaDdxDWixREaCwDVqPF3EF+oFD4rk=',\n",
       " 'esaIaNjuv74v+OSj7GJEvmyZqXR76bNEN+pKj20tzS4=',\n",
       " 'C9AIUAAyk/JB2jhS2tYmXTjO2RrIp5LEwX/Hmhnf17c=',\n",
       " 'Zw602Hdy4Ffc90dMoOkMbupDQr/VjBiRJivyDMsnx28=',\n",
       " '4nltjf2k7+lEFNMSJ5d44pxyNdyCiN6oVM8FQ+9esX4=',\n",
       " 'aJcYS9ulhB3QIznupE+dkaWTyg9/9F3gcVDmQphJOkE=',\n",
       " '1deldZbDp0tV+YQn2xeNSXjmbUp6Xs+RsNLbhtycw/k=',\n",
       " 'eGUlPZx8gunN+tvt9p5wpIdf6stPaPjsCxZFkEz7wnc=',\n",
       " '6AHXj9EXLoYhYW2jw8fEWHdh283t52MIQSvzDtry9PA=',\n",
       " '8meSdgYkS4YgB997WYTJ4ryrXLuHMHkZEKOOaskKcGw=',\n",
       " 'cC1vj+4m4Mk2WPI55S+XOYn0d87OwOGgo55fYnd/AjI=',\n",
       " 'S4QuyDNkPJ/sStJu063fYZS3kpMg/fGwNvqOgZJko7w=',\n",
       " 'fzE3ouyU3zDtHraQsjUdYhivKRmr7GeDYQskonPno4k=',\n",
       " 'lYon1fqDUxOEAPmMZLlkfpjajqLHwPHit6lZLWvugeo=',\n",
       " 'NfWLm6mNxdBrmJ1Mkrw969VwaHh7ujnWPfRkivhq38s=',\n",
       " '5HSUmmH0is82hxRlilGlELOMjStrHAeHP81z+3ElzcE=',\n",
       " 'UpvXW/5GxBTZsvspW/3ATJ0NjAzWPZ7LlE1Sjm/j5Qk=',\n",
       " 'lMYV77DSoIDg/YJancq5RcUSc88GyvKBtZu5Zy8AMeo=',\n",
       " 'ypanH0kCum72Ar4VzY46vIcUUHsl2M1Xl8XATTMxhHQ=',\n",
       " 'kKdoxRwGsmB591dV1SHvNdEzdSImhBVcfJh8c2lZkx4=',\n",
       " 'C4nt4BRs967YPwhW9uerxJr4qG5lQqDxCa0I8QZaJ+w=',\n",
       " 'PTGNLBEqEEi36535YuK3WqCt754iSsu2eUzH3ozNApU=',\n",
       " 'p25Ci/Oq0iOOyPpHfJ1/va1WouF3maYRRDqR0JuL4q8=',\n",
       " 'HfGlNxKU2Ft5UL0h/DGtNeubl+s85vBg1Uv3CZBNx90=',\n",
       " 'voTwqolDpuByhwySCQs0fJvqZ0yVnvkEwRKBLEwwjpM=',\n",
       " 'B4e5QCzXKCRe8d7Fj89mqebVWiV4XMyKWUqkGOwiq3Q=',\n",
       " 'r3vpGZTzkvU8okJPHL7qntpadfpNiMXWOCB4UG8sWvo=',\n",
       " '4W6zbxMcs38JYuLNfGlevVN+GRZNihuzak/E1xDQX1Y=',\n",
       " 'Yq0dRNdcN+EzPxoiJbivDoFFeDhtzDVX7rC7vS9j2eM=',\n",
       " 'S0CnaDfi1ZSahaG7U4CTFNKXPU0D6ICB5BkL4kyz5Bg=',\n",
       " 'gq4ruaJ5E64ENqnalltSLQX279Z/ELkPjG1PshDnTg4=',\n",
       " 'JY/XDWtnTDnh0MySOZziwSsBbvsSWs3H56s4CBhE6Dk=',\n",
       " 'zDMQlRK7BPby50SmwjUc8Pt8tWZNkAW4EtaZ3zjMWTc=',\n",
       " '72Vtihmh33OqPabiERY7SkdbosQqI7GpQ7Ms9iesDdw=',\n",
       " 'Z4JKYj+kxJjpyeapeHMO6lK4VPY+M1vmPBYQMvF1eJI=',\n",
       " 'T/oxizbw/oiivkvzwvIQEMdgWDLkZSR7pgN3dPAY8j8=',\n",
       " 'L8vbHhBzQDDIJ8OkFADuWVgA+rxgKw7oeVHSlA9u8lo=',\n",
       " '4Eh5ysfUhZ61/RXtzJB0C/ue/0rpcW6aaele/nY5gMg=',\n",
       " '+aH8q1S3dn9ecmaY+7YCgJxMB4GNvmwiNTqLruRGUoc=',\n",
       " 'YPhazvKvlYRPqWvU8Hzi4eRW8bxQWEDDnpMmVwWs46w=',\n",
       " 'bJyjbxJahnr3O8A+TG4PMtN2uYeXD5fn3cuGUoyKcEw=',\n",
       " '45oRyX+j2RbaArAIX/NoxpWYW+tQbLVzEWkBpGMpZWU=',\n",
       " 'U9ks+zBy1xwg46tr1aiILcmaAsxhuezf90nDdBQBTuk=',\n",
       " 'bF/neNM+wd0vAY3nSySh1JwEtyvH4nuid683yUt+yFM=',\n",
       " 'eQT+Ax8sT7i4BNpSLirAK3m35OAICB3Ahy+j8ble4Lw=',\n",
       " 'U6Kpa7djE+hSEVFXyJi1PLgn38xuNhCcpUYkcQD6Ybk=',\n",
       " 'em5MDodpBrU0rosTjMxsCJi99WTcNeejKw4WLSRz3p8=',\n",
       " 'Jnqt4OZ1LXxw094I8t4obmsi2uB40TC8fp9G+CmzCyQ=',\n",
       " 'f9OAw/cemiBgGWN5OpOZBIvYB6/SqdtdX0lvTvmGuFI=',\n",
       " 'FzxMWsgcXB+N1PE0lY+En+7Beot2Bge/L5gsU2rmwSw=',\n",
       " '34E2P9aFBUCTJWeY1u+OW6dko9Uk/PNtZPOWbYI3l90=',\n",
       " '4UpoqWUWQuLiliWqKLo5YfqBnmLw6AjlgWNWGIlWch0=',\n",
       " 'LOv03O2rYqfGoYB91HAQD69ir8RxwcrYRMW8jBvHyyo=',\n",
       " 'rGSmgua6IrOozeah6ap3UfX9WxRcsCi/T5C5p8px3Vk=',\n",
       " 'WkE7lk3QchtfFlBoEF+4KtOMfRCxOXMAAGL/V2WXBTc=',\n",
       " '3U2ZWVTd+M8VJUxEMlGx8Jiy07UTueqg7WvBF+p6MH0=',\n",
       " 'QA9o2QfgaoYJriSDG1VicS64ir8NKvmMgyBWQJGMBdM=',\n",
       " 'ZnZIoeY+cdz1Kn5wEmxj6JOwLYnn45XqI/81FEaP9rc=',\n",
       " 'UWJ7Gp45nBKSa9SwRw348RU/dUtXmk/ZDaJ6azv/eGM=',\n",
       " '+C8uxyf4r0fwcsB+/t67ZuvRn0ZSuYRGooSgbZuy6o8=',\n",
       " 'u7+aHqyIChkNFbubwX3/zg4fkQYbIns//j95flefYuk=',\n",
       " 'pbfrdVeVieTVLl3fMXlVN4TPe2fs4NnMVnHpPAgBPWA=',\n",
       " 'gyiMDIG0dRjdEKLs4vRBgfkmg/1z32mwENBeI8kFCpU=',\n",
       " 'p4+5onL90BvfJ4GMo42rY/6DHekd6Jy52lSyjoOi3bM=',\n",
       " 'OKdnnMPVvLOJrZwSxr1JzKCoysTrscXISwkemmD1QVk=',\n",
       " 'L49a3JKLlSoHocbABVZ0yR1c/MRIOKb1hjWk2asBrhQ=',\n",
       " 'rmBC8d9D4cuHlH9w6t9rwdaNyviTmupqguCvehwG5LE=',\n",
       " 'xszGoJCU8EbycfqyPCkUvL0OXBrrwvH9zRNLIpoogNU=',\n",
       " 'Cr1Zr8XLMfQg2mSxQ5CtqUVcjCDgSUF6H5V+j7/0PXg=',\n",
       " '7pwNj5DFrKXp6RaJqoLkX9GJFJsC195ugrSGT5jucRQ=',\n",
       " 'j3BMK+JU9OEzFNsBW2nhe3yuzhofyRHbobs0kueg/yI=',\n",
       " 'WAc9ORfRMLC73+X9pcK505NdBoT2rFJ2emtFhxLrnuc=',\n",
       " 'qiVK2EF6v6ah+t2k24gl1IULP9HZ6aS4C43xgXdpX94=',\n",
       " 'QR1o40xaAPjloHrvZm/kQzHiihEVnwVhDmsAVOz9W7s=',\n",
       " '3XXbB5LzOGIu6KU85xJaxjRN8qG1B+kKXhUDilipm4E=',\n",
       " 'al8qzh4TAFAfCD2KNn5k9m3ldyniOzbR8d4hVWZIl+I=',\n",
       " '9s+SZvqP8+Ab1mDGBDZHomuODFnq2nKeiI4BA6Bi+gE=',\n",
       " 'OD21Y+ag4swSxL9VHK0fPdTI2nAGL6Gbi95v8aM6bcY=',\n",
       " 'OrNHWSrZ3RD5QElDS5pedSXu2WgSyN1zmX2qfWCKpHY=',\n",
       " 'jNSONbX176Sf+BmtUxX127biZbPQUBb2AGXcic8QJ5Q=',\n",
       " 'Wdo+8nILQzx5L6DwlnyTxtDZy/GBnZVS6UbJgOt0RUY=',\n",
       " 'dkf8G0BimRhfpSR+tLYpJ7ZY5kBodvA7rok+nG1G7bE=',\n",
       " '6d+tpyPKQyMs/t7KYyg3/lY+blojMbYpqdplo0jgyLY=',\n",
       " '6fA8hemh9MBdwwnz9LakRQXA76DS8u/ldODmIdIILkY=',\n",
       " 'GCQb5T2FyzxrKBUflFkvKznWdBBNEY3u2TckynseRTg=',\n",
       " 'j9tYg2BV11ZvXP2AOkygF5d2sRAIZdikLIXi4pCWb3I=',\n",
       " 'UgpE99eEh+hspGnYMe3R9e7NMcwwiMzBoSBG3UOJ04c=',\n",
       " 'rd5B9qq+yToAP1SjbilgVXz4ir4KYLjXdkBolEoe48Y=',\n",
       " 'NMJ2UkKHXvKcAsMBzYlVM9jpjBH9ggiI4480sYmN4Js=',\n",
       " 'zOlljYeo62Op2RNatEpkfyg1ZuI2ANOtSfYoqhSVK6c=',\n",
       " ...}"
      ]
     },
     "execution_count": 11,
     "metadata": {},
     "output_type": "execute_result"
    }
   ],
   "source": [
    "users"
   ]
  },
  {
   "cell_type": "markdown",
   "metadata": {},
   "source": [
    "##### 2. Are All this Entries Unique"
   ]
  },
  {
   "cell_type": "code",
   "execution_count": 12,
   "metadata": {},
   "outputs": [
    {
     "data": {
      "text/plain": [
       "992931"
      ]
     },
     "execution_count": 12,
     "metadata": {},
     "output_type": "execute_result"
    }
   ],
   "source": [
    "len(users)"
   ]
  },
  {
   "cell_type": "code",
   "execution_count": 13,
   "metadata": {},
   "outputs": [
    {
     "data": {
      "text/plain": [
       "(992931, 2)"
      ]
     },
     "execution_count": 13,
     "metadata": {},
     "output_type": "execute_result"
    }
   ],
   "source": [
    "df_train.shape"
   ]
  },
  {
   "cell_type": "code",
   "execution_count": 15,
   "metadata": {},
   "outputs": [],
   "source": [
    "del users"
   ]
  },
  {
   "cell_type": "markdown",
   "metadata": {},
   "source": [
    "##### Answer - Yes"
   ]
  },
  {
   "cell_type": "markdown",
   "metadata": {},
   "source": [
    "#### 3. How many Churn and Non Churn Users are there in My Dataset"
   ]
  },
  {
   "cell_type": "code",
   "execution_count": 14,
   "metadata": {},
   "outputs": [
    {
     "data": {
      "text/plain": [
       "0    929460\n",
       "1     63471\n",
       "Name: is_churn, dtype: int64"
      ]
     },
     "execution_count": 14,
     "metadata": {},
     "output_type": "execute_result"
    }
   ],
   "source": [
    "df_train['is_churn'].value_counts()"
   ]
  },
  {
   "cell_type": "markdown",
   "metadata": {},
   "source": [
    "#### Answer -- > There are Roughly 9 Lakhs 29 Thousand Non Churn Users and 63 Thousand Churned Users"
   ]
  },
  {
   "cell_type": "markdown",
   "metadata": {},
   "source": [
    "#### 4. What is The Percentage Of Imbalance"
   ]
  },
  {
   "cell_type": "code",
   "execution_count": 16,
   "metadata": {},
   "outputs": [
    {
     "name": "stdout",
     "output_type": "stream",
     "text": [
      "Percent of Non Churned Users are 93.60771292265021\n",
      "Percent of Churned Users are 6.392287077349786\n"
     ]
    }
   ],
   "source": [
    "percent_of_non_churn = 929460/(929460+63471)\n",
    "print(\"Percent of Non Churned Users are\", percent_of_non_churn *100)\n",
    "percent_of_churn = 63471/(929460+63471)\n",
    "print(\"Percent of Churned Users are\", percent_of_churn *100)\n"
   ]
  },
  {
   "cell_type": "markdown",
   "metadata": {},
   "source": [
    "##### We can See that Dataset is Severly Imbalance Hence it is a Challenging Problem to Work On"
   ]
  },
  {
   "cell_type": "markdown",
   "metadata": {},
   "source": [
    "### Let's Go On With Transactions.csv"
   ]
  },
  {
   "cell_type": "code",
   "execution_count": 2,
   "metadata": {},
   "outputs": [],
   "source": [
    "#df_transactions = pd.read_csv(\"transactions.csv\",chunksize=10000)\n",
    "#df_transactions.head()"
   ]
  },
  {
   "cell_type": "code",
   "execution_count": 3,
   "metadata": {},
   "outputs": [
    {
     "ename": "AttributeError",
     "evalue": "'TextFileReader' object has no attribute 'head'",
     "output_type": "error",
     "traceback": [
      "\u001b[1;31m---------------------------------------------------------------------------\u001b[0m",
      "\u001b[1;31mAttributeError\u001b[0m                            Traceback (most recent call last)",
      "\u001b[1;32m<ipython-input-3-0b311e4326de>\u001b[0m in \u001b[0;36m<module>\u001b[1;34m()\u001b[0m\n\u001b[1;32m----> 1\u001b[1;33m \u001b[0mdf_transactions\u001b[0m\u001b[1;33m.\u001b[0m\u001b[0mhead\u001b[0m\u001b[1;33m(\u001b[0m\u001b[1;33m)\u001b[0m\u001b[1;33m\u001b[0m\u001b[0m\n\u001b[0m",
      "\u001b[1;31mAttributeError\u001b[0m: 'TextFileReader' object has no attribute 'head'"
     ]
    }
   ],
   "source": [
    "df_transactions.head()"
   ]
  },
  {
   "cell_type": "code",
   "execution_count": 13,
   "metadata": {},
   "outputs": [],
   "source": [
    "del df_transcations "
   ]
  },
  {
   "cell_type": "code",
   "execution_count": 2,
   "metadata": {},
   "outputs": [],
   "source": [
    "import dask.dataframe as dd\n"
   ]
  },
  {
   "cell_type": "code",
   "execution_count": 3,
   "metadata": {},
   "outputs": [],
   "source": [
    "df_transactions = dd.read_csv(\"transactions.csv\" ,parse_dates = ['transaction_date', 'membership_expire_date'])"
   ]
  },
  {
   "cell_type": "code",
   "execution_count": 4,
   "metadata": {},
   "outputs": [
    {
     "data": {
      "text/html": [
       "<div>\n",
       "<style scoped>\n",
       "    .dataframe tbody tr th:only-of-type {\n",
       "        vertical-align: middle;\n",
       "    }\n",
       "\n",
       "    .dataframe tbody tr th {\n",
       "        vertical-align: top;\n",
       "    }\n",
       "\n",
       "    .dataframe thead th {\n",
       "        text-align: right;\n",
       "    }\n",
       "</style>\n",
       "<table border=\"1\" class=\"dataframe\">\n",
       "  <thead>\n",
       "    <tr style=\"text-align: right;\">\n",
       "      <th></th>\n",
       "      <th>msno</th>\n",
       "      <th>payment_method_id</th>\n",
       "      <th>payment_plan_days</th>\n",
       "      <th>plan_list_price</th>\n",
       "      <th>actual_amount_paid</th>\n",
       "      <th>is_auto_renew</th>\n",
       "      <th>transaction_date</th>\n",
       "      <th>membership_expire_date</th>\n",
       "      <th>is_cancel</th>\n",
       "    </tr>\n",
       "  </thead>\n",
       "  <tbody>\n",
       "    <tr>\n",
       "      <th>0</th>\n",
       "      <td>YyO+tlZtAXYXoZhNr3Vg3+dfVQvrBVGO8j1mfqe4ZHc=</td>\n",
       "      <td>41</td>\n",
       "      <td>30</td>\n",
       "      <td>129</td>\n",
       "      <td>129</td>\n",
       "      <td>1</td>\n",
       "      <td>2015-09-30</td>\n",
       "      <td>2015-11-01</td>\n",
       "      <td>0</td>\n",
       "    </tr>\n",
       "    <tr>\n",
       "      <th>1</th>\n",
       "      <td>AZtu6Wl0gPojrEQYB8Q3vBSmE2wnZ3hi1FbK1rQQ0A4=</td>\n",
       "      <td>41</td>\n",
       "      <td>30</td>\n",
       "      <td>149</td>\n",
       "      <td>149</td>\n",
       "      <td>1</td>\n",
       "      <td>2015-09-30</td>\n",
       "      <td>2015-10-31</td>\n",
       "      <td>0</td>\n",
       "    </tr>\n",
       "    <tr>\n",
       "      <th>2</th>\n",
       "      <td>UkDFI97Qb6+s2LWcijVVv4rMAsORbVDT2wNXF0aVbns=</td>\n",
       "      <td>41</td>\n",
       "      <td>30</td>\n",
       "      <td>129</td>\n",
       "      <td>129</td>\n",
       "      <td>1</td>\n",
       "      <td>2015-09-30</td>\n",
       "      <td>2016-04-27</td>\n",
       "      <td>0</td>\n",
       "    </tr>\n",
       "    <tr>\n",
       "      <th>3</th>\n",
       "      <td>M1C56ijxozNaGD0t2h68PnH2xtx5iO5iR2MVYQB6nBI=</td>\n",
       "      <td>39</td>\n",
       "      <td>30</td>\n",
       "      <td>149</td>\n",
       "      <td>149</td>\n",
       "      <td>1</td>\n",
       "      <td>2015-09-30</td>\n",
       "      <td>2015-11-28</td>\n",
       "      <td>0</td>\n",
       "    </tr>\n",
       "    <tr>\n",
       "      <th>4</th>\n",
       "      <td>yvj6zyBUaqdbUQSrKsrZ+xNDVM62knauSZJzakS9OW4=</td>\n",
       "      <td>39</td>\n",
       "      <td>30</td>\n",
       "      <td>149</td>\n",
       "      <td>149</td>\n",
       "      <td>1</td>\n",
       "      <td>2015-09-30</td>\n",
       "      <td>2015-11-21</td>\n",
       "      <td>0</td>\n",
       "    </tr>\n",
       "  </tbody>\n",
       "</table>\n",
       "</div>"
      ],
      "text/plain": [
       "                                           msno  payment_method_id  \\\n",
       "0  YyO+tlZtAXYXoZhNr3Vg3+dfVQvrBVGO8j1mfqe4ZHc=                 41   \n",
       "1  AZtu6Wl0gPojrEQYB8Q3vBSmE2wnZ3hi1FbK1rQQ0A4=                 41   \n",
       "2  UkDFI97Qb6+s2LWcijVVv4rMAsORbVDT2wNXF0aVbns=                 41   \n",
       "3  M1C56ijxozNaGD0t2h68PnH2xtx5iO5iR2MVYQB6nBI=                 39   \n",
       "4  yvj6zyBUaqdbUQSrKsrZ+xNDVM62knauSZJzakS9OW4=                 39   \n",
       "\n",
       "   payment_plan_days  plan_list_price  actual_amount_paid  is_auto_renew  \\\n",
       "0                 30              129                 129              1   \n",
       "1                 30              149                 149              1   \n",
       "2                 30              129                 129              1   \n",
       "3                 30              149                 149              1   \n",
       "4                 30              149                 149              1   \n",
       "\n",
       "  transaction_date membership_expire_date  is_cancel  \n",
       "0       2015-09-30             2015-11-01          0  \n",
       "1       2015-09-30             2015-10-31          0  \n",
       "2       2015-09-30             2016-04-27          0  \n",
       "3       2015-09-30             2015-11-28          0  \n",
       "4       2015-09-30             2015-11-21          0  "
      ]
     },
     "execution_count": 4,
     "metadata": {},
     "output_type": "execute_result"
    }
   ],
   "source": [
    "df_transactions.head()"
   ]
  },
  {
   "cell_type": "markdown",
   "metadata": {},
   "source": [
    "#### How Many User Activities are there in total ?\n"
   ]
  },
  {
   "cell_type": "code",
   "execution_count": 18,
   "metadata": {},
   "outputs": [
    {
     "data": {
      "text/plain": [
       "21547746"
      ]
     },
     "execution_count": 18,
     "metadata": {},
     "output_type": "execute_result"
    }
   ],
   "source": [
    "len(df_transactions)"
   ]
  },
  {
   "cell_type": "markdown",
   "metadata": {},
   "source": [
    "#### Answer : We have Nearly 2 Crores and 15 Lakhs of User Activities Phew ! Thats Lot of Data"
   ]
  },
  {
   "cell_type": "markdown",
   "metadata": {},
   "source": [
    "#### What are Unique Number of Users ?"
   ]
  },
  {
   "cell_type": "code",
   "execution_count": 20,
   "metadata": {},
   "outputs": [
    {
     "data": {
      "text/plain": [
       "2363626"
      ]
     },
     "execution_count": 20,
     "metadata": {},
     "output_type": "execute_result"
    }
   ],
   "source": [
    "len(df_transactions['msno'].unique()) \n"
   ]
  },
  {
   "cell_type": "markdown",
   "metadata": {},
   "source": [
    "#### There are Nearly 23 Lakhs of Unique User Activities , There Might Be Some New Users which are Not in df_train which are collected by writing scala script and Hence Some Users Might be Missed out this might be one reason"
   ]
  },
  {
   "cell_type": "code",
   "execution_count": 21,
   "metadata": {},
   "outputs": [],
   "source": [
    "### Lets Do Some Aggreate analysis"
   ]
  },
  {
   "cell_type": "code",
   "execution_count": 22,
   "metadata": {},
   "outputs": [
    {
     "data": {
      "text/plain": [
       "Index(['msno', 'payment_method_id', 'payment_plan_days', 'plan_list_price',\n",
       "       'actual_amount_paid', 'is_auto_renew', 'transaction_date',\n",
       "       'membership_expire_date', 'is_cancel'],\n",
       "      dtype='object')"
      ]
     },
     "execution_count": 22,
     "metadata": {},
     "output_type": "execute_result"
    }
   ],
   "source": [
    "df_transactions.columns"
   ]
  },
  {
   "cell_type": "markdown",
   "metadata": {},
   "source": [
    "#### What are Number of Users who have actively cancelled theirs subscriptions ?\n"
   ]
  },
  {
   "cell_type": "code",
   "execution_count": 29,
   "metadata": {},
   "outputs": [
    {
     "data": {
      "text/plain": [
       "<matplotlib.axes._subplots.AxesSubplot at 0x13d2a7161d0>"
      ]
     },
     "execution_count": 29,
     "metadata": {},
     "output_type": "execute_result"
    },
    {
     "data": {
      "image/png": "[encoded data removed]",
      "text/plain": [
       "<Figure size 432x288 with 1 Axes>"
      ]
     },
     "metadata": {},
     "output_type": "display_data"
    }
   ],
   "source": [
    "#https://stackoverflow.com/questions/46680494/dask-dataframe-count-values\n",
    "df_transactions.is_cancel.value_counts().compute().plot(kind='bar')\n"
   ]
  },
  {
   "cell_type": "code",
   "execution_count": 30,
   "metadata": {},
   "outputs": [
    {
     "data": {
      "text/plain": [
       "0    20690895\n",
       "1      856851\n",
       "Name: is_cancel, dtype: int64"
      ]
     },
     "execution_count": 30,
     "metadata": {},
     "output_type": "execute_result"
    }
   ],
   "source": [
    "# We need to have compute otherwise just a pandas series will be returned\n",
    "df_transactions.is_cancel.value_counts().compute()"
   ]
  },
  {
   "cell_type": "markdown",
   "metadata": {},
   "source": [
    "#### Answer: There are 2 Crores 6 Lakhs People's Activities Who have not cancelled there susbcription and roughly 8 Lakh Users activities where susbcription was cancelled"
   ]
  },
  {
   "cell_type": "markdown",
   "metadata": {},
   "source": [
    "#### How Many People Auto Renew Their Subscriptions ?"
   ]
  },
  {
   "cell_type": "code",
   "execution_count": 31,
   "metadata": {},
   "outputs": [
    {
     "data": {
      "text/plain": [
       "1    18357950\n",
       "0     3189796\n",
       "Name: is_auto_renew, dtype: int64"
      ]
     },
     "execution_count": 31,
     "metadata": {},
     "output_type": "execute_result"
    }
   ],
   "source": [
    "df_transactions.is_auto_renew.value_counts().compute()"
   ]
  },
  {
   "cell_type": "markdown",
   "metadata": {},
   "source": [
    "#### Roughly 1 Crore 8 Lakh Users Auto Renew Their Subscription and Users Don't Auto Renew Their Subscription are 31 lakhs Roughly"
   ]
  },
  {
   "cell_type": "markdown",
   "metadata": {},
   "source": [
    "#### Lets Plot Histograms , Pdf and Cdf of Some Statistics\n"
   ]
  },
  {
   "cell_type": "code",
   "execution_count": 45,
   "metadata": {},
   "outputs": [
    {
     "ename": "AttributeError",
     "evalue": "'Series' object has no attribute 'to_dask_array'",
     "output_type": "error",
     "traceback": [
      "\u001b[1;31m---------------------------------------------------------------------------\u001b[0m",
      "\u001b[1;31mAttributeError\u001b[0m                            Traceback (most recent call last)",
      "\u001b[1;32m<ipython-input-45-9ba9c3567ca8>\u001b[0m in \u001b[0;36m<module>\u001b[1;34m()\u001b[0m\n\u001b[1;32m----> 1\u001b[1;33m \u001b[0mdf_transactions\u001b[0m\u001b[1;33m[\u001b[0m\u001b[1;34m'plan_list_price'\u001b[0m\u001b[1;33m]\u001b[0m\u001b[1;33m.\u001b[0m\u001b[0mto_dask_array\u001b[0m\u001b[1;33m(\u001b[0m\u001b[1;33m)\u001b[0m\u001b[1;33m\u001b[0m\u001b[0m\n\u001b[0m",
      "\u001b[1;31mAttributeError\u001b[0m: 'Series' object has no attribute 'to_dask_array'"
     ]
    }
   ],
   "source": [
    "df_transactions['plan_list_price'].to_dask_array()"
   ]
  },
  {
   "cell_type": "markdown",
   "metadata": {},
   "source": [
    "#### What is Maximum Plan List Price ?"
   ]
  },
  {
   "cell_type": "code",
   "execution_count": 61,
   "metadata": {},
   "outputs": [
    {
     "data": {
      "text/plain": [
       "2000"
      ]
     },
     "execution_count": 61,
     "metadata": {},
     "output_type": "execute_result"
    }
   ],
   "source": [
    "df_transactions['plan_list_price'].max(axis=0).compute()"
   ]
  },
  {
   "cell_type": "markdown",
   "metadata": {},
   "source": [
    "#### What is Minimum Plan List Price ?"
   ]
  },
  {
   "cell_type": "code",
   "execution_count": 62,
   "metadata": {},
   "outputs": [
    {
     "data": {
      "text/plain": [
       "0"
      ]
     },
     "execution_count": 62,
     "metadata": {},
     "output_type": "execute_result"
    }
   ],
   "source": [
    "df_transactions['plan_list_price'].min(axis=0).compute()"
   ]
  },
  {
   "cell_type": "code",
   "execution_count": 69,
   "metadata": {},
   "outputs": [],
   "source": [
    "import dask.array as da\n",
    "h, bins = da.histogram(df_transactions['plan_list_price'], bins=50, range=[0, 2000])"
   ]
  },
  {
   "cell_type": "code",
   "execution_count": 70,
   "metadata": {},
   "outputs": [
    {
     "data": {
      "image/png": "[encoded data removed]",
      "text/plain": [
       "<Figure size 432x288 with 1 Axes>"
      ]
     },
     "metadata": {},
     "output_type": "display_data"
    }
   ],
   "source": [
    "h.compute()\n",
    "plt.hist(h, bins)\n",
    "plt.show()"
   ]
  },
  {
   "cell_type": "markdown",
   "metadata": {},
   "source": [
    "#### : Histogram of Plan List Price Obsvtn:\n",
    "1. Very Large Obsverations within 0-150 window\n",
    "2. There are very few obsvtn less than 5 at prices > 200 \n",
    "3. This is kind of real if we see subscription services like Netflix and Hotstar they have very large number of affordable plans and very few Expensive Plans."
   ]
  },
  {
   "cell_type": "code",
   "execution_count": 71,
   "metadata": {},
   "outputs": [],
   "source": [
    "## Tommorows Agenda\n",
    "## 1. Plot Histogram of Actual Amount Paid and Compare it with Plan List Price Observation Histograms\n",
    "## 2. Plot Probabilty Distributions both for Amount Paid and Plan List Price\n",
    "## 3. Play more with Transactions.csv try joining with train.csv and do some aggregate analysis\n",
    "## 3. Play with user_logs.csv data using same dask Data Frame and play with that data\n",
    "## 4. We will start with date field in both tables i.e. transactions.csv and user_logs.csv once we are done with simple plotting \n",
    "## and EDA"
   ]
  },
  {
   "cell_type": "code",
   "execution_count": 5,
   "metadata": {},
   "outputs": [
    {
     "data": {
      "text/html": [
       "<div>\n",
       "<style scoped>\n",
       "    .dataframe tbody tr th:only-of-type {\n",
       "        vertical-align: middle;\n",
       "    }\n",
       "\n",
       "    .dataframe tbody tr th {\n",
       "        vertical-align: top;\n",
       "    }\n",
       "\n",
       "    .dataframe thead th {\n",
       "        text-align: right;\n",
       "    }\n",
       "</style>\n",
       "<table border=\"1\" class=\"dataframe\">\n",
       "  <thead>\n",
       "    <tr style=\"text-align: right;\">\n",
       "      <th></th>\n",
       "      <th>msno</th>\n",
       "      <th>payment_method_id</th>\n",
       "      <th>payment_plan_days</th>\n",
       "      <th>plan_list_price</th>\n",
       "      <th>actual_amount_paid</th>\n",
       "      <th>is_auto_renew</th>\n",
       "      <th>transaction_date</th>\n",
       "      <th>membership_expire_date</th>\n",
       "      <th>is_cancel</th>\n",
       "    </tr>\n",
       "  </thead>\n",
       "  <tbody>\n",
       "    <tr>\n",
       "      <th>0</th>\n",
       "      <td>YyO+tlZtAXYXoZhNr3Vg3+dfVQvrBVGO8j1mfqe4ZHc=</td>\n",
       "      <td>41</td>\n",
       "      <td>30</td>\n",
       "      <td>129</td>\n",
       "      <td>129</td>\n",
       "      <td>1</td>\n",
       "      <td>2015-09-30</td>\n",
       "      <td>2015-11-01</td>\n",
       "      <td>0</td>\n",
       "    </tr>\n",
       "    <tr>\n",
       "      <th>1</th>\n",
       "      <td>AZtu6Wl0gPojrEQYB8Q3vBSmE2wnZ3hi1FbK1rQQ0A4=</td>\n",
       "      <td>41</td>\n",
       "      <td>30</td>\n",
       "      <td>149</td>\n",
       "      <td>149</td>\n",
       "      <td>1</td>\n",
       "      <td>2015-09-30</td>\n",
       "      <td>2015-10-31</td>\n",
       "      <td>0</td>\n",
       "    </tr>\n",
       "    <tr>\n",
       "      <th>2</th>\n",
       "      <td>UkDFI97Qb6+s2LWcijVVv4rMAsORbVDT2wNXF0aVbns=</td>\n",
       "      <td>41</td>\n",
       "      <td>30</td>\n",
       "      <td>129</td>\n",
       "      <td>129</td>\n",
       "      <td>1</td>\n",
       "      <td>2015-09-30</td>\n",
       "      <td>2016-04-27</td>\n",
       "      <td>0</td>\n",
       "    </tr>\n",
       "    <tr>\n",
       "      <th>3</th>\n",
       "      <td>M1C56ijxozNaGD0t2h68PnH2xtx5iO5iR2MVYQB6nBI=</td>\n",
       "      <td>39</td>\n",
       "      <td>30</td>\n",
       "      <td>149</td>\n",
       "      <td>149</td>\n",
       "      <td>1</td>\n",
       "      <td>2015-09-30</td>\n",
       "      <td>2015-11-28</td>\n",
       "      <td>0</td>\n",
       "    </tr>\n",
       "    <tr>\n",
       "      <th>4</th>\n",
       "      <td>yvj6zyBUaqdbUQSrKsrZ+xNDVM62knauSZJzakS9OW4=</td>\n",
       "      <td>39</td>\n",
       "      <td>30</td>\n",
       "      <td>149</td>\n",
       "      <td>149</td>\n",
       "      <td>1</td>\n",
       "      <td>2015-09-30</td>\n",
       "      <td>2015-11-21</td>\n",
       "      <td>0</td>\n",
       "    </tr>\n",
       "  </tbody>\n",
       "</table>\n",
       "</div>"
      ],
      "text/plain": [
       "                                           msno  payment_method_id  \\\n",
       "0  YyO+tlZtAXYXoZhNr3Vg3+dfVQvrBVGO8j1mfqe4ZHc=                 41   \n",
       "1  AZtu6Wl0gPojrEQYB8Q3vBSmE2wnZ3hi1FbK1rQQ0A4=                 41   \n",
       "2  UkDFI97Qb6+s2LWcijVVv4rMAsORbVDT2wNXF0aVbns=                 41   \n",
       "3  M1C56ijxozNaGD0t2h68PnH2xtx5iO5iR2MVYQB6nBI=                 39   \n",
       "4  yvj6zyBUaqdbUQSrKsrZ+xNDVM62knauSZJzakS9OW4=                 39   \n",
       "\n",
       "   payment_plan_days  plan_list_price  actual_amount_paid  is_auto_renew  \\\n",
       "0                 30              129                 129              1   \n",
       "1                 30              149                 149              1   \n",
       "2                 30              129                 129              1   \n",
       "3                 30              149                 149              1   \n",
       "4                 30              149                 149              1   \n",
       "\n",
       "  transaction_date membership_expire_date  is_cancel  \n",
       "0       2015-09-30             2015-11-01          0  \n",
       "1       2015-09-30             2015-10-31          0  \n",
       "2       2015-09-30             2016-04-27          0  \n",
       "3       2015-09-30             2015-11-28          0  \n",
       "4       2015-09-30             2015-11-21          0  "
      ]
     },
     "execution_count": 5,
     "metadata": {},
     "output_type": "execute_result"
    }
   ],
   "source": [
    "# I have also parsed Dates\n",
    "df_transactions.head()"
   ]
  },
  {
   "cell_type": "markdown",
   "metadata": {},
   "source": [
    "#### What is Minimum Actual Amount Paid ?\n"
   ]
  },
  {
   "cell_type": "code",
   "execution_count": 6,
   "metadata": {},
   "outputs": [
    {
     "data": {
      "text/plain": [
       "0"
      ]
     },
     "execution_count": 6,
     "metadata": {},
     "output_type": "execute_result"
    }
   ],
   "source": [
    "df_transactions['actual_amount_paid'].min(axis = 0 ).compute()"
   ]
  },
  {
   "cell_type": "markdown",
   "metadata": {},
   "source": [
    "#### What is Maximum Actual Amount Paid ?"
   ]
  },
  {
   "cell_type": "code",
   "execution_count": 7,
   "metadata": {},
   "outputs": [
    {
     "data": {
      "text/plain": [
       "2000"
      ]
     },
     "execution_count": 7,
     "metadata": {},
     "output_type": "execute_result"
    }
   ],
   "source": [
    "df_transactions['actual_amount_paid'].max(axis = 0 ).compute()"
   ]
  },
  {
   "cell_type": "markdown",
   "metadata": {},
   "source": [
    "#### What is Mean Actual Amount Paid ?"
   ]
  },
  {
   "cell_type": "code",
   "execution_count": 8,
   "metadata": {},
   "outputs": [
    {
     "data": {
      "text/plain": [
       "141.98732048354384"
      ]
     },
     "execution_count": 8,
     "metadata": {},
     "output_type": "execute_result"
    }
   ],
   "source": [
    "df_transactions['actual_amount_paid'].mean(axis = 0).compute()"
   ]
  },
  {
   "cell_type": "markdown",
   "metadata": {},
   "source": [
    "#### Histogram of The Actual Amount Paid "
   ]
  },
  {
   "cell_type": "code",
   "execution_count": 9,
   "metadata": {},
   "outputs": [
    {
     "data": {
      "image/png": "[encoded data removed]",
      "text/plain": [
       "<Figure size 432x288 with 1 Axes>"
      ]
     },
     "metadata": {},
     "output_type": "display_data"
    }
   ],
   "source": [
    "import dask.array as da\n",
    "h, bins = da.histogram(df_transactions['actual_amount_paid'], bins=50, range=[0, 2000])\n",
    "h.compute()\n",
    "plt.hist(h, bins)\n",
    "plt.xlabel(\"Amount Paid Actually\")\n",
    "plt.ylabel(\"Frequency\")\n",
    "plt.show()"
   ]
  },
  {
   "cell_type": "markdown",
   "metadata": {},
   "source": [
    "#### Probability Distribution Functions for Actual Price Paid"
   ]
  },
  {
   "cell_type": "code",
   "execution_count": 13,
   "metadata": {},
   "outputs": [
    {
     "data": {
      "image/png": "[encoded data removed]",
      "text/plain": [
       "<Figure size 432x288 with 1 Axes>"
      ]
     },
     "metadata": {},
     "output_type": "display_data"
    }
   ],
   "source": [
    "# Reference : https://scipy-lectures.org/intro/scipy/auto_examples/plot_normal_distribution.html\n",
    "from scipy import stats\n",
    "bin_centers = 0.5*(bins[1:] + bins[:-1])\n",
    "pdf = stats.norm.pdf(bin_centers)\n",
    "plt.figure(figsize=(6, 4))\n",
    "#plt.plot(bin_centers, h, label=\"Histogram of samples\")\n",
    "plt.plot(bin_centers, pdf, label=\"PDF\")\n",
    "plt.legend()\n",
    "plt.title(\"Pdf vs Histogram for Actual Price Paid\")\n",
    "plt.show()\n"
   ]
  },
  {
   "cell_type": "code",
   "execution_count": 14,
   "metadata": {},
   "outputs": [],
   "source": [
    "## Lets Play Around more with dataset to get comfortable with dask Data Frames and Pandas itself lets ask Few simple Data Analysis \n",
    "## Questions"
   ]
  },
  {
   "cell_type": "markdown",
   "metadata": {},
   "source": [
    "### Mean actual price paid by as per is_cancel"
   ]
  },
  {
   "cell_type": "code",
   "execution_count": 17,
   "metadata": {},
   "outputs": [
    {
     "data": {
      "text/plain": [
       "is_cancel\n",
       "0    143.608803\n",
       "1    102.832399\n",
       "Name: actual_amount_paid, dtype: float64"
      ]
     },
     "execution_count": 17,
     "metadata": {},
     "output_type": "execute_result"
    }
   ],
   "source": [
    "df_transactions.groupby(\"is_cancel\").actual_amount_paid.mean().compute()"
   ]
  },
  {
   "cell_type": "markdown",
   "metadata": {},
   "source": [
    "### Obsvtns:\n",
    "1. People who actively cancels their subscriptions tends to pay lesser amount as compared to those who don't actively cancel their subscription"
   ]
  },
  {
   "cell_type": "markdown",
   "metadata": {},
   "source": [
    "### Lets Check Same for AutoRenew"
   ]
  },
  {
   "cell_type": "code",
   "execution_count": 18,
   "metadata": {},
   "outputs": [
    {
     "data": {
      "text/plain": [
       "is_auto_renew\n",
       "0    212.821429\n",
       "1    129.679500\n",
       "Name: actual_amount_paid, dtype: float64"
      ]
     },
     "execution_count": 18,
     "metadata": {},
     "output_type": "execute_result"
    }
   ],
   "source": [
    "df_transactions.groupby(\"is_auto_renew\").actual_amount_paid.mean().compute()"
   ]
  },
  {
   "cell_type": "markdown",
   "metadata": {},
   "source": [
    "1. People who don't auto-renew their subscription are paying infact more.\n",
    "2. Also difference is significantly more nearly 42 dollars between mean.\n",
    "3. One Possibe reason can be that auto renewers have small amount paid and are more in numbers as compared to non auto renew person"
   ]
  },
  {
   "cell_type": "markdown",
   "metadata": {},
   "source": [
    "### Joins and Aggregating Data"
   ]
  },
  {
   "cell_type": "code",
   "execution_count": 19,
   "metadata": {},
   "outputs": [
    {
     "name": "stderr",
     "output_type": "stream",
     "text": [
      "C:\\Users\\User\\Anaconda3\\lib\\site-packages\\dask\\dataframe\\core.py:4206: UserWarning: Insufficient elements for `head`. 5 elements requested, only 2 elements available. Try passing larger `npartitions` to `head`.\n",
      "  warnings.warn(msg.format(n, len(r)))\n"
     ]
    },
    {
     "data": {
      "text/html": [
       "<div>\n",
       "<style scoped>\n",
       "    .dataframe tbody tr th:only-of-type {\n",
       "        vertical-align: middle;\n",
       "    }\n",
       "\n",
       "    .dataframe tbody tr th {\n",
       "        vertical-align: top;\n",
       "    }\n",
       "\n",
       "    .dataframe thead th {\n",
       "        text-align: right;\n",
       "    }\n",
       "</style>\n",
       "<table border=\"1\" class=\"dataframe\">\n",
       "  <thead>\n",
       "    <tr style=\"text-align: right;\">\n",
       "      <th></th>\n",
       "      <th>msno</th>\n",
       "      <th>payment_method_id</th>\n",
       "      <th>payment_plan_days</th>\n",
       "      <th>plan_list_price</th>\n",
       "      <th>actual_amount_paid</th>\n",
       "      <th>is_auto_renew</th>\n",
       "      <th>transaction_date</th>\n",
       "      <th>membership_expire_date</th>\n",
       "      <th>is_cancel</th>\n",
       "    </tr>\n",
       "  </thead>\n",
       "  <tbody>\n",
       "    <tr>\n",
       "      <th>0</th>\n",
       "      <td>YyO+tlZtAXYXoZhNr3Vg3+dfVQvrBVGO8j1mfqe4ZHc=</td>\n",
       "      <td>41</td>\n",
       "      <td>30</td>\n",
       "      <td>129</td>\n",
       "      <td>129</td>\n",
       "      <td>1</td>\n",
       "      <td>2015-09-30</td>\n",
       "      <td>2015-11-01</td>\n",
       "      <td>0</td>\n",
       "    </tr>\n",
       "    <tr>\n",
       "      <th>753139</th>\n",
       "      <td>YyO+tlZtAXYXoZhNr3Vg3+dfVQvrBVGO8j1mfqe4ZHc=</td>\n",
       "      <td>41</td>\n",
       "      <td>30</td>\n",
       "      <td>129</td>\n",
       "      <td>129</td>\n",
       "      <td>1</td>\n",
       "      <td>2015-10-31</td>\n",
       "      <td>2015-12-01</td>\n",
       "      <td>0</td>\n",
       "    </tr>\n",
       "  </tbody>\n",
       "</table>\n",
       "</div>"
      ],
      "text/plain": [
       "                                                msno  payment_method_id  \\\n",
       "0       YyO+tlZtAXYXoZhNr3Vg3+dfVQvrBVGO8j1mfqe4ZHc=                 41   \n",
       "753139  YyO+tlZtAXYXoZhNr3Vg3+dfVQvrBVGO8j1mfqe4ZHc=                 41   \n",
       "\n",
       "        payment_plan_days  plan_list_price  actual_amount_paid  is_auto_renew  \\\n",
       "0                      30              129                 129              1   \n",
       "753139                 30              129                 129              1   \n",
       "\n",
       "       transaction_date membership_expire_date  is_cancel  \n",
       "0            2015-09-30             2015-11-01          0  \n",
       "753139       2015-10-31             2015-12-01          0  "
      ]
     },
     "execution_count": 19,
     "metadata": {},
     "output_type": "execute_result"
    }
   ],
   "source": [
    "## Before we move on to joining data lets clear one thing\n",
    "df_transactions[df_transactions['msno']=='YyO+tlZtAXYXoZhNr3Vg3+dfVQvrBVGO8j1mfqe4ZHc='].head()"
   ]
  },
  {
   "cell_type": "code",
   "execution_count": 21,
   "metadata": {},
   "outputs": [
    {
     "name": "stderr",
     "output_type": "stream",
     "text": [
      "C:\\Users\\User\\Anaconda3\\lib\\site-packages\\dask\\dataframe\\core.py:4206: UserWarning: Insufficient elements for `head`. 5 elements requested, only 2 elements available. Try passing larger `npartitions` to `head`.\n",
      "  warnings.warn(msg.format(n, len(r)))\n"
     ]
    },
    {
     "data": {
      "text/html": [
       "<div>\n",
       "<style scoped>\n",
       "    .dataframe tbody tr th:only-of-type {\n",
       "        vertical-align: middle;\n",
       "    }\n",
       "\n",
       "    .dataframe tbody tr th {\n",
       "        vertical-align: top;\n",
       "    }\n",
       "\n",
       "    .dataframe thead th {\n",
       "        text-align: right;\n",
       "    }\n",
       "</style>\n",
       "<table border=\"1\" class=\"dataframe\">\n",
       "  <thead>\n",
       "    <tr style=\"text-align: right;\">\n",
       "      <th></th>\n",
       "      <th>msno</th>\n",
       "      <th>payment_method_id</th>\n",
       "      <th>payment_plan_days</th>\n",
       "      <th>plan_list_price</th>\n",
       "      <th>actual_amount_paid</th>\n",
       "      <th>is_auto_renew</th>\n",
       "      <th>transaction_date</th>\n",
       "      <th>membership_expire_date</th>\n",
       "      <th>is_cancel</th>\n",
       "    </tr>\n",
       "  </thead>\n",
       "  <tbody>\n",
       "    <tr>\n",
       "      <th>3</th>\n",
       "      <td>M1C56ijxozNaGD0t2h68PnH2xtx5iO5iR2MVYQB6nBI=</td>\n",
       "      <td>39</td>\n",
       "      <td>30</td>\n",
       "      <td>149</td>\n",
       "      <td>149</td>\n",
       "      <td>1</td>\n",
       "      <td>2015-09-30</td>\n",
       "      <td>2015-11-28</td>\n",
       "      <td>0</td>\n",
       "    </tr>\n",
       "    <tr>\n",
       "      <th>729129</th>\n",
       "      <td>M1C56ijxozNaGD0t2h68PnH2xtx5iO5iR2MVYQB6nBI=</td>\n",
       "      <td>35</td>\n",
       "      <td>7</td>\n",
       "      <td>0</td>\n",
       "      <td>0</td>\n",
       "      <td>0</td>\n",
       "      <td>2016-08-29</td>\n",
       "      <td>2016-09-03</td>\n",
       "      <td>0</td>\n",
       "    </tr>\n",
       "  </tbody>\n",
       "</table>\n",
       "</div>"
      ],
      "text/plain": [
       "                                                msno  payment_method_id  \\\n",
       "3       M1C56ijxozNaGD0t2h68PnH2xtx5iO5iR2MVYQB6nBI=                 39   \n",
       "729129  M1C56ijxozNaGD0t2h68PnH2xtx5iO5iR2MVYQB6nBI=                 35   \n",
       "\n",
       "        payment_plan_days  plan_list_price  actual_amount_paid  is_auto_renew  \\\n",
       "3                      30              149                 149              1   \n",
       "729129                  7                0                   0              0   \n",
       "\n",
       "       transaction_date membership_expire_date  is_cancel  \n",
       "3            2015-09-30             2015-11-28          0  \n",
       "729129       2016-08-29             2016-09-03          0  "
      ]
     },
     "execution_count": 21,
     "metadata": {},
     "output_type": "execute_result"
    }
   ],
   "source": [
    "df_transactions[df_transactions['msno']=='M1C56ijxozNaGD0t2h68PnH2xtx5iO5iR2MVYQB6nBI='].head()"
   ]
  },
  {
   "cell_type": "code",
   "execution_count": 22,
   "metadata": {},
   "outputs": [],
   "source": [
    "## there can be multiple entries even for single user\n",
    "## This can create problem while joining as it is possible that multiple entries will be there \n",
    "## For single user in the joined table only with different transaction_date\n",
    "## ex (user1 , date:xyz), (user2 , date:abc)"
   ]
  },
  {
   "cell_type": "code",
   "execution_count": 36,
   "metadata": {},
   "outputs": [
    {
     "name": "stderr",
     "output_type": "stream",
     "text": [
      "C:\\Users\\User\\Anaconda3\\lib\\site-packages\\dask\\dataframe\\core.py:4206: UserWarning: Insufficient elements for `head`. 5 elements requested, only 2 elements available. Try passing larger `npartitions` to `head`.\n",
      "  warnings.warn(msg.format(n, len(r)))\n"
     ]
    }
   ],
   "source": [
    "result = df_transactions[df_transactions['msno']=='M1C56ijxozNaGD0t2h68PnH2xtx5iO5iR2MVYQB6nBI='].head()\n",
    "#result.sort_values(['transaction_date'])"
   ]
  },
  {
   "cell_type": "code",
   "execution_count": 35,
   "metadata": {},
   "outputs": [
    {
     "ename": "ValueError",
     "evalue": "No axis named transaction_date for object type <class 'pandas.core.frame.DataFrame'>",
     "output_type": "error",
     "traceback": [
      "\u001b[1;31m---------------------------------------------------------------------------\u001b[0m",
      "\u001b[1;31mValueError\u001b[0m                                Traceback (most recent call last)",
      "\u001b[1;32m<ipython-input-35-c6c13529d9b8>\u001b[0m in \u001b[0;36m<module>\u001b[1;34m()\u001b[0m\n\u001b[1;32m----> 1\u001b[1;33m \u001b[0mresult\u001b[0m\u001b[1;33m.\u001b[0m\u001b[0mmax\u001b[0m\u001b[1;33m(\u001b[0m\u001b[1;34m'transaction_date'\u001b[0m\u001b[1;33m)\u001b[0m\u001b[1;33m\u001b[0m\u001b[0m\n\u001b[0m",
      "\u001b[1;32m~\\Anaconda3\\lib\\site-packages\\pandas\\core\\generic.py\u001b[0m in \u001b[0;36mstat_func\u001b[1;34m(self, axis, skipna, level, numeric_only, **kwargs)\u001b[0m\n\u001b[0;32m   9587\u001b[0m                                       skipna=skipna)\n\u001b[0;32m   9588\u001b[0m         return self._reduce(f, name, axis=axis, skipna=skipna,\n\u001b[1;32m-> 9589\u001b[1;33m                             numeric_only=numeric_only)\n\u001b[0m\u001b[0;32m   9590\u001b[0m \u001b[1;33m\u001b[0m\u001b[0m\n\u001b[0;32m   9591\u001b[0m     \u001b[1;32mreturn\u001b[0m \u001b[0mset_function_name\u001b[0m\u001b[1;33m(\u001b[0m\u001b[0mstat_func\u001b[0m\u001b[1;33m,\u001b[0m \u001b[0mname\u001b[0m\u001b[1;33m,\u001b[0m \u001b[0mcls\u001b[0m\u001b[1;33m)\u001b[0m\u001b[1;33m\u001b[0m\u001b[0m\n",
      "\u001b[1;32m~\\Anaconda3\\lib\\site-packages\\pandas\\core\\frame.py\u001b[0m in \u001b[0;36m_reduce\u001b[1;34m(self, op, name, axis, skipna, numeric_only, filter_type, **kwds)\u001b[0m\n\u001b[0;32m   6835\u001b[0m     def _reduce(self, op, name, axis=0, skipna=True, numeric_only=None,\n\u001b[0;32m   6836\u001b[0m                 filter_type=None, **kwds):\n\u001b[1;32m-> 6837\u001b[1;33m         \u001b[0maxis\u001b[0m \u001b[1;33m=\u001b[0m \u001b[0mself\u001b[0m\u001b[1;33m.\u001b[0m\u001b[0m_get_axis_number\u001b[0m\u001b[1;33m(\u001b[0m\u001b[0maxis\u001b[0m\u001b[1;33m)\u001b[0m\u001b[1;33m\u001b[0m\u001b[0m\n\u001b[0m\u001b[0;32m   6838\u001b[0m \u001b[1;33m\u001b[0m\u001b[0m\n\u001b[0;32m   6839\u001b[0m         \u001b[1;32mdef\u001b[0m \u001b[0mf\u001b[0m\u001b[1;33m(\u001b[0m\u001b[0mx\u001b[0m\u001b[1;33m)\u001b[0m\u001b[1;33m:\u001b[0m\u001b[1;33m\u001b[0m\u001b[0m\n",
      "\u001b[1;32m~\\Anaconda3\\lib\\site-packages\\pandas\\core\\generic.py\u001b[0m in \u001b[0;36m_get_axis_number\u001b[1;34m(self, axis)\u001b[0m\n\u001b[0;32m    372\u001b[0m                 \u001b[1;32mpass\u001b[0m\u001b[1;33m\u001b[0m\u001b[0m\n\u001b[0;32m    373\u001b[0m         raise ValueError('No axis named {0} for object type {1}'\n\u001b[1;32m--> 374\u001b[1;33m                          .format(axis, type(self)))\n\u001b[0m\u001b[0;32m    375\u001b[0m \u001b[1;33m\u001b[0m\u001b[0m\n\u001b[0;32m    376\u001b[0m     \u001b[1;32mdef\u001b[0m \u001b[0m_get_axis_name\u001b[0m\u001b[1;33m(\u001b[0m\u001b[0mself\u001b[0m\u001b[1;33m,\u001b[0m \u001b[0maxis\u001b[0m\u001b[1;33m)\u001b[0m\u001b[1;33m:\u001b[0m\u001b[1;33m\u001b[0m\u001b[0m\n",
      "\u001b[1;31mValueError\u001b[0m: No axis named transaction_date for object type <class 'pandas.core.frame.DataFrame'>"
     ]
    }
   ],
   "source": [
    "result.max('transaction_date')"
   ]
  },
  {
   "cell_type": "code",
   "execution_count": 38,
   "metadata": {},
   "outputs": [
    {
     "data": {
      "text/plain": [
       "Timestamp('2015-09-30 00:00:00')"
      ]
     },
     "execution_count": 38,
     "metadata": {},
     "output_type": "execute_result"
    }
   ],
   "source": [
    "min(result['transaction_date'])"
   ]
  },
  {
   "cell_type": "code",
   "execution_count": 40,
   "metadata": {},
   "outputs": [
    {
     "data": {
      "text/html": [
       "<div>\n",
       "<style scoped>\n",
       "    .dataframe tbody tr th:only-of-type {\n",
       "        vertical-align: middle;\n",
       "    }\n",
       "\n",
       "    .dataframe tbody tr th {\n",
       "        vertical-align: top;\n",
       "    }\n",
       "\n",
       "    .dataframe thead th {\n",
       "        text-align: right;\n",
       "    }\n",
       "</style>\n",
       "<table border=\"1\" class=\"dataframe\">\n",
       "  <thead>\n",
       "    <tr style=\"text-align: right;\">\n",
       "      <th></th>\n",
       "      <th>msno</th>\n",
       "      <th>payment_method_id</th>\n",
       "      <th>payment_plan_days</th>\n",
       "      <th>plan_list_price</th>\n",
       "      <th>actual_amount_paid</th>\n",
       "      <th>is_auto_renew</th>\n",
       "      <th>transaction_date</th>\n",
       "      <th>membership_expire_date</th>\n",
       "      <th>is_cancel</th>\n",
       "    </tr>\n",
       "  </thead>\n",
       "  <tbody>\n",
       "    <tr>\n",
       "      <th>3</th>\n",
       "      <td>M1C56ijxozNaGD0t2h68PnH2xtx5iO5iR2MVYQB6nBI=</td>\n",
       "      <td>39</td>\n",
       "      <td>30</td>\n",
       "      <td>149</td>\n",
       "      <td>149</td>\n",
       "      <td>1</td>\n",
       "      <td>2015-09-30</td>\n",
       "      <td>2015-11-28</td>\n",
       "      <td>0</td>\n",
       "    </tr>\n",
       "    <tr>\n",
       "      <th>729129</th>\n",
       "      <td>M1C56ijxozNaGD0t2h68PnH2xtx5iO5iR2MVYQB6nBI=</td>\n",
       "      <td>35</td>\n",
       "      <td>7</td>\n",
       "      <td>0</td>\n",
       "      <td>0</td>\n",
       "      <td>0</td>\n",
       "      <td>2016-08-29</td>\n",
       "      <td>2016-09-03</td>\n",
       "      <td>0</td>\n",
       "    </tr>\n",
       "  </tbody>\n",
       "</table>\n",
       "</div>"
      ],
      "text/plain": [
       "                                                msno  payment_method_id  \\\n",
       "3       M1C56ijxozNaGD0t2h68PnH2xtx5iO5iR2MVYQB6nBI=                 39   \n",
       "729129  M1C56ijxozNaGD0t2h68PnH2xtx5iO5iR2MVYQB6nBI=                 35   \n",
       "\n",
       "        payment_plan_days  plan_list_price  actual_amount_paid  is_auto_renew  \\\n",
       "3                      30              149                 149              1   \n",
       "729129                  7                0                   0              0   \n",
       "\n",
       "       transaction_date membership_expire_date  is_cancel  \n",
       "3            2015-09-30             2015-11-28          0  \n",
       "729129       2016-08-29             2016-09-03          0  "
      ]
     },
     "execution_count": 40,
     "metadata": {},
     "output_type": "execute_result"
    }
   ],
   "source": [
    "result.sort_values(['msno','transaction_date']).drop_duplicates('transaction_date', keep='last')\n"
   ]
  },
  {
   "cell_type": "code",
   "execution_count": 41,
   "metadata": {},
   "outputs": [
    {
     "data": {
      "text/html": [
       "<div>\n",
       "<style scoped>\n",
       "    .dataframe tbody tr th:only-of-type {\n",
       "        vertical-align: middle;\n",
       "    }\n",
       "\n",
       "    .dataframe tbody tr th {\n",
       "        vertical-align: top;\n",
       "    }\n",
       "\n",
       "    .dataframe thead th {\n",
       "        text-align: right;\n",
       "    }\n",
       "</style>\n",
       "<table border=\"1\" class=\"dataframe\">\n",
       "  <thead>\n",
       "    <tr style=\"text-align: right;\">\n",
       "      <th></th>\n",
       "      <th>msno</th>\n",
       "      <th>payment_method_id</th>\n",
       "      <th>payment_plan_days</th>\n",
       "      <th>plan_list_price</th>\n",
       "      <th>actual_amount_paid</th>\n",
       "      <th>is_auto_renew</th>\n",
       "      <th>transaction_date</th>\n",
       "      <th>membership_expire_date</th>\n",
       "      <th>is_cancel</th>\n",
       "    </tr>\n",
       "  </thead>\n",
       "  <tbody>\n",
       "    <tr>\n",
       "      <th>729129</th>\n",
       "      <td>M1C56ijxozNaGD0t2h68PnH2xtx5iO5iR2MVYQB6nBI=</td>\n",
       "      <td>35</td>\n",
       "      <td>7</td>\n",
       "      <td>0</td>\n",
       "      <td>0</td>\n",
       "      <td>0</td>\n",
       "      <td>2016-08-29</td>\n",
       "      <td>2016-09-03</td>\n",
       "      <td>0</td>\n",
       "    </tr>\n",
       "  </tbody>\n",
       "</table>\n",
       "</div>"
      ],
      "text/plain": [
       "                                                msno  payment_method_id  \\\n",
       "729129  M1C56ijxozNaGD0t2h68PnH2xtx5iO5iR2MVYQB6nBI=                 35   \n",
       "\n",
       "        payment_plan_days  plan_list_price  actual_amount_paid  is_auto_renew  \\\n",
       "729129                  7                0                   0              0   \n",
       "\n",
       "       transaction_date membership_expire_date  is_cancel  \n",
       "729129       2016-08-29             2016-09-03          0  "
      ]
     },
     "execution_count": 41,
     "metadata": {},
     "output_type": "execute_result"
    }
   ],
   "source": [
    "result[result.groupby('msno')['transaction_date'].transform('max') == result['transaction_date']]\n"
   ]
  },
  {
   "cell_type": "code",
   "execution_count": 43,
   "metadata": {},
   "outputs": [
    {
     "data": {
      "text/html": [
       "<div>\n",
       "<style scoped>\n",
       "    .dataframe tbody tr th:only-of-type {\n",
       "        vertical-align: middle;\n",
       "    }\n",
       "\n",
       "    .dataframe tbody tr th {\n",
       "        vertical-align: top;\n",
       "    }\n",
       "\n",
       "    .dataframe thead th {\n",
       "        text-align: right;\n",
       "    }\n",
       "</style>\n",
       "<table border=\"1\" class=\"dataframe\">\n",
       "  <thead>\n",
       "    <tr style=\"text-align: right;\">\n",
       "      <th></th>\n",
       "      <th>msno</th>\n",
       "      <th>payment_method_id</th>\n",
       "      <th>payment_plan_days</th>\n",
       "      <th>plan_list_price</th>\n",
       "      <th>actual_amount_paid</th>\n",
       "      <th>is_auto_renew</th>\n",
       "      <th>transaction_date</th>\n",
       "      <th>membership_expire_date</th>\n",
       "      <th>is_cancel</th>\n",
       "    </tr>\n",
       "  </thead>\n",
       "  <tbody>\n",
       "    <tr>\n",
       "      <th>729129</th>\n",
       "      <td>M1C56ijxozNaGD0t2h68PnH2xtx5iO5iR2MVYQB6nBI=</td>\n",
       "      <td>35</td>\n",
       "      <td>7</td>\n",
       "      <td>0</td>\n",
       "      <td>0</td>\n",
       "      <td>0</td>\n",
       "      <td>2016-08-29</td>\n",
       "      <td>2016-09-03</td>\n",
       "      <td>0</td>\n",
       "    </tr>\n",
       "  </tbody>\n",
       "</table>\n",
       "</div>"
      ],
      "text/plain": [
       "                                                msno  payment_method_id  \\\n",
       "729129  M1C56ijxozNaGD0t2h68PnH2xtx5iO5iR2MVYQB6nBI=                 35   \n",
       "\n",
       "        payment_plan_days  plan_list_price  actual_amount_paid  is_auto_renew  \\\n",
       "729129                  7                0                   0              0   \n",
       "\n",
       "       transaction_date membership_expire_date  is_cancel  \n",
       "729129       2016-08-29             2016-09-03          0  "
      ]
     },
     "execution_count": 43,
     "metadata": {},
     "output_type": "execute_result"
    }
   ],
   "source": [
    "result.loc[result.groupby('msno').transaction_date.idxmax()]\n"
   ]
  },
  {
   "cell_type": "code",
   "execution_count": 45,
   "metadata": {},
   "outputs": [
    {
     "data": {
      "text/html": [
       "<div>\n",
       "<style scoped>\n",
       "    .dataframe tbody tr th:only-of-type {\n",
       "        vertical-align: middle;\n",
       "    }\n",
       "\n",
       "    .dataframe tbody tr th {\n",
       "        vertical-align: top;\n",
       "    }\n",
       "\n",
       "    .dataframe thead th {\n",
       "        text-align: right;\n",
       "    }\n",
       "</style>\n",
       "<table border=\"1\" class=\"dataframe\">\n",
       "  <thead>\n",
       "    <tr style=\"text-align: right;\">\n",
       "      <th></th>\n",
       "      <th>msno</th>\n",
       "      <th>is_churn</th>\n",
       "    </tr>\n",
       "  </thead>\n",
       "  <tbody>\n",
       "    <tr>\n",
       "      <th>0</th>\n",
       "      <td>waLDQMmcOu2jLDaV1ddDkgCrB/jl6sD66Xzs0Vqax1Y=</td>\n",
       "      <td>1</td>\n",
       "    </tr>\n",
       "    <tr>\n",
       "      <th>1</th>\n",
       "      <td>QA7uiXy8vIbUSPOkCf9RwQ3FsT8jVq2OxDr8zqa7bRQ=</td>\n",
       "      <td>1</td>\n",
       "    </tr>\n",
       "    <tr>\n",
       "      <th>2</th>\n",
       "      <td>fGwBva6hikQmTJzrbz/2Ezjm5Cth5jZUNvXigKK2AFA=</td>\n",
       "      <td>1</td>\n",
       "    </tr>\n",
       "    <tr>\n",
       "      <th>3</th>\n",
       "      <td>mT5V8rEpa+8wuqi6x0DoVd3H5icMKkE9Prt49UlmK+4=</td>\n",
       "      <td>1</td>\n",
       "    </tr>\n",
       "    <tr>\n",
       "      <th>4</th>\n",
       "      <td>XaPhtGLk/5UvvOYHcONTwsnH97P4eGECeq+BARGItRw=</td>\n",
       "      <td>1</td>\n",
       "    </tr>\n",
       "  </tbody>\n",
       "</table>\n",
       "</div>"
      ],
      "text/plain": [
       "                                           msno  is_churn\n",
       "0  waLDQMmcOu2jLDaV1ddDkgCrB/jl6sD66Xzs0Vqax1Y=         1\n",
       "1  QA7uiXy8vIbUSPOkCf9RwQ3FsT8jVq2OxDr8zqa7bRQ=         1\n",
       "2  fGwBva6hikQmTJzrbz/2Ezjm5Cth5jZUNvXigKK2AFA=         1\n",
       "3  mT5V8rEpa+8wuqi6x0DoVd3H5icMKkE9Prt49UlmK+4=         1\n",
       "4  XaPhtGLk/5UvvOYHcONTwsnH97P4eGECeq+BARGItRw=         1"
      ]
     },
     "execution_count": 45,
     "metadata": {},
     "output_type": "execute_result"
    }
   ],
   "source": [
    "df_train.head()"
   ]
  },
  {
   "cell_type": "code",
   "execution_count": 46,
   "metadata": {},
   "outputs": [
    {
     "data": {
      "text/html": [
       "<div>\n",
       "<style scoped>\n",
       "    .dataframe tbody tr th:only-of-type {\n",
       "        vertical-align: middle;\n",
       "    }\n",
       "\n",
       "    .dataframe tbody tr th {\n",
       "        vertical-align: top;\n",
       "    }\n",
       "\n",
       "    .dataframe thead th {\n",
       "        text-align: right;\n",
       "    }\n",
       "</style>\n",
       "<table border=\"1\" class=\"dataframe\">\n",
       "  <thead>\n",
       "    <tr style=\"text-align: right;\">\n",
       "      <th></th>\n",
       "      <th>msno</th>\n",
       "      <th>payment_method_id</th>\n",
       "      <th>payment_plan_days</th>\n",
       "      <th>plan_list_price</th>\n",
       "      <th>actual_amount_paid</th>\n",
       "      <th>is_auto_renew</th>\n",
       "      <th>transaction_date</th>\n",
       "      <th>membership_expire_date</th>\n",
       "      <th>is_cancel</th>\n",
       "    </tr>\n",
       "  </thead>\n",
       "  <tbody>\n",
       "    <tr>\n",
       "      <th>0</th>\n",
       "      <td>YyO+tlZtAXYXoZhNr3Vg3+dfVQvrBVGO8j1mfqe4ZHc=</td>\n",
       "      <td>41</td>\n",
       "      <td>30</td>\n",
       "      <td>129</td>\n",
       "      <td>129</td>\n",
       "      <td>1</td>\n",
       "      <td>2015-09-30</td>\n",
       "      <td>2015-11-01</td>\n",
       "      <td>0</td>\n",
       "    </tr>\n",
       "    <tr>\n",
       "      <th>1</th>\n",
       "      <td>AZtu6Wl0gPojrEQYB8Q3vBSmE2wnZ3hi1FbK1rQQ0A4=</td>\n",
       "      <td>41</td>\n",
       "      <td>30</td>\n",
       "      <td>149</td>\n",
       "      <td>149</td>\n",
       "      <td>1</td>\n",
       "      <td>2015-09-30</td>\n",
       "      <td>2015-10-31</td>\n",
       "      <td>0</td>\n",
       "    </tr>\n",
       "    <tr>\n",
       "      <th>2</th>\n",
       "      <td>UkDFI97Qb6+s2LWcijVVv4rMAsORbVDT2wNXF0aVbns=</td>\n",
       "      <td>41</td>\n",
       "      <td>30</td>\n",
       "      <td>129</td>\n",
       "      <td>129</td>\n",
       "      <td>1</td>\n",
       "      <td>2015-09-30</td>\n",
       "      <td>2016-04-27</td>\n",
       "      <td>0</td>\n",
       "    </tr>\n",
       "    <tr>\n",
       "      <th>3</th>\n",
       "      <td>M1C56ijxozNaGD0t2h68PnH2xtx5iO5iR2MVYQB6nBI=</td>\n",
       "      <td>39</td>\n",
       "      <td>30</td>\n",
       "      <td>149</td>\n",
       "      <td>149</td>\n",
       "      <td>1</td>\n",
       "      <td>2015-09-30</td>\n",
       "      <td>2015-11-28</td>\n",
       "      <td>0</td>\n",
       "    </tr>\n",
       "    <tr>\n",
       "      <th>4</th>\n",
       "      <td>yvj6zyBUaqdbUQSrKsrZ+xNDVM62knauSZJzakS9OW4=</td>\n",
       "      <td>39</td>\n",
       "      <td>30</td>\n",
       "      <td>149</td>\n",
       "      <td>149</td>\n",
       "      <td>1</td>\n",
       "      <td>2015-09-30</td>\n",
       "      <td>2015-11-21</td>\n",
       "      <td>0</td>\n",
       "    </tr>\n",
       "  </tbody>\n",
       "</table>\n",
       "</div>"
      ],
      "text/plain": [
       "                                           msno  payment_method_id  \\\n",
       "0  YyO+tlZtAXYXoZhNr3Vg3+dfVQvrBVGO8j1mfqe4ZHc=                 41   \n",
       "1  AZtu6Wl0gPojrEQYB8Q3vBSmE2wnZ3hi1FbK1rQQ0A4=                 41   \n",
       "2  UkDFI97Qb6+s2LWcijVVv4rMAsORbVDT2wNXF0aVbns=                 41   \n",
       "3  M1C56ijxozNaGD0t2h68PnH2xtx5iO5iR2MVYQB6nBI=                 39   \n",
       "4  yvj6zyBUaqdbUQSrKsrZ+xNDVM62knauSZJzakS9OW4=                 39   \n",
       "\n",
       "   payment_plan_days  plan_list_price  actual_amount_paid  is_auto_renew  \\\n",
       "0                 30              129                 129              1   \n",
       "1                 30              149                 149              1   \n",
       "2                 30              129                 129              1   \n",
       "3                 30              149                 149              1   \n",
       "4                 30              149                 149              1   \n",
       "\n",
       "  transaction_date membership_expire_date  is_cancel  \n",
       "0       2015-09-30             2015-11-01          0  \n",
       "1       2015-09-30             2015-10-31          0  \n",
       "2       2015-09-30             2016-04-27          0  \n",
       "3       2015-09-30             2015-11-28          0  \n",
       "4       2015-09-30             2015-11-21          0  "
      ]
     },
     "execution_count": 46,
     "metadata": {},
     "output_type": "execute_result"
    }
   ],
   "source": [
    "df_transactions.head()"
   ]
  },
  {
   "cell_type": "code",
   "execution_count": 47,
   "metadata": {},
   "outputs": [],
   "source": [
    "## Idea for Joining \n",
    "## Msno is common in both tables and it can be used for joining\n",
    "## However there will be lot of duplicates if we do\n",
    "## Idea\n",
    "## Create a new data frame where customers are grouped by msno \n",
    "## Now only select the max membership expire date of the customers \n",
    "## This will ensure to drop duplicates \n",
    "## Finally join the data"
   ]
  },
  {
   "cell_type": "code",
   "execution_count": 57,
   "metadata": {},
   "outputs": [
    {
     "name": "stderr",
     "output_type": "stream",
     "text": [
      "C:\\Users\\User\\Anaconda3\\lib\\site-packages\\dask\\dataframe\\core.py:4206: UserWarning: Insufficient elements for `head`. 5 elements requested, only 2 elements available. Try passing larger `npartitions` to `head`.\n",
      "  warnings.warn(msg.format(n, len(r)))\n"
     ]
    },
    {
     "data": {
      "text/html": [
       "<div>\n",
       "<style scoped>\n",
       "    .dataframe tbody tr th:only-of-type {\n",
       "        vertical-align: middle;\n",
       "    }\n",
       "\n",
       "    .dataframe tbody tr th {\n",
       "        vertical-align: top;\n",
       "    }\n",
       "\n",
       "    .dataframe thead th {\n",
       "        text-align: right;\n",
       "    }\n",
       "</style>\n",
       "<table border=\"1\" class=\"dataframe\">\n",
       "  <thead>\n",
       "    <tr style=\"text-align: right;\">\n",
       "      <th></th>\n",
       "      <th>msno</th>\n",
       "      <th>payment_method_id</th>\n",
       "      <th>payment_plan_days</th>\n",
       "      <th>plan_list_price</th>\n",
       "      <th>actual_amount_paid</th>\n",
       "      <th>is_auto_renew</th>\n",
       "      <th>transaction_date</th>\n",
       "      <th>membership_expire_date</th>\n",
       "      <th>is_cancel</th>\n",
       "    </tr>\n",
       "  </thead>\n",
       "  <tbody>\n",
       "    <tr>\n",
       "      <th>0</th>\n",
       "      <td>YyO+tlZtAXYXoZhNr3Vg3+dfVQvrBVGO8j1mfqe4ZHc=</td>\n",
       "      <td>41</td>\n",
       "      <td>30</td>\n",
       "      <td>129</td>\n",
       "      <td>129</td>\n",
       "      <td>1</td>\n",
       "      <td>2015-09-30</td>\n",
       "      <td>2015-11-01</td>\n",
       "      <td>0</td>\n",
       "    </tr>\n",
       "    <tr>\n",
       "      <th>753139</th>\n",
       "      <td>YyO+tlZtAXYXoZhNr3Vg3+dfVQvrBVGO8j1mfqe4ZHc=</td>\n",
       "      <td>41</td>\n",
       "      <td>30</td>\n",
       "      <td>129</td>\n",
       "      <td>129</td>\n",
       "      <td>1</td>\n",
       "      <td>2015-10-31</td>\n",
       "      <td>2015-12-01</td>\n",
       "      <td>0</td>\n",
       "    </tr>\n",
       "  </tbody>\n",
       "</table>\n",
       "</div>"
      ],
      "text/plain": [
       "                                                msno  payment_method_id  \\\n",
       "0       YyO+tlZtAXYXoZhNr3Vg3+dfVQvrBVGO8j1mfqe4ZHc=                 41   \n",
       "753139  YyO+tlZtAXYXoZhNr3Vg3+dfVQvrBVGO8j1mfqe4ZHc=                 41   \n",
       "\n",
       "        payment_plan_days  plan_list_price  actual_amount_paid  is_auto_renew  \\\n",
       "0                      30              129                 129              1   \n",
       "753139                 30              129                 129              1   \n",
       "\n",
       "       transaction_date membership_expire_date  is_cancel  \n",
       "0            2015-09-30             2015-11-01          0  \n",
       "753139       2015-10-31             2015-12-01          0  "
      ]
     },
     "execution_count": 57,
     "metadata": {},
     "output_type": "execute_result"
    }
   ],
   "source": [
    "## Before we move on to joining data lets clear one thing\n",
    "df_transactions[df_transactions['msno']=='YyO+tlZtAXYXoZhNr3Vg3+dfVQvrBVGO8j1mfqe4ZHc='].head()"
   ]
  },
  {
   "cell_type": "code",
   "execution_count": 62,
   "metadata": {},
   "outputs": [
    {
     "data": {
      "text/html": [
       "<div>\n",
       "<style scoped>\n",
       "    .dataframe tbody tr th:only-of-type {\n",
       "        vertical-align: middle;\n",
       "    }\n",
       "\n",
       "    .dataframe tbody tr th {\n",
       "        vertical-align: top;\n",
       "    }\n",
       "\n",
       "    .dataframe thead th {\n",
       "        text-align: right;\n",
       "    }\n",
       "</style>\n",
       "<table border=\"1\" class=\"dataframe\">\n",
       "  <thead>\n",
       "    <tr style=\"text-align: right;\">\n",
       "      <th></th>\n",
       "      <th>msno</th>\n",
       "      <th>payment_method_id</th>\n",
       "      <th>payment_plan_days</th>\n",
       "      <th>plan_list_price</th>\n",
       "      <th>actual_amount_paid</th>\n",
       "      <th>is_auto_renew</th>\n",
       "      <th>transaction_date</th>\n",
       "      <th>membership_expire_date</th>\n",
       "      <th>is_cancel</th>\n",
       "    </tr>\n",
       "  </thead>\n",
       "  <tbody>\n",
       "    <tr>\n",
       "      <th>0</th>\n",
       "      <td>YyO+tlZtAXYXoZhNr3Vg3+dfVQvrBVGO8j1mfqe4ZHc=</td>\n",
       "      <td>41</td>\n",
       "      <td>30</td>\n",
       "      <td>129</td>\n",
       "      <td>129</td>\n",
       "      <td>1</td>\n",
       "      <td>2015-09-30</td>\n",
       "      <td>2015-11-01</td>\n",
       "      <td>0</td>\n",
       "    </tr>\n",
       "    <tr>\n",
       "      <th>1</th>\n",
       "      <td>AZtu6Wl0gPojrEQYB8Q3vBSmE2wnZ3hi1FbK1rQQ0A4=</td>\n",
       "      <td>41</td>\n",
       "      <td>30</td>\n",
       "      <td>149</td>\n",
       "      <td>149</td>\n",
       "      <td>1</td>\n",
       "      <td>2015-09-30</td>\n",
       "      <td>2015-10-31</td>\n",
       "      <td>0</td>\n",
       "    </tr>\n",
       "    <tr>\n",
       "      <th>2</th>\n",
       "      <td>UkDFI97Qb6+s2LWcijVVv4rMAsORbVDT2wNXF0aVbns=</td>\n",
       "      <td>41</td>\n",
       "      <td>30</td>\n",
       "      <td>129</td>\n",
       "      <td>129</td>\n",
       "      <td>1</td>\n",
       "      <td>2015-09-30</td>\n",
       "      <td>2016-04-27</td>\n",
       "      <td>0</td>\n",
       "    </tr>\n",
       "    <tr>\n",
       "      <th>3</th>\n",
       "      <td>M1C56ijxozNaGD0t2h68PnH2xtx5iO5iR2MVYQB6nBI=</td>\n",
       "      <td>39</td>\n",
       "      <td>30</td>\n",
       "      <td>149</td>\n",
       "      <td>149</td>\n",
       "      <td>1</td>\n",
       "      <td>2015-09-30</td>\n",
       "      <td>2015-11-28</td>\n",
       "      <td>0</td>\n",
       "    </tr>\n",
       "    <tr>\n",
       "      <th>4</th>\n",
       "      <td>yvj6zyBUaqdbUQSrKsrZ+xNDVM62knauSZJzakS9OW4=</td>\n",
       "      <td>39</td>\n",
       "      <td>30</td>\n",
       "      <td>149</td>\n",
       "      <td>149</td>\n",
       "      <td>1</td>\n",
       "      <td>2015-09-30</td>\n",
       "      <td>2015-11-21</td>\n",
       "      <td>0</td>\n",
       "    </tr>\n",
       "  </tbody>\n",
       "</table>\n",
       "</div>"
      ],
      "text/plain": [
       "                                           msno  payment_method_id  \\\n",
       "0  YyO+tlZtAXYXoZhNr3Vg3+dfVQvrBVGO8j1mfqe4ZHc=                 41   \n",
       "1  AZtu6Wl0gPojrEQYB8Q3vBSmE2wnZ3hi1FbK1rQQ0A4=                 41   \n",
       "2  UkDFI97Qb6+s2LWcijVVv4rMAsORbVDT2wNXF0aVbns=                 41   \n",
       "3  M1C56ijxozNaGD0t2h68PnH2xtx5iO5iR2MVYQB6nBI=                 39   \n",
       "4  yvj6zyBUaqdbUQSrKsrZ+xNDVM62knauSZJzakS9OW4=                 39   \n",
       "\n",
       "   payment_plan_days  plan_list_price  actual_amount_paid  is_auto_renew  \\\n",
       "0                 30              129                 129              1   \n",
       "1                 30              149                 149              1   \n",
       "2                 30              129                 129              1   \n",
       "3                 30              149                 149              1   \n",
       "4                 30              149                 149              1   \n",
       "\n",
       "  transaction_date membership_expire_date  is_cancel  \n",
       "0       2015-09-30             2015-11-01          0  \n",
       "1       2015-09-30             2015-10-31          0  \n",
       "2       2015-09-30             2016-04-27          0  \n",
       "3       2015-09-30             2015-11-28          0  \n",
       "4       2015-09-30             2015-11-21          0  "
      ]
     },
     "execution_count": 62,
     "metadata": {},
     "output_type": "execute_result"
    }
   ],
   "source": [
    "df_transactions.head()"
   ]
  },
  {
   "cell_type": "code",
   "execution_count": 63,
   "metadata": {},
   "outputs": [],
   "source": [
    "df_temp = df_transactions"
   ]
  },
  {
   "cell_type": "code",
   "execution_count": null,
   "metadata": {},
   "outputs": [
    {
     "name": "stderr",
     "output_type": "stream",
     "text": [
      "ERROR:root:Internal Python error in the inspect module.\n",
      "Below is the traceback from this internal error.\n",
      "\n"
     ]
    }
   ],
   "source": [
    "df_temp = df_temp[df_temp.membership_expire_date == df_temp.membership_expire_date.max().compute()]"
   ]
  },
  {
   "cell_type": "code",
   "execution_count": 66,
   "metadata": {},
   "outputs": [
    {
     "name": "stderr",
     "output_type": "stream",
     "text": [
      "\n",
      "KeyboardInterrupt\n",
      "\n"
     ]
    }
   ],
   "source": [
    "df_temp.head()"
   ]
  },
  {
   "cell_type": "code",
   "execution_count": null,
   "metadata": {},
   "outputs": [],
   "source": []
  },
  {
   "cell_type": "code",
   "execution_count": null,
   "metadata": {},
   "outputs": [],
   "source": []
  },
  {
   "cell_type": "code",
   "execution_count": null,
   "metadata": {},
   "outputs": [],
   "source": []
  }
 ],
 "metadata": {
  "kernelspec": {
   "display_name": "Python 3",
   "language": "python",
   "name": "python3"
  },
  "language_info": {
   "codemirror_mode": {
    "name": "ipython",
    "version": 3
   },
   "file_extension": ".py",
   "mimetype": "text/x-python",
   "name": "python",
   "nbconvert_exporter": "python",
   "pygments_lexer": "ipython3",
   "version": "3.6.5"
  }
 },
 "nbformat": 4,
 "nbformat_minor": 2
}
