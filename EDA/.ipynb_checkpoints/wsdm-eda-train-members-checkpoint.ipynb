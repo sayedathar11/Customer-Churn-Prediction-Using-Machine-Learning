{
 "cells": [
  {
   "cell_type": "code",
   "execution_count": 1,
   "metadata": {
    "_cell_guid": "b1076dfc-b9ad-4769-8c92-a6c4dae69d19",
    "_uuid": "8f2839f25d086af736a60e9eeb907d3b93b6e0e5",
    "execution": {
     "iopub.execute_input": "2020-09-01T07:41:22.947207Z",
     "iopub.status.busy": "2020-09-01T07:41:22.946417Z",
     "iopub.status.idle": "2020-09-01T07:41:22.953944Z",
     "shell.execute_reply": "2020-09-01T07:41:22.954542Z"
    },
    "papermill": {
     "duration": 0.040224,
     "end_time": "2020-09-01T07:41:22.954761",
     "exception": false,
     "start_time": "2020-09-01T07:41:22.914537",
     "status": "completed"
    },
    "tags": []
   },
   "outputs": [
    {
     "name": "stdout",
     "output_type": "stream",
     "text": [
      "/kaggle/input/kkbox-churn-prediction-challenge/transactions.csv.7z\n",
      "/kaggle/input/kkbox-churn-prediction-challenge/sample_submission_zero.csv.7z\n",
      "/kaggle/input/kkbox-churn-prediction-challenge/WSDMChurnLabeller.scala\n",
      "/kaggle/input/kkbox-churn-prediction-challenge/user_logs_v2.csv.7z\n",
      "/kaggle/input/kkbox-churn-prediction-challenge/user_logs.csv.7z\n",
      "/kaggle/input/kkbox-churn-prediction-challenge/train_v2.csv.7z\n",
      "/kaggle/input/kkbox-churn-prediction-challenge/transactions_v2.csv.7z\n",
      "/kaggle/input/kkbox-churn-prediction-challenge/train.csv.7z\n",
      "/kaggle/input/kkbox-churn-prediction-challenge/members_v3.csv.7z\n",
      "/kaggle/input/kkbox-churn-prediction-challenge/sample_submission_v2.csv.7z\n"
     ]
    }
   ],
   "source": [
    "# This Python 3 environment comes with many helpful analytics libraries installed\n",
    "# It is defined by the kaggle/python Docker image: https://github.com/kaggle/docker-python\n",
    "# For example, here's several helpful packages to load\n",
    "\n",
    "import numpy as np # linear algebra\n",
    "import pandas as pd # data processing, CSV file I/O (e.g. pd.read_csv)\n",
    "\n",
    "# Input data files are available in the read-only \"../input/\" directory\n",
    "# For example, running this (by clicking run or pressing Shift+Enter) will list all files under the input directory\n",
    "\n",
    "import os\n",
    "for dirname, _, filenames in os.walk('/kaggle/input'):\n",
    "    for filename in filenames:\n",
    "        print(os.path.join(dirname, filename))\n",
    "\n",
    "# You can write up to 5GB to the current directory (/kaggle/working/) that gets preserved as output when you create a version using \"Save & Run All\" \n",
    "# You can also write temporary files to /kaggle/temp/, but they won't be saved outside of the current session"
   ]
  },
  {
   "cell_type": "code",
   "execution_count": 2,
   "metadata": {
    "_cell_guid": "79c7e3d0-c299-4dcb-8224-4455121ee9b0",
    "_uuid": "d629ff2d2480ee46fbb7e2d37f6b5fab8052498a",
    "execution": {
     "iopub.execute_input": "2020-09-01T07:41:23.005393Z",
     "iopub.status.busy": "2020-09-01T07:41:23.004574Z",
     "iopub.status.idle": "2020-09-01T07:41:24.144885Z",
     "shell.execute_reply": "2020-09-01T07:41:24.144102Z"
    },
    "papermill": {
     "duration": 1.167326,
     "end_time": "2020-09-01T07:41:24.145033",
     "exception": false,
     "start_time": "2020-09-01T07:41:22.977707",
     "status": "completed"
    },
    "tags": []
   },
   "outputs": [],
   "source": [
    "import pandas as pd\n",
    "import numpy as np\n",
    "import matplotlib.pyplot as plt\n",
    "import seaborn as sns\n"
   ]
  },
  {
   "cell_type": "code",
   "execution_count": 3,
   "metadata": {
    "execution": {
     "iopub.execute_input": "2020-09-01T07:41:24.194050Z",
     "iopub.status.busy": "2020-09-01T07:41:24.193238Z",
     "iopub.status.idle": "2020-09-01T07:41:36.722615Z",
     "shell.execute_reply": "2020-09-01T07:41:36.721950Z"
    },
    "papermill": {
     "duration": 12.555683,
     "end_time": "2020-09-01T07:41:36.722743",
     "exception": false,
     "start_time": "2020-09-01T07:41:24.167060",
     "status": "completed"
    },
    "tags": []
   },
   "outputs": [
    {
     "name": "stdout",
     "output_type": "stream",
     "text": [
      "Collecting py7zr\r\n",
      "  Downloading py7zr-0.9.5-py3-none-any.whl (65 kB)\r\n",
      "\u001b[K     |████████████████████████████████| 65 kB 1.3 MB/s \r\n",
      "\u001b[?25hRequirement already satisfied: texttable in /opt/conda/lib/python3.7/site-packages (from py7zr) (1.6.2)\r\n",
      "Requirement already satisfied: importlib-metadata; python_version < \"3.8\" in /opt/conda/lib/python3.7/site-packages (from py7zr) (1.6.0)\r\n",
      "Collecting pycryptodome\r\n",
      "  Downloading pycryptodome-3.9.8-cp37-cp37m-manylinux1_x86_64.whl (13.7 MB)\r\n",
      "\u001b[K     |████████████████████████████████| 13.7 MB 7.5 MB/s \r\n",
      "\u001b[?25hRequirement already satisfied: zipp>=0.5 in /opt/conda/lib/python3.7/site-packages (from importlib-metadata; python_version < \"3.8\"->py7zr) (3.1.0)\r\n",
      "Installing collected packages: pycryptodome, py7zr\r\n",
      "Successfully installed py7zr-0.9.5 pycryptodome-3.9.8\r\n",
      "Note: you may need to restart the kernel to use updated packages.\n"
     ]
    }
   ],
   "source": [
    "pip install py7zr\n"
   ]
  },
  {
   "cell_type": "code",
   "execution_count": 4,
   "metadata": {
    "execution": {
     "iopub.execute_input": "2020-09-01T07:41:36.797342Z",
     "iopub.status.busy": "2020-09-01T07:41:36.796565Z",
     "iopub.status.idle": "2020-09-01T07:41:42.569701Z",
     "shell.execute_reply": "2020-09-01T07:41:42.570340Z"
    },
    "papermill": {
     "duration": 5.814918,
     "end_time": "2020-09-01T07:41:42.570505",
     "exception": false,
     "start_time": "2020-09-01T07:41:36.755587",
     "status": "completed"
    },
    "tags": []
   },
   "outputs": [
    {
     "name": "stdout",
     "output_type": "stream",
     "text": [
      "usage: py7zr [-h] [--version] {l,x,c,t,i} ...\r\n",
      "py7zr: error: invalid choice: '/kaggle/input/kkbox-churn-prediction-challenge/train.csv.7z' (choose from 'l', 'x', 'c', 't', 'i')\r\n"
     ]
    }
   ],
   "source": [
    "!python -m py7zr /kaggle/input/kkbox-churn-prediction-challenge/train.csv.7z\n",
    "!py7zr x /kaggle/input/kkbox-churn-prediction-challenge/train.csv.7z"
   ]
  },
  {
   "cell_type": "code",
   "execution_count": 5,
   "metadata": {
    "execution": {
     "iopub.execute_input": "2020-09-01T07:41:42.648663Z",
     "iopub.status.busy": "2020-09-01T07:41:42.647757Z",
     "iopub.status.idle": "2020-09-01T07:42:11.119032Z",
     "shell.execute_reply": "2020-09-01T07:42:11.118385Z"
    },
    "papermill": {
     "duration": 28.515454,
     "end_time": "2020-09-01T07:42:11.119182",
     "exception": false,
     "start_time": "2020-09-01T07:41:42.603728",
     "status": "completed"
    },
    "tags": []
   },
   "outputs": [
    {
     "name": "stdout",
     "output_type": "stream",
     "text": [
      "usage: py7zr [-h] [--version] {l,x,c,t,i} ...\r\n",
      "py7zr: error: invalid choice: '/kaggle/input/kkbox-churn-prediction-challenge/members_v3.csv.7z' (choose from 'l', 'x', 'c', 't', 'i')\r\n"
     ]
    }
   ],
   "source": [
    "!python -m py7zr /kaggle/input/kkbox-churn-prediction-challenge/members_v3.csv.7z\n",
    "!py7zr x /kaggle/input/kkbox-churn-prediction-challenge/members_v3.csv.7z"
   ]
  },
  {
   "cell_type": "code",
   "execution_count": 6,
   "metadata": {
    "execution": {
     "iopub.execute_input": "2020-09-01T07:42:11.196196Z",
     "iopub.status.busy": "2020-09-01T07:42:11.195085Z",
     "iopub.status.idle": "2020-09-01T07:42:25.853871Z",
     "shell.execute_reply": "2020-09-01T07:42:25.853209Z"
    },
    "papermill": {
     "duration": 14.701,
     "end_time": "2020-09-01T07:42:25.854011",
     "exception": false,
     "start_time": "2020-09-01T07:42:11.153011",
     "status": "completed"
    },
    "tags": []
   },
   "outputs": [],
   "source": [
    "df_train = pd.read_csv(\"train.csv\")\n",
    "df_mem = pd.read_csv(\"members_v3.csv\",parse_dates = ['registration_init_time'])"
   ]
  },
  {
   "cell_type": "code",
   "execution_count": 7,
   "metadata": {
    "execution": {
     "iopub.execute_input": "2020-09-01T07:42:25.938845Z",
     "iopub.status.busy": "2020-09-01T07:42:25.937725Z",
     "iopub.status.idle": "2020-09-01T07:42:25.949986Z",
     "shell.execute_reply": "2020-09-01T07:42:25.949287Z"
    },
    "papermill": {
     "duration": 0.062364,
     "end_time": "2020-09-01T07:42:25.950115",
     "exception": false,
     "start_time": "2020-09-01T07:42:25.887751",
     "status": "completed"
    },
    "tags": []
   },
   "outputs": [
    {
     "data": {
      "text/html": [
       "<div>\n",
       "<style scoped>\n",
       "    .dataframe tbody tr th:only-of-type {\n",
       "        vertical-align: middle;\n",
       "    }\n",
       "\n",
       "    .dataframe tbody tr th {\n",
       "        vertical-align: top;\n",
       "    }\n",
       "\n",
       "    .dataframe thead th {\n",
       "        text-align: right;\n",
       "    }\n",
       "</style>\n",
       "<table border=\"1\" class=\"dataframe\">\n",
       "  <thead>\n",
       "    <tr style=\"text-align: right;\">\n",
       "      <th></th>\n",
       "      <th>msno</th>\n",
       "      <th>city</th>\n",
       "      <th>bd</th>\n",
       "      <th>gender</th>\n",
       "      <th>registered_via</th>\n",
       "      <th>registration_init_time</th>\n",
       "    </tr>\n",
       "  </thead>\n",
       "  <tbody>\n",
       "    <tr>\n",
       "      <th>0</th>\n",
       "      <td>Rb9UwLQTrxzBVwCB6+bCcSQWZ9JiNLC9dXtM1oEsZA8=</td>\n",
       "      <td>1</td>\n",
       "      <td>0</td>\n",
       "      <td>NaN</td>\n",
       "      <td>11</td>\n",
       "      <td>2011-09-11</td>\n",
       "    </tr>\n",
       "    <tr>\n",
       "      <th>1</th>\n",
       "      <td>+tJonkh+O1CA796Fm5X60UMOtB6POHAwPjbTRVl/EuU=</td>\n",
       "      <td>1</td>\n",
       "      <td>0</td>\n",
       "      <td>NaN</td>\n",
       "      <td>7</td>\n",
       "      <td>2011-09-14</td>\n",
       "    </tr>\n",
       "    <tr>\n",
       "      <th>2</th>\n",
       "      <td>cV358ssn7a0f7jZOwGNWS07wCKVqxyiImJUX6xcIwKw=</td>\n",
       "      <td>1</td>\n",
       "      <td>0</td>\n",
       "      <td>NaN</td>\n",
       "      <td>11</td>\n",
       "      <td>2011-09-15</td>\n",
       "    </tr>\n",
       "    <tr>\n",
       "      <th>3</th>\n",
       "      <td>9bzDeJP6sQodK73K5CBlJ6fgIQzPeLnRl0p5B77XP+g=</td>\n",
       "      <td>1</td>\n",
       "      <td>0</td>\n",
       "      <td>NaN</td>\n",
       "      <td>11</td>\n",
       "      <td>2011-09-15</td>\n",
       "    </tr>\n",
       "    <tr>\n",
       "      <th>4</th>\n",
       "      <td>WFLY3s7z4EZsieHCt63XrsdtfTEmJ+2PnnKLH5GY4Tk=</td>\n",
       "      <td>6</td>\n",
       "      <td>32</td>\n",
       "      <td>female</td>\n",
       "      <td>9</td>\n",
       "      <td>2011-09-15</td>\n",
       "    </tr>\n",
       "  </tbody>\n",
       "</table>\n",
       "</div>"
      ],
      "text/plain": [
       "                                           msno  city  bd  gender  \\\n",
       "0  Rb9UwLQTrxzBVwCB6+bCcSQWZ9JiNLC9dXtM1oEsZA8=     1   0     NaN   \n",
       "1  +tJonkh+O1CA796Fm5X60UMOtB6POHAwPjbTRVl/EuU=     1   0     NaN   \n",
       "2  cV358ssn7a0f7jZOwGNWS07wCKVqxyiImJUX6xcIwKw=     1   0     NaN   \n",
       "3  9bzDeJP6sQodK73K5CBlJ6fgIQzPeLnRl0p5B77XP+g=     1   0     NaN   \n",
       "4  WFLY3s7z4EZsieHCt63XrsdtfTEmJ+2PnnKLH5GY4Tk=     6  32  female   \n",
       "\n",
       "   registered_via registration_init_time  \n",
       "0              11             2011-09-11  \n",
       "1               7             2011-09-14  \n",
       "2              11             2011-09-15  \n",
       "3              11             2011-09-15  \n",
       "4               9             2011-09-15  "
      ]
     },
     "execution_count": 7,
     "metadata": {},
     "output_type": "execute_result"
    }
   ],
   "source": [
    "df_mem.head()"
   ]
  },
  {
   "cell_type": "code",
   "execution_count": 8,
   "metadata": {
    "execution": {
     "iopub.execute_input": "2020-09-01T07:42:26.025948Z",
     "iopub.status.busy": "2020-09-01T07:42:26.025136Z",
     "iopub.status.idle": "2020-09-01T07:42:26.029820Z",
     "shell.execute_reply": "2020-09-01T07:42:26.029110Z"
    },
    "papermill": {
     "duration": 0.045272,
     "end_time": "2020-09-01T07:42:26.029962",
     "exception": false,
     "start_time": "2020-09-01T07:42:25.984690",
     "status": "completed"
    },
    "tags": []
   },
   "outputs": [
    {
     "name": "stdout",
     "output_type": "stream",
     "text": [
      "(6769473, 6)\n"
     ]
    }
   ],
   "source": [
    "print(df_mem.shape)"
   ]
  },
  {
   "cell_type": "markdown",
   "metadata": {
    "papermill": {
     "duration": 0.034484,
     "end_time": "2020-09-01T07:42:26.099630",
     "exception": false,
     "start_time": "2020-09-01T07:42:26.065146",
     "status": "completed"
    },
    "tags": []
   },
   "source": [
    "### Members_v3.csv.\n",
    "1. We have msno which can be used for joining with train.csv to do churn analysis\n",
    "2. We Have City which looks like categorical variable and is encoded numerically\n",
    "3. We Have Gender we can see there are Nan present \n",
    "4. We have bd which is age column and as per the data description given there are outliers present in range -7000 to 2015\n",
    "5. Lets do some basic analysis and imputation before joining this data with train.csv"
   ]
  },
  {
   "cell_type": "markdown",
   "metadata": {
    "papermill": {
     "duration": 0.034478,
     "end_time": "2020-09-01T07:42:26.169010",
     "exception": false,
     "start_time": "2020-09-01T07:42:26.134532",
     "status": "completed"
    },
    "tags": []
   },
   "source": [
    "### What is Datatype for Each columns ?"
   ]
  },
  {
   "cell_type": "code",
   "execution_count": 9,
   "metadata": {
    "execution": {
     "iopub.execute_input": "2020-09-01T07:42:26.247482Z",
     "iopub.status.busy": "2020-09-01T07:42:26.246474Z",
     "iopub.status.idle": "2020-09-01T07:42:26.252137Z",
     "shell.execute_reply": "2020-09-01T07:42:26.251418Z"
    },
    "papermill": {
     "duration": 0.047602,
     "end_time": "2020-09-01T07:42:26.252274",
     "exception": false,
     "start_time": "2020-09-01T07:42:26.204672",
     "status": "completed"
    },
    "tags": []
   },
   "outputs": [
    {
     "name": "stdout",
     "output_type": "stream",
     "text": [
      "msno                              object\n",
      "city                               int64\n",
      "bd                                 int64\n",
      "gender                            object\n",
      "registered_via                     int64\n",
      "registration_init_time    datetime64[ns]\n",
      "dtype: object\n"
     ]
    }
   ],
   "source": [
    "print(df_mem.dtypes)"
   ]
  },
  {
   "cell_type": "markdown",
   "metadata": {
    "papermill": {
     "duration": 0.034515,
     "end_time": "2020-09-01T07:42:26.321713",
     "exception": false,
     "start_time": "2020-09-01T07:42:26.287198",
     "status": "completed"
    },
    "tags": []
   },
   "source": [
    "1. For city and birthdate the data type seems appropriate\n",
    "2. For Gender Datatype is object , better to use categorical datatype to reduce memory storage"
   ]
  },
  {
   "cell_type": "markdown",
   "metadata": {
    "papermill": {
     "duration": 0.034655,
     "end_time": "2020-09-01T07:42:26.391092",
     "exception": false,
     "start_time": "2020-09-01T07:42:26.356437",
     "status": "completed"
    },
    "tags": []
   },
   "source": [
    "### How many unique values for each male and female category present in gender column ?"
   ]
  },
  {
   "cell_type": "code",
   "execution_count": 10,
   "metadata": {
    "execution": {
     "iopub.execute_input": "2020-09-01T07:42:27.564154Z",
     "iopub.status.busy": "2020-09-01T07:42:27.563390Z",
     "iopub.status.idle": "2020-09-01T07:42:27.573683Z",
     "shell.execute_reply": "2020-09-01T07:42:27.574236Z"
    },
    "papermill": {
     "duration": 1.148471,
     "end_time": "2020-09-01T07:42:27.574421",
     "exception": false,
     "start_time": "2020-09-01T07:42:26.425950",
     "status": "completed"
    },
    "tags": []
   },
   "outputs": [
    {
     "data": {
      "text/plain": [
       "male      1195355\n",
       "female    1144613\n",
       "Name: gender, dtype: int64"
      ]
     },
     "execution_count": 10,
     "metadata": {},
     "output_type": "execute_result"
    }
   ],
   "source": [
    "df_mem['gender'].value_counts()"
   ]
  },
  {
   "cell_type": "markdown",
   "metadata": {
    "papermill": {
     "duration": 0.034912,
     "end_time": "2020-09-01T07:42:27.644987",
     "exception": false,
     "start_time": "2020-09-01T07:42:27.610075",
     "status": "completed"
    },
    "tags": []
   },
   "source": [
    "1. Overall 6769473,  rows present in our members dataframe\n",
    "2. But only 2339968 total rows including unique male and female values are present.\n",
    "3. 4429505 rows have , Missing values for male and female categories"
   ]
  },
  {
   "cell_type": "markdown",
   "metadata": {
    "papermill": {
     "duration": 0.034855,
     "end_time": "2020-09-01T07:42:27.715352",
     "exception": false,
     "start_time": "2020-09-01T07:42:27.680497",
     "status": "completed"
    },
    "tags": []
   },
   "source": [
    "#### Lets see Which columns have missing values present"
   ]
  },
  {
   "cell_type": "code",
   "execution_count": 11,
   "metadata": {
    "execution": {
     "iopub.execute_input": "2020-09-01T07:42:27.791295Z",
     "iopub.status.busy": "2020-09-01T07:42:27.790489Z",
     "iopub.status.idle": "2020-09-01T07:42:29.129417Z",
     "shell.execute_reply": "2020-09-01T07:42:29.128667Z"
    },
    "papermill": {
     "duration": 1.379208,
     "end_time": "2020-09-01T07:42:29.129543",
     "exception": false,
     "start_time": "2020-09-01T07:42:27.750335",
     "status": "completed"
    },
    "tags": []
   },
   "outputs": [
    {
     "data": {
      "text/plain": [
       "msno                            0\n",
       "city                            0\n",
       "bd                              0\n",
       "gender                    4429505\n",
       "registered_via                  0\n",
       "registration_init_time          0\n",
       "dtype: int64"
      ]
     },
     "execution_count": 11,
     "metadata": {},
     "output_type": "execute_result"
    }
   ],
   "source": [
    "df_mem.isna().sum()"
   ]
  },
  {
   "cell_type": "markdown",
   "metadata": {
    "papermill": {
     "duration": 0.035827,
     "end_time": "2020-09-01T07:42:29.200970",
     "exception": false,
     "start_time": "2020-09-01T07:42:29.165143",
     "status": "completed"
    },
    "tags": []
   },
   "source": [
    "### Only Gender column has missing values we need to handle that"
   ]
  },
  {
   "cell_type": "code",
   "execution_count": 12,
   "metadata": {
    "execution": {
     "iopub.execute_input": "2020-09-01T07:42:29.408009Z",
     "iopub.status.busy": "2020-09-01T07:42:29.407199Z",
     "iopub.status.idle": "2020-09-01T07:42:30.869191Z",
     "shell.execute_reply": "2020-09-01T07:42:30.868541Z"
    },
    "papermill": {
     "duration": 1.631812,
     "end_time": "2020-09-01T07:42:30.869347",
     "exception": false,
     "start_time": "2020-09-01T07:42:29.237535",
     "status": "completed"
    },
    "tags": []
   },
   "outputs": [],
   "source": [
    "#https://www.geeksforgeeks.org/python-pandas-dataframe-astype/#:~:text=astype()%20method%20is%20used,type%20to%20another%20data%20type.\n",
    "df_mem = df_mem.astype({'gender':'category'})"
   ]
  },
  {
   "cell_type": "code",
   "execution_count": 13,
   "metadata": {
    "execution": {
     "iopub.execute_input": "2020-09-01T07:42:31.495754Z",
     "iopub.status.busy": "2020-09-01T07:42:31.494646Z",
     "iopub.status.idle": "2020-09-01T07:42:31.501904Z",
     "shell.execute_reply": "2020-09-01T07:42:31.502879Z"
    },
    "papermill": {
     "duration": 0.597564,
     "end_time": "2020-09-01T07:42:31.503135",
     "exception": false,
     "start_time": "2020-09-01T07:42:30.905571",
     "status": "completed"
    },
    "tags": []
   },
   "outputs": [
    {
     "data": {
      "text/plain": [
       "msno                              object\n",
       "city                               int64\n",
       "bd                                 int64\n",
       "gender                          category\n",
       "registered_via                     int64\n",
       "registration_init_time    datetime64[ns]\n",
       "dtype: object"
      ]
     },
     "execution_count": 13,
     "metadata": {},
     "output_type": "execute_result"
    }
   ],
   "source": [
    "df_mem.dtypes"
   ]
  },
  {
   "cell_type": "markdown",
   "metadata": {
    "papermill": {
     "duration": 0.040005,
     "end_time": "2020-09-01T07:42:31.591882",
     "exception": false,
     "start_time": "2020-09-01T07:42:31.551877",
     "status": "completed"
    },
    "tags": []
   },
   "source": [
    "## Nan / Missing Values:\n",
    "1. There are two ways we can handle missing values.\n",
    "2. One way is we can drop all the rows containing Nan Values simply .\n",
    "3. Other way is we can do some form of imputation for gender column.\n",
    "4. Also Here Males are More in Number than Females , There is roughly 50k difference \n",
    "5. If We just do Max imputation our Male will become significantly more than females\n",
    "6.Lets Drop Nan Values Simply"
   ]
  },
  {
   "cell_type": "code",
   "execution_count": 14,
   "metadata": {
    "execution": {
     "iopub.execute_input": "2020-09-01T07:42:31.671673Z",
     "iopub.status.busy": "2020-09-01T07:42:31.670425Z",
     "iopub.status.idle": "2020-09-01T07:42:32.848669Z",
     "shell.execute_reply": "2020-09-01T07:42:32.847977Z"
    },
    "papermill": {
     "duration": 1.220905,
     "end_time": "2020-09-01T07:42:32.848810",
     "exception": false,
     "start_time": "2020-09-01T07:42:31.627905",
     "status": "completed"
    },
    "tags": []
   },
   "outputs": [],
   "source": [
    "## lets see values for one last time\n",
    "df_mem.dropna(inplace=True)"
   ]
  },
  {
   "cell_type": "code",
   "execution_count": 15,
   "metadata": {
    "execution": {
     "iopub.execute_input": "2020-09-01T07:42:32.926987Z",
     "iopub.status.busy": "2020-09-01T07:42:32.925892Z",
     "iopub.status.idle": "2020-09-01T07:42:32.930328Z",
     "shell.execute_reply": "2020-09-01T07:42:32.929703Z"
    },
    "papermill": {
     "duration": 0.045692,
     "end_time": "2020-09-01T07:42:32.930452",
     "exception": false,
     "start_time": "2020-09-01T07:42:32.884760",
     "status": "completed"
    },
    "tags": []
   },
   "outputs": [
    {
     "data": {
      "text/plain": [
       "(2339968, 6)"
      ]
     },
     "execution_count": 15,
     "metadata": {},
     "output_type": "execute_result"
    }
   ],
   "source": [
    "df_mem.shape"
   ]
  },
  {
   "cell_type": "code",
   "execution_count": 16,
   "metadata": {
    "execution": {
     "iopub.execute_input": "2020-09-01T07:42:33.009502Z",
     "iopub.status.busy": "2020-09-01T07:42:33.008703Z",
     "iopub.status.idle": "2020-09-01T07:42:33.326466Z",
     "shell.execute_reply": "2020-09-01T07:42:33.325802Z"
    },
    "papermill": {
     "duration": 0.359906,
     "end_time": "2020-09-01T07:42:33.326599",
     "exception": false,
     "start_time": "2020-09-01T07:42:32.966693",
     "status": "completed"
    },
    "tags": []
   },
   "outputs": [
    {
     "data": {
      "text/plain": [
       "msno                      0\n",
       "city                      0\n",
       "bd                        0\n",
       "gender                    0\n",
       "registered_via            0\n",
       "registration_init_time    0\n",
       "dtype: int64"
      ]
     },
     "execution_count": 16,
     "metadata": {},
     "output_type": "execute_result"
    }
   ],
   "source": [
    "## Just Checking\n",
    "df_mem.isna().sum()"
   ]
  },
  {
   "cell_type": "code",
   "execution_count": 17,
   "metadata": {
    "execution": {
     "iopub.execute_input": "2020-09-01T07:42:33.419964Z",
     "iopub.status.busy": "2020-09-01T07:42:33.418850Z",
     "iopub.status.idle": "2020-09-01T07:42:33.424092Z",
     "shell.execute_reply": "2020-09-01T07:42:33.423381Z"
    },
    "papermill": {
     "duration": 0.061095,
     "end_time": "2020-09-01T07:42:33.424229",
     "exception": false,
     "start_time": "2020-09-01T07:42:33.363134",
     "status": "completed"
    },
    "tags": []
   },
   "outputs": [
    {
     "data": {
      "text/html": [
       "<div>\n",
       "<style scoped>\n",
       "    .dataframe tbody tr th:only-of-type {\n",
       "        vertical-align: middle;\n",
       "    }\n",
       "\n",
       "    .dataframe tbody tr th {\n",
       "        vertical-align: top;\n",
       "    }\n",
       "\n",
       "    .dataframe thead th {\n",
       "        text-align: right;\n",
       "    }\n",
       "</style>\n",
       "<table border=\"1\" class=\"dataframe\">\n",
       "  <thead>\n",
       "    <tr style=\"text-align: right;\">\n",
       "      <th></th>\n",
       "      <th>msno</th>\n",
       "      <th>city</th>\n",
       "      <th>bd</th>\n",
       "      <th>gender</th>\n",
       "      <th>registered_via</th>\n",
       "      <th>registration_init_time</th>\n",
       "    </tr>\n",
       "  </thead>\n",
       "  <tbody>\n",
       "    <tr>\n",
       "      <th>4</th>\n",
       "      <td>WFLY3s7z4EZsieHCt63XrsdtfTEmJ+2PnnKLH5GY4Tk=</td>\n",
       "      <td>6</td>\n",
       "      <td>32</td>\n",
       "      <td>female</td>\n",
       "      <td>9</td>\n",
       "      <td>2011-09-15</td>\n",
       "    </tr>\n",
       "    <tr>\n",
       "      <th>5</th>\n",
       "      <td>yLkV2gbZ4GLFwqTOXLVHz0VGrMYcgBGgKZ3kj9RiYu8=</td>\n",
       "      <td>4</td>\n",
       "      <td>30</td>\n",
       "      <td>male</td>\n",
       "      <td>9</td>\n",
       "      <td>2011-09-16</td>\n",
       "    </tr>\n",
       "    <tr>\n",
       "      <th>7</th>\n",
       "      <td>WH5Jq4mgtfUFXh2yz+HrcTXKS4Oess4k4W3qKolAeb0=</td>\n",
       "      <td>5</td>\n",
       "      <td>34</td>\n",
       "      <td>male</td>\n",
       "      <td>9</td>\n",
       "      <td>2011-09-16</td>\n",
       "    </tr>\n",
       "    <tr>\n",
       "      <th>8</th>\n",
       "      <td>tKmbR4X5VXjHmxERrckawEMZ4znVy1lAQIR1vV5rdNk=</td>\n",
       "      <td>5</td>\n",
       "      <td>19</td>\n",
       "      <td>male</td>\n",
       "      <td>9</td>\n",
       "      <td>2011-09-17</td>\n",
       "    </tr>\n",
       "    <tr>\n",
       "      <th>9</th>\n",
       "      <td>I0yFvqMoNkM8ZNHb617e1RBzIS/YRKemHO7Wj13EtA0=</td>\n",
       "      <td>13</td>\n",
       "      <td>63</td>\n",
       "      <td>male</td>\n",
       "      <td>9</td>\n",
       "      <td>2011-09-18</td>\n",
       "    </tr>\n",
       "  </tbody>\n",
       "</table>\n",
       "</div>"
      ],
      "text/plain": [
       "                                           msno  city  bd  gender  \\\n",
       "4  WFLY3s7z4EZsieHCt63XrsdtfTEmJ+2PnnKLH5GY4Tk=     6  32  female   \n",
       "5  yLkV2gbZ4GLFwqTOXLVHz0VGrMYcgBGgKZ3kj9RiYu8=     4  30    male   \n",
       "7  WH5Jq4mgtfUFXh2yz+HrcTXKS4Oess4k4W3qKolAeb0=     5  34    male   \n",
       "8  tKmbR4X5VXjHmxERrckawEMZ4znVy1lAQIR1vV5rdNk=     5  19    male   \n",
       "9  I0yFvqMoNkM8ZNHb617e1RBzIS/YRKemHO7Wj13EtA0=    13  63    male   \n",
       "\n",
       "   registered_via registration_init_time  \n",
       "4               9             2011-09-15  \n",
       "5               9             2011-09-16  \n",
       "7               9             2011-09-16  \n",
       "8               9             2011-09-17  \n",
       "9               9             2011-09-18  "
      ]
     },
     "execution_count": 17,
     "metadata": {},
     "output_type": "execute_result"
    }
   ],
   "source": [
    "df_mem.head()"
   ]
  },
  {
   "cell_type": "code",
   "execution_count": 18,
   "metadata": {
    "execution": {
     "iopub.execute_input": "2020-09-01T07:42:33.504958Z",
     "iopub.status.busy": "2020-09-01T07:42:33.504084Z",
     "iopub.status.idle": "2020-09-01T07:42:37.141493Z",
     "shell.execute_reply": "2020-09-01T07:42:37.140685Z"
    },
    "papermill": {
     "duration": 3.680564,
     "end_time": "2020-09-01T07:42:37.141621",
     "exception": false,
     "start_time": "2020-09-01T07:42:33.461057",
     "status": "completed"
    },
    "tags": []
   },
   "outputs": [],
   "source": [
    "## Lets Join it with train.csv\n",
    "df_train = df_train.merge(df_mem,on=['msno'],how='left')"
   ]
  },
  {
   "cell_type": "code",
   "execution_count": 19,
   "metadata": {
    "execution": {
     "iopub.execute_input": "2020-09-01T07:42:37.232459Z",
     "iopub.status.busy": "2020-09-01T07:42:37.231295Z",
     "iopub.status.idle": "2020-09-01T07:42:37.235287Z",
     "shell.execute_reply": "2020-09-01T07:42:37.235901Z"
    },
    "papermill": {
     "duration": 0.057375,
     "end_time": "2020-09-01T07:42:37.236072",
     "exception": false,
     "start_time": "2020-09-01T07:42:37.178697",
     "status": "completed"
    },
    "tags": []
   },
   "outputs": [
    {
     "data": {
      "text/html": [
       "<div>\n",
       "<style scoped>\n",
       "    .dataframe tbody tr th:only-of-type {\n",
       "        vertical-align: middle;\n",
       "    }\n",
       "\n",
       "    .dataframe tbody tr th {\n",
       "        vertical-align: top;\n",
       "    }\n",
       "\n",
       "    .dataframe thead th {\n",
       "        text-align: right;\n",
       "    }\n",
       "</style>\n",
       "<table border=\"1\" class=\"dataframe\">\n",
       "  <thead>\n",
       "    <tr style=\"text-align: right;\">\n",
       "      <th></th>\n",
       "      <th>msno</th>\n",
       "      <th>is_churn</th>\n",
       "      <th>city</th>\n",
       "      <th>bd</th>\n",
       "      <th>gender</th>\n",
       "      <th>registered_via</th>\n",
       "      <th>registration_init_time</th>\n",
       "    </tr>\n",
       "  </thead>\n",
       "  <tbody>\n",
       "    <tr>\n",
       "      <th>0</th>\n",
       "      <td>waLDQMmcOu2jLDaV1ddDkgCrB/jl6sD66Xzs0Vqax1Y=</td>\n",
       "      <td>1</td>\n",
       "      <td>18.0</td>\n",
       "      <td>36.0</td>\n",
       "      <td>female</td>\n",
       "      <td>9.0</td>\n",
       "      <td>2005-04-06</td>\n",
       "    </tr>\n",
       "    <tr>\n",
       "      <th>1</th>\n",
       "      <td>QA7uiXy8vIbUSPOkCf9RwQ3FsT8jVq2OxDr8zqa7bRQ=</td>\n",
       "      <td>1</td>\n",
       "      <td>10.0</td>\n",
       "      <td>38.0</td>\n",
       "      <td>male</td>\n",
       "      <td>9.0</td>\n",
       "      <td>2005-04-07</td>\n",
       "    </tr>\n",
       "    <tr>\n",
       "      <th>2</th>\n",
       "      <td>fGwBva6hikQmTJzrbz/2Ezjm5Cth5jZUNvXigKK2AFA=</td>\n",
       "      <td>1</td>\n",
       "      <td>11.0</td>\n",
       "      <td>27.0</td>\n",
       "      <td>female</td>\n",
       "      <td>9.0</td>\n",
       "      <td>2005-10-16</td>\n",
       "    </tr>\n",
       "    <tr>\n",
       "      <th>3</th>\n",
       "      <td>mT5V8rEpa+8wuqi6x0DoVd3H5icMKkE9Prt49UlmK+4=</td>\n",
       "      <td>1</td>\n",
       "      <td>13.0</td>\n",
       "      <td>23.0</td>\n",
       "      <td>female</td>\n",
       "      <td>9.0</td>\n",
       "      <td>2005-11-02</td>\n",
       "    </tr>\n",
       "    <tr>\n",
       "      <th>4</th>\n",
       "      <td>XaPhtGLk/5UvvOYHcONTwsnH97P4eGECeq+BARGItRw=</td>\n",
       "      <td>1</td>\n",
       "      <td>3.0</td>\n",
       "      <td>27.0</td>\n",
       "      <td>male</td>\n",
       "      <td>9.0</td>\n",
       "      <td>2005-12-28</td>\n",
       "    </tr>\n",
       "  </tbody>\n",
       "</table>\n",
       "</div>"
      ],
      "text/plain": [
       "                                           msno  is_churn  city    bd  gender  \\\n",
       "0  waLDQMmcOu2jLDaV1ddDkgCrB/jl6sD66Xzs0Vqax1Y=         1  18.0  36.0  female   \n",
       "1  QA7uiXy8vIbUSPOkCf9RwQ3FsT8jVq2OxDr8zqa7bRQ=         1  10.0  38.0    male   \n",
       "2  fGwBva6hikQmTJzrbz/2Ezjm5Cth5jZUNvXigKK2AFA=         1  11.0  27.0  female   \n",
       "3  mT5V8rEpa+8wuqi6x0DoVd3H5icMKkE9Prt49UlmK+4=         1  13.0  23.0  female   \n",
       "4  XaPhtGLk/5UvvOYHcONTwsnH97P4eGECeq+BARGItRw=         1   3.0  27.0    male   \n",
       "\n",
       "   registered_via registration_init_time  \n",
       "0             9.0             2005-04-06  \n",
       "1             9.0             2005-04-07  \n",
       "2             9.0             2005-10-16  \n",
       "3             9.0             2005-11-02  \n",
       "4             9.0             2005-12-28  "
      ]
     },
     "execution_count": 19,
     "metadata": {},
     "output_type": "execute_result"
    }
   ],
   "source": [
    "df_train.head()"
   ]
  },
  {
   "cell_type": "code",
   "execution_count": 20,
   "metadata": {
    "execution": {
     "iopub.execute_input": "2020-09-01T07:42:37.317061Z",
     "iopub.status.busy": "2020-09-01T07:42:37.316210Z",
     "iopub.status.idle": "2020-09-01T07:42:37.319917Z",
     "shell.execute_reply": "2020-09-01T07:42:37.320637Z"
    },
    "papermill": {
     "duration": 0.047132,
     "end_time": "2020-09-01T07:42:37.320793",
     "exception": false,
     "start_time": "2020-09-01T07:42:37.273661",
     "status": "completed"
    },
    "tags": []
   },
   "outputs": [
    {
     "data": {
      "text/plain": [
       "(992931, 7)"
      ]
     },
     "execution_count": 20,
     "metadata": {},
     "output_type": "execute_result"
    }
   ],
   "source": [
    "df_train.shape"
   ]
  },
  {
   "cell_type": "code",
   "execution_count": 21,
   "metadata": {
    "execution": {
     "iopub.execute_input": "2020-09-01T07:42:37.506663Z",
     "iopub.status.busy": "2020-09-01T07:42:37.505844Z",
     "iopub.status.idle": "2020-09-01T07:42:37.528695Z",
     "shell.execute_reply": "2020-09-01T07:42:37.529221Z"
    },
    "papermill": {
     "duration": 0.171382,
     "end_time": "2020-09-01T07:42:37.529406",
     "exception": false,
     "start_time": "2020-09-01T07:42:37.358024",
     "status": "completed"
    },
    "tags": []
   },
   "outputs": [
    {
     "data": {
      "text/plain": [
       "msno                           0\n",
       "is_churn                       0\n",
       "city                      601239\n",
       "bd                        601239\n",
       "gender                    601239\n",
       "registered_via            601239\n",
       "registration_init_time    601239\n",
       "dtype: int64"
      ]
     },
     "execution_count": 21,
     "metadata": {},
     "output_type": "execute_result"
    }
   ],
   "source": [
    "### Lets Check For Nan Values Again , There can be some Nan Values as All Customer Information is not Present\n",
    "df_train.isna().sum()"
   ]
  },
  {
   "cell_type": "code",
   "execution_count": 22,
   "metadata": {
    "execution": {
     "iopub.execute_input": "2020-09-01T07:42:37.609010Z",
     "iopub.status.busy": "2020-09-01T07:42:37.608145Z",
     "iopub.status.idle": "2020-09-01T07:42:37.777423Z",
     "shell.execute_reply": "2020-09-01T07:42:37.776731Z"
    },
    "papermill": {
     "duration": 0.21108,
     "end_time": "2020-09-01T07:42:37.777551",
     "exception": false,
     "start_time": "2020-09-01T07:42:37.566471",
     "status": "completed"
    },
    "tags": []
   },
   "outputs": [],
   "source": [
    "## Lets drop All This Nan Value , to make analysis simple\n",
    "df_train.dropna(inplace = True)"
   ]
  },
  {
   "cell_type": "code",
   "execution_count": 23,
   "metadata": {
    "execution": {
     "iopub.execute_input": "2020-09-01T07:42:37.860752Z",
     "iopub.status.busy": "2020-09-01T07:42:37.859891Z",
     "iopub.status.idle": "2020-09-01T07:42:37.863596Z",
     "shell.execute_reply": "2020-09-01T07:42:37.864334Z"
    },
    "papermill": {
     "duration": 0.048774,
     "end_time": "2020-09-01T07:42:37.864546",
     "exception": false,
     "start_time": "2020-09-01T07:42:37.815772",
     "status": "completed"
    },
    "tags": []
   },
   "outputs": [
    {
     "data": {
      "text/plain": [
       "(391692, 7)"
      ]
     },
     "execution_count": 23,
     "metadata": {},
     "output_type": "execute_result"
    }
   ],
   "source": [
    "df_train.shape"
   ]
  },
  {
   "cell_type": "markdown",
   "metadata": {
    "papermill": {
     "duration": 0.037741,
     "end_time": "2020-09-01T07:42:37.940072",
     "exception": false,
     "start_time": "2020-09-01T07:42:37.902331",
     "status": "completed"
    },
    "tags": []
   },
   "source": [
    "### How is Distribution of Gender over churn Variable ?"
   ]
  },
  {
   "cell_type": "code",
   "execution_count": 24,
   "metadata": {
    "execution": {
     "iopub.execute_input": "2020-09-01T07:42:38.023340Z",
     "iopub.status.busy": "2020-09-01T07:42:38.022550Z",
     "iopub.status.idle": "2020-09-01T07:42:38.051368Z",
     "shell.execute_reply": "2020-09-01T07:42:38.051955Z"
    },
    "papermill": {
     "duration": 0.073983,
     "end_time": "2020-09-01T07:42:38.052143",
     "exception": false,
     "start_time": "2020-09-01T07:42:37.978160",
     "status": "completed"
    },
    "tags": []
   },
   "outputs": [],
   "source": [
    "df_churn = df_train[df_train['is_churn']==1]\n",
    "df_nochurn = df_train[df_train['is_churn']==0]"
   ]
  },
  {
   "cell_type": "code",
   "execution_count": 25,
   "metadata": {
    "execution": {
     "iopub.execute_input": "2020-09-01T07:42:38.134531Z",
     "iopub.status.busy": "2020-09-01T07:42:38.133514Z",
     "iopub.status.idle": "2020-09-01T07:42:38.365206Z",
     "shell.execute_reply": "2020-09-01T07:42:38.364574Z"
    },
    "papermill": {
     "duration": 0.275305,
     "end_time": "2020-09-01T07:42:38.365349",
     "exception": false,
     "start_time": "2020-09-01T07:42:38.090044",
     "status": "completed"
    },
    "tags": []
   },
   "outputs": [
    {
     "data": {
      "text/plain": [
       "<matplotlib.axes._subplots.AxesSubplot at 0x7fd532201950>"
      ]
     },
     "execution_count": 25,
     "metadata": {},
     "output_type": "execute_result"
    },
    {
     "data": {
      "image/png": "[encoded data removed]",
      "text/plain": [
       "<Figure size 432x288 with 1 Axes>"
      ]
     },
     "metadata": {
      "needs_background": "light"
     },
     "output_type": "display_data"
    }
   ],
   "source": [
    "df_churn['gender'].value_counts().plot(kind='bar',title = 'Distributions of Male and Female for Churned Users')"
   ]
  },
  {
   "cell_type": "code",
   "execution_count": 26,
   "metadata": {
    "execution": {
     "iopub.execute_input": "2020-09-01T07:42:38.447491Z",
     "iopub.status.busy": "2020-09-01T07:42:38.446684Z",
     "iopub.status.idle": "2020-09-01T07:42:38.589666Z",
     "shell.execute_reply": "2020-09-01T07:42:38.590247Z"
    },
    "papermill": {
     "duration": 0.187098,
     "end_time": "2020-09-01T07:42:38.590445",
     "exception": false,
     "start_time": "2020-09-01T07:42:38.403347",
     "status": "completed"
    },
    "tags": []
   },
   "outputs": [
    {
     "data": {
      "text/plain": [
       "<matplotlib.axes._subplots.AxesSubplot at 0x7fd5360e8810>"
      ]
     },
     "execution_count": 26,
     "metadata": {},
     "output_type": "execute_result"
    },
    {
     "data": {
      "image/png": "[encoded data removed]",
      "text/plain": [
       "<Figure size 432x288 with 1 Axes>"
      ]
     },
     "metadata": {
      "needs_background": "light"
     },
     "output_type": "display_data"
    }
   ],
   "source": [
    "df_nochurn['gender'].value_counts().plot(kind='bar',title = 'Distributions of Male and Female for Non Churned Users')"
   ]
  },
  {
   "cell_type": "markdown",
   "metadata": {
    "papermill": {
     "duration": 0.038643,
     "end_time": "2020-09-01T07:42:38.668261",
     "exception": false,
     "start_time": "2020-09-01T07:42:38.629618",
     "status": "completed"
    },
    "tags": []
   },
   "source": [
    "### Observations:\n",
    "1. Both For Churned and Non Churned Users The Distribution of Male and Female Categories is similar.\n",
    "2. Typically There are higher percentage of Male , than Females for both Churned and Non Churned Categories"
   ]
  },
  {
   "cell_type": "markdown",
   "metadata": {
    "papermill": {
     "duration": 0.038157,
     "end_time": "2020-09-01T07:42:38.744904",
     "exception": false,
     "start_time": "2020-09-01T07:42:38.706747",
     "status": "completed"
    },
    "tags": []
   },
   "source": [
    "### Age Variable EDA"
   ]
  },
  {
   "cell_type": "code",
   "execution_count": 27,
   "metadata": {
    "execution": {
     "iopub.execute_input": "2020-09-01T07:42:38.879974Z",
     "iopub.status.busy": "2020-09-01T07:42:38.879181Z",
     "iopub.status.idle": "2020-09-01T07:42:38.896021Z",
     "shell.execute_reply": "2020-09-01T07:42:38.895401Z"
    },
    "papermill": {
     "duration": 0.062203,
     "end_time": "2020-09-01T07:42:38.896157",
     "exception": false,
     "start_time": "2020-09-01T07:42:38.833954",
     "status": "completed"
    },
    "tags": []
   },
   "outputs": [
    {
     "name": "stdout",
     "output_type": "stream",
     "text": [
      "Min Value of Age is  -3152.0\n",
      "Max Value of Age is  1970.0\n",
      "Mean Value of Age is  29.394411935908828\n",
      "Median Value of Age is  28.0\n"
     ]
    }
   ],
   "source": [
    "## What is Min Max and Median Age\n",
    "print(\"Min Value of Age is \",np.min(df_train['bd']))\n",
    "print(\"Max Value of Age is \",np.max(df_train['bd']))\n",
    "print(\"Mean Value of Age is \",np.mean(df_train['bd'])) ## Impacted by Outliers\n",
    "print(\"Median Value of Age is \",np.median(df_train['bd']))"
   ]
  },
  {
   "cell_type": "markdown",
   "metadata": {
    "papermill": {
     "duration": 0.038322,
     "end_time": "2020-09-01T07:42:38.973178",
     "exception": false,
     "start_time": "2020-09-01T07:42:38.934856",
     "status": "completed"
    },
    "tags": []
   },
   "source": [
    "### We can Clearly See That It Has Outliers.\n",
    "1. The Way I Treat it as outliers are\n",
    "a. Users Having Age below 10 are treated as Outilers \n",
    "b. Users Having Very High Age more than 90 are also treated as outliers"
   ]
  },
  {
   "cell_type": "code",
   "execution_count": 28,
   "metadata": {
    "execution": {
     "iopub.execute_input": "2020-09-01T07:42:39.060241Z",
     "iopub.status.busy": "2020-09-01T07:42:39.059019Z",
     "iopub.status.idle": "2020-09-01T07:42:39.069964Z",
     "shell.execute_reply": "2020-09-01T07:42:39.068589Z"
    },
    "papermill": {
     "duration": 0.058022,
     "end_time": "2020-09-01T07:42:39.070161",
     "exception": false,
     "start_time": "2020-09-01T07:42:39.012139",
     "status": "completed"
    },
    "tags": []
   },
   "outputs": [
    {
     "name": "stdout",
     "output_type": "stream",
     "text": [
      "(11543, 7)\n"
     ]
    }
   ],
   "source": [
    "## Number of Users Having Age less than 10 yrs\n",
    "print(df_train[df_train['bd'] < 10].shape)"
   ]
  },
  {
   "cell_type": "code",
   "execution_count": 29,
   "metadata": {
    "execution": {
     "iopub.execute_input": "2020-09-01T07:42:39.157254Z",
     "iopub.status.busy": "2020-09-01T07:42:39.156323Z",
     "iopub.status.idle": "2020-09-01T07:42:39.162188Z",
     "shell.execute_reply": "2020-09-01T07:42:39.161472Z"
    },
    "papermill": {
     "duration": 0.051933,
     "end_time": "2020-09-01T07:42:39.162330",
     "exception": false,
     "start_time": "2020-09-01T07:42:39.110397",
     "status": "completed"
    },
    "tags": []
   },
   "outputs": [
    {
     "name": "stdout",
     "output_type": "stream",
     "text": [
      "(542, 7)\n"
     ]
    }
   ],
   "source": [
    "## Number of Users having Very High Age more than 90 Yrs\n",
    "print(df_train[df_train['bd'] > 90].shape)"
   ]
  },
  {
   "cell_type": "markdown",
   "metadata": {
    "papermill": {
     "duration": 0.039184,
     "end_time": "2020-09-01T07:42:39.240280",
     "exception": false,
     "start_time": "2020-09-01T07:42:39.201096",
     "status": "completed"
    },
    "tags": []
   },
   "source": [
    "### Handling Outliers \n",
    "1. We can simply Drop This outliers to do our Eda\n",
    "2. We can Impute The outliers Value by doing mean , median imputation or mode.\n",
    "3. We can also used model based imputation like K nearest Neighbours\n",
    "4. I will Simply use Median Imputation for this outliers Value\n",
    "5. We will Impute Age by a Random Integer Between 29 and 35 "
   ]
  },
  {
   "cell_type": "code",
   "execution_count": 30,
   "metadata": {
    "execution": {
     "iopub.execute_input": "2020-09-01T07:42:39.327255Z",
     "iopub.status.busy": "2020-09-01T07:42:39.326136Z",
     "iopub.status.idle": "2020-09-01T07:42:39.339355Z",
     "shell.execute_reply": "2020-09-01T07:42:39.338686Z"
    },
    "papermill": {
     "duration": 0.060027,
     "end_time": "2020-09-01T07:42:39.339486",
     "exception": false,
     "start_time": "2020-09-01T07:42:39.279459",
     "status": "completed"
    },
    "tags": []
   },
   "outputs": [],
   "source": [
    "#https://www.kite.com/python/answers/how-to-change-values-in-a-pandas-dataframe-column-based-on-a-condition-in-python#:~:text=loc%20to%20change%20values%20in,for%20which%20condition%20is%20True%20.\n",
    "sz_0 = df_train[df_train['bd'] <= 10].shape\n",
    "df_train.loc[df_train.bd <= 10, \"bd\"] = np.random.randint(29,35,size=sz_0[0])\n"
   ]
  },
  {
   "cell_type": "code",
   "execution_count": 31,
   "metadata": {
    "execution": {
     "iopub.execute_input": "2020-09-01T07:42:39.426592Z",
     "iopub.status.busy": "2020-09-01T07:42:39.425072Z",
     "iopub.status.idle": "2020-09-01T07:42:39.434693Z",
     "shell.execute_reply": "2020-09-01T07:42:39.433907Z"
    },
    "papermill": {
     "duration": 0.056308,
     "end_time": "2020-09-01T07:42:39.434824",
     "exception": false,
     "start_time": "2020-09-01T07:42:39.378516",
     "status": "completed"
    },
    "tags": []
   },
   "outputs": [],
   "source": [
    "#https://www.kite.com/python/answers/how-to-change-values-in-a-pandas-dataframe-column-based-on-a-condition-in-python#:~:text=loc%20to%20change%20values%20in,for%20which%20condition%20is%20True%20.\n",
    "sz_1 = df_train[df_train['bd'] >= 90].shape\n",
    "df_train.loc[df_train.bd >=90, \"bd\"] = np.random.randint(29,35,size=sz_1[0])\n"
   ]
  },
  {
   "cell_type": "code",
   "execution_count": 32,
   "metadata": {
    "execution": {
     "iopub.execute_input": "2020-09-01T07:42:39.522415Z",
     "iopub.status.busy": "2020-09-01T07:42:39.521357Z",
     "iopub.status.idle": "2020-09-01T07:42:39.535742Z",
     "shell.execute_reply": "2020-09-01T07:42:39.535088Z"
    },
    "papermill": {
     "duration": 0.061054,
     "end_time": "2020-09-01T07:42:39.535868",
     "exception": false,
     "start_time": "2020-09-01T07:42:39.474814",
     "status": "completed"
    },
    "tags": []
   },
   "outputs": [
    {
     "name": "stdout",
     "output_type": "stream",
     "text": [
      "After Imputing Outliers\n",
      "****************************************\n",
      "Min Value of Age is  11.0\n",
      "Max Value of Age is  89.0\n",
      "Mean Value of Age is  30.021647110484768\n",
      "Median Value of Age is  29.0\n"
     ]
    }
   ],
   "source": [
    "## What is Min Max and Median Age\n",
    "print(\"After Imputing Outliers\")\n",
    "print(\"****************************************\")\n",
    "print(\"Min Value of Age is \",np.min(df_train['bd']))\n",
    "print(\"Max Value of Age is \",np.max(df_train['bd']))\n",
    "print(\"Mean Value of Age is \",np.mean(df_train['bd'])) ## Impacted by Outliers\n",
    "print(\"Median Value of Age is \",np.median(df_train['bd']))"
   ]
  },
  {
   "cell_type": "code",
   "execution_count": 33,
   "metadata": {
    "execution": {
     "iopub.execute_input": "2020-09-01T07:42:39.620435Z",
     "iopub.status.busy": "2020-09-01T07:42:39.619372Z",
     "iopub.status.idle": "2020-09-01T07:42:39.622226Z",
     "shell.execute_reply": "2020-09-01T07:42:39.622782Z"
    },
    "papermill": {
     "duration": 0.047687,
     "end_time": "2020-09-01T07:42:39.622948",
     "exception": false,
     "start_time": "2020-09-01T07:42:39.575261",
     "status": "completed"
    },
    "tags": []
   },
   "outputs": [],
   "source": [
    "## Draw Age Histograms For Churn and Non Churn Users\n",
    "## Also Do The Percentile Analysis\n",
    "## Try Also Plot Box Plot and Whiskers"
   ]
  },
  {
   "cell_type": "code",
   "execution_count": 34,
   "metadata": {
    "execution": {
     "iopub.execute_input": "2020-09-01T07:42:39.708395Z",
     "iopub.status.busy": "2020-09-01T07:42:39.707610Z",
     "iopub.status.idle": "2020-09-01T07:42:39.736490Z",
     "shell.execute_reply": "2020-09-01T07:42:39.735678Z"
    },
    "papermill": {
     "duration": 0.074213,
     "end_time": "2020-09-01T07:42:39.736622",
     "exception": false,
     "start_time": "2020-09-01T07:42:39.662409",
     "status": "completed"
    },
    "tags": []
   },
   "outputs": [],
   "source": [
    "df_churn = df_train[df_train['is_churn'] == 1]\n",
    "df_non_churn = df_train[df_train['is_churn'] == 0]"
   ]
  },
  {
   "cell_type": "markdown",
   "metadata": {
    "papermill": {
     "duration": 0.038877,
     "end_time": "2020-09-01T07:42:39.814937",
     "exception": false,
     "start_time": "2020-09-01T07:42:39.776060",
     "status": "completed"
    },
    "tags": []
   },
   "source": [
    "### Histogram , Pdf and Percentiles of Age for Non Churn Users "
   ]
  },
  {
   "cell_type": "code",
   "execution_count": 35,
   "metadata": {
    "execution": {
     "iopub.execute_input": "2020-09-01T07:42:39.902464Z",
     "iopub.status.busy": "2020-09-01T07:42:39.901193Z",
     "iopub.status.idle": "2020-09-01T07:42:40.118522Z",
     "shell.execute_reply": "2020-09-01T07:42:40.117706Z"
    },
    "papermill": {
     "duration": 0.263984,
     "end_time": "2020-09-01T07:42:40.118652",
     "exception": false,
     "start_time": "2020-09-01T07:42:39.854668",
     "status": "completed"
    },
    "tags": []
   },
   "outputs": [
    {
     "data": {
      "image/png": "[encoded data removed]",
      "text/plain": [
       "<Figure size 432x288 with 1 Axes>"
      ]
     },
     "metadata": {
      "needs_background": "light"
     },
     "output_type": "display_data"
    }
   ],
   "source": [
    "# https://numpy.org/doc/stable/reference/generated/numpy.histogram.html\n",
    "counts , bin_edges = np.histogram(df_non_churn['bd'],bins =10 , density = True) \n",
    "plt.hist(df_non_churn['bd'] , bins = 10)\n",
    "plt.xlabel(\"Bins\")\n",
    "plt.ylabel(\"Frequency\")\n",
    "plt.title(\"Histogram of Age for Non Churn Users \")\n",
    "plt.show()"
   ]
  },
  {
   "cell_type": "code",
   "execution_count": 36,
   "metadata": {
    "execution": {
     "iopub.execute_input": "2020-09-01T07:42:40.216888Z",
     "iopub.status.busy": "2020-09-01T07:42:40.214443Z",
     "iopub.status.idle": "2020-09-01T07:42:40.393954Z",
     "shell.execute_reply": "2020-09-01T07:42:40.393143Z"
    },
    "papermill": {
     "duration": 0.235635,
     "end_time": "2020-09-01T07:42:40.394083",
     "exception": false,
     "start_time": "2020-09-01T07:42:40.158448",
     "status": "completed"
    },
    "tags": []
   },
   "outputs": [
    {
     "name": "stdout",
     "output_type": "stream",
     "text": [
      "[3.71005556e-02 3.40079567e-01 3.77669724e-01 1.53068818e-01\n",
      " 5.37385923e-02 2.87409704e-02 7.38038351e-03 1.60589088e-03\n",
      " 3.94478421e-04 2.21019825e-04]\n",
      "[11.  18.8 26.6 34.4 42.2 50.  57.8 65.6 73.4 81.2 89. ]\n"
     ]
    },
    {
     "data": {
      "image/png": "[encoded data removed]",
      "text/plain": [
       "<Figure size 432x288 with 1 Axes>"
      ]
     },
     "metadata": {
      "needs_background": "light"
     },
     "output_type": "display_data"
    }
   ],
   "source": [
    "pdf = counts/(sum(counts))\n",
    "print(pdf);\n",
    "print(bin_edges);\n",
    "cdf = np.cumsum(pdf)\n",
    "plt.plot(bin_edges[1:],pdf, label =\"PDF\");\n",
    "plt.plot(bin_edges[1:], cdf , label = \"CDF\")\n",
    "plt.legend(loc=\"upper left\")\n",
    "plt.title(\"PDF and CDF for Age of  Non Churn Users\")\n",
    "plt.show()"
   ]
  },
  {
   "cell_type": "code",
   "execution_count": 37,
   "metadata": {
    "execution": {
     "iopub.execute_input": "2020-09-01T07:42:40.482240Z",
     "iopub.status.busy": "2020-09-01T07:42:40.481471Z",
     "iopub.status.idle": "2020-09-01T07:42:40.509547Z",
     "shell.execute_reply": "2020-09-01T07:42:40.508791Z"
    },
    "papermill": {
     "duration": 0.075646,
     "end_time": "2020-09-01T07:42:40.509671",
     "exception": false,
     "start_time": "2020-09-01T07:42:40.434025",
     "status": "completed"
    },
    "tags": []
   },
   "outputs": [
    {
     "name": "stdout",
     "output_type": "stream",
     "text": [
      "25 % of Non Churn users Have Age   below  24.0\n",
      "50 % of Non Churn users Have Age   below  29.0\n",
      "75 % of Non Churn users Have Age   below  34.0\n",
      "95 % of Non Churn users Have Age   below  48.0\n"
     ]
    }
   ],
   "source": [
    "print(\"25 % of Non Churn users Have Age   below \",np.percentile(df_non_churn[\"bd\"],q=25)) # computing 25th Percentile -->1st Quantile\n",
    "print(\"50 % of Non Churn users Have Age   below \",np.percentile(df_non_churn[\"bd\"],q=50))# computing 50th Percentile -->1st Quantile\n",
    "print(\"75 % of Non Churn users Have Age   below \",np.percentile(df_non_churn[\"bd\"],q=75)) # computing 75th Percentile -->1st Quantile\n",
    "print(\"95 % of Non Churn users Have Age   below \",np.percentile(df_non_churn[\"bd\"],q=95)) # computing 75th Percentile -->1st Quantile\n"
   ]
  },
  {
   "cell_type": "markdown",
   "metadata": {
    "papermill": {
     "duration": 0.040186,
     "end_time": "2020-09-01T07:42:40.590278",
     "exception": false,
     "start_time": "2020-09-01T07:42:40.550092",
     "status": "completed"
    },
    "tags": []
   },
   "source": [
    "## Observations :\n",
    "1. Large Number of Users Lie Between 24 - 40 Age Bracket\n",
    "2. There are Very Few Users With less than 24 age \n",
    "3. Similarly users Having Very Large Age like 60 - 70 + are very small"
   ]
  },
  {
   "cell_type": "markdown",
   "metadata": {
    "papermill": {
     "duration": 0.040014,
     "end_time": "2020-09-01T07:42:40.670702",
     "exception": false,
     "start_time": "2020-09-01T07:42:40.630688",
     "status": "completed"
    },
    "tags": []
   },
   "source": [
    "### Histogram , Pdf and Percentiles of Age for  Churn Users "
   ]
  },
  {
   "cell_type": "code",
   "execution_count": 38,
   "metadata": {
    "execution": {
     "iopub.execute_input": "2020-09-01T07:42:40.759533Z",
     "iopub.status.busy": "2020-09-01T07:42:40.758755Z",
     "iopub.status.idle": "2020-09-01T07:42:40.960337Z",
     "shell.execute_reply": "2020-09-01T07:42:40.959580Z"
    },
    "papermill": {
     "duration": 0.249173,
     "end_time": "2020-09-01T07:42:40.960471",
     "exception": false,
     "start_time": "2020-09-01T07:42:40.711298",
     "status": "completed"
    },
    "tags": []
   },
   "outputs": [
    {
     "data": {
      "image/png": "[encoded data removed]",
      "text/plain": [
       "<Figure size 432x288 with 1 Axes>"
      ]
     },
     "metadata": {
      "needs_background": "light"
     },
     "output_type": "display_data"
    }
   ],
   "source": [
    "# https://numpy.org/doc/stable/reference/generated/numpy.histogram.html\n",
    "counts , bin_edges = np.histogram(df_churn['bd'],bins =10 , density = True) \n",
    "plt.hist(df_churn['bd'] , bins = 10)\n",
    "plt.xlabel(\"Bins\")\n",
    "plt.ylabel(\"Frequency\")\n",
    "plt.title(\"Histogram of Age for Churn Users \")\n",
    "plt.show()"
   ]
  },
  {
   "cell_type": "code",
   "execution_count": 39,
   "metadata": {
    "execution": {
     "iopub.execute_input": "2020-09-01T07:42:41.157359Z",
     "iopub.status.busy": "2020-09-01T07:42:41.153440Z",
     "iopub.status.idle": "2020-09-01T07:42:41.334912Z",
     "shell.execute_reply": "2020-09-01T07:42:41.334136Z"
    },
    "papermill": {
     "duration": 0.333843,
     "end_time": "2020-09-01T07:42:41.335037",
     "exception": false,
     "start_time": "2020-09-01T07:42:41.001194",
     "status": "completed"
    },
    "tags": []
   },
   "outputs": [
    {
     "name": "stdout",
     "output_type": "stream",
     "text": [
      "[9.10444276e-02 4.28162765e-01 3.04220912e-01 1.16527526e-01\n",
      " 3.65170179e-02 1.67260202e-02 4.96234456e-03 1.37194232e-03\n",
      " 3.50283146e-04 1.16761049e-04]\n",
      "[11.  18.8 26.6 34.4 42.2 50.  57.8 65.6 73.4 81.2 89. ]\n"
     ]
    },
    {
     "data": {
      "image/png": "[encoded data removed]",
      "text/plain": [
       "<Figure size 432x288 with 1 Axes>"
      ]
     },
     "metadata": {
      "needs_background": "light"
     },
     "output_type": "display_data"
    }
   ],
   "source": [
    "pdf = counts/(sum(counts))\n",
    "print(pdf);\n",
    "print(bin_edges);\n",
    "cdf = np.cumsum(pdf)\n",
    "plt.plot(bin_edges[1:],pdf, label =\"PDF\");\n",
    "plt.plot(bin_edges[1:], cdf , label = \"CDF\")\n",
    "plt.legend(loc=\"upper left\")\n",
    "plt.title(\"PDF and CDF for Age of   Churn Users\")\n",
    "plt.show()"
   ]
  },
  {
   "cell_type": "markdown",
   "metadata": {
    "papermill": {
     "duration": 0.042991,
     "end_time": "2020-09-01T07:42:41.418897",
     "exception": false,
     "start_time": "2020-09-01T07:42:41.375906",
     "status": "completed"
    },
    "tags": []
   },
   "source": [
    "### Observations:\n",
    "1. Compared to Non Churn Users Pdf , the Pdf of Churned Users is more pdf .\n",
    "2. The Pdf for Non Churn Users was Kind of Very Uniform in height in Age Range 30-40\n",
    "3. If We See for Churn Users the Pdf Falls Very Quickly as we cross Age of 30.\n",
    "4. One interpretation of this can be As Age Increases Beyond 30 , The Probability of User churning is very less as compared to user Churning, As generally people beyond 30 + Age Have Stable Income.\n",
    "5. Also if we see the probability of Churn increases When we go from age of 20 to nearly 30 "
   ]
  },
  {
   "cell_type": "code",
   "execution_count": 40,
   "metadata": {
    "execution": {
     "iopub.execute_input": "2020-09-01T07:42:41.510537Z",
     "iopub.status.busy": "2020-09-01T07:42:41.509651Z",
     "iopub.status.idle": "2020-09-01T07:42:41.519022Z",
     "shell.execute_reply": "2020-09-01T07:42:41.519653Z"
    },
    "papermill": {
     "duration": 0.058772,
     "end_time": "2020-09-01T07:42:41.519812",
     "exception": false,
     "start_time": "2020-09-01T07:42:41.461040",
     "status": "completed"
    },
    "tags": []
   },
   "outputs": [
    {
     "name": "stdout",
     "output_type": "stream",
     "text": [
      "25 % of  Churn users Have Age   below  21.0\n",
      "50 % of  Churn users Have Age   below  26.0\n",
      "75 % of  Churn users Have Age   below  32.0\n",
      "95 % of  Churn users Have Age   below  44.0\n"
     ]
    }
   ],
   "source": [
    "print(\"25 % of  Churn users Have Age   below \",np.percentile(df_churn[\"bd\"],q=25)) # computing 25th Percentile -->1st Quantile\n",
    "print(\"50 % of  Churn users Have Age   below \",np.percentile(df_churn[\"bd\"],q=50))# computing 50th Percentile -->1st Quantile\n",
    "print(\"75 % of  Churn users Have Age   below \",np.percentile(df_churn[\"bd\"],q=75)) # computing 75th Percentile -->1st Quantile\n",
    "print(\"95 % of  Churn users Have Age   below \",np.percentile(df_churn[\"bd\"],q=95)) # computing 75th Percentile -->1st Quantile\n"
   ]
  },
  {
   "cell_type": "code",
   "execution_count": 41,
   "metadata": {
    "execution": {
     "iopub.execute_input": "2020-09-01T07:42:41.618733Z",
     "iopub.status.busy": "2020-09-01T07:42:41.617726Z",
     "iopub.status.idle": "2020-09-01T07:42:41.623285Z",
     "shell.execute_reply": "2020-09-01T07:42:41.622670Z"
    },
    "papermill": {
     "duration": 0.062616,
     "end_time": "2020-09-01T07:42:41.623428",
     "exception": false,
     "start_time": "2020-09-01T07:42:41.560812",
     "status": "completed"
    },
    "tags": []
   },
   "outputs": [
    {
     "data": {
      "text/html": [
       "<div>\n",
       "<style scoped>\n",
       "    .dataframe tbody tr th:only-of-type {\n",
       "        vertical-align: middle;\n",
       "    }\n",
       "\n",
       "    .dataframe tbody tr th {\n",
       "        vertical-align: top;\n",
       "    }\n",
       "\n",
       "    .dataframe thead th {\n",
       "        text-align: right;\n",
       "    }\n",
       "</style>\n",
       "<table border=\"1\" class=\"dataframe\">\n",
       "  <thead>\n",
       "    <tr style=\"text-align: right;\">\n",
       "      <th></th>\n",
       "      <th>msno</th>\n",
       "      <th>is_churn</th>\n",
       "      <th>city</th>\n",
       "      <th>bd</th>\n",
       "      <th>gender</th>\n",
       "      <th>registered_via</th>\n",
       "      <th>registration_init_time</th>\n",
       "    </tr>\n",
       "  </thead>\n",
       "  <tbody>\n",
       "    <tr>\n",
       "      <th>0</th>\n",
       "      <td>waLDQMmcOu2jLDaV1ddDkgCrB/jl6sD66Xzs0Vqax1Y=</td>\n",
       "      <td>1</td>\n",
       "      <td>18.0</td>\n",
       "      <td>36.0</td>\n",
       "      <td>female</td>\n",
       "      <td>9.0</td>\n",
       "      <td>2005-04-06</td>\n",
       "    </tr>\n",
       "    <tr>\n",
       "      <th>1</th>\n",
       "      <td>QA7uiXy8vIbUSPOkCf9RwQ3FsT8jVq2OxDr8zqa7bRQ=</td>\n",
       "      <td>1</td>\n",
       "      <td>10.0</td>\n",
       "      <td>38.0</td>\n",
       "      <td>male</td>\n",
       "      <td>9.0</td>\n",
       "      <td>2005-04-07</td>\n",
       "    </tr>\n",
       "    <tr>\n",
       "      <th>2</th>\n",
       "      <td>fGwBva6hikQmTJzrbz/2Ezjm5Cth5jZUNvXigKK2AFA=</td>\n",
       "      <td>1</td>\n",
       "      <td>11.0</td>\n",
       "      <td>27.0</td>\n",
       "      <td>female</td>\n",
       "      <td>9.0</td>\n",
       "      <td>2005-10-16</td>\n",
       "    </tr>\n",
       "    <tr>\n",
       "      <th>3</th>\n",
       "      <td>mT5V8rEpa+8wuqi6x0DoVd3H5icMKkE9Prt49UlmK+4=</td>\n",
       "      <td>1</td>\n",
       "      <td>13.0</td>\n",
       "      <td>23.0</td>\n",
       "      <td>female</td>\n",
       "      <td>9.0</td>\n",
       "      <td>2005-11-02</td>\n",
       "    </tr>\n",
       "    <tr>\n",
       "      <th>4</th>\n",
       "      <td>XaPhtGLk/5UvvOYHcONTwsnH97P4eGECeq+BARGItRw=</td>\n",
       "      <td>1</td>\n",
       "      <td>3.0</td>\n",
       "      <td>27.0</td>\n",
       "      <td>male</td>\n",
       "      <td>9.0</td>\n",
       "      <td>2005-12-28</td>\n",
       "    </tr>\n",
       "  </tbody>\n",
       "</table>\n",
       "</div>"
      ],
      "text/plain": [
       "                                           msno  is_churn  city    bd  gender  \\\n",
       "0  waLDQMmcOu2jLDaV1ddDkgCrB/jl6sD66Xzs0Vqax1Y=         1  18.0  36.0  female   \n",
       "1  QA7uiXy8vIbUSPOkCf9RwQ3FsT8jVq2OxDr8zqa7bRQ=         1  10.0  38.0    male   \n",
       "2  fGwBva6hikQmTJzrbz/2Ezjm5Cth5jZUNvXigKK2AFA=         1  11.0  27.0  female   \n",
       "3  mT5V8rEpa+8wuqi6x0DoVd3H5icMKkE9Prt49UlmK+4=         1  13.0  23.0  female   \n",
       "4  XaPhtGLk/5UvvOYHcONTwsnH97P4eGECeq+BARGItRw=         1   3.0  27.0    male   \n",
       "\n",
       "   registered_via registration_init_time  \n",
       "0             9.0             2005-04-06  \n",
       "1             9.0             2005-04-07  \n",
       "2             9.0             2005-10-16  \n",
       "3             9.0             2005-11-02  \n",
       "4             9.0             2005-12-28  "
      ]
     },
     "execution_count": 41,
     "metadata": {},
     "output_type": "execute_result"
    }
   ],
   "source": [
    "df_train.head()"
   ]
  },
  {
   "cell_type": "markdown",
   "metadata": {
    "papermill": {
     "duration": 0.040836,
     "end_time": "2020-09-01T07:42:41.705880",
     "exception": false,
     "start_time": "2020-09-01T07:42:41.665044",
     "status": "completed"
    },
    "tags": []
   },
   "source": [
    "### Churn Analysis with City Feature"
   ]
  },
  {
   "cell_type": "code",
   "execution_count": 42,
   "metadata": {
    "execution": {
     "iopub.execute_input": "2020-09-01T07:42:41.795373Z",
     "iopub.status.busy": "2020-09-01T07:42:41.794549Z",
     "iopub.status.idle": "2020-09-01T07:42:41.816543Z",
     "shell.execute_reply": "2020-09-01T07:42:41.815871Z"
    },
    "papermill": {
     "duration": 0.069293,
     "end_time": "2020-09-01T07:42:41.816674",
     "exception": false,
     "start_time": "2020-09-01T07:42:41.747381",
     "status": "completed"
    },
    "tags": []
   },
   "outputs": [
    {
     "name": "stdout",
     "output_type": "stream",
     "text": [
      "Number of Unique Citys Are (21,)\n"
     ]
    }
   ],
   "source": [
    "num_citys = np.unique(np.array(df_train['city']))\n",
    "print(\"Number of Unique Citys Are\",num_citys.shape)"
   ]
  },
  {
   "cell_type": "code",
   "execution_count": 43,
   "metadata": {
    "execution": {
     "iopub.execute_input": "2020-09-01T07:42:41.907149Z",
     "iopub.status.busy": "2020-09-01T07:42:41.905858Z",
     "iopub.status.idle": "2020-09-01T07:42:41.945979Z",
     "shell.execute_reply": "2020-09-01T07:42:41.946568Z"
    },
    "papermill": {
     "duration": 0.087722,
     "end_time": "2020-09-01T07:42:41.946752",
     "exception": false,
     "start_time": "2020-09-01T07:42:41.859030",
     "status": "completed"
    },
    "tags": []
   },
   "outputs": [],
   "source": [
    "df_train = df_train.astype({'city':'category'})"
   ]
  },
  {
   "cell_type": "markdown",
   "metadata": {
    "papermill": {
     "duration": 0.04123,
     "end_time": "2020-09-01T07:42:42.029280",
     "exception": false,
     "start_time": "2020-09-01T07:42:41.988050",
     "status": "completed"
    },
    "tags": []
   },
   "source": [
    "### Which City Has Maximum Number Users ?\n"
   ]
  },
  {
   "cell_type": "code",
   "execution_count": 44,
   "metadata": {
    "execution": {
     "iopub.execute_input": "2020-09-01T07:42:42.120555Z",
     "iopub.status.busy": "2020-09-01T07:42:42.119712Z",
     "iopub.status.idle": "2020-09-01T07:42:42.135592Z",
     "shell.execute_reply": "2020-09-01T07:42:42.134935Z"
    },
    "papermill": {
     "duration": 0.064543,
     "end_time": "2020-09-01T07:42:42.135719",
     "exception": false,
     "start_time": "2020-09-01T07:42:42.071176",
     "status": "completed"
    },
    "tags": []
   },
   "outputs": [
    {
     "data": {
      "text/plain": [
       "city\n",
       "13.0    6866\n",
       "5.0     5668\n",
       "4.0     3866\n",
       "15.0    3290\n",
       "22.0    3200\n",
       "1.0     2162\n",
       "6.0     2037\n",
       "14.0    1424\n",
       "12.0    1027\n",
       "9.0      699\n",
       "8.0      685\n",
       "11.0     674\n",
       "18.0     588\n",
       "10.0     540\n",
       "21.0     486\n",
       "3.0      376\n",
       "17.0     374\n",
       "7.0      163\n",
       "16.0      75\n",
       "20.0      49\n",
       "19.0       9\n",
       "Name: is_churn, dtype: int64"
      ]
     },
     "execution_count": 44,
     "metadata": {},
     "output_type": "execute_result"
    }
   ],
   "source": [
    "df_train.groupby('city')['is_churn'].sum().sort_values(ascending=False)"
   ]
  },
  {
   "cell_type": "markdown",
   "metadata": {
    "papermill": {
     "duration": 0.042681,
     "end_time": "2020-09-01T07:42:42.219934",
     "exception": false,
     "start_time": "2020-09-01T07:42:42.177253",
     "status": "completed"
    },
    "tags": []
   },
   "source": [
    "1. City Encoded as 13 has Highest Number of Users and City 19 has Lowest Number of Users\n",
    "2. Lets Plot a Bar Plot to Summarize This"
   ]
  },
  {
   "cell_type": "code",
   "execution_count": 45,
   "metadata": {
    "execution": {
     "iopub.execute_input": "2020-09-01T07:42:42.338360Z",
     "iopub.status.busy": "2020-09-01T07:42:42.337420Z",
     "iopub.status.idle": "2020-09-01T07:42:42.623759Z",
     "shell.execute_reply": "2020-09-01T07:42:42.624324Z"
    },
    "papermill": {
     "duration": 0.335807,
     "end_time": "2020-09-01T07:42:42.624497",
     "exception": false,
     "start_time": "2020-09-01T07:42:42.288690",
     "status": "completed"
    },
    "tags": []
   },
   "outputs": [
    {
     "data": {
      "text/plain": [
       "<matplotlib.axes._subplots.AxesSubplot at 0x7fd516e4ee10>"
      ]
     },
     "execution_count": 45,
     "metadata": {},
     "output_type": "execute_result"
    },
    {
     "data": {
      "image/png": "[encoded data removed]",
      "text/plain": [
       "<Figure size 432x288 with 1 Axes>"
      ]
     },
     "metadata": {
      "needs_background": "light"
     },
     "output_type": "display_data"
    }
   ],
   "source": [
    "df_train.groupby('city')['is_churn'].sum().sort_values(ascending=False).plot(kind='bar',xlabel='city_no',ylabel='number of users')"
   ]
  },
  {
   "cell_type": "markdown",
   "metadata": {
    "papermill": {
     "duration": 0.044087,
     "end_time": "2020-09-01T07:42:42.711760",
     "exception": false,
     "start_time": "2020-09-01T07:42:42.667673",
     "status": "completed"
    },
    "tags": []
   },
   "source": [
    "### Which City Has Maximum Number of Non Churn Users ?"
   ]
  },
  {
   "cell_type": "markdown",
   "metadata": {
    "papermill": {
     "duration": 0.045455,
     "end_time": "2020-09-01T07:42:42.802179",
     "exception": false,
     "start_time": "2020-09-01T07:42:42.756724",
     "status": "completed"
    },
    "tags": []
   },
   "source": [
    "Let's Answer This in Same Way and Plot a Bar Plot "
   ]
  },
  {
   "cell_type": "code",
   "execution_count": 46,
   "metadata": {
    "execution": {
     "iopub.execute_input": "2020-09-01T07:42:42.896509Z",
     "iopub.status.busy": "2020-09-01T07:42:42.895648Z",
     "iopub.status.idle": "2020-09-01T07:42:43.284159Z",
     "shell.execute_reply": "2020-09-01T07:42:43.283438Z"
    },
    "papermill": {
     "duration": 0.439138,
     "end_time": "2020-09-01T07:42:43.284291",
     "exception": false,
     "start_time": "2020-09-01T07:42:42.845153",
     "status": "completed"
    },
    "tags": []
   },
   "outputs": [
    {
     "data": {
      "text/plain": [
       "<matplotlib.axes._subplots.AxesSubplot at 0x7fd534785f50>"
      ]
     },
     "execution_count": 46,
     "metadata": {},
     "output_type": "execute_result"
    },
    {
     "data": {
      "image/png": "[encoded data removed]",
      "text/plain": [
       "<Figure size 432x288 with 1 Axes>"
      ]
     },
     "metadata": {
      "needs_background": "light"
     },
     "output_type": "display_data"
    }
   ],
   "source": [
    "df_train[df_train['is_churn']==0]['city'].value_counts().sort_values(ascending = False).plot(kind = 'bar' , xlabel = 'city_no' , ylabel = \"Number of Non Churned Users\")"
   ]
  },
  {
   "cell_type": "markdown",
   "metadata": {
    "papermill": {
     "duration": 0.042188,
     "end_time": "2020-09-01T07:42:43.369143",
     "exception": false,
     "start_time": "2020-09-01T07:42:43.326955",
     "status": "completed"
    },
    "tags": []
   },
   "source": [
    "### What is Distributions of Churn Users Accross Various Cities ?"
   ]
  },
  {
   "cell_type": "code",
   "execution_count": 47,
   "metadata": {
    "execution": {
     "iopub.execute_input": "2020-09-01T07:42:43.465662Z",
     "iopub.status.busy": "2020-09-01T07:42:43.464848Z",
     "iopub.status.idle": "2020-09-01T07:42:43.720393Z",
     "shell.execute_reply": "2020-09-01T07:42:43.720930Z"
    },
    "papermill": {
     "duration": 0.305877,
     "end_time": "2020-09-01T07:42:43.721096",
     "exception": false,
     "start_time": "2020-09-01T07:42:43.415219",
     "status": "completed"
    },
    "tags": []
   },
   "outputs": [
    {
     "data": {
      "text/plain": [
       "<matplotlib.axes._subplots.AxesSubplot at 0x7fd5280471d0>"
      ]
     },
     "execution_count": 47,
     "metadata": {},
     "output_type": "execute_result"
    },
    {
     "data": {
      "image/png": "[encoded data removed]",
      "text/plain": [
       "<Figure size 432x288 with 1 Axes>"
      ]
     },
     "metadata": {
      "needs_background": "light"
     },
     "output_type": "display_data"
    }
   ],
   "source": [
    "df_train[df_train['is_churn']==1]['city'].value_counts().sort_values(ascending = False).plot(kind = 'bar' , xlabel = 'city_no' , ylabel = \"Number of  Churned Users\")"
   ]
  },
  {
   "cell_type": "markdown",
   "metadata": {
    "papermill": {
     "duration": 0.043034,
     "end_time": "2020-09-01T07:42:43.807613",
     "exception": false,
     "start_time": "2020-09-01T07:42:43.764579",
     "status": "completed"
    },
    "tags": []
   },
   "source": [
    "### Observations :\n",
    "1. The Plot for Distributions of Churn and Non Churn Feature for Various Cities , Looks More or Less Exactly the Same.\n",
    "2. There are few differences between distributions , but as expected city 13 has max number of churn and non churn users since it has max number of users.\n",
    "3. City 19 has min number of churned and non churn users since it has minimum users"
   ]
  },
  {
   "cell_type": "markdown",
   "metadata": {
    "papermill": {
     "duration": 0.043368,
     "end_time": "2020-09-01T07:42:43.893869",
     "exception": false,
     "start_time": "2020-09-01T07:42:43.850501",
     "status": "completed"
    },
    "tags": []
   },
   "source": [
    "## Conclusions:\n",
    "1. Age and Gender can be important features towards determining churn.\n",
    "2. City does not looks like much helpful for churn prediction."
   ]
  },
  {
   "cell_type": "code",
   "execution_count": null,
   "metadata": {
    "papermill": {
     "duration": 0.042687,
     "end_time": "2020-09-01T07:42:43.979798",
     "exception": false,
     "start_time": "2020-09-01T07:42:43.937111",
     "status": "completed"
    },
    "tags": []
   },
   "outputs": [],
   "source": []
  }
 ],
 "metadata": {
  "kernelspec": {
   "display_name": "Python 3",
   "language": "python",
   "name": "python3"
  },
  "language_info": {
   "codemirror_mode": {
    "name": "ipython",
    "version": 3
   },
   "file_extension": ".py",
   "mimetype": "text/x-python",
   "name": "python",
   "nbconvert_exporter": "python",
   "pygments_lexer": "ipython3",
   "version": "3.6.5"
  },
  "papermill": {
   "duration": 86.366164,
   "end_time": "2020-09-01T07:42:44.133082",
   "environment_variables": {},
   "exception": null,
   "input_path": "__notebook__.ipynb",
   "output_path": "__notebook__.ipynb",
   "parameters": {},
   "start_time": "2020-09-01T07:41:17.766918",
   "version": "2.1.0"
  }
 },
 "nbformat": 4,
 "nbformat_minor": 4
}
