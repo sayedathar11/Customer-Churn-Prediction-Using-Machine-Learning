{
 "cells": [
  {
   "cell_type": "code",
   "execution_count": 1,
   "metadata": {
    "execution": {
     "iopub.execute_input": "2020-09-01T06:27:25.768197Z",
     "iopub.status.busy": "2020-09-01T06:27:25.767309Z",
     "iopub.status.idle": "2020-09-01T06:27:26.951434Z",
     "shell.execute_reply": "2020-09-01T06:27:26.950585Z"
    },
    "papermill": {
     "duration": 1.216231,
     "end_time": "2020-09-01T06:27:26.951608",
     "exception": false,
     "start_time": "2020-09-01T06:27:25.735377",
     "status": "completed"
    },
    "tags": []
   },
   "outputs": [],
   "source": [
    "import pandas as pd\n",
    "import numpy as np\n",
    "import matplotlib.pyplot as plt\n",
    "import seaborn as sns"
   ]
  },
  {
   "cell_type": "code",
   "execution_count": 2,
   "metadata": {
    "_cell_guid": "b1076dfc-b9ad-4769-8c92-a6c4dae69d19",
    "_uuid": "8f2839f25d086af736a60e9eeb907d3b93b6e0e5",
    "execution": {
     "iopub.execute_input": "2020-09-01T06:27:27.010485Z",
     "iopub.status.busy": "2020-09-01T06:27:27.009367Z",
     "iopub.status.idle": "2020-09-01T06:27:27.016711Z",
     "shell.execute_reply": "2020-09-01T06:27:27.015859Z"
    },
    "papermill": {
     "duration": 0.04029,
     "end_time": "2020-09-01T06:27:27.016906",
     "exception": false,
     "start_time": "2020-09-01T06:27:26.976616",
     "status": "completed"
    },
    "tags": []
   },
   "outputs": [
    {
     "name": "stdout",
     "output_type": "stream",
     "text": [
      "/kaggle/input/kkbox-churn-prediction-challenge/transactions_v2.csv.7z\n",
      "/kaggle/input/kkbox-churn-prediction-challenge/sample_submission_v2.csv.7z\n",
      "/kaggle/input/kkbox-churn-prediction-challenge/train_v2.csv.7z\n",
      "/kaggle/input/kkbox-churn-prediction-challenge/user_logs.csv.7z\n",
      "/kaggle/input/kkbox-churn-prediction-challenge/train.csv.7z\n",
      "/kaggle/input/kkbox-churn-prediction-challenge/WSDMChurnLabeller.scala\n",
      "/kaggle/input/kkbox-churn-prediction-challenge/members_v3.csv.7z\n",
      "/kaggle/input/kkbox-churn-prediction-challenge/sample_submission_zero.csv.7z\n",
      "/kaggle/input/kkbox-churn-prediction-challenge/transactions.csv.7z\n",
      "/kaggle/input/kkbox-churn-prediction-challenge/user_logs_v2.csv.7z\n"
     ]
    }
   ],
   "source": [
    "# This Python 3 environment comes with many helpful analytics libraries installed\n",
    "# It is defined by the kaggle/python Docker image: https://github.com/kaggle/docker-python\n",
    "# For example, here's several helpful packages to load\n",
    "\n",
    "import numpy as np # linear algebra\n",
    "import pandas as pd # data processing, CSV file I/O (e.g. pd.read_csv)\n",
    "\n",
    "# Input data files are available in the read-only \"../input/\" directory\n",
    "# For example, running this (by clicking run or pressing Shift+Enter) will list all files under the input directory\n",
    "\n",
    "import os\n",
    "for dirname, _, filenames in os.walk('/kaggle/input'):\n",
    "    for filename in filenames:\n",
    "        print(os.path.join(dirname, filename))\n",
    "\n",
    "# You can write up to 5GB to the current directory (/kaggle/working/) that gets preserved as output when you create a version using \"Save & Run All\" \n",
    "# You can also write temporary files to /kaggle/temp/, but they won't be saved outside of the current session"
   ]
  },
  {
   "cell_type": "code",
   "execution_count": 3,
   "metadata": {
    "execution": {
     "iopub.execute_input": "2020-09-01T06:27:27.073726Z",
     "iopub.status.busy": "2020-09-01T06:27:27.072940Z",
     "iopub.status.idle": "2020-09-01T06:27:43.562426Z",
     "shell.execute_reply": "2020-09-01T06:27:43.561736Z"
    },
    "papermill": {
     "duration": 16.519535,
     "end_time": "2020-09-01T06:27:43.562571",
     "exception": false,
     "start_time": "2020-09-01T06:27:27.043036",
     "status": "completed"
    },
    "tags": []
   },
   "outputs": [
    {
     "name": "stdout",
     "output_type": "stream",
     "text": [
      "Collecting py7zr\r\n",
      "  Downloading py7zr-0.9.5-py3-none-any.whl (65 kB)\r\n",
      "\u001b[K     |████████████████████████████████| 65 kB 311 kB/s \r\n",
      "\u001b[?25hCollecting pycryptodome\r\n",
      "  Downloading pycryptodome-3.9.8-cp37-cp37m-manylinux1_x86_64.whl (13.7 MB)\r\n",
      "\u001b[K     |████████████████████████████████| 13.7 MB 8.0 MB/s \r\n",
      "\u001b[?25hRequirement already satisfied: texttable in /opt/conda/lib/python3.7/site-packages (from py7zr) (1.6.2)\r\n",
      "Requirement already satisfied: importlib-metadata; python_version < \"3.8\" in /opt/conda/lib/python3.7/site-packages (from py7zr) (1.6.0)\r\n",
      "Requirement already satisfied: zipp>=0.5 in /opt/conda/lib/python3.7/site-packages (from importlib-metadata; python_version < \"3.8\"->py7zr) (3.1.0)\r\n",
      "Installing collected packages: pycryptodome, py7zr\r\n",
      "Successfully installed py7zr-0.9.5 pycryptodome-3.9.8\r\n"
     ]
    }
   ],
   "source": [
    "!pip install py7zr\n"
   ]
  },
  {
   "cell_type": "code",
   "execution_count": 4,
   "metadata": {
    "_cell_guid": "79c7e3d0-c299-4dcb-8224-4455121ee9b0",
    "_uuid": "d629ff2d2480ee46fbb7e2d37f6b5fab8052498a",
    "execution": {
     "iopub.execute_input": "2020-09-01T06:27:43.683826Z",
     "iopub.status.busy": "2020-09-01T06:27:43.678652Z",
     "iopub.status.idle": "2020-09-01T06:27:49.540576Z",
     "shell.execute_reply": "2020-09-01T06:27:49.539755Z"
    },
    "papermill": {
     "duration": 5.924554,
     "end_time": "2020-09-01T06:27:49.540707",
     "exception": false,
     "start_time": "2020-09-01T06:27:43.616153",
     "status": "completed"
    },
    "tags": []
   },
   "outputs": [
    {
     "name": "stdout",
     "output_type": "stream",
     "text": [
      "usage: py7zr [-h] [--version] {l,x,c,t,i} ...\r\n",
      "py7zr: error: invalid choice: '/kaggle/input/kkbox-churn-prediction-challenge/train.csv.7z' (choose from 'l', 'x', 'c', 't', 'i')\r\n"
     ]
    }
   ],
   "source": [
    "!python -m py7zr /kaggle/input/kkbox-churn-prediction-challenge/train.csv.7z\n",
    "!py7zr x /kaggle/input/kkbox-churn-prediction-challenge/train.csv.7z"
   ]
  },
  {
   "cell_type": "code",
   "execution_count": 5,
   "metadata": {
    "execution": {
     "iopub.execute_input": "2020-09-01T06:27:49.659093Z",
     "iopub.status.busy": "2020-09-01T06:27:49.658250Z",
     "iopub.status.idle": "2020-09-01T06:27:50.950012Z",
     "shell.execute_reply": "2020-09-01T06:27:50.950742Z"
    },
    "papermill": {
     "duration": 1.354904,
     "end_time": "2020-09-01T06:27:50.951031",
     "exception": false,
     "start_time": "2020-09-01T06:27:49.596127",
     "status": "completed"
    },
    "tags": []
   },
   "outputs": [],
   "source": [
    "df = pd.read_csv('train.csv')"
   ]
  },
  {
   "cell_type": "code",
   "execution_count": 6,
   "metadata": {
    "execution": {
     "iopub.execute_input": "2020-09-01T06:27:51.079497Z",
     "iopub.status.busy": "2020-09-01T06:27:51.078296Z",
     "iopub.status.idle": "2020-09-01T06:27:51.083583Z",
     "shell.execute_reply": "2020-09-01T06:27:51.082830Z"
    },
    "papermill": {
     "duration": 0.074492,
     "end_time": "2020-09-01T06:27:51.083719",
     "exception": false,
     "start_time": "2020-09-01T06:27:51.009227",
     "status": "completed"
    },
    "tags": []
   },
   "outputs": [
    {
     "data": {
      "text/plain": [
       "(992931, 2)"
      ]
     },
     "execution_count": 6,
     "metadata": {},
     "output_type": "execute_result"
    }
   ],
   "source": [
    "df.shape"
   ]
  },
  {
   "cell_type": "code",
   "execution_count": 7,
   "metadata": {
    "execution": {
     "iopub.execute_input": "2020-09-01T06:27:51.204705Z",
     "iopub.status.busy": "2020-09-01T06:27:51.203836Z",
     "iopub.status.idle": "2020-09-01T06:29:13.357363Z",
     "shell.execute_reply": "2020-09-01T06:29:13.358055Z"
    },
    "papermill": {
     "duration": 82.21963,
     "end_time": "2020-09-01T06:29:13.358244",
     "exception": false,
     "start_time": "2020-09-01T06:27:51.138614",
     "status": "completed"
    },
    "tags": []
   },
   "outputs": [
    {
     "name": "stdout",
     "output_type": "stream",
     "text": [
      "usage: py7zr [-h] [--version] {l,x,c,t,i} ...\r\n",
      "py7zr: error: invalid choice: '/kaggle/input/kkbox-churn-prediction-challenge/transactions.csv.7z' (choose from 'l', 'x', 'c', 't', 'i')\r\n"
     ]
    }
   ],
   "source": [
    "!python -m py7zr /kaggle/input/kkbox-churn-prediction-challenge/transactions.csv.7z\n",
    "\n",
    "!py7zr x /kaggle/input/kkbox-churn-prediction-challenge/transactions.csv.7z\n"
   ]
  },
  {
   "cell_type": "code",
   "execution_count": 8,
   "metadata": {
    "execution": {
     "iopub.execute_input": "2020-09-01T06:29:13.480590Z",
     "iopub.status.busy": "2020-09-01T06:29:13.479396Z",
     "iopub.status.idle": "2020-09-01T06:30:11.710941Z",
     "shell.execute_reply": "2020-09-01T06:30:11.709860Z"
    },
    "papermill": {
     "duration": 58.295956,
     "end_time": "2020-09-01T06:30:11.711170",
     "exception": false,
     "start_time": "2020-09-01T06:29:13.415214",
     "status": "completed"
    },
    "tags": []
   },
   "outputs": [],
   "source": [
    "df_trans = pd.read_csv(\"transactions.csv\", parse_dates=['membership_expire_date','transaction_date'])"
   ]
  },
  {
   "cell_type": "code",
   "execution_count": 9,
   "metadata": {
    "execution": {
     "iopub.execute_input": "2020-09-01T06:30:11.848689Z",
     "iopub.status.busy": "2020-09-01T06:30:11.847724Z",
     "iopub.status.idle": "2020-09-01T06:30:11.852818Z",
     "shell.execute_reply": "2020-09-01T06:30:11.852132Z"
    },
    "papermill": {
     "duration": 0.075528,
     "end_time": "2020-09-01T06:30:11.852953",
     "exception": false,
     "start_time": "2020-09-01T06:30:11.777425",
     "status": "completed"
    },
    "tags": []
   },
   "outputs": [
    {
     "data": {
      "text/plain": [
       "(21547746, 9)"
      ]
     },
     "execution_count": 9,
     "metadata": {},
     "output_type": "execute_result"
    }
   ],
   "source": [
    "df_trans.shape"
   ]
  },
  {
   "cell_type": "markdown",
   "metadata": {
    "papermill": {
     "duration": 0.055292,
     "end_time": "2020-09-01T06:30:11.964756",
     "exception": false,
     "start_time": "2020-09-01T06:30:11.909464",
     "status": "completed"
    },
    "tags": []
   },
   "source": [
    "#### We Have Roughly 2 Crores 15 Lakhs of User Transactions , Now Next Questions is Are all this transactions Unique?"
   ]
  },
  {
   "cell_type": "code",
   "execution_count": 10,
   "metadata": {
    "execution": {
     "iopub.execute_input": "2020-09-01T06:30:13.853735Z",
     "iopub.status.busy": "2020-09-01T06:30:13.852851Z",
     "iopub.status.idle": "2020-09-01T06:30:23.989020Z",
     "shell.execute_reply": "2020-09-01T06:30:23.990090Z"
    },
    "papermill": {
     "duration": 11.962219,
     "end_time": "2020-09-01T06:30:23.990305",
     "exception": false,
     "start_time": "2020-09-01T06:30:12.028086",
     "status": "completed"
    },
    "tags": []
   },
   "outputs": [
    {
     "data": {
      "text/plain": [
       "(2363626,)"
      ]
     },
     "execution_count": 10,
     "metadata": {},
     "output_type": "execute_result"
    }
   ],
   "source": [
    "pd.unique(df_trans['msno']).shape"
   ]
  },
  {
   "cell_type": "markdown",
   "metadata": {
    "papermill": {
     "duration": 0.056793,
     "end_time": "2020-09-01T06:30:24.106930",
     "exception": false,
     "start_time": "2020-09-01T06:30:24.050137",
     "status": "completed"
    },
    "tags": []
   },
   "source": [
    "#### Out of 2 Crores 15 Lakhs Transcations only 23 Lakhs Unique User Id's are present , This can happen as user can do Multiple Transactions "
   ]
  },
  {
   "cell_type": "code",
   "execution_count": 11,
   "metadata": {
    "execution": {
     "iopub.execute_input": "2020-09-01T06:30:24.236011Z",
     "iopub.status.busy": "2020-09-01T06:30:24.235176Z",
     "iopub.status.idle": "2020-09-01T06:30:24.248764Z",
     "shell.execute_reply": "2020-09-01T06:30:24.247943Z"
    },
    "papermill": {
     "duration": 0.084953,
     "end_time": "2020-09-01T06:30:24.248923",
     "exception": false,
     "start_time": "2020-09-01T06:30:24.163970",
     "status": "completed"
    },
    "tags": []
   },
   "outputs": [
    {
     "data": {
      "text/html": [
       "<div>\n",
       "<style scoped>\n",
       "    .dataframe tbody tr th:only-of-type {\n",
       "        vertical-align: middle;\n",
       "    }\n",
       "\n",
       "    .dataframe tbody tr th {\n",
       "        vertical-align: top;\n",
       "    }\n",
       "\n",
       "    .dataframe thead th {\n",
       "        text-align: right;\n",
       "    }\n",
       "</style>\n",
       "<table border=\"1\" class=\"dataframe\">\n",
       "  <thead>\n",
       "    <tr style=\"text-align: right;\">\n",
       "      <th></th>\n",
       "      <th>msno</th>\n",
       "      <th>payment_method_id</th>\n",
       "      <th>payment_plan_days</th>\n",
       "      <th>plan_list_price</th>\n",
       "      <th>actual_amount_paid</th>\n",
       "      <th>is_auto_renew</th>\n",
       "      <th>transaction_date</th>\n",
       "      <th>membership_expire_date</th>\n",
       "      <th>is_cancel</th>\n",
       "    </tr>\n",
       "  </thead>\n",
       "  <tbody>\n",
       "    <tr>\n",
       "      <th>0</th>\n",
       "      <td>YyO+tlZtAXYXoZhNr3Vg3+dfVQvrBVGO8j1mfqe4ZHc=</td>\n",
       "      <td>41</td>\n",
       "      <td>30</td>\n",
       "      <td>129</td>\n",
       "      <td>129</td>\n",
       "      <td>1</td>\n",
       "      <td>2015-09-30</td>\n",
       "      <td>2015-11-01</td>\n",
       "      <td>0</td>\n",
       "    </tr>\n",
       "    <tr>\n",
       "      <th>1</th>\n",
       "      <td>AZtu6Wl0gPojrEQYB8Q3vBSmE2wnZ3hi1FbK1rQQ0A4=</td>\n",
       "      <td>41</td>\n",
       "      <td>30</td>\n",
       "      <td>149</td>\n",
       "      <td>149</td>\n",
       "      <td>1</td>\n",
       "      <td>2015-09-30</td>\n",
       "      <td>2015-10-31</td>\n",
       "      <td>0</td>\n",
       "    </tr>\n",
       "    <tr>\n",
       "      <th>2</th>\n",
       "      <td>UkDFI97Qb6+s2LWcijVVv4rMAsORbVDT2wNXF0aVbns=</td>\n",
       "      <td>41</td>\n",
       "      <td>30</td>\n",
       "      <td>129</td>\n",
       "      <td>129</td>\n",
       "      <td>1</td>\n",
       "      <td>2015-09-30</td>\n",
       "      <td>2016-04-27</td>\n",
       "      <td>0</td>\n",
       "    </tr>\n",
       "    <tr>\n",
       "      <th>3</th>\n",
       "      <td>M1C56ijxozNaGD0t2h68PnH2xtx5iO5iR2MVYQB6nBI=</td>\n",
       "      <td>39</td>\n",
       "      <td>30</td>\n",
       "      <td>149</td>\n",
       "      <td>149</td>\n",
       "      <td>1</td>\n",
       "      <td>2015-09-30</td>\n",
       "      <td>2015-11-28</td>\n",
       "      <td>0</td>\n",
       "    </tr>\n",
       "    <tr>\n",
       "      <th>4</th>\n",
       "      <td>yvj6zyBUaqdbUQSrKsrZ+xNDVM62knauSZJzakS9OW4=</td>\n",
       "      <td>39</td>\n",
       "      <td>30</td>\n",
       "      <td>149</td>\n",
       "      <td>149</td>\n",
       "      <td>1</td>\n",
       "      <td>2015-09-30</td>\n",
       "      <td>2015-11-21</td>\n",
       "      <td>0</td>\n",
       "    </tr>\n",
       "  </tbody>\n",
       "</table>\n",
       "</div>"
      ],
      "text/plain": [
       "                                           msno  payment_method_id  \\\n",
       "0  YyO+tlZtAXYXoZhNr3Vg3+dfVQvrBVGO8j1mfqe4ZHc=                 41   \n",
       "1  AZtu6Wl0gPojrEQYB8Q3vBSmE2wnZ3hi1FbK1rQQ0A4=                 41   \n",
       "2  UkDFI97Qb6+s2LWcijVVv4rMAsORbVDT2wNXF0aVbns=                 41   \n",
       "3  M1C56ijxozNaGD0t2h68PnH2xtx5iO5iR2MVYQB6nBI=                 39   \n",
       "4  yvj6zyBUaqdbUQSrKsrZ+xNDVM62knauSZJzakS9OW4=                 39   \n",
       "\n",
       "   payment_plan_days  plan_list_price  actual_amount_paid  is_auto_renew  \\\n",
       "0                 30              129                 129              1   \n",
       "1                 30              149                 149              1   \n",
       "2                 30              129                 129              1   \n",
       "3                 30              149                 149              1   \n",
       "4                 30              149                 149              1   \n",
       "\n",
       "  transaction_date membership_expire_date  is_cancel  \n",
       "0       2015-09-30             2015-11-01          0  \n",
       "1       2015-09-30             2015-10-31          0  \n",
       "2       2015-09-30             2016-04-27          0  \n",
       "3       2015-09-30             2015-11-28          0  \n",
       "4       2015-09-30             2015-11-21          0  "
      ]
     },
     "execution_count": 11,
     "metadata": {},
     "output_type": "execute_result"
    }
   ],
   "source": [
    "df_trans.head()"
   ]
  },
  {
   "cell_type": "markdown",
   "metadata": {
    "papermill": {
     "duration": 0.056131,
     "end_time": "2020-09-01T06:30:24.361660",
     "exception": false,
     "start_time": "2020-09-01T06:30:24.305529",
     "status": "completed"
    },
    "tags": []
   },
   "source": [
    "#### What is Minimum Value of Transaction Date amongst all transactions ?\n"
   ]
  },
  {
   "cell_type": "code",
   "execution_count": 12,
   "metadata": {
    "execution": {
     "iopub.execute_input": "2020-09-01T06:30:24.489323Z",
     "iopub.status.busy": "2020-09-01T06:30:24.487951Z",
     "iopub.status.idle": "2020-09-01T06:30:24.605218Z",
     "shell.execute_reply": "2020-09-01T06:30:24.604454Z"
    },
    "papermill": {
     "duration": 0.185632,
     "end_time": "2020-09-01T06:30:24.605349",
     "exception": false,
     "start_time": "2020-09-01T06:30:24.419717",
     "status": "completed"
    },
    "tags": []
   },
   "outputs": [
    {
     "data": {
      "text/plain": [
       "Timestamp('2015-01-01 00:00:00')"
      ]
     },
     "execution_count": 12,
     "metadata": {},
     "output_type": "execute_result"
    }
   ],
   "source": [
    "df_trans['transaction_date'].min()"
   ]
  },
  {
   "cell_type": "markdown",
   "metadata": {
    "papermill": {
     "duration": 0.055471,
     "end_time": "2020-09-01T06:30:24.716960",
     "exception": false,
     "start_time": "2020-09-01T06:30:24.661489",
     "status": "completed"
    },
    "tags": []
   },
   "source": [
    "#### What is Maximum Value of Transaction Date Amongst all transactions ?"
   ]
  },
  {
   "cell_type": "code",
   "execution_count": 13,
   "metadata": {
    "execution": {
     "iopub.execute_input": "2020-09-01T06:30:24.834955Z",
     "iopub.status.busy": "2020-09-01T06:30:24.834135Z",
     "iopub.status.idle": "2020-09-01T06:30:24.914160Z",
     "shell.execute_reply": "2020-09-01T06:30:24.913359Z"
    },
    "papermill": {
     "duration": 0.141172,
     "end_time": "2020-09-01T06:30:24.914301",
     "exception": false,
     "start_time": "2020-09-01T06:30:24.773129",
     "status": "completed"
    },
    "tags": []
   },
   "outputs": [
    {
     "data": {
      "text/plain": [
       "Timestamp('2017-02-28 00:00:00')"
      ]
     },
     "execution_count": 13,
     "metadata": {},
     "output_type": "execute_result"
    }
   ],
   "source": [
    "df_trans['transaction_date'].max()"
   ]
  },
  {
   "cell_type": "markdown",
   "metadata": {
    "papermill": {
     "duration": 0.075106,
     "end_time": "2020-09-01T06:30:25.045746",
     "exception": false,
     "start_time": "2020-09-01T06:30:24.970640",
     "status": "completed"
    },
    "tags": []
   },
   "source": [
    "#### What is Minimum Value of Expiry Date ?"
   ]
  },
  {
   "cell_type": "code",
   "execution_count": 14,
   "metadata": {
    "execution": {
     "iopub.execute_input": "2020-09-01T06:30:25.194278Z",
     "iopub.status.busy": "2020-09-01T06:30:25.193421Z",
     "iopub.status.idle": "2020-09-01T06:30:25.312727Z",
     "shell.execute_reply": "2020-09-01T06:30:25.311918Z"
    },
    "papermill": {
     "duration": 0.189362,
     "end_time": "2020-09-01T06:30:25.312880",
     "exception": false,
     "start_time": "2020-09-01T06:30:25.123518",
     "status": "completed"
    },
    "tags": []
   },
   "outputs": [
    {
     "data": {
      "text/plain": [
       "Timestamp('1970-01-01 00:00:00')"
      ]
     },
     "execution_count": 14,
     "metadata": {},
     "output_type": "execute_result"
    }
   ],
   "source": [
    "df_trans['membership_expire_date'].min()"
   ]
  },
  {
   "cell_type": "markdown",
   "metadata": {
    "papermill": {
     "duration": 0.057278,
     "end_time": "2020-09-01T06:30:25.426897",
     "exception": false,
     "start_time": "2020-09-01T06:30:25.369619",
     "status": "completed"
    },
    "tags": []
   },
   "source": [
    "### That's Pretty Much an Outlier !"
   ]
  },
  {
   "cell_type": "code",
   "execution_count": 15,
   "metadata": {
    "execution": {
     "iopub.execute_input": "2020-09-01T06:30:25.545893Z",
     "iopub.status.busy": "2020-09-01T06:30:25.545051Z",
     "iopub.status.idle": "2020-09-01T06:30:25.623178Z",
     "shell.execute_reply": "2020-09-01T06:30:25.622360Z"
    },
    "papermill": {
     "duration": 0.139753,
     "end_time": "2020-09-01T06:30:25.623333",
     "exception": false,
     "start_time": "2020-09-01T06:30:25.483580",
     "status": "completed"
    },
    "tags": []
   },
   "outputs": [
    {
     "data": {
      "text/plain": [
       "Timestamp('2017-03-31 00:00:00')"
      ]
     },
     "execution_count": 15,
     "metadata": {},
     "output_type": "execute_result"
    }
   ],
   "source": [
    "df_trans[\"membership_expire_date\"].max()"
   ]
  },
  {
   "cell_type": "markdown",
   "metadata": {
    "papermill": {
     "duration": 0.056838,
     "end_time": "2020-09-01T06:30:25.740875",
     "exception": false,
     "start_time": "2020-09-01T06:30:25.684037",
     "status": "completed"
    },
    "tags": []
   },
   "source": [
    "### Lets only Keep The User Activities with most recent Transactions and Not all Historical"
   ]
  },
  {
   "cell_type": "code",
   "execution_count": 16,
   "metadata": {
    "execution": {
     "iopub.execute_input": "2020-09-01T06:30:25.862606Z",
     "iopub.status.busy": "2020-09-01T06:30:25.861159Z",
     "iopub.status.idle": "2020-09-01T06:30:51.199879Z",
     "shell.execute_reply": "2020-09-01T06:30:51.198909Z"
    },
    "papermill": {
     "duration": 25.402279,
     "end_time": "2020-09-01T06:30:51.200039",
     "exception": false,
     "start_time": "2020-09-01T06:30:25.797760",
     "status": "completed"
    },
    "tags": []
   },
   "outputs": [],
   "source": [
    "df_trans = df_trans.sort_values('transaction_date').drop_duplicates('msno' , keep = 'last' )"
   ]
  },
  {
   "cell_type": "code",
   "execution_count": 17,
   "metadata": {
    "execution": {
     "iopub.execute_input": "2020-09-01T06:30:51.325654Z",
     "iopub.status.busy": "2020-09-01T06:30:51.324819Z",
     "iopub.status.idle": "2020-09-01T06:30:51.329256Z",
     "shell.execute_reply": "2020-09-01T06:30:51.328594Z"
    },
    "papermill": {
     "duration": 0.068168,
     "end_time": "2020-09-01T06:30:51.329395",
     "exception": false,
     "start_time": "2020-09-01T06:30:51.261227",
     "status": "completed"
    },
    "tags": []
   },
   "outputs": [
    {
     "data": {
      "text/plain": [
       "(2363626, 9)"
      ]
     },
     "execution_count": 17,
     "metadata": {},
     "output_type": "execute_result"
    }
   ],
   "source": [
    "df_trans.shape"
   ]
  },
  {
   "cell_type": "markdown",
   "metadata": {
    "papermill": {
     "duration": 0.059122,
     "end_time": "2020-09-01T06:30:51.445635",
     "exception": false,
     "start_time": "2020-09-01T06:30:51.386513",
     "status": "completed"
    },
    "tags": []
   },
   "source": [
    "### We are now Getting 23 Lakhs Unique User activities consisting of Most Recent Transactions , Lets Join This Table with Train Dataset Consisting of Churn Information so that we can do some analysis"
   ]
  },
  {
   "cell_type": "code",
   "execution_count": 18,
   "metadata": {
    "execution": {
     "iopub.execute_input": "2020-09-01T06:30:51.582031Z",
     "iopub.status.busy": "2020-09-01T06:30:51.581135Z",
     "iopub.status.idle": "2020-09-01T06:30:55.633628Z",
     "shell.execute_reply": "2020-09-01T06:30:55.632944Z"
    },
    "papermill": {
     "duration": 4.124006,
     "end_time": "2020-09-01T06:30:55.633760",
     "exception": false,
     "start_time": "2020-09-01T06:30:51.509754",
     "status": "completed"
    },
    "tags": []
   },
   "outputs": [],
   "source": [
    "df = df.merge(df_trans , on = ['msno'] , how = 'left')"
   ]
  },
  {
   "cell_type": "code",
   "execution_count": 19,
   "metadata": {
    "execution": {
     "iopub.execute_input": "2020-09-01T06:30:55.761213Z",
     "iopub.status.busy": "2020-09-01T06:30:55.760334Z",
     "iopub.status.idle": "2020-09-01T06:30:55.764656Z",
     "shell.execute_reply": "2020-09-01T06:30:55.763952Z"
    },
    "papermill": {
     "duration": 0.073055,
     "end_time": "2020-09-01T06:30:55.764780",
     "exception": false,
     "start_time": "2020-09-01T06:30:55.691725",
     "status": "completed"
    },
    "tags": []
   },
   "outputs": [
    {
     "data": {
      "text/plain": [
       "(992931, 10)"
      ]
     },
     "execution_count": 19,
     "metadata": {},
     "output_type": "execute_result"
    }
   ],
   "source": [
    "df.shape"
   ]
  },
  {
   "cell_type": "code",
   "execution_count": 20,
   "metadata": {
    "execution": {
     "iopub.execute_input": "2020-09-01T06:30:55.897639Z",
     "iopub.status.busy": "2020-09-01T06:30:55.896701Z",
     "iopub.status.idle": "2020-09-01T06:30:55.903058Z",
     "shell.execute_reply": "2020-09-01T06:30:55.902186Z"
    },
    "papermill": {
     "duration": 0.081331,
     "end_time": "2020-09-01T06:30:55.903203",
     "exception": false,
     "start_time": "2020-09-01T06:30:55.821872",
     "status": "completed"
    },
    "tags": []
   },
   "outputs": [
    {
     "data": {
      "text/html": [
       "<div>\n",
       "<style scoped>\n",
       "    .dataframe tbody tr th:only-of-type {\n",
       "        vertical-align: middle;\n",
       "    }\n",
       "\n",
       "    .dataframe tbody tr th {\n",
       "        vertical-align: top;\n",
       "    }\n",
       "\n",
       "    .dataframe thead th {\n",
       "        text-align: right;\n",
       "    }\n",
       "</style>\n",
       "<table border=\"1\" class=\"dataframe\">\n",
       "  <thead>\n",
       "    <tr style=\"text-align: right;\">\n",
       "      <th></th>\n",
       "      <th>msno</th>\n",
       "      <th>is_churn</th>\n",
       "      <th>payment_method_id</th>\n",
       "      <th>payment_plan_days</th>\n",
       "      <th>plan_list_price</th>\n",
       "      <th>actual_amount_paid</th>\n",
       "      <th>is_auto_renew</th>\n",
       "      <th>transaction_date</th>\n",
       "      <th>membership_expire_date</th>\n",
       "      <th>is_cancel</th>\n",
       "    </tr>\n",
       "  </thead>\n",
       "  <tbody>\n",
       "    <tr>\n",
       "      <th>0</th>\n",
       "      <td>waLDQMmcOu2jLDaV1ddDkgCrB/jl6sD66Xzs0Vqax1Y=</td>\n",
       "      <td>1</td>\n",
       "      <td>38</td>\n",
       "      <td>30</td>\n",
       "      <td>149</td>\n",
       "      <td>149</td>\n",
       "      <td>0</td>\n",
       "      <td>2017-01-07</td>\n",
       "      <td>2017-02-06</td>\n",
       "      <td>0</td>\n",
       "    </tr>\n",
       "    <tr>\n",
       "      <th>1</th>\n",
       "      <td>QA7uiXy8vIbUSPOkCf9RwQ3FsT8jVq2OxDr8zqa7bRQ=</td>\n",
       "      <td>1</td>\n",
       "      <td>39</td>\n",
       "      <td>30</td>\n",
       "      <td>149</td>\n",
       "      <td>149</td>\n",
       "      <td>1</td>\n",
       "      <td>2017-02-24</td>\n",
       "      <td>2017-03-21</td>\n",
       "      <td>1</td>\n",
       "    </tr>\n",
       "    <tr>\n",
       "      <th>2</th>\n",
       "      <td>fGwBva6hikQmTJzrbz/2Ezjm5Cth5jZUNvXigKK2AFA=</td>\n",
       "      <td>1</td>\n",
       "      <td>39</td>\n",
       "      <td>30</td>\n",
       "      <td>149</td>\n",
       "      <td>149</td>\n",
       "      <td>1</td>\n",
       "      <td>2017-01-12</td>\n",
       "      <td>2017-02-03</td>\n",
       "      <td>1</td>\n",
       "    </tr>\n",
       "    <tr>\n",
       "      <th>3</th>\n",
       "      <td>mT5V8rEpa+8wuqi6x0DoVd3H5icMKkE9Prt49UlmK+4=</td>\n",
       "      <td>1</td>\n",
       "      <td>38</td>\n",
       "      <td>410</td>\n",
       "      <td>1788</td>\n",
       "      <td>1788</td>\n",
       "      <td>0</td>\n",
       "      <td>2016-01-06</td>\n",
       "      <td>2017-02-20</td>\n",
       "      <td>0</td>\n",
       "    </tr>\n",
       "    <tr>\n",
       "      <th>4</th>\n",
       "      <td>XaPhtGLk/5UvvOYHcONTwsnH97P4eGECeq+BARGItRw=</td>\n",
       "      <td>1</td>\n",
       "      <td>38</td>\n",
       "      <td>30</td>\n",
       "      <td>149</td>\n",
       "      <td>149</td>\n",
       "      <td>0</td>\n",
       "      <td>2017-01-28</td>\n",
       "      <td>2017-02-27</td>\n",
       "      <td>0</td>\n",
       "    </tr>\n",
       "  </tbody>\n",
       "</table>\n",
       "</div>"
      ],
      "text/plain": [
       "                                           msno  is_churn  payment_method_id  \\\n",
       "0  waLDQMmcOu2jLDaV1ddDkgCrB/jl6sD66Xzs0Vqax1Y=         1                 38   \n",
       "1  QA7uiXy8vIbUSPOkCf9RwQ3FsT8jVq2OxDr8zqa7bRQ=         1                 39   \n",
       "2  fGwBva6hikQmTJzrbz/2Ezjm5Cth5jZUNvXigKK2AFA=         1                 39   \n",
       "3  mT5V8rEpa+8wuqi6x0DoVd3H5icMKkE9Prt49UlmK+4=         1                 38   \n",
       "4  XaPhtGLk/5UvvOYHcONTwsnH97P4eGECeq+BARGItRw=         1                 38   \n",
       "\n",
       "   payment_plan_days  plan_list_price  actual_amount_paid  is_auto_renew  \\\n",
       "0                 30              149                 149              0   \n",
       "1                 30              149                 149              1   \n",
       "2                 30              149                 149              1   \n",
       "3                410             1788                1788              0   \n",
       "4                 30              149                 149              0   \n",
       "\n",
       "  transaction_date membership_expire_date  is_cancel  \n",
       "0       2017-01-07             2017-02-06          0  \n",
       "1       2017-02-24             2017-03-21          1  \n",
       "2       2017-01-12             2017-02-03          1  \n",
       "3       2016-01-06             2017-02-20          0  \n",
       "4       2017-01-28             2017-02-27          0  "
      ]
     },
     "execution_count": 20,
     "metadata": {},
     "output_type": "execute_result"
    }
   ],
   "source": [
    "df.head()"
   ]
  },
  {
   "cell_type": "markdown",
   "metadata": {
    "papermill": {
     "duration": 0.060504,
     "end_time": "2020-09-01T06:30:56.027488",
     "exception": false,
     "start_time": "2020-09-01T06:30:55.966984",
     "status": "completed"
    },
    "tags": []
   },
   "source": [
    "### Join Results Look Quite Good Lets check for Null Values"
   ]
  },
  {
   "cell_type": "code",
   "execution_count": 21,
   "metadata": {
    "execution": {
     "iopub.execute_input": "2020-09-01T06:30:56.270693Z",
     "iopub.status.busy": "2020-09-01T06:30:56.269905Z",
     "iopub.status.idle": "2020-09-01T06:30:56.299107Z",
     "shell.execute_reply": "2020-09-01T06:30:56.298406Z"
    },
    "papermill": {
     "duration": 0.205945,
     "end_time": "2020-09-01T06:30:56.299249",
     "exception": false,
     "start_time": "2020-09-01T06:30:56.093304",
     "status": "completed"
    },
    "tags": []
   },
   "outputs": [
    {
     "data": {
      "text/plain": [
       "msno                      0\n",
       "is_churn                  0\n",
       "payment_method_id         0\n",
       "payment_plan_days         0\n",
       "plan_list_price           0\n",
       "actual_amount_paid        0\n",
       "is_auto_renew             0\n",
       "transaction_date          0\n",
       "membership_expire_date    0\n",
       "is_cancel                 0\n",
       "dtype: int64"
      ]
     },
     "execution_count": 21,
     "metadata": {},
     "output_type": "execute_result"
    }
   ],
   "source": [
    "df.isna().sum()"
   ]
  },
  {
   "cell_type": "markdown",
   "metadata": {
    "papermill": {
     "duration": 0.058315,
     "end_time": "2020-09-01T06:30:56.416771",
     "exception": false,
     "start_time": "2020-09-01T06:30:56.358456",
     "status": "completed"
    },
    "tags": []
   },
   "source": [
    "### Luckily , No Null Values Are Present Lets Move Forward With Some EDA"
   ]
  },
  {
   "cell_type": "markdown",
   "metadata": {
    "papermill": {
     "duration": 0.057906,
     "end_time": "2020-09-01T06:30:56.534272",
     "exception": false,
     "start_time": "2020-09-01T06:30:56.476366",
     "status": "completed"
    },
    "tags": []
   },
   "source": [
    "#### How Many Users Are There For Each Churn and Non Churn Classes Who Have Actively Cancelled Their Subscription"
   ]
  },
  {
   "cell_type": "code",
   "execution_count": 22,
   "metadata": {
    "execution": {
     "iopub.execute_input": "2020-09-01T06:30:56.664704Z",
     "iopub.status.busy": "2020-09-01T06:30:56.663614Z",
     "iopub.status.idle": "2020-09-01T06:30:57.005384Z",
     "shell.execute_reply": "2020-09-01T06:30:57.006193Z"
    },
    "papermill": {
     "duration": 0.408493,
     "end_time": "2020-09-01T06:30:57.006399",
     "exception": false,
     "start_time": "2020-09-01T06:30:56.597906",
     "status": "completed"
    },
    "tags": []
   },
   "outputs": [
    {
     "data": {
      "text/plain": [
       "<matplotlib.axes._subplots.AxesSubplot at 0x7f4af3b4f950>"
      ]
     },
     "execution_count": 22,
     "metadata": {},
     "output_type": "execute_result"
    },
    {
     "data": {
      "image/png": "[encoded data removed]",
      "text/plain": [
       "<Figure size 432x288 with 1 Axes>"
      ]
     },
     "metadata": {
      "needs_background": "light"
     },
     "output_type": "display_data"
    }
   ],
   "source": [
    "df.groupby(\"is_churn\")['is_cancel'].sum().plot(kind = 'bar', title = \"Number of Active Cancellation vs Churn\")"
   ]
  },
  {
   "cell_type": "markdown",
   "metadata": {
    "papermill": {
     "duration": 0.071291,
     "end_time": "2020-09-01T06:30:57.145945",
     "exception": false,
     "start_time": "2020-09-01T06:30:57.074654",
     "status": "completed"
    },
    "tags": []
   },
   "source": [
    "### We can see Clearly for Non Churn Users , Active cancellation is very less roughly 7k and for Churned users the Number of Active Cancellation is very high roughly 25k"
   ]
  },
  {
   "cell_type": "markdown",
   "metadata": {
    "papermill": {
     "duration": 0.057975,
     "end_time": "2020-09-01T06:30:57.330681",
     "exception": false,
     "start_time": "2020-09-01T06:30:57.272706",
     "status": "completed"
    },
    "tags": []
   },
   "source": [
    "### How Many Users Auto-Renew their Subscription Based on Whether they are churn or non churn?"
   ]
  },
  {
   "cell_type": "code",
   "execution_count": 23,
   "metadata": {
    "execution": {
     "iopub.execute_input": "2020-09-01T06:30:57.453974Z",
     "iopub.status.busy": "2020-09-01T06:30:57.453138Z",
     "iopub.status.idle": "2020-09-01T06:30:57.638577Z",
     "shell.execute_reply": "2020-09-01T06:30:57.637890Z"
    },
    "papermill": {
     "duration": 0.250004,
     "end_time": "2020-09-01T06:30:57.638704",
     "exception": false,
     "start_time": "2020-09-01T06:30:57.388700",
     "status": "completed"
    },
    "tags": []
   },
   "outputs": [
    {
     "data": {
      "text/plain": [
       "<matplotlib.axes._subplots.AxesSubplot at 0x7f4b1e04ccd0>"
      ]
     },
     "execution_count": 23,
     "metadata": {},
     "output_type": "execute_result"
    },
    {
     "data": {
      "image/png": "[encoded data removed]",
      "text/plain": [
       "<Figure size 432x288 with 1 Axes>"
      ]
     },
     "metadata": {
      "needs_background": "light"
     },
     "output_type": "display_data"
    }
   ],
   "source": [
    "df.groupby(\"is_churn\")['is_auto_renew'].sum().plot(kind = 'bar', title = \"Number of Auto Renew vs Churn\")"
   ]
  },
  {
   "cell_type": "markdown",
   "metadata": {
    "papermill": {
     "duration": 0.059107,
     "end_time": "2020-09-01T06:30:57.758340",
     "exception": false,
     "start_time": "2020-09-01T06:30:57.699233",
     "status": "completed"
    },
    "tags": []
   },
   "source": [
    "#### We can see that very few Churn Users Auto Renew Their Subscriptions , infact for Non Churn Users The Number of auto renew is significantly very large , lets look at actual numbers "
   ]
  },
  {
   "cell_type": "code",
   "execution_count": 24,
   "metadata": {
    "execution": {
     "iopub.execute_input": "2020-09-01T06:30:57.883491Z",
     "iopub.status.busy": "2020-09-01T06:30:57.882692Z",
     "iopub.status.idle": "2020-09-01T06:30:57.912948Z",
     "shell.execute_reply": "2020-09-01T06:30:57.912046Z"
    },
    "papermill": {
     "duration": 0.09517,
     "end_time": "2020-09-01T06:30:57.913096",
     "exception": false,
     "start_time": "2020-09-01T06:30:57.817926",
     "status": "completed"
    },
    "tags": []
   },
   "outputs": [
    {
     "data": {
      "text/plain": [
       "is_churn\n",
       "0    855320\n",
       "1     27395\n",
       "Name: is_auto_renew, dtype: int64"
      ]
     },
     "execution_count": 24,
     "metadata": {},
     "output_type": "execute_result"
    }
   ],
   "source": [
    "df.groupby(\"is_churn\")['is_auto_renew'].sum()"
   ]
  },
  {
   "cell_type": "markdown",
   "metadata": {
    "papermill": {
     "duration": 0.066127,
     "end_time": "2020-09-01T06:30:58.038175",
     "exception": false,
     "start_time": "2020-09-01T06:30:57.972048",
     "status": "completed"
    },
    "tags": []
   },
   "source": [
    "1. For churn users number of auto_renew is very less 27k approx\n",
    "2. for non churn users number of auto_renew is very large approximately 850k"
   ]
  },
  {
   "cell_type": "markdown",
   "metadata": {
    "papermill": {
     "duration": 0.076552,
     "end_time": "2020-09-01T06:30:58.203820",
     "exception": false,
     "start_time": "2020-09-01T06:30:58.127268",
     "status": "completed"
    },
    "tags": []
   },
   "source": [
    "### Conclusions Till Now:\n",
    "1. is_cancel can be very important categorical feature towards our task of churn classification as number of churn users having actively cancelled their subscriptions is very high.\n",
    "2. is_auto_renew can be again very important categorical feature towards our task of churn classification as number of churn users , having Auto renew their subscriptions is very less"
   ]
  },
  {
   "cell_type": "markdown",
   "metadata": {
    "papermill": {
     "duration": 0.058652,
     "end_time": "2020-09-01T06:30:58.325535",
     "exception": false,
     "start_time": "2020-09-01T06:30:58.266883",
     "status": "completed"
    },
    "tags": []
   },
   "source": [
    "### Now , Lets Analyse How Much Amount of Money is spent by Churn and Non Churn Users , We need to check if there exists a trend like churn users spend less amount or Non Churn Users spend More Amount"
   ]
  },
  {
   "cell_type": "code",
   "execution_count": 25,
   "metadata": {
    "execution": {
     "iopub.execute_input": "2020-09-01T06:30:58.450440Z",
     "iopub.status.busy": "2020-09-01T06:30:58.449660Z",
     "iopub.status.idle": "2020-09-01T06:30:58.551498Z",
     "shell.execute_reply": "2020-09-01T06:30:58.550687Z"
    },
    "papermill": {
     "duration": 0.166247,
     "end_time": "2020-09-01T06:30:58.551636",
     "exception": false,
     "start_time": "2020-09-01T06:30:58.385389",
     "status": "completed"
    },
    "tags": []
   },
   "outputs": [],
   "source": [
    "## Separating non churned users and churn users data for easy analysis\n",
    "df_non_churn = df[df['is_churn']==0]\n",
    "df_churn = df[df['is_churn']==1]"
   ]
  },
  {
   "cell_type": "code",
   "execution_count": 26,
   "metadata": {
    "execution": {
     "iopub.execute_input": "2020-09-01T06:30:58.676091Z",
     "iopub.status.busy": "2020-09-01T06:30:58.675264Z",
     "iopub.status.idle": "2020-09-01T06:30:58.694089Z",
     "shell.execute_reply": "2020-09-01T06:30:58.693371Z"
    },
    "papermill": {
     "duration": 0.083308,
     "end_time": "2020-09-01T06:30:58.694251",
     "exception": false,
     "start_time": "2020-09-01T06:30:58.610943",
     "status": "completed"
    },
    "tags": []
   },
   "outputs": [
    {
     "data": {
      "text/plain": [
       "0    929460\n",
       "Name: is_churn, dtype: int64"
      ]
     },
     "execution_count": 26,
     "metadata": {},
     "output_type": "execute_result"
    }
   ],
   "source": [
    "df_non_churn['is_churn'].value_counts()"
   ]
  },
  {
   "cell_type": "code",
   "execution_count": 27,
   "metadata": {
    "execution": {
     "iopub.execute_input": "2020-09-01T06:30:58.833926Z",
     "iopub.status.busy": "2020-09-01T06:30:58.833044Z",
     "iopub.status.idle": "2020-09-01T06:30:58.841076Z",
     "shell.execute_reply": "2020-09-01T06:30:58.840305Z"
    },
    "papermill": {
     "duration": 0.080232,
     "end_time": "2020-09-01T06:30:58.841203",
     "exception": false,
     "start_time": "2020-09-01T06:30:58.760971",
     "status": "completed"
    },
    "tags": []
   },
   "outputs": [
    {
     "data": {
      "text/plain": [
       "1    63471\n",
       "Name: is_churn, dtype: int64"
      ]
     },
     "execution_count": 27,
     "metadata": {},
     "output_type": "execute_result"
    }
   ],
   "source": [
    "df_churn['is_churn'].value_counts()"
   ]
  },
  {
   "cell_type": "markdown",
   "metadata": {
    "papermill": {
     "duration": 0.066865,
     "end_time": "2020-09-01T06:30:58.973843",
     "exception": false,
     "start_time": "2020-09-01T06:30:58.906978",
     "status": "completed"
    },
    "tags": []
   },
   "source": [
    "# Actual Amount Spend By Churn and Non Churn Users analysis"
   ]
  },
  {
   "cell_type": "code",
   "execution_count": 28,
   "metadata": {
    "execution": {
     "iopub.execute_input": "2020-09-01T06:30:59.132511Z",
     "iopub.status.busy": "2020-09-01T06:30:59.122586Z",
     "iopub.status.idle": "2020-09-01T06:30:59.271883Z",
     "shell.execute_reply": "2020-09-01T06:30:59.270932Z"
    },
    "papermill": {
     "duration": 0.228314,
     "end_time": "2020-09-01T06:30:59.272043",
     "exception": false,
     "start_time": "2020-09-01T06:30:59.043729",
     "status": "completed"
    },
    "tags": []
   },
   "outputs": [
    {
     "data": {
      "image/png": "[encoded data removed]",
      "text/plain": [
       "<Figure size 432x288 with 1 Axes>"
      ]
     },
     "metadata": {
      "needs_background": "light"
     },
     "output_type": "display_data"
    }
   ],
   "source": [
    "fig = plt.figure()\n",
    "ax = fig.add_axes([0,0,1,1])\n",
    "labels= ['No_Churn', 'Churn']\n",
    "Total_Amount_Spend = [df_non_churn['actual_amount_paid'].sum(),df_churn['actual_amount_paid'].sum()]\n",
    "ax.bar(labels,Total_Amount_Spend,color=['b','r'])\n",
    "plt.show()"
   ]
  },
  {
   "cell_type": "markdown",
   "metadata": {
    "papermill": {
     "duration": 0.060038,
     "end_time": "2020-09-01T06:30:59.400988",
     "exception": false,
     "start_time": "2020-09-01T06:30:59.340950",
     "status": "completed"
    },
    "tags": []
   },
   "source": [
    "### We see that Non Churn Users Have Spend Much more on the platform then the churn users , Lets do basic statistics of actual amount spend by churn and non churn users"
   ]
  },
  {
   "cell_type": "markdown",
   "metadata": {
    "papermill": {
     "duration": 0.063226,
     "end_time": "2020-09-01T06:30:59.525037",
     "exception": false,
     "start_time": "2020-09-01T06:30:59.461811",
     "status": "completed"
    },
    "tags": []
   },
   "source": [
    "# Statistics of Actual Amount Paid By Non Churn Users"
   ]
  },
  {
   "cell_type": "code",
   "execution_count": 29,
   "metadata": {
    "execution": {
     "iopub.execute_input": "2020-09-01T06:30:59.654539Z",
     "iopub.status.busy": "2020-09-01T06:30:59.653072Z",
     "iopub.status.idle": "2020-09-01T06:30:59.681277Z",
     "shell.execute_reply": "2020-09-01T06:30:59.682332Z"
    },
    "papermill": {
     "duration": 0.09752,
     "end_time": "2020-09-01T06:30:59.682562",
     "exception": false,
     "start_time": "2020-09-01T06:30:59.585042",
     "status": "completed"
    },
    "tags": []
   },
   "outputs": [
    {
     "name": "stdout",
     "output_type": "stream",
     "text": [
      "Mean Value of Actual Amount Paid By Non Churn Users is  136.497726636972\n",
      "Median Value of Actual Amount Paid By Non Churn Users is  149.0\n",
      "Max Value of Actual Amount Paid By Non Churn Users is  2000\n",
      "Min Value of Actual Amount Paid By Non Churn Users is  0\n",
      "Standard Deviation Value of Actual Amount Paid By Non Churn Users is  100.73160899390813\n"
     ]
    }
   ],
   "source": [
    "print(\"Mean Value of Actual Amount Paid By Non Churn Users is \" , np.mean(df_non_churn[\"actual_amount_paid\"]))\n",
    "print(\"Median Value of Actual Amount Paid By Non Churn Users is \" , np.median(df_non_churn[\"actual_amount_paid\"]))\n",
    "print(\"Max Value of Actual Amount Paid By Non Churn Users is \" , np.max(df_non_churn[\"actual_amount_paid\"]))\n",
    "print(\"Min Value of Actual Amount Paid By Non Churn Users is \" , np.min(df_non_churn[\"actual_amount_paid\"]))\n",
    "print(\"Standard Deviation Value of Actual Amount Paid By Non Churn Users is \" , np.std(df_non_churn[\"actual_amount_paid\"]))\n"
   ]
  },
  {
   "cell_type": "markdown",
   "metadata": {
    "papermill": {
     "duration": 0.066633,
     "end_time": "2020-09-01T06:30:59.816856",
     "exception": false,
     "start_time": "2020-09-01T06:30:59.750223",
     "status": "completed"
    },
    "tags": []
   },
   "source": [
    "### Lets Compute Histograms and Pdf for Non Churn Users"
   ]
  },
  {
   "cell_type": "code",
   "execution_count": 30,
   "metadata": {
    "execution": {
     "iopub.execute_input": "2020-09-01T06:30:59.961478Z",
     "iopub.status.busy": "2020-09-01T06:30:59.960255Z",
     "iopub.status.idle": "2020-09-01T06:31:00.234036Z",
     "shell.execute_reply": "2020-09-01T06:31:00.233231Z"
    },
    "papermill": {
     "duration": 0.350207,
     "end_time": "2020-09-01T06:31:00.234167",
     "exception": false,
     "start_time": "2020-09-01T06:30:59.883960",
     "status": "completed"
    },
    "tags": []
   },
   "outputs": [
    {
     "data": {
      "image/png": "[encoded data removed]",
      "text/plain": [
       "<Figure size 432x288 with 1 Axes>"
      ]
     },
     "metadata": {
      "needs_background": "light"
     },
     "output_type": "display_data"
    }
   ],
   "source": [
    "# https://numpy.org/doc/stable/reference/generated/numpy.histogram.html\n",
    "counts , bin_edges = np.histogram(df_non_churn['actual_amount_paid'],bins =10 , density = True) \n",
    "plt.hist(df_non_churn['actual_amount_paid'] , bins = 10)\n",
    "plt.xlabel(\"Bins\")\n",
    "plt.ylabel(\"Frequency\")\n",
    "plt.title(\"Histogram of Actual Amount Paid by Non Churn \")\n",
    "plt.show()"
   ]
  },
  {
   "cell_type": "markdown",
   "metadata": {
    "papermill": {
     "duration": 0.060749,
     "end_time": "2020-09-01T06:31:00.356001",
     "exception": false,
     "start_time": "2020-09-01T06:31:00.295252",
     "status": "completed"
    },
    "tags": []
   },
   "source": [
    "### Observations:\n",
    "1. Very Large Number of Users Spend between 0-200 dollars(or currency)\n",
    "2. There are very very few numbers of people who spend >250 dollars .\n",
    "3. This can be thought as how we observe in most OTT platform today , Very Few Users buy expensive premium plans , Most users resort to using less expensive and affordable plans"
   ]
  },
  {
   "cell_type": "code",
   "execution_count": 31,
   "metadata": {
    "execution": {
     "iopub.execute_input": "2020-09-01T06:31:00.496486Z",
     "iopub.status.busy": "2020-09-01T06:31:00.495542Z",
     "iopub.status.idle": "2020-09-01T06:31:00.700326Z",
     "shell.execute_reply": "2020-09-01T06:31:00.701134Z"
    },
    "papermill": {
     "duration": 0.284781,
     "end_time": "2020-09-01T06:31:00.701305",
     "exception": false,
     "start_time": "2020-09-01T06:31:00.416524",
     "status": "completed"
    },
    "tags": []
   },
   "outputs": [
    {
     "name": "stdout",
     "output_type": "stream",
     "text": [
      "[9.90850601e-01 3.44285929e-05 4.08839541e-03 6.99330794e-05\n",
      " 2.06571558e-03 1.39866159e-05 9.36027371e-05 3.08781443e-04\n",
      " 2.47240333e-03 2.15178706e-06]\n",
      "[   0.  200.  400.  600.  800. 1000. 1200. 1400. 1600. 1800. 2000.]\n"
     ]
    },
    {
     "data": {
      "image/png": "[encoded data removed]",
      "text/plain": [
       "<Figure size 432x288 with 1 Axes>"
      ]
     },
     "metadata": {
      "needs_background": "light"
     },
     "output_type": "display_data"
    }
   ],
   "source": [
    "# refrence : https://www.youtube.com/watch?v=MEvYZiz-mK4&list=PLupD_xFct8mFDeCqoUAWZpUddeqmT28_L&index=5\n",
    "pdf = counts/(sum(counts))\n",
    "print(pdf);\n",
    "print(bin_edges);\n",
    "cdf = np.cumsum(pdf)\n",
    "plt.plot(bin_edges[1:],pdf, label =\"PDF\");\n",
    "plt.plot(bin_edges[1:], cdf , label = \"CDF\")\n",
    "plt.legend(loc=\"upper left\")\n",
    "plt.title(\"PDF and CDF for Actual Amount Spend By Non Churn Users\")\n",
    "plt.show()"
   ]
  },
  {
   "cell_type": "markdown",
   "metadata": {
    "papermill": {
     "duration": 0.059579,
     "end_time": "2020-09-01T06:31:00.828047",
     "exception": false,
     "start_time": "2020-09-01T06:31:00.768468",
     "status": "completed"
    },
    "tags": []
   },
   "source": [
    "### Lets Compute Percentiles and Quantiles"
   ]
  },
  {
   "cell_type": "code",
   "execution_count": 32,
   "metadata": {
    "execution": {
     "iopub.execute_input": "2020-09-01T06:31:00.965258Z",
     "iopub.status.busy": "2020-09-01T06:31:00.964468Z",
     "iopub.status.idle": "2020-09-01T06:31:01.008265Z",
     "shell.execute_reply": "2020-09-01T06:31:01.007518Z"
    },
    "papermill": {
     "duration": 0.119671,
     "end_time": "2020-09-01T06:31:01.008413",
     "exception": false,
     "start_time": "2020-09-01T06:31:00.888742",
     "status": "completed"
    },
    "tags": []
   },
   "outputs": [
    {
     "name": "stdout",
     "output_type": "stream",
     "text": [
      "25 % of Non Churn users Spends Amount  below  99.0\n",
      "50 % of Non Churn users Spends Amount  below  149.0\n",
      "75 % of Non Churn users Spends Amount  below  149.0\n",
      "95 % of Non Churn users Spends Amount  below  180.0\n"
     ]
    }
   ],
   "source": [
    "print(\"25 % of Non Churn users Spends Amount  below \",np.percentile(df_non_churn[\"actual_amount_paid\"],q=25)) # computing 25th Percentile -->1st Quantile\n",
    "print(\"50 % of Non Churn users Spends Amount  below \",np.percentile(df_non_churn[\"actual_amount_paid\"],q=50)) # computing 50th Percentile -->1st Quantile\n",
    "print(\"75 % of Non Churn users Spends Amount  below \",np.percentile(df_non_churn[\"actual_amount_paid\"],q=75)) # computing 75th Percentile -->1st Quantile\n",
    "print(\"95 % of Non Churn users Spends Amount  below \",np.percentile(df_non_churn[\"actual_amount_paid\"],q=95)) # computing 75th Percentile -->1st Quantile\n"
   ]
  },
  {
   "cell_type": "markdown",
   "metadata": {
    "papermill": {
     "duration": 0.061869,
     "end_time": "2020-09-01T06:31:01.139640",
     "exception": false,
     "start_time": "2020-09-01T06:31:01.077771",
     "status": "completed"
    },
    "tags": []
   },
   "source": [
    "### Interpretation of This percentiles and Quantiles\n",
    "1. 25 % of customers spends less than or equal to 99 dollars on platform\n",
    "2. 50 % of customers spends less than or equal to 149 dollars on platform\n",
    "3. 75 % of customers spends less than or equal to 149 dollars on platform\n",
    "3. 95 % of customers spends less than or equal to 180 dollars on platform\n"
   ]
  },
  {
   "cell_type": "markdown",
   "metadata": {
    "papermill": {
     "duration": 0.066471,
     "end_time": "2020-09-01T06:31:01.267730",
     "exception": false,
     "start_time": "2020-09-01T06:31:01.201259",
     "status": "completed"
    },
    "tags": []
   },
   "source": [
    "# Statistics of Actual Amount Paid by Churn Users"
   ]
  },
  {
   "cell_type": "markdown",
   "metadata": {
    "papermill": {
     "duration": 0.072462,
     "end_time": "2020-09-01T06:31:01.401626",
     "exception": false,
     "start_time": "2020-09-01T06:31:01.329164",
     "status": "completed"
    },
    "tags": []
   },
   "source": [
    "### Lets do statistics of Actual amount paid by churn users and compare it against what we get for non churn users"
   ]
  },
  {
   "cell_type": "code",
   "execution_count": 33,
   "metadata": {
    "execution": {
     "iopub.execute_input": "2020-09-01T06:31:01.534925Z",
     "iopub.status.busy": "2020-09-01T06:31:01.533877Z",
     "iopub.status.idle": "2020-09-01T06:31:01.541328Z",
     "shell.execute_reply": "2020-09-01T06:31:01.541948Z"
    },
    "papermill": {
     "duration": 0.077133,
     "end_time": "2020-09-01T06:31:01.542165",
     "exception": false,
     "start_time": "2020-09-01T06:31:01.465032",
     "status": "completed"
    },
    "tags": []
   },
   "outputs": [
    {
     "name": "stdout",
     "output_type": "stream",
     "text": [
      "Mean Value of Actual Amount Paid By  Churn Users is  289.81298545792566\n",
      "Median Value of Actual Amount Paid By  Churn Users is  149.0\n",
      "Max Value of Actual Amount Paid By  Churn Users is  2000\n",
      "Min Value of Actual Amount Paid By  Churn Users is  0\n",
      "Standard Deviation Value of Actual Amount Paid By Churn Users is  419.2568121721127\n"
     ]
    }
   ],
   "source": [
    "print(\"Mean Value of Actual Amount Paid By  Churn Users is \" , np.mean(df_churn[\"actual_amount_paid\"]))\n",
    "print(\"Median Value of Actual Amount Paid By  Churn Users is \" , np.median(df_churn[\"actual_amount_paid\"]))\n",
    "print(\"Max Value of Actual Amount Paid By  Churn Users is \" , np.max(df_churn[\"actual_amount_paid\"]))\n",
    "print(\"Min Value of Actual Amount Paid By  Churn Users is \" , np.min(df_churn[\"actual_amount_paid\"]))\n",
    "print(\"Standard Deviation Value of Actual Amount Paid By Churn Users is \" , np.std(df_churn[\"actual_amount_paid\"]))\n"
   ]
  },
  {
   "cell_type": "markdown",
   "metadata": {
    "papermill": {
     "duration": 0.060204,
     "end_time": "2020-09-01T06:31:01.665085",
     "exception": false,
     "start_time": "2020-09-01T06:31:01.604881",
     "status": "completed"
    },
    "tags": []
   },
   "source": [
    "## Observations.\n",
    "1. The Mean and Median Value of Churn Users , is Suprisingly greater than the mean and median value of Non Churn users.\n",
    "2. The Minimum and Maximum Value of Actual Amount paid , remains the same for both churn and non churn users.\n",
    "3. But if We Observe the Standard deviation , there is more spread in actual amount paid by churn users as compared to non churn\n",
    "4. Also as number of churn users are very less as compared to non churn users , we are having this high values of mean and median for churn users"
   ]
  },
  {
   "cell_type": "code",
   "execution_count": 34,
   "metadata": {
    "execution": {
     "iopub.execute_input": "2020-09-01T06:31:01.794144Z",
     "iopub.status.busy": "2020-09-01T06:31:01.793329Z",
     "iopub.status.idle": "2020-09-01T06:31:02.161428Z",
     "shell.execute_reply": "2020-09-01T06:31:02.162157Z"
    },
    "papermill": {
     "duration": 0.436593,
     "end_time": "2020-09-01T06:31:02.162369",
     "exception": false,
     "start_time": "2020-09-01T06:31:01.725776",
     "status": "completed"
    },
    "tags": []
   },
   "outputs": [
    {
     "data": {
      "image/png": "[encoded data removed]",
      "text/plain": [
       "<Figure size 432x288 with 1 Axes>"
      ]
     },
     "metadata": {
      "needs_background": "light"
     },
     "output_type": "display_data"
    }
   ],
   "source": [
    "# https://numpy.org/doc/stable/reference/generated/numpy.histogram.html\n",
    "counts , bin_edges = np.histogram(df_churn['actual_amount_paid'],bins =10 , density = True) \n",
    "plt.hist(df_churn['actual_amount_paid'] , bins = 10)\n",
    "plt.xlabel(\"Bins\")\n",
    "plt.ylabel(\"Frequency\")\n",
    "plt.title(\"Histogram of Actual Amount Paid by  Churn \")\n",
    "plt.show()"
   ]
  },
  {
   "cell_type": "markdown",
   "metadata": {
    "papermill": {
     "duration": 0.067827,
     "end_time": "2020-09-01T06:31:02.299825",
     "exception": false,
     "start_time": "2020-09-01T06:31:02.231998",
     "status": "completed"
    },
    "tags": []
   },
   "source": [
    "1. We see again Large Number of people in 0-100 dollars range of actual amount spend.\n",
    "2. But a Surprising thing here is for certain bins like 400-550(approx) , 800 to 980 , 1600 to 1750 the frequency of churn users is very high as compared to non churn users"
   ]
  },
  {
   "cell_type": "code",
   "execution_count": 35,
   "metadata": {
    "execution": {
     "iopub.execute_input": "2020-09-01T06:31:02.451318Z",
     "iopub.status.busy": "2020-09-01T06:31:02.450000Z",
     "iopub.status.idle": "2020-09-01T06:31:02.665936Z",
     "shell.execute_reply": "2020-09-01T06:31:02.665230Z"
    },
    "papermill": {
     "duration": 0.304446,
     "end_time": "2020-09-01T06:31:02.666080",
     "exception": false,
     "start_time": "2020-09-01T06:31:02.361634",
     "status": "completed"
    },
    "tags": []
   },
   "outputs": [
    {
     "name": "stdout",
     "output_type": "stream",
     "text": [
      "[8.37736919e-01 7.87761340e-04 6.10672591e-02 2.01666903e-03\n",
      " 3.09432654e-02 3.30859763e-04 4.26966646e-03 9.42162562e-03\n",
      " 5.33314427e-02 9.45313608e-05]\n",
      "[   0.  200.  400.  600.  800. 1000. 1200. 1400. 1600. 1800. 2000.]\n"
     ]
    },
    {
     "data": {
      "image/png": "[encoded data removed]",
      "text/plain": [
       "<Figure size 432x288 with 1 Axes>"
      ]
     },
     "metadata": {
      "needs_background": "light"
     },
     "output_type": "display_data"
    }
   ],
   "source": [
    "# refrence : https://www.youtube.com/watch?v=MEvYZiz-mK4&list=PLupD_xFct8mFDeCqoUAWZpUddeqmT28_L&index=5\n",
    "pdf = counts/(sum(counts))\n",
    "print(pdf);\n",
    "print(bin_edges);\n",
    "cdf = np.cumsum(pdf)\n",
    "plt.plot(bin_edges[1:],pdf, label =\"PDF\");\n",
    "plt.plot(bin_edges[1:], cdf , label = \"CDF\")\n",
    "plt.legend(loc=\"upper left\")\n",
    "plt.title(\"PDF and CDF for Actual Amount Spend By Churn Users\")\n",
    "plt.show()"
   ]
  },
  {
   "cell_type": "markdown",
   "metadata": {
    "papermill": {
     "duration": 0.060783,
     "end_time": "2020-09-01T06:31:02.788599",
     "exception": false,
     "start_time": "2020-09-01T06:31:02.727816",
     "status": "completed"
    },
    "tags": []
   },
   "source": [
    "1. We are getting very different kind of pdf with peak value between 0 - 250 dollars\n",
    "2. There are also considerable probabilities values at higher prices"
   ]
  },
  {
   "cell_type": "code",
   "execution_count": 36,
   "metadata": {
    "execution": {
     "iopub.execute_input": "2020-09-01T06:31:02.921109Z",
     "iopub.status.busy": "2020-09-01T06:31:02.920028Z",
     "iopub.status.idle": "2020-09-01T06:31:02.931306Z",
     "shell.execute_reply": "2020-09-01T06:31:02.930435Z"
    },
    "papermill": {
     "duration": 0.081713,
     "end_time": "2020-09-01T06:31:02.931480",
     "exception": false,
     "start_time": "2020-09-01T06:31:02.849767",
     "status": "completed"
    },
    "tags": []
   },
   "outputs": [
    {
     "name": "stdout",
     "output_type": "stream",
     "text": [
      "25 % of  Churn users Spends Amount  below  149.0\n",
      "50 % of  Churn users Spends Amount  below  149.0\n",
      "75 % of  Churn users Spends Amount  below  180.0\n",
      "95 % of  Churn users Spends Amount  below  1788.0\n"
     ]
    }
   ],
   "source": [
    "print(\"25 % of  Churn users Spends Amount  below \",np.percentile(df_churn[\"actual_amount_paid\"],q=25)) # computing 25th Percentile -->1st Quantile\n",
    "print(\"50 % of  Churn users Spends Amount  below \",np.percentile(df_churn[\"actual_amount_paid\"],q=50)) # computing 50th Percentile -->1st Quantile\n",
    "print(\"75 % of  Churn users Spends Amount  below \",np.percentile(df_churn[\"actual_amount_paid\"],q=75)) # computing 75th Percentile -->1st Quantile\n",
    "print(\"95 % of  Churn users Spends Amount  below \",np.percentile(df_churn[\"actual_amount_paid\"],q=95)) # computing 75th Percentile -->1st Quantile\n"
   ]
  },
  {
   "cell_type": "markdown",
   "metadata": {
    "papermill": {
     "duration": 0.069241,
     "end_time": "2020-09-01T06:31:03.066076",
     "exception": false,
     "start_time": "2020-09-01T06:31:02.996835",
     "status": "completed"
    },
    "tags": []
   },
   "source": [
    "### Observations:\n",
    "1. Even the 25th Percentile value for Churn Users is Higher than Non Churn Users \n",
    "2. Not only that even the 50th , 75th and 95th percentile for Churn Users are higher than Non Churn Users\n",
    "3. We will see this and summarize it using boxplot"
   ]
  },
  {
   "cell_type": "markdown",
   "metadata": {
    "papermill": {
     "duration": 0.061166,
     "end_time": "2020-09-01T06:31:03.195901",
     "exception": false,
     "start_time": "2020-09-01T06:31:03.134735",
     "status": "completed"
    },
    "tags": []
   },
   "source": [
    "### Below is Box Plot for Churn and Non Churn Users for Actual Amount spend"
   ]
  },
  {
   "cell_type": "code",
   "execution_count": 37,
   "metadata": {
    "execution": {
     "iopub.execute_input": "2020-09-01T06:31:03.325888Z",
     "iopub.status.busy": "2020-09-01T06:31:03.325006Z",
     "iopub.status.idle": "2020-09-01T06:31:03.693262Z",
     "shell.execute_reply": "2020-09-01T06:31:03.692378Z"
    },
    "papermill": {
     "duration": 0.435578,
     "end_time": "2020-09-01T06:31:03.693400",
     "exception": false,
     "start_time": "2020-09-01T06:31:03.257822",
     "status": "completed"
    },
    "tags": []
   },
   "outputs": [
    {
     "data": {
      "image/png": "[encoded data removed]",
      "text/plain": [
       "<Figure size 432x288 with 1 Axes>"
      ]
     },
     "metadata": {
      "needs_background": "light"
     },
     "output_type": "display_data"
    }
   ],
   "source": [
    "ax  = sns.boxplot(x=\"is_churn\",y=\"actual_amount_paid\", data = df)"
   ]
  },
  {
   "cell_type": "markdown",
   "metadata": {
    "papermill": {
     "duration": 0.062032,
     "end_time": "2020-09-01T06:31:03.817892",
     "exception": false,
     "start_time": "2020-09-01T06:31:03.755860",
     "status": "completed"
    },
    "tags": []
   },
   "source": [
    "1. From The Box Plot it can be Observed that the Box Plot of Churn Users is above the Box Plot of Non Churn Users.\n",
    "2. Hence We are getting Higher Percentile Values for Actual Amount Paid for Churn Users , Than for Non Churn Users , Even though if we see Non Churn Users Have Spend More Money than Churn Users"
   ]
  },
  {
   "cell_type": "code",
   "execution_count": 38,
   "metadata": {
    "execution": {
     "iopub.execute_input": "2020-09-01T06:31:03.948971Z",
     "iopub.status.busy": "2020-09-01T06:31:03.948191Z",
     "iopub.status.idle": "2020-09-01T06:31:07.091235Z",
     "shell.execute_reply": "2020-09-01T06:31:07.090506Z"
    },
    "papermill": {
     "duration": 3.211413,
     "end_time": "2020-09-01T06:31:07.091387",
     "exception": false,
     "start_time": "2020-09-01T06:31:03.879974",
     "status": "completed"
    },
    "tags": []
   },
   "outputs": [
    {
     "data": {
      "image/png": "[encoded data removed]",
      "text/plain": [
       "<Figure size 432x288 with 1 Axes>"
      ]
     },
     "metadata": {
      "needs_background": "light"
     },
     "output_type": "display_data"
    }
   ],
   "source": [
    "ax = sns.violinplot(x=\"is_churn\",y=\"actual_amount_paid\", data = df)"
   ]
  },
  {
   "cell_type": "markdown",
   "metadata": {
    "papermill": {
     "duration": 0.070539,
     "end_time": "2020-09-01T06:31:07.231855",
     "exception": false,
     "start_time": "2020-09-01T06:31:07.161316",
     "status": "completed"
    },
    "tags": []
   },
   "source": [
    "1. Violin Plot is like Summarizing PDF and Box Plot Together.\n",
    "2. We see that the Probability Distribution for Actual Amount Spend is much more peaked for Non Churn Users , Whereas for Churn Users it is Much and More Smooth."
   ]
  },
  {
   "cell_type": "markdown",
   "metadata": {
    "papermill": {
     "duration": 0.062251,
     "end_time": "2020-09-01T06:31:07.356707",
     "exception": false,
     "start_time": "2020-09-01T06:31:07.294456",
     "status": "completed"
    },
    "tags": []
   },
   "source": [
    "### Conclusion Till Now:\n",
    "#### Actual Amount Paid can't be use in isolation for our task as it is very unstable feature , we can't arrive properly at churn values from this"
   ]
  },
  {
   "cell_type": "code",
   "execution_count": 39,
   "metadata": {
    "execution": {
     "iopub.execute_input": "2020-09-01T06:31:07.505430Z",
     "iopub.status.busy": "2020-09-01T06:31:07.498385Z",
     "iopub.status.idle": "2020-09-01T06:31:07.511071Z",
     "shell.execute_reply": "2020-09-01T06:31:07.510261Z"
    },
    "papermill": {
     "duration": 0.085869,
     "end_time": "2020-09-01T06:31:07.511205",
     "exception": false,
     "start_time": "2020-09-01T06:31:07.425336",
     "status": "completed"
    },
    "tags": []
   },
   "outputs": [
    {
     "data": {
      "text/html": [
       "<div>\n",
       "<style scoped>\n",
       "    .dataframe tbody tr th:only-of-type {\n",
       "        vertical-align: middle;\n",
       "    }\n",
       "\n",
       "    .dataframe tbody tr th {\n",
       "        vertical-align: top;\n",
       "    }\n",
       "\n",
       "    .dataframe thead th {\n",
       "        text-align: right;\n",
       "    }\n",
       "</style>\n",
       "<table border=\"1\" class=\"dataframe\">\n",
       "  <thead>\n",
       "    <tr style=\"text-align: right;\">\n",
       "      <th></th>\n",
       "      <th>msno</th>\n",
       "      <th>is_churn</th>\n",
       "      <th>payment_method_id</th>\n",
       "      <th>payment_plan_days</th>\n",
       "      <th>plan_list_price</th>\n",
       "      <th>actual_amount_paid</th>\n",
       "      <th>is_auto_renew</th>\n",
       "      <th>transaction_date</th>\n",
       "      <th>membership_expire_date</th>\n",
       "      <th>is_cancel</th>\n",
       "    </tr>\n",
       "  </thead>\n",
       "  <tbody>\n",
       "    <tr>\n",
       "      <th>0</th>\n",
       "      <td>waLDQMmcOu2jLDaV1ddDkgCrB/jl6sD66Xzs0Vqax1Y=</td>\n",
       "      <td>1</td>\n",
       "      <td>38</td>\n",
       "      <td>30</td>\n",
       "      <td>149</td>\n",
       "      <td>149</td>\n",
       "      <td>0</td>\n",
       "      <td>2017-01-07</td>\n",
       "      <td>2017-02-06</td>\n",
       "      <td>0</td>\n",
       "    </tr>\n",
       "    <tr>\n",
       "      <th>1</th>\n",
       "      <td>QA7uiXy8vIbUSPOkCf9RwQ3FsT8jVq2OxDr8zqa7bRQ=</td>\n",
       "      <td>1</td>\n",
       "      <td>39</td>\n",
       "      <td>30</td>\n",
       "      <td>149</td>\n",
       "      <td>149</td>\n",
       "      <td>1</td>\n",
       "      <td>2017-02-24</td>\n",
       "      <td>2017-03-21</td>\n",
       "      <td>1</td>\n",
       "    </tr>\n",
       "    <tr>\n",
       "      <th>2</th>\n",
       "      <td>fGwBva6hikQmTJzrbz/2Ezjm5Cth5jZUNvXigKK2AFA=</td>\n",
       "      <td>1</td>\n",
       "      <td>39</td>\n",
       "      <td>30</td>\n",
       "      <td>149</td>\n",
       "      <td>149</td>\n",
       "      <td>1</td>\n",
       "      <td>2017-01-12</td>\n",
       "      <td>2017-02-03</td>\n",
       "      <td>1</td>\n",
       "    </tr>\n",
       "    <tr>\n",
       "      <th>3</th>\n",
       "      <td>mT5V8rEpa+8wuqi6x0DoVd3H5icMKkE9Prt49UlmK+4=</td>\n",
       "      <td>1</td>\n",
       "      <td>38</td>\n",
       "      <td>410</td>\n",
       "      <td>1788</td>\n",
       "      <td>1788</td>\n",
       "      <td>0</td>\n",
       "      <td>2016-01-06</td>\n",
       "      <td>2017-02-20</td>\n",
       "      <td>0</td>\n",
       "    </tr>\n",
       "    <tr>\n",
       "      <th>4</th>\n",
       "      <td>XaPhtGLk/5UvvOYHcONTwsnH97P4eGECeq+BARGItRw=</td>\n",
       "      <td>1</td>\n",
       "      <td>38</td>\n",
       "      <td>30</td>\n",
       "      <td>149</td>\n",
       "      <td>149</td>\n",
       "      <td>0</td>\n",
       "      <td>2017-01-28</td>\n",
       "      <td>2017-02-27</td>\n",
       "      <td>0</td>\n",
       "    </tr>\n",
       "  </tbody>\n",
       "</table>\n",
       "</div>"
      ],
      "text/plain": [
       "                                           msno  is_churn  payment_method_id  \\\n",
       "0  waLDQMmcOu2jLDaV1ddDkgCrB/jl6sD66Xzs0Vqax1Y=         1                 38   \n",
       "1  QA7uiXy8vIbUSPOkCf9RwQ3FsT8jVq2OxDr8zqa7bRQ=         1                 39   \n",
       "2  fGwBva6hikQmTJzrbz/2Ezjm5Cth5jZUNvXigKK2AFA=         1                 39   \n",
       "3  mT5V8rEpa+8wuqi6x0DoVd3H5icMKkE9Prt49UlmK+4=         1                 38   \n",
       "4  XaPhtGLk/5UvvOYHcONTwsnH97P4eGECeq+BARGItRw=         1                 38   \n",
       "\n",
       "   payment_plan_days  plan_list_price  actual_amount_paid  is_auto_renew  \\\n",
       "0                 30              149                 149              0   \n",
       "1                 30              149                 149              1   \n",
       "2                 30              149                 149              1   \n",
       "3                410             1788                1788              0   \n",
       "4                 30              149                 149              0   \n",
       "\n",
       "  transaction_date membership_expire_date  is_cancel  \n",
       "0       2017-01-07             2017-02-06          0  \n",
       "1       2017-02-24             2017-03-21          1  \n",
       "2       2017-01-12             2017-02-03          1  \n",
       "3       2016-01-06             2017-02-20          0  \n",
       "4       2017-01-28             2017-02-27          0  "
      ]
     },
     "execution_count": 39,
     "metadata": {},
     "output_type": "execute_result"
    }
   ],
   "source": [
    "df.head()"
   ]
  },
  {
   "cell_type": "markdown",
   "metadata": {
    "papermill": {
     "duration": 0.06254,
     "end_time": "2020-09-01T06:31:07.637234",
     "exception": false,
     "start_time": "2020-09-01T06:31:07.574694",
     "status": "completed"
    },
    "tags": []
   },
   "source": [
    "### Length of Membership Plan Variable Analysis"
   ]
  },
  {
   "cell_type": "markdown",
   "metadata": {
    "papermill": {
     "duration": 0.062102,
     "end_time": "2020-09-01T06:31:07.761880",
     "exception": false,
     "start_time": "2020-09-01T06:31:07.699778",
     "status": "completed"
    },
    "tags": []
   },
   "source": [
    "Feature 'payment_plan_days' Indicates length of Plan in Days Let us Analyze it to see whether it has some relation with churn users or not"
   ]
  },
  {
   "cell_type": "code",
   "execution_count": 40,
   "metadata": {
    "execution": {
     "iopub.execute_input": "2020-09-01T06:31:07.898153Z",
     "iopub.status.busy": "2020-09-01T06:31:07.896093Z",
     "iopub.status.idle": "2020-09-01T06:31:07.916969Z",
     "shell.execute_reply": "2020-09-01T06:31:07.915751Z"
    },
    "papermill": {
     "duration": 0.092844,
     "end_time": "2020-09-01T06:31:07.917166",
     "exception": false,
     "start_time": "2020-09-01T06:31:07.824322",
     "status": "completed"
    },
    "tags": []
   },
   "outputs": [
    {
     "name": "stdout",
     "output_type": "stream",
     "text": [
      "Mean Value of Plan Length in Days for Non Churn Users is  31.94509607729219\n",
      "Median Value of Plan Length in Days for Non Churn Users is  30.0\n",
      "Max Value of Plan Length in Days for Non Churn Users is  450\n",
      "Min Value of Plan Length in Days for Non Churn Users is  1\n",
      "Std Dev Value of Plan Length in Days for Non Churn Users is  23.00387998088473\n"
     ]
    }
   ],
   "source": [
    "print(\"Mean Value of Plan Length in Days for Non Churn Users is \" , np.mean(df_non_churn[\"payment_plan_days\"]))\n",
    "print(\"Median Value of Plan Length in Days for Non Churn Users is \" , np.median(df_non_churn[\"payment_plan_days\"]))\n",
    "print(\"Max Value of Plan Length in Days for Non Churn Users is \" , np.max(df_non_churn[\"payment_plan_days\"]))\n",
    "print(\"Min Value of Plan Length in Days for Non Churn Users is \" , np.min(df_non_churn[\"payment_plan_days\"]))\n",
    "print(\"Std Dev Value of Plan Length in Days for Non Churn Users is \" , np.std(df_non_churn[\"payment_plan_days\"]))\n"
   ]
  },
  {
   "cell_type": "code",
   "execution_count": 41,
   "metadata": {
    "execution": {
     "iopub.execute_input": "2020-09-01T06:31:08.053642Z",
     "iopub.status.busy": "2020-09-01T06:31:08.052435Z",
     "iopub.status.idle": "2020-09-01T06:31:08.335203Z",
     "shell.execute_reply": "2020-09-01T06:31:08.334510Z"
    },
    "papermill": {
     "duration": 0.355289,
     "end_time": "2020-09-01T06:31:08.335349",
     "exception": false,
     "start_time": "2020-09-01T06:31:07.980060",
     "status": "completed"
    },
    "tags": []
   },
   "outputs": [
    {
     "data": {
      "image/png": "[encoded data removed]",
      "text/plain": [
       "<Figure size 432x288 with 1 Axes>"
      ]
     },
     "metadata": {
      "needs_background": "light"
     },
     "output_type": "display_data"
    }
   ],
   "source": [
    "# https://numpy.org/doc/stable/reference/generated/numpy.histogram.html\n",
    "counts , bin_edges = np.histogram(df_non_churn['payment_plan_days'],bins =10 , density = True) \n",
    "plt.hist(df_non_churn['payment_plan_days'] , bins = 30)\n",
    "plt.xlabel(\"Bins\")\n",
    "plt.ylabel(\"Frequency\")\n",
    "plt.title(\"Histogram of Length of Plan for Non Churn Users\")\n",
    "plt.show()"
   ]
  },
  {
   "cell_type": "markdown",
   "metadata": {
    "papermill": {
     "duration": 0.062867,
     "end_time": "2020-09-01T06:31:08.466593",
     "exception": false,
     "start_time": "2020-09-01T06:31:08.403726",
     "status": "completed"
    },
    "tags": []
   },
   "source": [
    "### Observations:\n",
    "For Non Churn Users Length of Payment Plan is between 30-50 most of the times"
   ]
  },
  {
   "cell_type": "code",
   "execution_count": 42,
   "metadata": {
    "execution": {
     "iopub.execute_input": "2020-09-01T06:31:08.612984Z",
     "iopub.status.busy": "2020-09-01T06:31:08.611403Z",
     "iopub.status.idle": "2020-09-01T06:31:08.818323Z",
     "shell.execute_reply": "2020-09-01T06:31:08.818940Z"
    },
    "papermill": {
     "duration": 0.2883,
     "end_time": "2020-09-01T06:31:08.819148",
     "exception": false,
     "start_time": "2020-09-01T06:31:08.530848",
     "status": "completed"
    },
    "tags": []
   },
   "outputs": [
    {
     "name": "stdout",
     "output_type": "stream",
     "text": [
      "[9.89960837e-01 9.27420222e-04 2.55417124e-03 1.26309900e-03\n",
      " 2.08077809e-03 3.22768059e-04 0.00000000e+00 9.36027371e-05\n",
      " 3.23843952e-04 2.47347922e-03]\n",
      "[  1.   45.9  90.8 135.7 180.6 225.5 270.4 315.3 360.2 405.1 450. ]\n"
     ]
    },
    {
     "data": {
      "image/png": "[encoded data removed]",
      "text/plain": [
       "<Figure size 432x288 with 1 Axes>"
      ]
     },
     "metadata": {
      "needs_background": "light"
     },
     "output_type": "display_data"
    }
   ],
   "source": [
    "# refrence : https://www.youtube.com/watch?v=MEvYZiz-mK4&list=PLupD_xFct8mFDeCqoUAWZpUddeqmT28_L&index=5\n",
    "pdf = counts/(sum(counts))\n",
    "print(pdf);\n",
    "print(bin_edges);\n",
    "cdf = np.cumsum(pdf)\n",
    "plt.plot(bin_edges[1:],pdf, label =\"PDF\");\n",
    "plt.plot(bin_edges[1:], cdf , label = \"CDF\")\n",
    "plt.legend(loc=\"upper left\")\n",
    "plt.title(\"PDF and CDF for Length of Plan of Non Churn Users\")\n",
    "plt.show()"
   ]
  },
  {
   "cell_type": "markdown",
   "metadata": {
    "papermill": {
     "duration": 0.067993,
     "end_time": "2020-09-01T06:31:08.950337",
     "exception": false,
     "start_time": "2020-09-01T06:31:08.882344",
     "status": "completed"
    },
    "tags": []
   },
   "source": [
    "### Length of Payment Plan for Churn Users"
   ]
  },
  {
   "cell_type": "code",
   "execution_count": 43,
   "metadata": {
    "execution": {
     "iopub.execute_input": "2020-09-01T06:31:09.095998Z",
     "iopub.status.busy": "2020-09-01T06:31:09.094573Z",
     "iopub.status.idle": "2020-09-01T06:31:09.104959Z",
     "shell.execute_reply": "2020-09-01T06:31:09.105650Z"
    },
    "papermill": {
     "duration": 0.091591,
     "end_time": "2020-09-01T06:31:09.105865",
     "exception": false,
     "start_time": "2020-09-01T06:31:09.014274",
     "status": "completed"
    },
    "tags": []
   },
   "outputs": [
    {
     "name": "stdout",
     "output_type": "stream",
     "text": [
      "Mean Value of Plan Length in Days for  Churn Users is  67.55970443194529\n",
      "Median Value of Plan Length in Days for  Churn Users is  30.0\n",
      "Max Value of Plan Length in Days for  Churn Users is  450\n",
      "Min Value of Plan Length in Days for  Churn Users is  0\n",
      "Std Dev Value of Plan Length in Days for  Churn Users is  99.92229603035372\n"
     ]
    }
   ],
   "source": [
    "print(\"Mean Value of Plan Length in Days for  Churn Users is \" , np.mean(df_churn[\"payment_plan_days\"]))\n",
    "print(\"Median Value of Plan Length in Days for  Churn Users is \" , np.median(df_churn[\"payment_plan_days\"]))\n",
    "print(\"Max Value of Plan Length in Days for  Churn Users is \" , np.max(df_churn[\"payment_plan_days\"]))\n",
    "print(\"Min Value of Plan Length in Days for  Churn Users is \" , np.min(df_churn[\"payment_plan_days\"]))\n",
    "print(\"Std Dev Value of Plan Length in Days for  Churn Users is \" , np.std(df_churn[\"payment_plan_days\"]))\n"
   ]
  },
  {
   "cell_type": "markdown",
   "metadata": {
    "papermill": {
     "duration": 0.073367,
     "end_time": "2020-09-01T06:31:09.266512",
     "exception": false,
     "start_time": "2020-09-01T06:31:09.193145",
     "status": "completed"
    },
    "tags": []
   },
   "source": [
    "### Observations:\n",
    "1. There can be some outliers present in Length of Payment plan field.\n",
    "2. Because if you observe mean which is 67.55 days and Median is 30 days.\n",
    "3. Here our mean is impacted by outliers , Impact is not that severe but till outliers present"
   ]
  },
  {
   "cell_type": "markdown",
   "metadata": {
    "papermill": {
     "duration": 0.069358,
     "end_time": "2020-09-01T06:31:09.400297",
     "exception": false,
     "start_time": "2020-09-01T06:31:09.330939",
     "status": "completed"
    },
    "tags": []
   },
   "source": [
    "## Violin Plot For Length of Plan"
   ]
  },
  {
   "cell_type": "code",
   "execution_count": 44,
   "metadata": {
    "execution": {
     "iopub.execute_input": "2020-09-01T06:31:09.536344Z",
     "iopub.status.busy": "2020-09-01T06:31:09.535439Z",
     "iopub.status.idle": "2020-09-01T06:31:12.517776Z",
     "shell.execute_reply": "2020-09-01T06:31:12.516862Z"
    },
    "papermill": {
     "duration": 3.054057,
     "end_time": "2020-09-01T06:31:12.517952",
     "exception": false,
     "start_time": "2020-09-01T06:31:09.463895",
     "status": "completed"
    },
    "tags": []
   },
   "outputs": [
    {
     "data": {
      "image/png": "[encoded data removed]",
      "text/plain": [
       "<Figure size 432x288 with 1 Axes>"
      ]
     },
     "metadata": {
      "needs_background": "light"
     },
     "output_type": "display_data"
    }
   ],
   "source": [
    "ax  = sns.violinplot(x=\"is_churn\",y=\"payment_plan_days\", data = df)"
   ]
  },
  {
   "cell_type": "markdown",
   "metadata": {
    "papermill": {
     "duration": 0.06328,
     "end_time": "2020-09-01T06:31:12.649760",
     "exception": false,
     "start_time": "2020-09-01T06:31:12.586480",
     "status": "completed"
    },
    "tags": []
   },
   "source": [
    "### Conculsions:\n",
    "1. For Non Churn Users Distribution is more peaked , majority of payment plan is 30 days.\n",
    "2. For Churn Users Distribution is spreaded but still majority are lieing in 30 days\n",
    "3. Payment plan is not so useful feature because majority of KK Box Plan is of 30 days length , Hence user Subscribes/Re-Subscribes Every Month , so not so useful"
   ]
  },
  {
   "cell_type": "markdown",
   "metadata": {
    "papermill": {
     "duration": 0.063195,
     "end_time": "2020-09-01T06:31:12.776746",
     "exception": false,
     "start_time": "2020-09-01T06:31:12.713551",
     "status": "completed"
    },
    "tags": []
   },
   "source": [
    "### Correlation Heatmap"
   ]
  },
  {
   "cell_type": "code",
   "execution_count": 45,
   "metadata": {
    "execution": {
     "iopub.execute_input": "2020-09-01T06:31:12.910592Z",
     "iopub.status.busy": "2020-09-01T06:31:12.909450Z",
     "iopub.status.idle": "2020-09-01T06:31:12.912972Z",
     "shell.execute_reply": "2020-09-01T06:31:12.912337Z"
    },
    "papermill": {
     "duration": 0.072517,
     "end_time": "2020-09-01T06:31:12.913112",
     "exception": false,
     "start_time": "2020-09-01T06:31:12.840595",
     "status": "completed"
    },
    "tags": []
   },
   "outputs": [],
   "source": [
    "## before plotting correlation heatmap lets drop useless things from our dataframe"
   ]
  },
  {
   "cell_type": "code",
   "execution_count": 46,
   "metadata": {
    "execution": {
     "iopub.execute_input": "2020-09-01T06:31:13.054777Z",
     "iopub.status.busy": "2020-09-01T06:31:13.053513Z",
     "iopub.status.idle": "2020-09-01T06:31:13.058444Z",
     "shell.execute_reply": "2020-09-01T06:31:13.057668Z"
    },
    "papermill": {
     "duration": 0.081458,
     "end_time": "2020-09-01T06:31:13.058574",
     "exception": false,
     "start_time": "2020-09-01T06:31:12.977116",
     "status": "completed"
    },
    "tags": []
   },
   "outputs": [
    {
     "data": {
      "text/plain": [
       "Index(['msno', 'is_churn', 'payment_method_id', 'payment_plan_days',\n",
       "       'plan_list_price', 'actual_amount_paid', 'is_auto_renew',\n",
       "       'transaction_date', 'membership_expire_date', 'is_cancel'],\n",
       "      dtype='object')"
      ]
     },
     "execution_count": 46,
     "metadata": {},
     "output_type": "execute_result"
    }
   ],
   "source": [
    "df.columns"
   ]
  },
  {
   "cell_type": "code",
   "execution_count": 47,
   "metadata": {
    "execution": {
     "iopub.execute_input": "2020-09-01T06:31:13.205891Z",
     "iopub.status.busy": "2020-09-01T06:31:13.205064Z",
     "iopub.status.idle": "2020-09-01T06:31:13.209885Z",
     "shell.execute_reply": "2020-09-01T06:31:13.209241Z"
    },
    "papermill": {
     "duration": 0.086846,
     "end_time": "2020-09-01T06:31:13.210041",
     "exception": false,
     "start_time": "2020-09-01T06:31:13.123195",
     "status": "completed"
    },
    "tags": []
   },
   "outputs": [],
   "source": [
    "df.drop(columns=['msno','transaction_date','membership_expire_date'],inplace = True)"
   ]
  },
  {
   "cell_type": "code",
   "execution_count": 48,
   "metadata": {
    "execution": {
     "iopub.execute_input": "2020-09-01T06:31:13.346495Z",
     "iopub.status.busy": "2020-09-01T06:31:13.345601Z",
     "iopub.status.idle": "2020-09-01T06:31:13.813032Z",
     "shell.execute_reply": "2020-09-01T06:31:13.812323Z"
    },
    "papermill": {
     "duration": 0.538007,
     "end_time": "2020-09-01T06:31:13.813161",
     "exception": false,
     "start_time": "2020-09-01T06:31:13.275154",
     "status": "completed"
    },
    "tags": []
   },
   "outputs": [
    {
     "data": {
      "text/plain": [
       "<matplotlib.axes._subplots.AxesSubplot at 0x7f4b0698f490>"
      ]
     },
     "execution_count": 48,
     "metadata": {},
     "output_type": "execute_result"
    },
    {
     "data": {
      "image/png": "[encoded data removed]",
      "text/plain": [
       "<Figure size 432x288 with 2 Axes>"
      ]
     },
     "metadata": {
      "needs_background": "light"
     },
     "output_type": "display_data"
    }
   ],
   "source": [
    "corr = df.corr()\n",
    "\n",
    "# plot the heatmap\n",
    "sns.heatmap(corr, \n",
    "        xticklabels=corr.columns,\n",
    "        yticklabels=corr.columns)"
   ]
  },
  {
   "cell_type": "markdown",
   "metadata": {
    "papermill": {
     "duration": 0.066186,
     "end_time": "2020-09-01T06:31:13.945052",
     "exception": false,
     "start_time": "2020-09-01T06:31:13.878866",
     "status": "completed"
    },
    "tags": []
   },
   "source": [
    "### Observations:\n",
    "1. Features payment_plan_days , plan_list_price , actual_amount_paid have same correlation of ~ 0.4 with is_churn\n",
    "2. is_cancel have correlation of  ~0.7 with is_churn\n",
    "3. On contrary 'is_auto_renew' is having correlation of 0.2 to 0.3 with is_cancel"
   ]
  },
  {
   "cell_type": "markdown",
   "metadata": {
    "papermill": {
     "duration": 0.071828,
     "end_time": "2020-09-01T06:31:14.086451",
     "exception": false,
     "start_time": "2020-09-01T06:31:14.014623",
     "status": "completed"
    },
    "tags": []
   },
   "source": [
    "### Final thoughts and Conclusions:\n",
    "1. We can use features payment_plan_days , plan_list_price , actual_amount_paid and is_cancel as features to our machine learning model.\n",
    "2. Here We have did analysis taking care of most recent transactions.\n",
    "3. We need to do more data analysis of is_churn variable and see what information and useful features can we extract from following tables 'user_logs.csv' and 'members.csv'\n",
    "4. Doing more analysis will help us build more features and improve our insight about domain"
   ]
  },
  {
   "cell_type": "code",
   "execution_count": null,
   "metadata": {
    "papermill": {
     "duration": 0.06554,
     "end_time": "2020-09-01T06:31:14.225418",
     "exception": false,
     "start_time": "2020-09-01T06:31:14.159878",
     "status": "completed"
    },
    "tags": []
   },
   "outputs": [],
   "source": []
  }
 ],
 "metadata": {
  "kernelspec": {
   "display_name": "Python 3",
   "language": "python",
   "name": "python3"
  },
  "language_info": {
   "codemirror_mode": {
    "name": "ipython",
    "version": 3
   },
   "file_extension": ".py",
   "mimetype": "text/x-python",
   "name": "python",
   "nbconvert_exporter": "python",
   "pygments_lexer": "ipython3",
   "version": "3.6.5"
  },
  "papermill": {
   "duration": 234.294571,
   "end_time": "2020-09-01T06:31:14.502016",
   "environment_variables": {},
   "exception": null,
   "input_path": "__notebook__.ipynb",
   "output_path": "__notebook__.ipynb",
   "parameters": {},
   "start_time": "2020-09-01T06:27:20.207445",
   "version": "2.1.0"
  }
 },
 "nbformat": 4,
 "nbformat_minor": 4
}
