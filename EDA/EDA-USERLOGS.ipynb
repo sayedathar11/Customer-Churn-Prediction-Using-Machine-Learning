{
 "cells": [
  {
   "cell_type": "code",
   "execution_count": 52,
   "metadata": {},
   "outputs": [],
   "source": [
    "import pandas as pd\n",
    "import seaborn as sns\n",
    "import numpy as np\n",
    "import matplotlib.pyplot as plt\n",
    "from scipy import stats\n",
    "from statsmodels import robust\n"
   ]
  },
  {
   "cell_type": "code",
   "execution_count": 53,
   "metadata": {},
   "outputs": [],
   "source": [
    "df_user_logs = pd.read_csv(\"user_logs.csv\",nrows=180000 , parse_dates = ['date'])"
   ]
  },
  {
   "cell_type": "code",
   "execution_count": 54,
   "metadata": {},
   "outputs": [
    {
     "data": {
      "text/html": [
       "<div>\n",
       "<style scoped>\n",
       "    .dataframe tbody tr th:only-of-type {\n",
       "        vertical-align: middle;\n",
       "    }\n",
       "\n",
       "    .dataframe tbody tr th {\n",
       "        vertical-align: top;\n",
       "    }\n",
       "\n",
       "    .dataframe thead th {\n",
       "        text-align: right;\n",
       "    }\n",
       "</style>\n",
       "<table border=\"1\" class=\"dataframe\">\n",
       "  <thead>\n",
       "    <tr style=\"text-align: right;\">\n",
       "      <th></th>\n",
       "      <th>msno</th>\n",
       "      <th>date</th>\n",
       "      <th>num_25</th>\n",
       "      <th>num_50</th>\n",
       "      <th>num_75</th>\n",
       "      <th>num_985</th>\n",
       "      <th>num_100</th>\n",
       "      <th>num_unq</th>\n",
       "      <th>total_secs</th>\n",
       "    </tr>\n",
       "  </thead>\n",
       "  <tbody>\n",
       "    <tr>\n",
       "      <th>0</th>\n",
       "      <td>rxIP2f2aN0rYNp+toI0Obt/N/FYQX8hcO1fTmmy2h34=</td>\n",
       "      <td>2015-05-13</td>\n",
       "      <td>0</td>\n",
       "      <td>0</td>\n",
       "      <td>0</td>\n",
       "      <td>0</td>\n",
       "      <td>1</td>\n",
       "      <td>1</td>\n",
       "      <td>280.335</td>\n",
       "    </tr>\n",
       "    <tr>\n",
       "      <th>1</th>\n",
       "      <td>rxIP2f2aN0rYNp+toI0Obt/N/FYQX8hcO1fTmmy2h34=</td>\n",
       "      <td>2015-07-09</td>\n",
       "      <td>9</td>\n",
       "      <td>1</td>\n",
       "      <td>0</td>\n",
       "      <td>0</td>\n",
       "      <td>7</td>\n",
       "      <td>11</td>\n",
       "      <td>1658.948</td>\n",
       "    </tr>\n",
       "    <tr>\n",
       "      <th>2</th>\n",
       "      <td>yxiEWwE9VR5utpUecLxVdQ5B7NysUPfrNtGINaM2zA8=</td>\n",
       "      <td>2015-01-05</td>\n",
       "      <td>3</td>\n",
       "      <td>3</td>\n",
       "      <td>0</td>\n",
       "      <td>0</td>\n",
       "      <td>68</td>\n",
       "      <td>36</td>\n",
       "      <td>17364.956</td>\n",
       "    </tr>\n",
       "    <tr>\n",
       "      <th>3</th>\n",
       "      <td>yxiEWwE9VR5utpUecLxVdQ5B7NysUPfrNtGINaM2zA8=</td>\n",
       "      <td>2015-03-06</td>\n",
       "      <td>1</td>\n",
       "      <td>0</td>\n",
       "      <td>1</td>\n",
       "      <td>1</td>\n",
       "      <td>97</td>\n",
       "      <td>27</td>\n",
       "      <td>24667.317</td>\n",
       "    </tr>\n",
       "    <tr>\n",
       "      <th>4</th>\n",
       "      <td>yxiEWwE9VR5utpUecLxVdQ5B7NysUPfrNtGINaM2zA8=</td>\n",
       "      <td>2015-05-01</td>\n",
       "      <td>3</td>\n",
       "      <td>0</td>\n",
       "      <td>0</td>\n",
       "      <td>0</td>\n",
       "      <td>38</td>\n",
       "      <td>38</td>\n",
       "      <td>9649.029</td>\n",
       "    </tr>\n",
       "  </tbody>\n",
       "</table>\n",
       "</div>"
      ],
      "text/plain": [
       "                                           msno       date  num_25  num_50  \\\n",
       "0  rxIP2f2aN0rYNp+toI0Obt/N/FYQX8hcO1fTmmy2h34= 2015-05-13       0       0   \n",
       "1  rxIP2f2aN0rYNp+toI0Obt/N/FYQX8hcO1fTmmy2h34= 2015-07-09       9       1   \n",
       "2  yxiEWwE9VR5utpUecLxVdQ5B7NysUPfrNtGINaM2zA8= 2015-01-05       3       3   \n",
       "3  yxiEWwE9VR5utpUecLxVdQ5B7NysUPfrNtGINaM2zA8= 2015-03-06       1       0   \n",
       "4  yxiEWwE9VR5utpUecLxVdQ5B7NysUPfrNtGINaM2zA8= 2015-05-01       3       0   \n",
       "\n",
       "   num_75  num_985  num_100  num_unq  total_secs  \n",
       "0       0        0        1        1     280.335  \n",
       "1       0        0        7       11    1658.948  \n",
       "2       0        0       68       36   17364.956  \n",
       "3       1        1       97       27   24667.317  \n",
       "4       0        0       38       38    9649.029  "
      ]
     },
     "execution_count": 54,
     "metadata": {},
     "output_type": "execute_result"
    }
   ],
   "source": [
    "df_user_logs.head()"
   ]
  },
  {
   "cell_type": "markdown",
   "metadata": {},
   "source": [
    "#### What is The Size of Our Dataset ?"
   ]
  },
  {
   "cell_type": "code",
   "execution_count": 10,
   "metadata": {},
   "outputs": [
    {
     "data": {
      "text/plain": [
       "(180000, 9)"
      ]
     },
     "execution_count": 10,
     "metadata": {},
     "output_type": "execute_result"
    }
   ],
   "source": [
    "df_user_logs.shape"
   ]
  },
  {
   "cell_type": "markdown",
   "metadata": {},
   "source": [
    "##### We have 180 k rows , datapoints and 9 features"
   ]
  },
  {
   "cell_type": "markdown",
   "metadata": {},
   "source": [
    "#### Is Each of 180k rows corresponding to a unique users ?"
   ]
  },
  {
   "cell_type": "code",
   "execution_count": 11,
   "metadata": {},
   "outputs": [
    {
     "data": {
      "text/plain": [
       "(35230,)"
      ]
     },
     "execution_count": 11,
     "metadata": {},
     "output_type": "execute_result"
    }
   ],
   "source": [
    "## Store Each unique users as per msno in array and then evaluate shape \n",
    "pd.unique(df_user_logs['msno']).shape"
   ]
  },
  {
   "cell_type": "markdown",
   "metadata": {},
   "source": [
    "#### Out of 180 k rows roughly 35 k are unique , as we can clearly see that data is date wise collected so definitely a user can have multiple entries for  given date"
   ]
  },
  {
   "cell_type": "markdown",
   "metadata": {},
   "source": [
    "### Lets Analyse Each Features Step by Step"
   ]
  },
  {
   "cell_type": "markdown",
   "metadata": {},
   "source": [
    "### 1. num_25: # of songs played less than 25% of the song length\n"
   ]
  },
  {
   "cell_type": "markdown",
   "metadata": {},
   "source": [
    "##### What is max Value of num_25 ?\n"
   ]
  },
  {
   "cell_type": "code",
   "execution_count": 12,
   "metadata": {},
   "outputs": [
    {
     "data": {
      "text/plain": [
       "653"
      ]
     },
     "execution_count": 12,
     "metadata": {},
     "output_type": "execute_result"
    }
   ],
   "source": [
    "df_user_logs['num_25'].max()"
   ]
  },
  {
   "cell_type": "markdown",
   "metadata": {},
   "source": [
    "#### What is min Value of num_25"
   ]
  },
  {
   "cell_type": "code",
   "execution_count": 13,
   "metadata": {},
   "outputs": [
    {
     "data": {
      "text/plain": [
       "0"
      ]
     },
     "execution_count": 13,
     "metadata": {},
     "output_type": "execute_result"
    }
   ],
   "source": [
    "df_user_logs['num_25'].min()"
   ]
  },
  {
   "cell_type": "markdown",
   "metadata": {},
   "source": [
    "#### What is Median of num_25"
   ]
  },
  {
   "cell_type": "code",
   "execution_count": 14,
   "metadata": {},
   "outputs": [
    {
     "data": {
      "text/plain": [
       "2.0"
      ]
     },
     "execution_count": 14,
     "metadata": {},
     "output_type": "execute_result"
    }
   ],
   "source": [
    "df_user_logs['num_25'].median()"
   ]
  },
  {
   "cell_type": "markdown",
   "metadata": {},
   "source": [
    "#### Lets Plot Histogram of This Features"
   ]
  },
  {
   "cell_type": "code",
   "execution_count": 42,
   "metadata": {},
   "outputs": [
    {
     "data": {
      "image/png": "[encoded data removed]",
      "text/plain": [
       "<Figure size 432x288 with 1 Axes>"
      ]
     },
     "metadata": {},
     "output_type": "display_data"
    }
   ],
   "source": [
    "# https://numpy.org/doc/stable/reference/generated/numpy.histogram.html\n",
    "counts , bin_edges = np.histogram(df_user_logs['num_25'],bins =10 , density = True) \n",
    "plt.hist(df_user_logs['num_25'] , bins = 20)\n",
    "plt.xlabel(\"Bins\")\n",
    "plt.ylabel(\"Frequency\")\n",
    "plt.title(\"Number of Songs Played Less Than 25% Histogram\")\n",
    "plt.show()"
   ]
  },
  {
   "cell_type": "markdown",
   "metadata": {},
   "source": [
    "#### Majority of Values Lies Between 0 to 60(approx) There are Very Few Values from 90 onwards , Most of the number of  songs played less than 25 % lie between 0 and 60-70(approx) window"
   ]
  },
  {
   "cell_type": "markdown",
   "metadata": {},
   "source": [
    "### Lets Plot probability density function and Cumulative Density Function"
   ]
  },
  {
   "cell_type": "code",
   "execution_count": 43,
   "metadata": {},
   "outputs": [
    {
     "name": "stdout",
     "output_type": "stream",
     "text": [
      "[9.91738889e-01 6.91666667e-03 9.16666667e-04 2.77777778e-04\n",
      " 5.55555556e-05 4.44444444e-05 5.55555556e-06 1.66666667e-05\n",
      " 1.66666667e-05 1.11111111e-05]\n",
      "[  0.   65.3 130.6 195.9 261.2 326.5 391.8 457.1 522.4 587.7 653. ]\n"
     ]
    },
    {
     "data": {
      "image/png": "[encoded data removed]",
      "text/plain": [
       "<Figure size 432x288 with 1 Axes>"
      ]
     },
     "metadata": {},
     "output_type": "display_data"
    }
   ],
   "source": [
    "# refrence : https://www.youtube.com/watch?v=MEvYZiz-mK4&list=PLupD_xFct8mFDeCqoUAWZpUddeqmT28_L&index=5\n",
    "pdf = counts/(sum(counts))\n",
    "print(pdf);\n",
    "print(bin_edges);\n",
    "cdf = np.cumsum(pdf)\n",
    "plt.plot(bin_edges[1:],pdf, label =\"PDF\");\n",
    "plt.plot(bin_edges[1:], cdf , label = \"CDF\")\n",
    "plt.legend(loc=\"upper left\")\n",
    "plt.show()"
   ]
  },
  {
   "cell_type": "markdown",
   "metadata": {},
   "source": [
    "### Lets Now Do Analysis for Num_75 : Number of Songs Played 50- 75 % of Length"
   ]
  },
  {
   "cell_type": "markdown",
   "metadata": {},
   "source": [
    "#### Basic Statsitics of Num_75 feature"
   ]
  },
  {
   "cell_type": "code",
   "execution_count": 39,
   "metadata": {},
   "outputs": [
    {
     "name": "stdout",
     "output_type": "stream",
     "text": [
      "Mean Value of Num_75 feature is 1.0098833333333332\n",
      "Median Value of Num_75 feature is 0.0\n",
      "Maximum Value of Num_75 feature is 123\n",
      "Minimum Value of Num_75 feature is 0\n",
      "Standard Deviation of Num_75 feature is 2.0654020560302184\n"
     ]
    }
   ],
   "source": [
    "print(\"Mean Value of Num_75 feature is\" , np.mean(df_user_logs[\"num_75\"]))\n",
    "print(\"Median Value of Num_75 feature is\" , np.median(df_user_logs[\"num_75\"]))\n",
    "print(\"Maximum Value of Num_75 feature is\" , np.max(df_user_logs[\"num_75\"]))\n",
    "print(\"Minimum Value of Num_75 feature is\" , np.min(df_user_logs[\"num_75\"]))\n",
    "print(\"Standard Deviation of Num_75 feature is\" , np.std(df_user_logs[\"num_75\"]))\n"
   ]
  },
  {
   "cell_type": "markdown",
   "metadata": {},
   "source": [
    "#### Lets Compute Percentiles and Quantiles"
   ]
  },
  {
   "cell_type": "code",
   "execution_count": 31,
   "metadata": {},
   "outputs": [
    {
     "name": "stdout",
     "output_type": "stream",
     "text": [
      "25 % of Num_75 values lies below  0.0\n",
      "50 % of Num_75 values lies below  0.0\n",
      "75 % of Num_75 values lies below  1.0\n",
      "95 % of Num_75 values lies below  4.0\n",
      "99 % of Num_75 values lies below  8.0\n"
     ]
    }
   ],
   "source": [
    "print(\"25 % of Num_75 values lies below \",np.percentile(df_user_logs[\"num_75\"],q=25)) # computing 25th Percentile -->1st Quantile\n",
    "print(\"50 % of Num_75 values lies below \",np.percentile(df_user_logs[\"num_75\"],q=50)) # computing 50th Percentile --> 2nd Quantile\n",
    "print(\"75 % of Num_75 values lies below \",np.percentile(df_user_logs[\"num_75\"],q=75)) # computing 75th Percentile --> 3rd Quantile\n",
    "print(\"95 % of Num_75 values lies below \",np.percentile(df_user_logs[\"num_75\"],q=95)) # computing 95th Percentile\n",
    "print(\"99 % of Num_75 values lies below \",np.percentile(df_user_logs[\"num_75\"],q=99)) # computing 95th Percentile"
   ]
  },
  {
   "cell_type": "markdown",
   "metadata": {},
   "source": [
    "#### Interpretation:\n",
    "1. For Songs Played between 50-75% of length ,  25 % of values have values less than or equal to 0\n",
    "2. For Songs Played between 50-75% of length, 50 % of values have values less than or equal to 1\n",
    "3. For Songs Played between 50-75% of length, 95 % of values have values less than or equal to 4"
   ]
  },
  {
   "cell_type": "markdown",
   "metadata": {},
   "source": [
    "### Lets Compare This Values of Percentiles with Num_50 which corresponds to number of songs played between 25-50% of Song Length"
   ]
  },
  {
   "cell_type": "code",
   "execution_count": 34,
   "metadata": {},
   "outputs": [
    {
     "name": "stdout",
     "output_type": "stream",
     "text": [
      "25 % of Num_50 values lies below  0.0\n",
      "50 % of Num_50 values lies below  1.0\n",
      "75 % of Num_50 values lies below  2.0\n",
      "95 % of Num_50 values lies below  6.0\n",
      "99 % of Num_50 values lies below  16.0\n"
     ]
    }
   ],
   "source": [
    "print(\"25 % of Num_50 values lies below \",np.percentile(df_user_logs[\"num_50\"],q=25)) # computing 25th Percentile -->1st Quantile\n",
    "print(\"50 % of Num_50 values lies below \",np.percentile(df_user_logs[\"num_50\"],q=50)) # computing 50th Percentile --> 2nd Quantile\n",
    "print(\"75 % of Num_50 values lies below \",np.percentile(df_user_logs[\"num_50\"],q=75)) # computing 75th Percentile --> 3rd Quantile\n",
    "print(\"95 % of Num_50 values lies below \",np.percentile(df_user_logs[\"num_50\"],q=95)) # computing 95th Percentile\n",
    "print(\"99 % of Num_50 values lies below \",np.percentile(df_user_logs[\"num_50\"],q=99)) # computing 95th Percentile"
   ]
  },
  {
   "cell_type": "markdown",
   "metadata": {},
   "source": [
    "#### Interpretation:\n",
    "1. For Songs Played between 25-50% of length ,  25 % of values have values less than or equal to 0\n",
    "2. For Songs Played between 25-50% of length, 50 % of values have values less than or equal to 2\n",
    "3. For Songs Played between 25-50% of length, 95 % of values have values less than or equal to 6\n",
    "\n",
    "When We compare this num_50 feature definitley this numbers looks comparatively big , num_25 feature should also have this kind of trend and should have bigger values of percentiles than num_50 , Lets check"
   ]
  },
  {
   "cell_type": "code",
   "execution_count": 35,
   "metadata": {},
   "outputs": [
    {
     "name": "stdout",
     "output_type": "stream",
     "text": [
      "25 % of Num_25 values lies below  0.0\n",
      "50 % of Num_25 values lies below  2.0\n",
      "75 % of Num_25 values lies below  7.0\n",
      "95 % of Num_25 values lies below  26.0\n",
      "99 % of Num_25 values lies below  60.0\n"
     ]
    }
   ],
   "source": [
    "print(\"25 % of Num_25 values lies below \",np.percentile(df_user_logs[\"num_25\"],q=25)) # computing 25th Percentile -->1st Quantile\n",
    "print(\"50 % of Num_25 values lies below \",np.percentile(df_user_logs[\"num_25\"],q=50)) # computing 50th Percentile --> 2nd Quantile\n",
    "print(\"75 % of Num_25 values lies below \",np.percentile(df_user_logs[\"num_25\"],q=75)) # computing 75th Percentile --> 3rd Quantile\n",
    "print(\"95 % of Num_25 values lies below \",np.percentile(df_user_logs[\"num_25\"],q=95)) # computing 95th Percentile\n",
    "print(\"99 % of Num_25 values lies below \",np.percentile(df_user_logs[\"num_25\"],q=99)) # computing 95th Percentile"
   ]
  },
  {
   "cell_type": "markdown",
   "metadata": {},
   "source": [
    "### As we expected , We get significantly Higher Numbers"
   ]
  },
  {
   "cell_type": "markdown",
   "metadata": {},
   "source": [
    "### Lets Analyze 98.5 % Feature , which is number of songs played between 75% to 98.5% of the song length"
   ]
  },
  {
   "cell_type": "markdown",
   "metadata": {},
   "source": [
    "#### Basic Statistics of 98.5 %"
   ]
  },
  {
   "cell_type": "code",
   "execution_count": 38,
   "metadata": {},
   "outputs": [
    {
     "name": "stdout",
     "output_type": "stream",
     "text": [
      "Mean Value of Num_985 feature is 1.1447222222222222\n",
      "Median Value of Num_985 feature is 0.0\n",
      "Maximum Value of Num_985 feature is 327\n",
      "Minimum Value of Num_985 feature is 0\n",
      "Standard Deviation of Num_985 feature is 3.1392567999695093\n",
      "Median Absolute Deviation of Num_985 Feature is  0.0\n"
     ]
    }
   ],
   "source": [
    "print(\"Mean Value of Num_985 feature is\" , np.mean(df_user_logs[\"num_985\"]))\n",
    "print(\"Median Value of Num_985 feature is\" , np.median(df_user_logs[\"num_985\"]))\n",
    "print(\"Maximum Value of Num_985 feature is\" , np.max(df_user_logs[\"num_985\"]))\n",
    "print(\"Minimum Value of Num_985 feature is\" , np.min(df_user_logs[\"num_985\"]))\n",
    "print(\"Standard Deviation of Num_985 feature is\" , np.std(df_user_logs[\"num_985\"]))\n",
    "print(\"Median Absolute Deviation of Num_985 Feature is \" , robust.mad(df_user_logs['num_985']))"
   ]
  },
  {
   "cell_type": "code",
   "execution_count": 44,
   "metadata": {},
   "outputs": [
    {
     "data": {
      "image/png": "[encoded data removed]",
      "text/plain": [
       "<Figure size 432x288 with 1 Axes>"
      ]
     },
     "metadata": {},
     "output_type": "display_data"
    }
   ],
   "source": [
    "# https://numpy.org/doc/stable/reference/generated/numpy.histogram.html\n",
    "counts , bin_edges = np.histogram(df_user_logs['num_985'],bins =10 , density = True) \n",
    "plt.hist(df_user_logs['num_985'] , bins = 20)\n",
    "plt.xlabel(\"Bins\")\n",
    "plt.ylabel(\"Frequency\")\n",
    "plt.title(\"Number of Songs Played between 75% to 98.5 % Length Histogram\")\n",
    "plt.show()"
   ]
  },
  {
   "cell_type": "markdown",
   "metadata": {},
   "source": [
    "#### Observations:\n",
    "1. We get more Peaked Histogram as compared to num_25 feature \n",
    "2. An intutive reasoning for this can be there are very few instances that a users listens very few songs between 75% to 98.5 % of Length.\n",
    "3. This is very much similar to our behaviour on Youtube , We Watch very Few Videos Completely or till completion and we just watch many videos for less duration.\n",
    "4. Infact instead of watching many videos completely we prefer watching some videos completely and majority of videos partially"
   ]
  },
  {
   "cell_type": "markdown",
   "metadata": {},
   "source": [
    "#### PDF for Num_985 Feature"
   ]
  },
  {
   "cell_type": "code",
   "execution_count": 45,
   "metadata": {},
   "outputs": [
    {
     "name": "stdout",
     "output_type": "stream",
     "text": [
      "[9.99111111e-01 6.16666667e-04 1.27777778e-04 6.66666667e-05\n",
      " 3.33333333e-05 5.55555556e-06 2.22222222e-05 5.55555556e-06\n",
      " 5.55555556e-06 5.55555556e-06]\n",
      "[  0.   32.7  65.4  98.1 130.8 163.5 196.2 228.9 261.6 294.3 327. ]\n"
     ]
    },
    {
     "data": {
      "image/png": "[encoded data removed]",
      "text/plain": [
       "<Figure size 432x288 with 1 Axes>"
      ]
     },
     "metadata": {},
     "output_type": "display_data"
    }
   ],
   "source": [
    "# refrence : https://www.youtube.com/watch?v=MEvYZiz-mK4&list=PLupD_xFct8mFDeCqoUAWZpUddeqmT28_L&index=5\n",
    "pdf = counts/(sum(counts))\n",
    "print(pdf);\n",
    "print(bin_edges);\n",
    "cdf = np.cumsum(pdf)\n",
    "plt.plot(bin_edges[1:],pdf, label =\"PDF\");\n",
    "plt.plot(bin_edges[1:], cdf , label = \"CDF\")\n",
    "plt.legend(loc=\"upper left\")\n",
    "plt.show()"
   ]
  },
  {
   "cell_type": "markdown",
   "metadata": {},
   "source": [
    "#### Percentiles for num_985 feature"
   ]
  },
  {
   "cell_type": "code",
   "execution_count": 50,
   "metadata": {},
   "outputs": [
    {
     "name": "stdout",
     "output_type": "stream",
     "text": [
      "25 % of Num_985 values lies below  0.0\n",
      "50 % of Num_985 values lies below  0.0\n",
      "75 % of Num_985 values lies below  1.0\n",
      "95 % of Num_985 values lies below  4.0\n",
      "99 % of Num_985 values lies below  10.0\n"
     ]
    }
   ],
   "source": [
    "print(\"25 % of Num_985 values lies below \",np.percentile(df_user_logs[\"num_985\"],q=25)) # computing 25th Percentile -->1st Quantile\n",
    "print(\"50 % of Num_985 values lies below \",np.percentile(df_user_logs[\"num_985\"],q=50)) # computing 50th Percentile --> 2nd Quantile\n",
    "print(\"75 % of Num_985 values lies below \",np.percentile(df_user_logs[\"num_985\"],q=75)) # computing 75th Percentile --> 3rd Quantile\n",
    "print(\"95 % of Num_985 values lies below \",np.percentile(df_user_logs[\"num_985\"],q=95)) # computing 95th Percentile\n",
    "print(\"99 % of Num_985 values lies below \",np.percentile(df_user_logs[\"num_985\"],q=99)) # computing 99th Percentile"
   ]
  },
  {
   "cell_type": "markdown",
   "metadata": {},
   "source": [
    "### Boxplots and Violin Plots of num_ type features"
   ]
  },
  {
   "cell_type": "markdown",
   "metadata": {},
   "source": [
    "##### We will plot box and whisker plots of all num_ type features so tha we are able to see all comparison in single plot [do it after light comes back]"
   ]
  },
  {
   "cell_type": "code",
   "execution_count": 49,
   "metadata": {},
   "outputs": [
    {
     "data": {
      "image/png": "[encoded data removed]",
      "text/plain": [
       "<Figure size 432x288 with 1 Axes>"
      ]
     },
     "metadata": {},
     "output_type": "display_data"
    }
   ],
   "source": [
    "sns.boxplot(data=df_user_logs[\"num_985\"])\n",
    "plt.show()"
   ]
  },
  {
   "cell_type": "markdown",
   "metadata": {},
   "source": [
    "#### Analysis of num_unq Feature"
   ]
  },
  {
   "cell_type": "markdown",
   "metadata": {},
   "source": [
    "1. Num Unique Corresponds to Number of unique songs played in a day\n",
    "2. We will analyze this data in 2 levels.\n",
    "    a. First we will analyze at day level which is provided as per dataset\n",
    "    b. Next we will analyze it at User level "
   ]
  },
  {
   "cell_type": "markdown",
   "metadata": {},
   "source": [
    "### Day-Level Wise Analysis of Number of Unqiue Songs Played in a Day"
   ]
  },
  {
   "cell_type": "code",
   "execution_count": 56,
   "metadata": {},
   "outputs": [
    {
     "name": "stdout",
     "output_type": "stream",
     "text": [
      "Maximum Number of Unique Songs Played in a Day are : 929\n",
      "Minimum Number of Unique Songs Played in a Day are : 1\n",
      "Mean Number of Unique Songs Played in a Day are : 30.080005555555555\n",
      "Median Number of Unique Songs Played in a Day are : 19.0\n",
      "Standard Deviation for Number of Unique Songs Played in a Day is : 33.66035261253726\n"
     ]
    }
   ],
   "source": [
    "print(\"Maximum Number of Unique Songs Played in a Day are :\", np.max(df_user_logs['num_unq']))\n",
    "print(\"Minimum Number of Unique Songs Played in a Day are :\", np.min(df_user_logs['num_unq']))\n",
    "print(\"Mean Number of Unique Songs Played in a Day are :\", np.mean(df_user_logs['num_unq']))\n",
    "print(\"Median Number of Unique Songs Played in a Day are :\", np.median(df_user_logs['num_unq']))\n",
    "print(\"Standard Deviation for Number of Unique Songs Played in a Day is :\" , np.std(df_user_logs['num_unq']))"
   ]
  },
  {
   "cell_type": "code",
   "execution_count": 63,
   "metadata": {},
   "outputs": [
    {
     "name": "stdout",
     "output_type": "stream",
     "text": [
      "rUxUyEOOFEBqqv0kHx6BSOXNkbIDohyo9zHThFCuaVg=\n"
     ]
    }
   ],
   "source": [
    "## Lets Get the msno or id of the person who played maximum song in a Day Later when doing user level analysis we will \n",
    "## Just check whether this person also is the Maximum song Playing Person overall\n",
    "index  = df_user_logs[\"num_unq\"].idxmax()\n",
    "user_max_song_daywise = df_user_logs.loc[index]['msno']\n",
    "print(user_max_song_daywise)"
   ]
  },
  {
   "cell_type": "markdown",
   "metadata": {},
   "source": [
    "#### Histogram , PDF and CDF for Num_unq "
   ]
  },
  {
   "cell_type": "code",
   "execution_count": 65,
   "metadata": {},
   "outputs": [
    {
     "data": {
      "image/png": "[encoded data removed]",
      "text/plain": [
       "<Figure size 432x288 with 1 Axes>"
      ]
     },
     "metadata": {},
     "output_type": "display_data"
    }
   ],
   "source": [
    "# https://numpy.org/doc/stable/reference/generated/numpy.histogram.html\n",
    "counts , bin_edges = np.histogram(df_user_logs['num_unq'],bins =10 , density = True) \n",
    "plt.hist(df_user_logs['num_unq'] , bins = 20)\n",
    "plt.xlabel(\"Bins\")\n",
    "plt.ylabel(\"Frequency\")\n",
    "plt.title(\"Number of Unique Songs Played in a Day Histogram\")\n",
    "plt.show()"
   ]
  },
  {
   "cell_type": "code",
   "execution_count": 67,
   "metadata": {},
   "outputs": [
    {
     "name": "stdout",
     "output_type": "stream",
     "text": [
      "[9.40783333e-01 5.53333333e-02 3.33333333e-03 4.33333333e-04\n",
      " 8.33333333e-05 5.55555556e-06 1.11111111e-05 1.11111111e-05\n",
      " 0.00000000e+00 5.55555556e-06]\n",
      "[  1.   93.8 186.6 279.4 372.2 465.  557.8 650.6 743.4 836.2 929. ]\n"
     ]
    },
    {
     "data": {
      "image/png": "[encoded data removed]",
      "text/plain": [
       "<Figure size 432x288 with 1 Axes>"
      ]
     },
     "metadata": {},
     "output_type": "display_data"
    }
   ],
   "source": [
    "# refrence : https://www.youtube.com/watch?v=MEvYZiz-mK4&list=PLupD_xFct8mFDeCqoUAWZpUddeqmT28_L&index=5\n",
    "pdf = counts/(sum(counts))\n",
    "print(pdf);\n",
    "print(bin_edges);\n",
    "cdf = np.cumsum(pdf)\n",
    "plt.plot(bin_edges[1:],pdf, label =\"PDF\");\n",
    "plt.plot(bin_edges[1:], cdf , label = \"CDF\")\n",
    "plt.xlabel(\"Number of Unqiue Songs in a Day\")\n",
    "plt.ylabel(\"Probability\")\n",
    "plt.legend(loc=\"upper left\")\n",
    "plt.show()"
   ]
  },
  {
   "cell_type": "markdown",
   "metadata": {},
   "source": [
    "#### Observations\n",
    "1. The Probability of Finding User Who Played 200 unique songs is a Day is very less nearly 10 % "
   ]
  },
  {
   "cell_type": "markdown",
   "metadata": {},
   "source": [
    "#### Percentiles and Quantiles of Number of Unique Songs \n"
   ]
  },
  {
   "cell_type": "code",
   "execution_count": 68,
   "metadata": {},
   "outputs": [
    {
     "name": "stdout",
     "output_type": "stream",
     "text": [
      "25 % of num_unq values lies below  8.0\n",
      "50 % of num_unq values lies below  19.0\n",
      "75 % of num_unq values lies below  40.0\n",
      "95 % of num_unq values lies below  100.0\n",
      "99 % of num_unq values lies below  155.0\n"
     ]
    }
   ],
   "source": [
    "print(\"25 % of num_unq values lies below \",np.percentile(df_user_logs[\"num_unq\"],q=25)) # computing 25th Percentile -->1st Quantile\n",
    "print(\"50 % of num_unq values lies below \",np.percentile(df_user_logs[\"num_unq\"],q=50)) # computing 50th Percentile --> 2nd Quantile\n",
    "print(\"75 % of num_unq values lies below \",np.percentile(df_user_logs[\"num_unq\"],q=75)) # computing 75th Percentile --> 3rd Quantile\n",
    "print(\"95 % of num_unq values lies below \",np.percentile(df_user_logs[\"num_unq\"],q=95)) # computing 95th Percentile\n",
    "print(\"99 % of num_unq values lies below \",np.percentile(df_user_logs[\"num_unq\"],q=99)) # computing 95th Percentile"
   ]
  },
  {
   "cell_type": "markdown",
   "metadata": {},
   "source": [
    "### Interpretation:\n",
    "1. Almost 50 % of users play less than or equal to 19 unique songs a Day\n",
    "2. Almost 75 % of users play Less than or equal to 40 unique songs a Day"
   ]
  },
  {
   "cell_type": "markdown",
   "metadata": {},
   "source": [
    "#### User Level Analysis of Number of Total Number of  Songs "
   ]
  },
  {
   "cell_type": "code",
   "execution_count": 73,
   "metadata": {},
   "outputs": [],
   "source": [
    "df_user_logs_user_level  = df_user_logs.groupby('msno').agg('sum')"
   ]
  },
  {
   "cell_type": "code",
   "execution_count": 74,
   "metadata": {},
   "outputs": [
    {
     "data": {
      "text/plain": [
       "(35230, 7)"
      ]
     },
     "execution_count": 74,
     "metadata": {},
     "output_type": "execute_result"
    }
   ],
   "source": [
    "df_user_logs_user_level.shape"
   ]
  },
  {
   "cell_type": "code",
   "execution_count": 75,
   "metadata": {},
   "outputs": [],
   "source": [
    "## We have already seen that we have nearly 35k unique users "
   ]
  },
  {
   "cell_type": "code",
   "execution_count": 76,
   "metadata": {},
   "outputs": [
    {
     "data": {
      "text/html": [
       "<div>\n",
       "<style scoped>\n",
       "    .dataframe tbody tr th:only-of-type {\n",
       "        vertical-align: middle;\n",
       "    }\n",
       "\n",
       "    .dataframe tbody tr th {\n",
       "        vertical-align: top;\n",
       "    }\n",
       "\n",
       "    .dataframe thead th {\n",
       "        text-align: right;\n",
       "    }\n",
       "</style>\n",
       "<table border=\"1\" class=\"dataframe\">\n",
       "  <thead>\n",
       "    <tr style=\"text-align: right;\">\n",
       "      <th></th>\n",
       "      <th>num_25</th>\n",
       "      <th>num_50</th>\n",
       "      <th>num_75</th>\n",
       "      <th>num_985</th>\n",
       "      <th>num_100</th>\n",
       "      <th>num_unq</th>\n",
       "      <th>total_secs</th>\n",
       "    </tr>\n",
       "    <tr>\n",
       "      <th>msno</th>\n",
       "      <th></th>\n",
       "      <th></th>\n",
       "      <th></th>\n",
       "      <th></th>\n",
       "      <th></th>\n",
       "      <th></th>\n",
       "      <th></th>\n",
       "    </tr>\n",
       "  </thead>\n",
       "  <tbody>\n",
       "    <tr>\n",
       "      <th>+++dz9ZCWE2HB/47pJU82NJXQzQuZDx1Wm50YSk/kKk=</th>\n",
       "      <td>3</td>\n",
       "      <td>0</td>\n",
       "      <td>0</td>\n",
       "      <td>1</td>\n",
       "      <td>65</td>\n",
       "      <td>54</td>\n",
       "      <td>17132.904</td>\n",
       "    </tr>\n",
       "    <tr>\n",
       "      <th>++95tJZADNg8U8HKbYdxbbXIRsO6pw1zBK4tHI7BtZo=</th>\n",
       "      <td>29</td>\n",
       "      <td>14</td>\n",
       "      <td>6</td>\n",
       "      <td>8</td>\n",
       "      <td>292</td>\n",
       "      <td>177</td>\n",
       "      <td>80090.402</td>\n",
       "    </tr>\n",
       "    <tr>\n",
       "      <th>++CITmZPtQDWOi01uceGb75QJblInDRhjjGM1MmsiSY=</th>\n",
       "      <td>10</td>\n",
       "      <td>1</td>\n",
       "      <td>0</td>\n",
       "      <td>1</td>\n",
       "      <td>6</td>\n",
       "      <td>14</td>\n",
       "      <td>2131.666</td>\n",
       "    </tr>\n",
       "    <tr>\n",
       "      <th>++NvYbtVD+fgVuflK0hgYV/Y1WA2aYbmmRbCGAQkdPU=</th>\n",
       "      <td>13</td>\n",
       "      <td>1</td>\n",
       "      <td>2</td>\n",
       "      <td>2</td>\n",
       "      <td>6</td>\n",
       "      <td>24</td>\n",
       "      <td>2628.060</td>\n",
       "    </tr>\n",
       "    <tr>\n",
       "      <th>++QohuN0HbDVSH0a9EEtv/QJ2ORrQuKnYlIDRrWHspk=</th>\n",
       "      <td>0</td>\n",
       "      <td>0</td>\n",
       "      <td>0</td>\n",
       "      <td>0</td>\n",
       "      <td>3</td>\n",
       "      <td>3</td>\n",
       "      <td>724.746</td>\n",
       "    </tr>\n",
       "  </tbody>\n",
       "</table>\n",
       "</div>"
      ],
      "text/plain": [
       "                                              num_25  num_50  num_75  num_985  \\\n",
       "msno                                                                            \n",
       "+++dz9ZCWE2HB/47pJU82NJXQzQuZDx1Wm50YSk/kKk=       3       0       0        1   \n",
       "++95tJZADNg8U8HKbYdxbbXIRsO6pw1zBK4tHI7BtZo=      29      14       6        8   \n",
       "++CITmZPtQDWOi01uceGb75QJblInDRhjjGM1MmsiSY=      10       1       0        1   \n",
       "++NvYbtVD+fgVuflK0hgYV/Y1WA2aYbmmRbCGAQkdPU=      13       1       2        2   \n",
       "++QohuN0HbDVSH0a9EEtv/QJ2ORrQuKnYlIDRrWHspk=       0       0       0        0   \n",
       "\n",
       "                                              num_100  num_unq  total_secs  \n",
       "msno                                                                        \n",
       "+++dz9ZCWE2HB/47pJU82NJXQzQuZDx1Wm50YSk/kKk=       65       54   17132.904  \n",
       "++95tJZADNg8U8HKbYdxbbXIRsO6pw1zBK4tHI7BtZo=      292      177   80090.402  \n",
       "++CITmZPtQDWOi01uceGb75QJblInDRhjjGM1MmsiSY=        6       14    2131.666  \n",
       "++NvYbtVD+fgVuflK0hgYV/Y1WA2aYbmmRbCGAQkdPU=        6       24    2628.060  \n",
       "++QohuN0HbDVSH0a9EEtv/QJ2ORrQuKnYlIDRrWHspk=        3        3     724.746  "
      ]
     },
     "execution_count": 76,
     "metadata": {},
     "output_type": "execute_result"
    }
   ],
   "source": [
    "df_user_logs_user_level.head()"
   ]
  },
  {
   "cell_type": "code",
   "execution_count": 84,
   "metadata": {},
   "outputs": [
    {
     "name": "stdout",
     "output_type": "stream",
     "text": [
      "Maximum Number of  Songs Played by a User are : 3371\n",
      "Minimum Number of  Songs Played by a User are : 1\n",
      "Mean Number of  Songs Played by a User are : 153.68722679534488\n",
      "Median Number of  Songs Played by a User are : 75.0\n",
      "Standard Deviation for Number of  Songs played by a User is : 211.78013468817022\n"
     ]
    }
   ],
   "source": [
    "print(\"Maximum Number of  Songs Played by a User are :\", np.max(df_user_logs_user_level['num_unq']))\n",
    "print(\"Minimum Number of  Songs Played by a User are :\", np.min(df_user_logs_user_level['num_unq']))\n",
    "print(\"Mean Number of  Songs Played by a User are :\", np.mean(df_user_logs_user_level['num_unq']))\n",
    "print(\"Median Number of  Songs Played by a User are :\", np.median(df_user_logs_user_level['num_unq']))\n",
    "print(\"Standard Deviation for Number of  Songs played by a User is :\" , np.std(df_user_logs_user_level['num_unq']))"
   ]
  },
  {
   "cell_type": "code",
   "execution_count": 85,
   "metadata": {},
   "outputs": [
    {
     "name": "stdout",
     "output_type": "stream",
     "text": [
      "User who Played Max Number of  Songs Overall LJ+VUoy5yvyFzxa3DrVzH3m++FCP39fNFKvahfcKulo=\n",
      "User who Played Max Number of Unique Songs in a Day rUxUyEOOFEBqqv0kHx6BSOXNkbIDohyo9zHThFCuaVg=\n"
     ]
    }
   ],
   "source": [
    "## Lets Get the msno or id of the person who played maximum song in a Day Later when doing user level analysis we will \n",
    "## Just check whether this person also is the Maximum song Playing Person overall\n",
    "df_user_logs_user_level = df_user_logs_user_level.reset_index()\n",
    "index  = df_user_logs_user_level[\"num_unq\"].idxmax()\n",
    "user_max_song = df_user_logs_user_level.loc[index]['msno']\n",
    "print(\"User who Played Max Number of  Songs Overall\",user_max_song)\n",
    "print(\"User who Played Max Number of Unique Songs in a Day\",user_max_song_daywise)\n"
   ]
  },
  {
   "cell_type": "code",
   "execution_count": 88,
   "metadata": {},
   "outputs": [
    {
     "data": {
      "image/png": "[encoded data removed]",
      "text/plain": [
       "<Figure size 432x288 with 1 Axes>"
      ]
     },
     "metadata": {},
     "output_type": "display_data"
    }
   ],
   "source": [
    "# https://numpy.org/doc/stable/reference/generated/numpy.histogram.html\n",
    "counts , bin_edges = np.histogram(df_user_logs_user_level['num_unq'],bins =10 , density = True) \n",
    "plt.hist(df_user_logs_user_level['num_unq'] , bins = 20)\n",
    "plt.xlabel(\"Bins\")\n",
    "plt.ylabel(\"Frequency\")\n",
    "plt.title(\"Number of  Songs Played by Users Overall Histogram\")\n",
    "plt.show()"
   ]
  },
  {
   "cell_type": "markdown",
   "metadata": {},
   "source": [
    "#### Observations : \n",
    "1. Most Users Have Played Roughly Between 0 - 100 songs\n",
    "2. Very Few Users Played more than 200 unique songs overall"
   ]
  },
  {
   "cell_type": "code",
   "execution_count": 89,
   "metadata": {},
   "outputs": [
    {
     "name": "stdout",
     "output_type": "stream",
     "text": [
      "[8.65966506e-01 1.02696565e-01 2.20834516e-02 6.15952313e-03\n",
      " 1.98694295e-03 5.96082884e-04 2.27079194e-04 1.70309395e-04\n",
      " 8.51546977e-05 2.83848992e-05]\n",
      "[1.000e+00 3.380e+02 6.750e+02 1.012e+03 1.349e+03 1.686e+03 2.023e+03\n",
      " 2.360e+03 2.697e+03 3.034e+03 3.371e+03]\n"
     ]
    },
    {
     "data": {
      "image/png": "[encoded data removed]",
      "text/plain": [
       "<Figure size 432x288 with 1 Axes>"
      ]
     },
     "metadata": {},
     "output_type": "display_data"
    }
   ],
   "source": [
    "# refrence : https://www.youtube.com/watch?v=MEvYZiz-mK4&list=PLupD_xFct8mFDeCqoUAWZpUddeqmT28_L&index=5\n",
    "pdf = counts/(sum(counts))\n",
    "print(pdf);\n",
    "print(bin_edges);\n",
    "cdf = np.cumsum(pdf)\n",
    "plt.plot(bin_edges[1:],pdf, label =\"PDF\");\n",
    "plt.plot(bin_edges[1:], cdf , label = \"CDF\")\n",
    "plt.xlabel(\"Total Number of  Songs \")\n",
    "plt.ylabel(\"Probability\")\n",
    "plt.legend(loc=\"upper left\")\n",
    "plt.show()"
   ]
  },
  {
   "cell_type": "markdown",
   "metadata": {},
   "source": [
    "### Observations : \n",
    "1. Very High probability of Finding Users Playing Less than 500 unique Songs Overall\n",
    "2. Probabilty of Finding people who Played more than 500 songs overall decreases linearly till 1000 .\n",
    "3. Probability of Finding people who Played more than 1000 songs is constant and is very less "
   ]
  },
  {
   "cell_type": "code",
   "execution_count": 90,
   "metadata": {},
   "outputs": [
    {
     "name": "stdout",
     "output_type": "stream",
     "text": [
      "25 % of num_unq values lies below  19.0\n",
      "50 % of num_unq values lies below  75.0\n",
      "75 % of num_unq values lies below  205.0\n",
      "95 % of num_unq values lies below  557.0\n",
      "99 % of num_unq values lies below  992.0\n"
     ]
    }
   ],
   "source": [
    "print(\"25 % of num_unq values lies below \",np.percentile(df_user_logs_user_level[\"num_unq\"],q=25)) # computing 25th Percentile -->1st Quantile\n",
    "print(\"50 % of num_unq values lies below \",np.percentile(df_user_logs_user_level[\"num_unq\"],q=50)) # computing 50th Percentile --> 2nd Quantile\n",
    "print(\"75 % of num_unq values lies below \",np.percentile(df_user_logs_user_level[\"num_unq\"],q=75)) # computing 75th Percentile --> 3rd Quantile\n",
    "print(\"95 % of num_unq values lies below \",np.percentile(df_user_logs_user_level[\"num_unq\"],q=95)) # computing 95th Percentile\n",
    "print(\"99 % of num_unq values lies below \",np.percentile(df_user_logs_user_level[\"num_unq\"],q=99)) # computing 99th Percentile"
   ]
  },
  {
   "cell_type": "markdown",
   "metadata": {},
   "source": [
    "#### Observations:\n",
    "1. 75% of User have played less than 205 songs\n",
    "2. 99 % of users have played less than 992 songs"
   ]
  },
  {
   "cell_type": "markdown",
   "metadata": {},
   "source": [
    "### Conclusions:\n",
    "1. Here We only focused on User_logs table and did Eda , Univariate analysis and simple statsitics on the features.\n",
    "2. We can get More Creative and More Useful Eda by Following Steps Below.\n",
    "3. [Objective Based ]We can join this table with train.csv on msno to get some insights into behaviour of churn users like what are total songs played by churn users etc , etc . However we have to first aggregate data in users_logs as it is day wise provided.[We have to Use Dask Dataframes for this purpose as it is only way to avoid Nans ], For Eda You Can Drop Nans and do some modification it will work , but for modelling it is better to use dask dataframes as it will allow you to work with more data\n",
    "4. [Non Objective Based Just For Insights] We can join this data again by aggregating and joining with members.csv , we can get insight like which users listens to more songs like Male or Female or Which Age Group Listens to More Songs , But we have to do Pre-processing Carefully ."
   ]
  },
  {
   "cell_type": "markdown",
   "metadata": {},
   "source": [
    "### Tommorow Aka 27th August Tasks:\n",
    "1. Merge Transactions.csv and train.csv , to do churn based analysis of the features , do this on Kaggle Kernel as Dataset will\n",
    "Easily Fit there\n"
   ]
  },
  {
   "cell_type": "markdown",
   "metadata": {},
   "source": [
    "### 28th August Tasks:\n",
    "1. Do Members + df_train aggregate analysis \n",
    "2. Do df_train + User_logs aggregate analysis (on local by dropping Na)\n",
    "3. Finish All Eda Tasks By Tommorow\n",
    "4. From Saturday onwards we will start looking for feature engineering ideas , Note: It is better to not reinvent wheel , try to use discussion and kernels section of kaggle extensively to see which features are used , also try to read online blogs of similar problems to get ideas into feature engineering.\n",
    "5. [Most Importantly] Don't be in a rush to do modelling , as we just see without proper feature engineering modelling is of no sense , so first give time to feature engineering and once feature engineering is done modelling is just straightforward , Hardly 2 - 3 Lines of Codechange don't worry about it"
   ]
  },
  {
   "cell_type": "code",
   "execution_count": null,
   "metadata": {},
   "outputs": [],
   "source": []
  }
 ],
 "metadata": {
  "kernelspec": {
   "display_name": "Python 3",
   "language": "python",
   "name": "python3"
  },
  "language_info": {
   "codemirror_mode": {
    "name": "ipython",
    "version": 3
   },
   "file_extension": ".py",
   "mimetype": "text/x-python",
   "name": "python",
   "nbconvert_exporter": "python",
   "pygments_lexer": "ipython3",
   "version": "3.6.5"
  }
 },
 "nbformat": 4,
 "nbformat_minor": 2
}
